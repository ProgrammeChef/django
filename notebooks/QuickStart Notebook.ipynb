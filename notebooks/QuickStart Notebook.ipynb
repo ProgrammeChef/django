{
 "cells": [
  {
   "cell_type": "code",
   "execution_count": 1,
   "metadata": {
    "tags": [],
    "ExecuteTime": {
     "end_time": "2023-11-13T17:38:41.612186Z",
     "start_time": "2023-11-13T17:38:40.911667Z"
    }
   },
   "outputs": [],
   "source": [
    "import os\n",
    "from datetime import date, datetime\n",
    "from random import randint, choices, random\n",
    "from zoneinfo import ZoneInfo\n",
    "\n",
    "import django\n",
    "# for easier visualization it is recommended to use pandas to render data...\n",
    "# if pandas is not installed, you may install it with this command: pip install -U pandas\n",
    "# pandas is not a dependecy of django_ledger...\n",
    "import pandas as pd\n",
    "\n",
    "# Set your django settings module if needed...\n",
    "os.environ['DJANGO_SETTINGS_MODULE'] = 'dev_env.settings'\n",
    "\n",
    "# if using jupyter notebook need to set DJANGO_ALLOW_ASYNC_UNSAFE as \"true\"\n",
    "os.environ['DJANGO_ALLOW_ASYNC_UNSAFE'] = 'true'\n",
    "\n",
    "# change your working directory as needed...\n",
    "os.chdir('../')\n",
    "\n",
    "django.setup()\n",
    "\n",
    "from django_ledger.models.entity import EntityModel\n",
    "from django_ledger.models.items import ItemModel\n",
    "from django_ledger.models.invoice import InvoiceModel\n",
    "from django_ledger.models.bill import BillModel\n",
    "from django_ledger.models.estimate import EstimateModel\n",
    "from django.contrib.auth import get_user_model\n",
    "from django_ledger.io import roles\n"
   ]
  },
  {
   "cell_type": "markdown",
   "metadata": {},
   "source": [
    "# Get Your Entity Administrator UserModel"
   ]
  },
  {
   "cell_type": "code",
   "execution_count": 2,
   "metadata": {
    "tags": [],
    "ExecuteTime": {
     "end_time": "2023-11-13T17:38:41.624731Z",
     "start_time": "2023-11-13T17:38:41.614006Z"
    }
   },
   "outputs": [],
   "source": [
    "# change this to your preferred django username...\n",
    "MY_USERNAME = 'ceo_user'\n",
    "MY_PASSWORD = 'NeverUseMe|VeryInsecure!'\n",
    "UserModel = get_user_model()\n",
    "\n",
    "try:\n",
    "    user_model = UserModel.objects.get(username__exact=MY_USERNAME)\n",
    "except:\n",
    "    user_model = UserModel(username=MY_USERNAME)\n",
    "    user_model.set_password(MY_PASSWORD)\n",
    "    user_model.save()"
   ]
  },
  {
   "cell_type": "code",
   "execution_count": 3,
   "metadata": {
    "collapsed": false,
    "ExecuteTime": {
     "end_time": "2023-11-13T17:38:41.624879Z",
     "start_time": "2023-11-13T17:38:41.619784Z"
    }
   },
   "outputs": [],
   "source": [
    "entity_model = EntityModel.objects.get(name__exact='My Good Looking LLC')"
   ]
  },
  {
   "cell_type": "markdown",
   "metadata": {},
   "source": [
    "# Create an Entity Model"
   ]
  },
  {
   "cell_type": "code",
   "execution_count": 4,
   "metadata": {
    "tags": [],
    "ExecuteTime": {
     "end_time": "2023-11-13T17:38:42.153598Z",
     "start_time": "2023-11-13T17:38:42.133923Z"
    }
   },
   "outputs": [],
   "source": [
    "entity_model = EntityModel.create_entity(\n",
    "    name='One Big Company, LLC',\n",
    "    admin=user_model,\n",
    "    use_accrual_method=True,\n",
    "    fy_start_month=1\n",
    ")"
   ]
  },
  {
   "cell_type": "code",
   "execution_count": 5,
   "metadata": {
    "ExecuteTime": {
     "end_time": "2023-11-13T17:38:42.408602Z",
     "start_time": "2023-11-13T17:38:42.381482Z"
    }
   },
   "outputs": [
    {
     "data": {
      "text/plain": "'one-big-company-llc-dx9z2zej'"
     },
     "execution_count": 5,
     "metadata": {},
     "output_type": "execute_result"
    }
   ],
   "source": [
    "entity_model.slug"
   ]
  },
  {
   "cell_type": "markdown",
   "metadata": {},
   "source": [
    "# Chart of Accounts"
   ]
  },
  {
   "cell_type": "markdown",
   "metadata": {},
   "source": [
    "## Create a Default Chart of Accounts"
   ]
  },
  {
   "cell_type": "code",
   "execution_count": 6,
   "metadata": {
    "tags": [],
    "ExecuteTime": {
     "end_time": "2023-11-13T17:38:43.008164Z",
     "start_time": "2023-11-13T17:38:42.992678Z"
    }
   },
   "outputs": [
    {
     "data": {
      "text/plain": "False"
     },
     "execution_count": 6,
     "metadata": {},
     "output_type": "execute_result"
    }
   ],
   "source": [
    "entity_model.has_default_coa()"
   ]
  },
  {
   "cell_type": "code",
   "execution_count": 7,
   "metadata": {
    "tags": [],
    "ExecuteTime": {
     "end_time": "2023-11-13T17:38:43.229268Z",
     "start_time": "2023-11-13T17:38:43.197593Z"
    }
   },
   "outputs": [],
   "source": [
    "default_coa_model = entity_model.create_chart_of_accounts(\n",
    "    assign_as_default=True,\n",
    "    commit=True,\n",
    "    coa_name='My QuickStart CoA'\n",
    ")"
   ]
  },
  {
   "cell_type": "code",
   "execution_count": 8,
   "metadata": {
    "tags": [],
    "ExecuteTime": {
     "end_time": "2023-11-13T17:38:43.430459Z",
     "start_time": "2023-11-13T17:38:43.403841Z"
    }
   },
   "outputs": [
    {
     "data": {
      "text/plain": "<ChartOfAccountModel: one-big-company-llc-dx9z2zejhe83f7-coa: My QuickStart CoA>"
     },
     "execution_count": 8,
     "metadata": {},
     "output_type": "execute_result"
    }
   ],
   "source": [
    "default_coa_model"
   ]
  },
  {
   "cell_type": "markdown",
   "metadata": {},
   "source": [
    "# Populate Entity with Random Data"
   ]
  },
  {
   "cell_type": "markdown",
   "metadata": {},
   "source": [
    "### Define a Start Date for Transactions"
   ]
  },
  {
   "cell_type": "code",
   "execution_count": 9,
   "metadata": {
    "tags": [],
    "ExecuteTime": {
     "end_time": "2023-11-13T17:38:43.988638Z",
     "start_time": "2023-11-13T17:38:43.973779Z"
    }
   },
   "outputs": [],
   "source": [
    "START_DTTM = datetime(year=2022, month=10, day=1, tzinfo=ZoneInfo('UTC'))"
   ]
  },
  {
   "cell_type": "code",
   "execution_count": 10,
   "metadata": {
    "tags": [],
    "ExecuteTime": {
     "end_time": "2023-11-13T17:38:47.839979Z",
     "start_time": "2023-11-13T17:38:44.160656Z"
    }
   },
   "outputs": [],
   "source": [
    "entity_model.populate_random_data(start_date=START_DTTM)"
   ]
  },
  {
   "cell_type": "markdown",
   "metadata": {},
   "source": [
    "### EntityModel has now a Default Chart of Accounts"
   ]
  },
  {
   "cell_type": "code",
   "execution_count": 11,
   "metadata": {
    "tags": [],
    "ExecuteTime": {
     "end_time": "2023-11-13T17:38:47.842360Z",
     "start_time": "2023-11-13T17:38:47.840460Z"
    }
   },
   "outputs": [
    {
     "data": {
      "text/plain": "True"
     },
     "execution_count": 11,
     "metadata": {},
     "output_type": "execute_result"
    }
   ],
   "source": [
    "entity_model.has_default_coa()"
   ]
  },
  {
   "cell_type": "code",
   "execution_count": 12,
   "metadata": {
    "tags": [],
    "ExecuteTime": {
     "end_time": "2023-11-13T17:38:47.845934Z",
     "start_time": "2023-11-13T17:38:47.842686Z"
    }
   },
   "outputs": [],
   "source": [
    "default_coa_model = entity_model.get_default_coa()"
   ]
  },
  {
   "cell_type": "markdown",
   "metadata": {},
   "source": [
    "# Chart of Accounts (CoA)"
   ]
  },
  {
   "cell_type": "markdown",
   "metadata": {},
   "source": [
    "## Django Ledger support multiple chart of accounts."
   ]
  },
  {
   "cell_type": "code",
   "execution_count": 13,
   "metadata": {
    "tags": [],
    "ExecuteTime": {
     "end_time": "2023-11-13T17:38:47.904950Z",
     "start_time": "2023-11-13T17:38:47.845432Z"
    }
   },
   "outputs": [],
   "source": [
    "another_coa_model = entity_model.create_chart_of_accounts(\n",
    "    assign_as_default=False,\n",
    "    commit=True,\n",
    "    coa_name='My Legacy Chart of Accounts'\n",
    ")"
   ]
  },
  {
   "cell_type": "markdown",
   "metadata": {},
   "source": [
    "# Accounts"
   ]
  },
  {
   "cell_type": "markdown",
   "metadata": {},
   "source": [
    "## Get All Accounts"
   ]
  },
  {
   "cell_type": "code",
   "execution_count": 14,
   "metadata": {
    "tags": [],
    "ExecuteTime": {
     "end_time": "2023-11-13T17:38:47.914399Z",
     "start_time": "2023-11-13T17:38:47.865615Z"
    }
   },
   "outputs": [
    {
     "data": {
      "text/plain": "                            created                          updated  \\\n0  2023-11-13 17:38:44.234131+00:00 2023-11-13 17:38:44.234138+00:00   \n1  2023-11-13 17:38:44.240975+00:00 2023-11-13 17:38:44.240981+00:00   \n2  2023-11-13 17:38:44.248853+00:00 2023-11-13 17:38:44.248859+00:00   \n3  2023-11-13 17:38:44.251788+00:00 2023-11-13 17:38:44.251794+00:00   \n4  2023-11-13 17:38:44.237139+00:00 2023-11-13 17:38:44.237146+00:00   \n..                              ...                              ...   \n83 2023-11-13 17:38:44.529581+00:00 2023-11-13 17:38:44.529591+00:00   \n84 2023-11-13 17:38:44.543776+00:00 2023-11-13 17:38:44.543788+00:00   \n85 2023-11-13 17:38:44.552585+00:00 2023-11-13 17:38:44.552599+00:00   \n86 2023-11-13 17:38:44.556906+00:00 2023-11-13 17:38:44.556916+00:00   \n87 2023-11-13 17:38:44.356777+00:00 2023-11-13 17:38:44.356784+00:00   \n\n            path  depth  numchild                                  uuid  code  \\\n0   001400010009      3         0  690baf2c-e77f-4f0e-b4fb-46eb02696410  1010   \n1   001400010005      3         0  2f4fd01d-8194-4c78-b7ae-7dac3627f438  1050   \n2   00140001000O      3         0  f6de4cef-abfa-416d-b115-42eab4290a4b  1100   \n3   00140001000B      3         0  6d556011-8e89-4b27-9eea-5f7f33478238  1110   \n4   001400010002      3         0  12ed5dee-51dc-4d83-8354-5434fc19da18  1200   \n..           ...    ...       ...                                   ...   ...   \n83  001400050009      3         0  57cb12bd-45e7-470b-bf80-140445ad3764  6294   \n84  001400050001      3         0  01218b4a-1cc6-4e81-8153-a34da5ff7f2e  6295   \n85  00140005000K      3         0  8ab7033f-db7b-460f-a5fe-6fe5d6c22e4f  6300   \n86  00140005000Y      3         0  e3c44191-37fd-4108-a16d-67ddc6814229  6400   \n87  001400050007      3         0  4f903e96-e29d-4201-a1f5-c5c3a04eeee7  6500   \n\n                      name              role role_default balance_type  \\\n0                     Cash     asset_ca_cash         True        debit   \n1   Short Term Investments  asset_ca_mkt_sec         True        debit   \n2      Accounts Receivable     asset_ca_recv         True        debit   \n3           Uncollectibles   asset_ca_uncoll         True       credit   \n4                Inventory      asset_ca_inv         True        debit   \n..                     ...               ...          ...          ...   \n83                 Garbage        ex_regular         None        debit   \n84             Electricity        ex_regular         None        debit   \n85     Property Management        ex_regular         None        debit   \n86                 Vacancy        ex_regular         None        debit   \n87           Misc. Expense          ex_other         True        debit   \n\n    locked  active                          coa_model_id  \n0    False    True  f1262cc2-82d1-4ed1-b19b-6e0f241ef1ae  \n1    False    True  f1262cc2-82d1-4ed1-b19b-6e0f241ef1ae  \n2    False    True  f1262cc2-82d1-4ed1-b19b-6e0f241ef1ae  \n3    False    True  f1262cc2-82d1-4ed1-b19b-6e0f241ef1ae  \n4    False    True  f1262cc2-82d1-4ed1-b19b-6e0f241ef1ae  \n..     ...     ...                                   ...  \n83   False    True  f1262cc2-82d1-4ed1-b19b-6e0f241ef1ae  \n84   False    True  f1262cc2-82d1-4ed1-b19b-6e0f241ef1ae  \n85   False    True  f1262cc2-82d1-4ed1-b19b-6e0f241ef1ae  \n86   False    True  f1262cc2-82d1-4ed1-b19b-6e0f241ef1ae  \n87   False    True  f1262cc2-82d1-4ed1-b19b-6e0f241ef1ae  \n\n[88 rows x 14 columns]",
      "text/html": "<div>\n<style scoped>\n    .dataframe tbody tr th:only-of-type {\n        vertical-align: middle;\n    }\n\n    .dataframe tbody tr th {\n        vertical-align: top;\n    }\n\n    .dataframe thead th {\n        text-align: right;\n    }\n</style>\n<table border=\"1\" class=\"dataframe\">\n  <thead>\n    <tr style=\"text-align: right;\">\n      <th></th>\n      <th>created</th>\n      <th>updated</th>\n      <th>path</th>\n      <th>depth</th>\n      <th>numchild</th>\n      <th>uuid</th>\n      <th>code</th>\n      <th>name</th>\n      <th>role</th>\n      <th>role_default</th>\n      <th>balance_type</th>\n      <th>locked</th>\n      <th>active</th>\n      <th>coa_model_id</th>\n    </tr>\n  </thead>\n  <tbody>\n    <tr>\n      <th>0</th>\n      <td>2023-11-13 17:38:44.234131+00:00</td>\n      <td>2023-11-13 17:38:44.234138+00:00</td>\n      <td>001400010009</td>\n      <td>3</td>\n      <td>0</td>\n      <td>690baf2c-e77f-4f0e-b4fb-46eb02696410</td>\n      <td>1010</td>\n      <td>Cash</td>\n      <td>asset_ca_cash</td>\n      <td>True</td>\n      <td>debit</td>\n      <td>False</td>\n      <td>True</td>\n      <td>f1262cc2-82d1-4ed1-b19b-6e0f241ef1ae</td>\n    </tr>\n    <tr>\n      <th>1</th>\n      <td>2023-11-13 17:38:44.240975+00:00</td>\n      <td>2023-11-13 17:38:44.240981+00:00</td>\n      <td>001400010005</td>\n      <td>3</td>\n      <td>0</td>\n      <td>2f4fd01d-8194-4c78-b7ae-7dac3627f438</td>\n      <td>1050</td>\n      <td>Short Term Investments</td>\n      <td>asset_ca_mkt_sec</td>\n      <td>True</td>\n      <td>debit</td>\n      <td>False</td>\n      <td>True</td>\n      <td>f1262cc2-82d1-4ed1-b19b-6e0f241ef1ae</td>\n    </tr>\n    <tr>\n      <th>2</th>\n      <td>2023-11-13 17:38:44.248853+00:00</td>\n      <td>2023-11-13 17:38:44.248859+00:00</td>\n      <td>00140001000O</td>\n      <td>3</td>\n      <td>0</td>\n      <td>f6de4cef-abfa-416d-b115-42eab4290a4b</td>\n      <td>1100</td>\n      <td>Accounts Receivable</td>\n      <td>asset_ca_recv</td>\n      <td>True</td>\n      <td>debit</td>\n      <td>False</td>\n      <td>True</td>\n      <td>f1262cc2-82d1-4ed1-b19b-6e0f241ef1ae</td>\n    </tr>\n    <tr>\n      <th>3</th>\n      <td>2023-11-13 17:38:44.251788+00:00</td>\n      <td>2023-11-13 17:38:44.251794+00:00</td>\n      <td>00140001000B</td>\n      <td>3</td>\n      <td>0</td>\n      <td>6d556011-8e89-4b27-9eea-5f7f33478238</td>\n      <td>1110</td>\n      <td>Uncollectibles</td>\n      <td>asset_ca_uncoll</td>\n      <td>True</td>\n      <td>credit</td>\n      <td>False</td>\n      <td>True</td>\n      <td>f1262cc2-82d1-4ed1-b19b-6e0f241ef1ae</td>\n    </tr>\n    <tr>\n      <th>4</th>\n      <td>2023-11-13 17:38:44.237139+00:00</td>\n      <td>2023-11-13 17:38:44.237146+00:00</td>\n      <td>001400010002</td>\n      <td>3</td>\n      <td>0</td>\n      <td>12ed5dee-51dc-4d83-8354-5434fc19da18</td>\n      <td>1200</td>\n      <td>Inventory</td>\n      <td>asset_ca_inv</td>\n      <td>True</td>\n      <td>debit</td>\n      <td>False</td>\n      <td>True</td>\n      <td>f1262cc2-82d1-4ed1-b19b-6e0f241ef1ae</td>\n    </tr>\n    <tr>\n      <th>...</th>\n      <td>...</td>\n      <td>...</td>\n      <td>...</td>\n      <td>...</td>\n      <td>...</td>\n      <td>...</td>\n      <td>...</td>\n      <td>...</td>\n      <td>...</td>\n      <td>...</td>\n      <td>...</td>\n      <td>...</td>\n      <td>...</td>\n      <td>...</td>\n    </tr>\n    <tr>\n      <th>83</th>\n      <td>2023-11-13 17:38:44.529581+00:00</td>\n      <td>2023-11-13 17:38:44.529591+00:00</td>\n      <td>001400050009</td>\n      <td>3</td>\n      <td>0</td>\n      <td>57cb12bd-45e7-470b-bf80-140445ad3764</td>\n      <td>6294</td>\n      <td>Garbage</td>\n      <td>ex_regular</td>\n      <td>None</td>\n      <td>debit</td>\n      <td>False</td>\n      <td>True</td>\n      <td>f1262cc2-82d1-4ed1-b19b-6e0f241ef1ae</td>\n    </tr>\n    <tr>\n      <th>84</th>\n      <td>2023-11-13 17:38:44.543776+00:00</td>\n      <td>2023-11-13 17:38:44.543788+00:00</td>\n      <td>001400050001</td>\n      <td>3</td>\n      <td>0</td>\n      <td>01218b4a-1cc6-4e81-8153-a34da5ff7f2e</td>\n      <td>6295</td>\n      <td>Electricity</td>\n      <td>ex_regular</td>\n      <td>None</td>\n      <td>debit</td>\n      <td>False</td>\n      <td>True</td>\n      <td>f1262cc2-82d1-4ed1-b19b-6e0f241ef1ae</td>\n    </tr>\n    <tr>\n      <th>85</th>\n      <td>2023-11-13 17:38:44.552585+00:00</td>\n      <td>2023-11-13 17:38:44.552599+00:00</td>\n      <td>00140005000K</td>\n      <td>3</td>\n      <td>0</td>\n      <td>8ab7033f-db7b-460f-a5fe-6fe5d6c22e4f</td>\n      <td>6300</td>\n      <td>Property Management</td>\n      <td>ex_regular</td>\n      <td>None</td>\n      <td>debit</td>\n      <td>False</td>\n      <td>True</td>\n      <td>f1262cc2-82d1-4ed1-b19b-6e0f241ef1ae</td>\n    </tr>\n    <tr>\n      <th>86</th>\n      <td>2023-11-13 17:38:44.556906+00:00</td>\n      <td>2023-11-13 17:38:44.556916+00:00</td>\n      <td>00140005000Y</td>\n      <td>3</td>\n      <td>0</td>\n      <td>e3c44191-37fd-4108-a16d-67ddc6814229</td>\n      <td>6400</td>\n      <td>Vacancy</td>\n      <td>ex_regular</td>\n      <td>None</td>\n      <td>debit</td>\n      <td>False</td>\n      <td>True</td>\n      <td>f1262cc2-82d1-4ed1-b19b-6e0f241ef1ae</td>\n    </tr>\n    <tr>\n      <th>87</th>\n      <td>2023-11-13 17:38:44.356777+00:00</td>\n      <td>2023-11-13 17:38:44.356784+00:00</td>\n      <td>001400050007</td>\n      <td>3</td>\n      <td>0</td>\n      <td>4f903e96-e29d-4201-a1f5-c5c3a04eeee7</td>\n      <td>6500</td>\n      <td>Misc. Expense</td>\n      <td>ex_other</td>\n      <td>True</td>\n      <td>debit</td>\n      <td>False</td>\n      <td>True</td>\n      <td>f1262cc2-82d1-4ed1-b19b-6e0f241ef1ae</td>\n    </tr>\n  </tbody>\n</table>\n<p>88 rows × 14 columns</p>\n</div>"
     },
     "execution_count": 14,
     "metadata": {},
     "output_type": "execute_result"
    }
   ],
   "source": [
    "coa_qs, coa_map = entity_model.get_all_coa_accounts()\n",
    "pd.DataFrame(coa_map[default_coa_model].values())"
   ]
  },
  {
   "cell_type": "markdown",
   "metadata": {
    "collapsed": false
   },
   "source": [
    "### New CoA does not have any accounts yet..."
   ]
  },
  {
   "cell_type": "code",
   "execution_count": 15,
   "metadata": {
    "tags": [],
    "ExecuteTime": {
     "end_time": "2023-11-13T17:38:47.914584Z",
     "start_time": "2023-11-13T17:38:47.884005Z"
    }
   },
   "outputs": [
    {
     "data": {
      "text/plain": "Empty DataFrame\nColumns: []\nIndex: []",
      "text/html": "<div>\n<style scoped>\n    .dataframe tbody tr th:only-of-type {\n        vertical-align: middle;\n    }\n\n    .dataframe tbody tr th {\n        vertical-align: top;\n    }\n\n    .dataframe thead th {\n        text-align: right;\n    }\n</style>\n<table border=\"1\" class=\"dataframe\">\n  <thead>\n    <tr style=\"text-align: right;\">\n      <th></th>\n    </tr>\n  </thead>\n  <tbody>\n  </tbody>\n</table>\n</div>"
     },
     "execution_count": 15,
     "metadata": {},
     "output_type": "execute_result"
    }
   ],
   "source": [
    "pd.DataFrame(coa_map[another_coa_model].values())"
   ]
  },
  {
   "cell_type": "markdown",
   "metadata": {},
   "source": [
    "## Get Default CoA Accounts"
   ]
  },
  {
   "cell_type": "code",
   "execution_count": 16,
   "metadata": {
    "tags": [],
    "ExecuteTime": {
     "end_time": "2023-11-13T17:38:47.914847Z",
     "start_time": "2023-11-13T17:38:47.886821Z"
    }
   },
   "outputs": [
    {
     "data": {
      "text/plain": "                            created                          updated  \\\n0  2023-11-13 17:38:44.234131+00:00 2023-11-13 17:38:44.234138+00:00   \n1  2023-11-13 17:38:44.240975+00:00 2023-11-13 17:38:44.240981+00:00   \n2  2023-11-13 17:38:44.248853+00:00 2023-11-13 17:38:44.248859+00:00   \n3  2023-11-13 17:38:44.251788+00:00 2023-11-13 17:38:44.251794+00:00   \n4  2023-11-13 17:38:44.237139+00:00 2023-11-13 17:38:44.237146+00:00   \n..                              ...                              ...   \n83 2023-11-13 17:38:44.529581+00:00 2023-11-13 17:38:44.529591+00:00   \n84 2023-11-13 17:38:44.543776+00:00 2023-11-13 17:38:44.543788+00:00   \n85 2023-11-13 17:38:44.552585+00:00 2023-11-13 17:38:44.552599+00:00   \n86 2023-11-13 17:38:44.556906+00:00 2023-11-13 17:38:44.556916+00:00   \n87 2023-11-13 17:38:44.356777+00:00 2023-11-13 17:38:44.356784+00:00   \n\n            path  depth  numchild                                  uuid  code  \\\n0   001400010009      3         0  690baf2c-e77f-4f0e-b4fb-46eb02696410  1010   \n1   001400010005      3         0  2f4fd01d-8194-4c78-b7ae-7dac3627f438  1050   \n2   00140001000O      3         0  f6de4cef-abfa-416d-b115-42eab4290a4b  1100   \n3   00140001000B      3         0  6d556011-8e89-4b27-9eea-5f7f33478238  1110   \n4   001400010002      3         0  12ed5dee-51dc-4d83-8354-5434fc19da18  1200   \n..           ...    ...       ...                                   ...   ...   \n83  001400050009      3         0  57cb12bd-45e7-470b-bf80-140445ad3764  6294   \n84  001400050001      3         0  01218b4a-1cc6-4e81-8153-a34da5ff7f2e  6295   \n85  00140005000K      3         0  8ab7033f-db7b-460f-a5fe-6fe5d6c22e4f  6300   \n86  00140005000Y      3         0  e3c44191-37fd-4108-a16d-67ddc6814229  6400   \n87  001400050007      3         0  4f903e96-e29d-4201-a1f5-c5c3a04eeee7  6500   \n\n                      name              role role_default balance_type  \\\n0                     Cash     asset_ca_cash         True        debit   \n1   Short Term Investments  asset_ca_mkt_sec         True        debit   \n2      Accounts Receivable     asset_ca_recv         True        debit   \n3           Uncollectibles   asset_ca_uncoll         True       credit   \n4                Inventory      asset_ca_inv         True        debit   \n..                     ...               ...          ...          ...   \n83                 Garbage        ex_regular         None        debit   \n84             Electricity        ex_regular         None        debit   \n85     Property Management        ex_regular         None        debit   \n86                 Vacancy        ex_regular         None        debit   \n87           Misc. Expense          ex_other         True        debit   \n\n    locked  active                          coa_model_id  \n0    False    True  f1262cc2-82d1-4ed1-b19b-6e0f241ef1ae  \n1    False    True  f1262cc2-82d1-4ed1-b19b-6e0f241ef1ae  \n2    False    True  f1262cc2-82d1-4ed1-b19b-6e0f241ef1ae  \n3    False    True  f1262cc2-82d1-4ed1-b19b-6e0f241ef1ae  \n4    False    True  f1262cc2-82d1-4ed1-b19b-6e0f241ef1ae  \n..     ...     ...                                   ...  \n83   False    True  f1262cc2-82d1-4ed1-b19b-6e0f241ef1ae  \n84   False    True  f1262cc2-82d1-4ed1-b19b-6e0f241ef1ae  \n85   False    True  f1262cc2-82d1-4ed1-b19b-6e0f241ef1ae  \n86   False    True  f1262cc2-82d1-4ed1-b19b-6e0f241ef1ae  \n87   False    True  f1262cc2-82d1-4ed1-b19b-6e0f241ef1ae  \n\n[88 rows x 14 columns]",
      "text/html": "<div>\n<style scoped>\n    .dataframe tbody tr th:only-of-type {\n        vertical-align: middle;\n    }\n\n    .dataframe tbody tr th {\n        vertical-align: top;\n    }\n\n    .dataframe thead th {\n        text-align: right;\n    }\n</style>\n<table border=\"1\" class=\"dataframe\">\n  <thead>\n    <tr style=\"text-align: right;\">\n      <th></th>\n      <th>created</th>\n      <th>updated</th>\n      <th>path</th>\n      <th>depth</th>\n      <th>numchild</th>\n      <th>uuid</th>\n      <th>code</th>\n      <th>name</th>\n      <th>role</th>\n      <th>role_default</th>\n      <th>balance_type</th>\n      <th>locked</th>\n      <th>active</th>\n      <th>coa_model_id</th>\n    </tr>\n  </thead>\n  <tbody>\n    <tr>\n      <th>0</th>\n      <td>2023-11-13 17:38:44.234131+00:00</td>\n      <td>2023-11-13 17:38:44.234138+00:00</td>\n      <td>001400010009</td>\n      <td>3</td>\n      <td>0</td>\n      <td>690baf2c-e77f-4f0e-b4fb-46eb02696410</td>\n      <td>1010</td>\n      <td>Cash</td>\n      <td>asset_ca_cash</td>\n      <td>True</td>\n      <td>debit</td>\n      <td>False</td>\n      <td>True</td>\n      <td>f1262cc2-82d1-4ed1-b19b-6e0f241ef1ae</td>\n    </tr>\n    <tr>\n      <th>1</th>\n      <td>2023-11-13 17:38:44.240975+00:00</td>\n      <td>2023-11-13 17:38:44.240981+00:00</td>\n      <td>001400010005</td>\n      <td>3</td>\n      <td>0</td>\n      <td>2f4fd01d-8194-4c78-b7ae-7dac3627f438</td>\n      <td>1050</td>\n      <td>Short Term Investments</td>\n      <td>asset_ca_mkt_sec</td>\n      <td>True</td>\n      <td>debit</td>\n      <td>False</td>\n      <td>True</td>\n      <td>f1262cc2-82d1-4ed1-b19b-6e0f241ef1ae</td>\n    </tr>\n    <tr>\n      <th>2</th>\n      <td>2023-11-13 17:38:44.248853+00:00</td>\n      <td>2023-11-13 17:38:44.248859+00:00</td>\n      <td>00140001000O</td>\n      <td>3</td>\n      <td>0</td>\n      <td>f6de4cef-abfa-416d-b115-42eab4290a4b</td>\n      <td>1100</td>\n      <td>Accounts Receivable</td>\n      <td>asset_ca_recv</td>\n      <td>True</td>\n      <td>debit</td>\n      <td>False</td>\n      <td>True</td>\n      <td>f1262cc2-82d1-4ed1-b19b-6e0f241ef1ae</td>\n    </tr>\n    <tr>\n      <th>3</th>\n      <td>2023-11-13 17:38:44.251788+00:00</td>\n      <td>2023-11-13 17:38:44.251794+00:00</td>\n      <td>00140001000B</td>\n      <td>3</td>\n      <td>0</td>\n      <td>6d556011-8e89-4b27-9eea-5f7f33478238</td>\n      <td>1110</td>\n      <td>Uncollectibles</td>\n      <td>asset_ca_uncoll</td>\n      <td>True</td>\n      <td>credit</td>\n      <td>False</td>\n      <td>True</td>\n      <td>f1262cc2-82d1-4ed1-b19b-6e0f241ef1ae</td>\n    </tr>\n    <tr>\n      <th>4</th>\n      <td>2023-11-13 17:38:44.237139+00:00</td>\n      <td>2023-11-13 17:38:44.237146+00:00</td>\n      <td>001400010002</td>\n      <td>3</td>\n      <td>0</td>\n      <td>12ed5dee-51dc-4d83-8354-5434fc19da18</td>\n      <td>1200</td>\n      <td>Inventory</td>\n      <td>asset_ca_inv</td>\n      <td>True</td>\n      <td>debit</td>\n      <td>False</td>\n      <td>True</td>\n      <td>f1262cc2-82d1-4ed1-b19b-6e0f241ef1ae</td>\n    </tr>\n    <tr>\n      <th>...</th>\n      <td>...</td>\n      <td>...</td>\n      <td>...</td>\n      <td>...</td>\n      <td>...</td>\n      <td>...</td>\n      <td>...</td>\n      <td>...</td>\n      <td>...</td>\n      <td>...</td>\n      <td>...</td>\n      <td>...</td>\n      <td>...</td>\n      <td>...</td>\n    </tr>\n    <tr>\n      <th>83</th>\n      <td>2023-11-13 17:38:44.529581+00:00</td>\n      <td>2023-11-13 17:38:44.529591+00:00</td>\n      <td>001400050009</td>\n      <td>3</td>\n      <td>0</td>\n      <td>57cb12bd-45e7-470b-bf80-140445ad3764</td>\n      <td>6294</td>\n      <td>Garbage</td>\n      <td>ex_regular</td>\n      <td>None</td>\n      <td>debit</td>\n      <td>False</td>\n      <td>True</td>\n      <td>f1262cc2-82d1-4ed1-b19b-6e0f241ef1ae</td>\n    </tr>\n    <tr>\n      <th>84</th>\n      <td>2023-11-13 17:38:44.543776+00:00</td>\n      <td>2023-11-13 17:38:44.543788+00:00</td>\n      <td>001400050001</td>\n      <td>3</td>\n      <td>0</td>\n      <td>01218b4a-1cc6-4e81-8153-a34da5ff7f2e</td>\n      <td>6295</td>\n      <td>Electricity</td>\n      <td>ex_regular</td>\n      <td>None</td>\n      <td>debit</td>\n      <td>False</td>\n      <td>True</td>\n      <td>f1262cc2-82d1-4ed1-b19b-6e0f241ef1ae</td>\n    </tr>\n    <tr>\n      <th>85</th>\n      <td>2023-11-13 17:38:44.552585+00:00</td>\n      <td>2023-11-13 17:38:44.552599+00:00</td>\n      <td>00140005000K</td>\n      <td>3</td>\n      <td>0</td>\n      <td>8ab7033f-db7b-460f-a5fe-6fe5d6c22e4f</td>\n      <td>6300</td>\n      <td>Property Management</td>\n      <td>ex_regular</td>\n      <td>None</td>\n      <td>debit</td>\n      <td>False</td>\n      <td>True</td>\n      <td>f1262cc2-82d1-4ed1-b19b-6e0f241ef1ae</td>\n    </tr>\n    <tr>\n      <th>86</th>\n      <td>2023-11-13 17:38:44.556906+00:00</td>\n      <td>2023-11-13 17:38:44.556916+00:00</td>\n      <td>00140005000Y</td>\n      <td>3</td>\n      <td>0</td>\n      <td>e3c44191-37fd-4108-a16d-67ddc6814229</td>\n      <td>6400</td>\n      <td>Vacancy</td>\n      <td>ex_regular</td>\n      <td>None</td>\n      <td>debit</td>\n      <td>False</td>\n      <td>True</td>\n      <td>f1262cc2-82d1-4ed1-b19b-6e0f241ef1ae</td>\n    </tr>\n    <tr>\n      <th>87</th>\n      <td>2023-11-13 17:38:44.356777+00:00</td>\n      <td>2023-11-13 17:38:44.356784+00:00</td>\n      <td>001400050007</td>\n      <td>3</td>\n      <td>0</td>\n      <td>4f903e96-e29d-4201-a1f5-c5c3a04eeee7</td>\n      <td>6500</td>\n      <td>Misc. Expense</td>\n      <td>ex_other</td>\n      <td>True</td>\n      <td>debit</td>\n      <td>False</td>\n      <td>True</td>\n      <td>f1262cc2-82d1-4ed1-b19b-6e0f241ef1ae</td>\n    </tr>\n  </tbody>\n</table>\n<p>88 rows × 14 columns</p>\n</div>"
     },
     "execution_count": 16,
     "metadata": {},
     "output_type": "execute_result"
    }
   ],
   "source": [
    "default_coa_accounts_qs = entity_model.get_default_coa_accounts()\n",
    "pd.DataFrame(default_coa_accounts_qs.values())"
   ]
  },
  {
   "cell_type": "markdown",
   "metadata": {},
   "source": [
    "## Get CoA Accounts by CoA Model"
   ]
  },
  {
   "cell_type": "code",
   "execution_count": 17,
   "metadata": {
    "tags": [],
    "ExecuteTime": {
     "end_time": "2023-11-13T17:38:47.915540Z",
     "start_time": "2023-11-13T17:38:47.896449Z"
    }
   },
   "outputs": [
    {
     "data": {
      "text/plain": "                            created                          updated  \\\n0  2023-11-13 17:38:44.234131+00:00 2023-11-13 17:38:44.234138+00:00   \n1  2023-11-13 17:38:44.240975+00:00 2023-11-13 17:38:44.240981+00:00   \n2  2023-11-13 17:38:44.248853+00:00 2023-11-13 17:38:44.248859+00:00   \n3  2023-11-13 17:38:44.251788+00:00 2023-11-13 17:38:44.251794+00:00   \n4  2023-11-13 17:38:44.237139+00:00 2023-11-13 17:38:44.237146+00:00   \n..                              ...                              ...   \n83 2023-11-13 17:38:44.529581+00:00 2023-11-13 17:38:44.529591+00:00   \n84 2023-11-13 17:38:44.543776+00:00 2023-11-13 17:38:44.543788+00:00   \n85 2023-11-13 17:38:44.552585+00:00 2023-11-13 17:38:44.552599+00:00   \n86 2023-11-13 17:38:44.556906+00:00 2023-11-13 17:38:44.556916+00:00   \n87 2023-11-13 17:38:44.356777+00:00 2023-11-13 17:38:44.356784+00:00   \n\n            path  depth  numchild                                  uuid  code  \\\n0   001400010009      3         0  690baf2c-e77f-4f0e-b4fb-46eb02696410  1010   \n1   001400010005      3         0  2f4fd01d-8194-4c78-b7ae-7dac3627f438  1050   \n2   00140001000O      3         0  f6de4cef-abfa-416d-b115-42eab4290a4b  1100   \n3   00140001000B      3         0  6d556011-8e89-4b27-9eea-5f7f33478238  1110   \n4   001400010002      3         0  12ed5dee-51dc-4d83-8354-5434fc19da18  1200   \n..           ...    ...       ...                                   ...   ...   \n83  001400050009      3         0  57cb12bd-45e7-470b-bf80-140445ad3764  6294   \n84  001400050001      3         0  01218b4a-1cc6-4e81-8153-a34da5ff7f2e  6295   \n85  00140005000K      3         0  8ab7033f-db7b-460f-a5fe-6fe5d6c22e4f  6300   \n86  00140005000Y      3         0  e3c44191-37fd-4108-a16d-67ddc6814229  6400   \n87  001400050007      3         0  4f903e96-e29d-4201-a1f5-c5c3a04eeee7  6500   \n\n                      name              role role_default balance_type  \\\n0                     Cash     asset_ca_cash         True        debit   \n1   Short Term Investments  asset_ca_mkt_sec         True        debit   \n2      Accounts Receivable     asset_ca_recv         True        debit   \n3           Uncollectibles   asset_ca_uncoll         True       credit   \n4                Inventory      asset_ca_inv         True        debit   \n..                     ...               ...          ...          ...   \n83                 Garbage        ex_regular         None        debit   \n84             Electricity        ex_regular         None        debit   \n85     Property Management        ex_regular         None        debit   \n86                 Vacancy        ex_regular         None        debit   \n87           Misc. Expense          ex_other         True        debit   \n\n    locked  active                          coa_model_id  \n0    False    True  f1262cc2-82d1-4ed1-b19b-6e0f241ef1ae  \n1    False    True  f1262cc2-82d1-4ed1-b19b-6e0f241ef1ae  \n2    False    True  f1262cc2-82d1-4ed1-b19b-6e0f241ef1ae  \n3    False    True  f1262cc2-82d1-4ed1-b19b-6e0f241ef1ae  \n4    False    True  f1262cc2-82d1-4ed1-b19b-6e0f241ef1ae  \n..     ...     ...                                   ...  \n83   False    True  f1262cc2-82d1-4ed1-b19b-6e0f241ef1ae  \n84   False    True  f1262cc2-82d1-4ed1-b19b-6e0f241ef1ae  \n85   False    True  f1262cc2-82d1-4ed1-b19b-6e0f241ef1ae  \n86   False    True  f1262cc2-82d1-4ed1-b19b-6e0f241ef1ae  \n87   False    True  f1262cc2-82d1-4ed1-b19b-6e0f241ef1ae  \n\n[88 rows x 14 columns]",
      "text/html": "<div>\n<style scoped>\n    .dataframe tbody tr th:only-of-type {\n        vertical-align: middle;\n    }\n\n    .dataframe tbody tr th {\n        vertical-align: top;\n    }\n\n    .dataframe thead th {\n        text-align: right;\n    }\n</style>\n<table border=\"1\" class=\"dataframe\">\n  <thead>\n    <tr style=\"text-align: right;\">\n      <th></th>\n      <th>created</th>\n      <th>updated</th>\n      <th>path</th>\n      <th>depth</th>\n      <th>numchild</th>\n      <th>uuid</th>\n      <th>code</th>\n      <th>name</th>\n      <th>role</th>\n      <th>role_default</th>\n      <th>balance_type</th>\n      <th>locked</th>\n      <th>active</th>\n      <th>coa_model_id</th>\n    </tr>\n  </thead>\n  <tbody>\n    <tr>\n      <th>0</th>\n      <td>2023-11-13 17:38:44.234131+00:00</td>\n      <td>2023-11-13 17:38:44.234138+00:00</td>\n      <td>001400010009</td>\n      <td>3</td>\n      <td>0</td>\n      <td>690baf2c-e77f-4f0e-b4fb-46eb02696410</td>\n      <td>1010</td>\n      <td>Cash</td>\n      <td>asset_ca_cash</td>\n      <td>True</td>\n      <td>debit</td>\n      <td>False</td>\n      <td>True</td>\n      <td>f1262cc2-82d1-4ed1-b19b-6e0f241ef1ae</td>\n    </tr>\n    <tr>\n      <th>1</th>\n      <td>2023-11-13 17:38:44.240975+00:00</td>\n      <td>2023-11-13 17:38:44.240981+00:00</td>\n      <td>001400010005</td>\n      <td>3</td>\n      <td>0</td>\n      <td>2f4fd01d-8194-4c78-b7ae-7dac3627f438</td>\n      <td>1050</td>\n      <td>Short Term Investments</td>\n      <td>asset_ca_mkt_sec</td>\n      <td>True</td>\n      <td>debit</td>\n      <td>False</td>\n      <td>True</td>\n      <td>f1262cc2-82d1-4ed1-b19b-6e0f241ef1ae</td>\n    </tr>\n    <tr>\n      <th>2</th>\n      <td>2023-11-13 17:38:44.248853+00:00</td>\n      <td>2023-11-13 17:38:44.248859+00:00</td>\n      <td>00140001000O</td>\n      <td>3</td>\n      <td>0</td>\n      <td>f6de4cef-abfa-416d-b115-42eab4290a4b</td>\n      <td>1100</td>\n      <td>Accounts Receivable</td>\n      <td>asset_ca_recv</td>\n      <td>True</td>\n      <td>debit</td>\n      <td>False</td>\n      <td>True</td>\n      <td>f1262cc2-82d1-4ed1-b19b-6e0f241ef1ae</td>\n    </tr>\n    <tr>\n      <th>3</th>\n      <td>2023-11-13 17:38:44.251788+00:00</td>\n      <td>2023-11-13 17:38:44.251794+00:00</td>\n      <td>00140001000B</td>\n      <td>3</td>\n      <td>0</td>\n      <td>6d556011-8e89-4b27-9eea-5f7f33478238</td>\n      <td>1110</td>\n      <td>Uncollectibles</td>\n      <td>asset_ca_uncoll</td>\n      <td>True</td>\n      <td>credit</td>\n      <td>False</td>\n      <td>True</td>\n      <td>f1262cc2-82d1-4ed1-b19b-6e0f241ef1ae</td>\n    </tr>\n    <tr>\n      <th>4</th>\n      <td>2023-11-13 17:38:44.237139+00:00</td>\n      <td>2023-11-13 17:38:44.237146+00:00</td>\n      <td>001400010002</td>\n      <td>3</td>\n      <td>0</td>\n      <td>12ed5dee-51dc-4d83-8354-5434fc19da18</td>\n      <td>1200</td>\n      <td>Inventory</td>\n      <td>asset_ca_inv</td>\n      <td>True</td>\n      <td>debit</td>\n      <td>False</td>\n      <td>True</td>\n      <td>f1262cc2-82d1-4ed1-b19b-6e0f241ef1ae</td>\n    </tr>\n    <tr>\n      <th>...</th>\n      <td>...</td>\n      <td>...</td>\n      <td>...</td>\n      <td>...</td>\n      <td>...</td>\n      <td>...</td>\n      <td>...</td>\n      <td>...</td>\n      <td>...</td>\n      <td>...</td>\n      <td>...</td>\n      <td>...</td>\n      <td>...</td>\n      <td>...</td>\n    </tr>\n    <tr>\n      <th>83</th>\n      <td>2023-11-13 17:38:44.529581+00:00</td>\n      <td>2023-11-13 17:38:44.529591+00:00</td>\n      <td>001400050009</td>\n      <td>3</td>\n      <td>0</td>\n      <td>57cb12bd-45e7-470b-bf80-140445ad3764</td>\n      <td>6294</td>\n      <td>Garbage</td>\n      <td>ex_regular</td>\n      <td>None</td>\n      <td>debit</td>\n      <td>False</td>\n      <td>True</td>\n      <td>f1262cc2-82d1-4ed1-b19b-6e0f241ef1ae</td>\n    </tr>\n    <tr>\n      <th>84</th>\n      <td>2023-11-13 17:38:44.543776+00:00</td>\n      <td>2023-11-13 17:38:44.543788+00:00</td>\n      <td>001400050001</td>\n      <td>3</td>\n      <td>0</td>\n      <td>01218b4a-1cc6-4e81-8153-a34da5ff7f2e</td>\n      <td>6295</td>\n      <td>Electricity</td>\n      <td>ex_regular</td>\n      <td>None</td>\n      <td>debit</td>\n      <td>False</td>\n      <td>True</td>\n      <td>f1262cc2-82d1-4ed1-b19b-6e0f241ef1ae</td>\n    </tr>\n    <tr>\n      <th>85</th>\n      <td>2023-11-13 17:38:44.552585+00:00</td>\n      <td>2023-11-13 17:38:44.552599+00:00</td>\n      <td>00140005000K</td>\n      <td>3</td>\n      <td>0</td>\n      <td>8ab7033f-db7b-460f-a5fe-6fe5d6c22e4f</td>\n      <td>6300</td>\n      <td>Property Management</td>\n      <td>ex_regular</td>\n      <td>None</td>\n      <td>debit</td>\n      <td>False</td>\n      <td>True</td>\n      <td>f1262cc2-82d1-4ed1-b19b-6e0f241ef1ae</td>\n    </tr>\n    <tr>\n      <th>86</th>\n      <td>2023-11-13 17:38:44.556906+00:00</td>\n      <td>2023-11-13 17:38:44.556916+00:00</td>\n      <td>00140005000Y</td>\n      <td>3</td>\n      <td>0</td>\n      <td>e3c44191-37fd-4108-a16d-67ddc6814229</td>\n      <td>6400</td>\n      <td>Vacancy</td>\n      <td>ex_regular</td>\n      <td>None</td>\n      <td>debit</td>\n      <td>False</td>\n      <td>True</td>\n      <td>f1262cc2-82d1-4ed1-b19b-6e0f241ef1ae</td>\n    </tr>\n    <tr>\n      <th>87</th>\n      <td>2023-11-13 17:38:44.356777+00:00</td>\n      <td>2023-11-13 17:38:44.356784+00:00</td>\n      <td>001400050007</td>\n      <td>3</td>\n      <td>0</td>\n      <td>4f903e96-e29d-4201-a1f5-c5c3a04eeee7</td>\n      <td>6500</td>\n      <td>Misc. Expense</td>\n      <td>ex_other</td>\n      <td>True</td>\n      <td>debit</td>\n      <td>False</td>\n      <td>True</td>\n      <td>f1262cc2-82d1-4ed1-b19b-6e0f241ef1ae</td>\n    </tr>\n  </tbody>\n</table>\n<p>88 rows × 14 columns</p>\n</div>"
     },
     "execution_count": 17,
     "metadata": {},
     "output_type": "execute_result"
    }
   ],
   "source": [
    "coa_accounts_by_coa_model_qs = entity_model.get_coa_accounts(coa_model=default_coa_model)\n",
    "pd.DataFrame(coa_accounts_by_coa_model_qs.values())"
   ]
  },
  {
   "cell_type": "markdown",
   "metadata": {},
   "source": [
    "## Get CoA Accounts by CoA Model UUID"
   ]
  },
  {
   "cell_type": "code",
   "execution_count": 18,
   "metadata": {
    "tags": [],
    "ExecuteTime": {
     "end_time": "2023-11-13T17:38:47.917338Z",
     "start_time": "2023-11-13T17:38:47.903760Z"
    }
   },
   "outputs": [
    {
     "data": {
      "text/plain": "                            created                          updated  \\\n0  2023-11-13 17:38:44.234131+00:00 2023-11-13 17:38:44.234138+00:00   \n1  2023-11-13 17:38:44.240975+00:00 2023-11-13 17:38:44.240981+00:00   \n2  2023-11-13 17:38:44.248853+00:00 2023-11-13 17:38:44.248859+00:00   \n3  2023-11-13 17:38:44.251788+00:00 2023-11-13 17:38:44.251794+00:00   \n4  2023-11-13 17:38:44.237139+00:00 2023-11-13 17:38:44.237146+00:00   \n..                              ...                              ...   \n83 2023-11-13 17:38:44.529581+00:00 2023-11-13 17:38:44.529591+00:00   \n84 2023-11-13 17:38:44.543776+00:00 2023-11-13 17:38:44.543788+00:00   \n85 2023-11-13 17:38:44.552585+00:00 2023-11-13 17:38:44.552599+00:00   \n86 2023-11-13 17:38:44.556906+00:00 2023-11-13 17:38:44.556916+00:00   \n87 2023-11-13 17:38:44.356777+00:00 2023-11-13 17:38:44.356784+00:00   \n\n            path  depth  numchild                                  uuid  code  \\\n0   001400010009      3         0  690baf2c-e77f-4f0e-b4fb-46eb02696410  1010   \n1   001400010005      3         0  2f4fd01d-8194-4c78-b7ae-7dac3627f438  1050   \n2   00140001000O      3         0  f6de4cef-abfa-416d-b115-42eab4290a4b  1100   \n3   00140001000B      3         0  6d556011-8e89-4b27-9eea-5f7f33478238  1110   \n4   001400010002      3         0  12ed5dee-51dc-4d83-8354-5434fc19da18  1200   \n..           ...    ...       ...                                   ...   ...   \n83  001400050009      3         0  57cb12bd-45e7-470b-bf80-140445ad3764  6294   \n84  001400050001      3         0  01218b4a-1cc6-4e81-8153-a34da5ff7f2e  6295   \n85  00140005000K      3         0  8ab7033f-db7b-460f-a5fe-6fe5d6c22e4f  6300   \n86  00140005000Y      3         0  e3c44191-37fd-4108-a16d-67ddc6814229  6400   \n87  001400050007      3         0  4f903e96-e29d-4201-a1f5-c5c3a04eeee7  6500   \n\n                      name              role role_default balance_type  \\\n0                     Cash     asset_ca_cash         True        debit   \n1   Short Term Investments  asset_ca_mkt_sec         True        debit   \n2      Accounts Receivable     asset_ca_recv         True        debit   \n3           Uncollectibles   asset_ca_uncoll         True       credit   \n4                Inventory      asset_ca_inv         True        debit   \n..                     ...               ...          ...          ...   \n83                 Garbage        ex_regular         None        debit   \n84             Electricity        ex_regular         None        debit   \n85     Property Management        ex_regular         None        debit   \n86                 Vacancy        ex_regular         None        debit   \n87           Misc. Expense          ex_other         True        debit   \n\n    locked  active                          coa_model_id  \n0    False    True  f1262cc2-82d1-4ed1-b19b-6e0f241ef1ae  \n1    False    True  f1262cc2-82d1-4ed1-b19b-6e0f241ef1ae  \n2    False    True  f1262cc2-82d1-4ed1-b19b-6e0f241ef1ae  \n3    False    True  f1262cc2-82d1-4ed1-b19b-6e0f241ef1ae  \n4    False    True  f1262cc2-82d1-4ed1-b19b-6e0f241ef1ae  \n..     ...     ...                                   ...  \n83   False    True  f1262cc2-82d1-4ed1-b19b-6e0f241ef1ae  \n84   False    True  f1262cc2-82d1-4ed1-b19b-6e0f241ef1ae  \n85   False    True  f1262cc2-82d1-4ed1-b19b-6e0f241ef1ae  \n86   False    True  f1262cc2-82d1-4ed1-b19b-6e0f241ef1ae  \n87   False    True  f1262cc2-82d1-4ed1-b19b-6e0f241ef1ae  \n\n[88 rows x 14 columns]",
      "text/html": "<div>\n<style scoped>\n    .dataframe tbody tr th:only-of-type {\n        vertical-align: middle;\n    }\n\n    .dataframe tbody tr th {\n        vertical-align: top;\n    }\n\n    .dataframe thead th {\n        text-align: right;\n    }\n</style>\n<table border=\"1\" class=\"dataframe\">\n  <thead>\n    <tr style=\"text-align: right;\">\n      <th></th>\n      <th>created</th>\n      <th>updated</th>\n      <th>path</th>\n      <th>depth</th>\n      <th>numchild</th>\n      <th>uuid</th>\n      <th>code</th>\n      <th>name</th>\n      <th>role</th>\n      <th>role_default</th>\n      <th>balance_type</th>\n      <th>locked</th>\n      <th>active</th>\n      <th>coa_model_id</th>\n    </tr>\n  </thead>\n  <tbody>\n    <tr>\n      <th>0</th>\n      <td>2023-11-13 17:38:44.234131+00:00</td>\n      <td>2023-11-13 17:38:44.234138+00:00</td>\n      <td>001400010009</td>\n      <td>3</td>\n      <td>0</td>\n      <td>690baf2c-e77f-4f0e-b4fb-46eb02696410</td>\n      <td>1010</td>\n      <td>Cash</td>\n      <td>asset_ca_cash</td>\n      <td>True</td>\n      <td>debit</td>\n      <td>False</td>\n      <td>True</td>\n      <td>f1262cc2-82d1-4ed1-b19b-6e0f241ef1ae</td>\n    </tr>\n    <tr>\n      <th>1</th>\n      <td>2023-11-13 17:38:44.240975+00:00</td>\n      <td>2023-11-13 17:38:44.240981+00:00</td>\n      <td>001400010005</td>\n      <td>3</td>\n      <td>0</td>\n      <td>2f4fd01d-8194-4c78-b7ae-7dac3627f438</td>\n      <td>1050</td>\n      <td>Short Term Investments</td>\n      <td>asset_ca_mkt_sec</td>\n      <td>True</td>\n      <td>debit</td>\n      <td>False</td>\n      <td>True</td>\n      <td>f1262cc2-82d1-4ed1-b19b-6e0f241ef1ae</td>\n    </tr>\n    <tr>\n      <th>2</th>\n      <td>2023-11-13 17:38:44.248853+00:00</td>\n      <td>2023-11-13 17:38:44.248859+00:00</td>\n      <td>00140001000O</td>\n      <td>3</td>\n      <td>0</td>\n      <td>f6de4cef-abfa-416d-b115-42eab4290a4b</td>\n      <td>1100</td>\n      <td>Accounts Receivable</td>\n      <td>asset_ca_recv</td>\n      <td>True</td>\n      <td>debit</td>\n      <td>False</td>\n      <td>True</td>\n      <td>f1262cc2-82d1-4ed1-b19b-6e0f241ef1ae</td>\n    </tr>\n    <tr>\n      <th>3</th>\n      <td>2023-11-13 17:38:44.251788+00:00</td>\n      <td>2023-11-13 17:38:44.251794+00:00</td>\n      <td>00140001000B</td>\n      <td>3</td>\n      <td>0</td>\n      <td>6d556011-8e89-4b27-9eea-5f7f33478238</td>\n      <td>1110</td>\n      <td>Uncollectibles</td>\n      <td>asset_ca_uncoll</td>\n      <td>True</td>\n      <td>credit</td>\n      <td>False</td>\n      <td>True</td>\n      <td>f1262cc2-82d1-4ed1-b19b-6e0f241ef1ae</td>\n    </tr>\n    <tr>\n      <th>4</th>\n      <td>2023-11-13 17:38:44.237139+00:00</td>\n      <td>2023-11-13 17:38:44.237146+00:00</td>\n      <td>001400010002</td>\n      <td>3</td>\n      <td>0</td>\n      <td>12ed5dee-51dc-4d83-8354-5434fc19da18</td>\n      <td>1200</td>\n      <td>Inventory</td>\n      <td>asset_ca_inv</td>\n      <td>True</td>\n      <td>debit</td>\n      <td>False</td>\n      <td>True</td>\n      <td>f1262cc2-82d1-4ed1-b19b-6e0f241ef1ae</td>\n    </tr>\n    <tr>\n      <th>...</th>\n      <td>...</td>\n      <td>...</td>\n      <td>...</td>\n      <td>...</td>\n      <td>...</td>\n      <td>...</td>\n      <td>...</td>\n      <td>...</td>\n      <td>...</td>\n      <td>...</td>\n      <td>...</td>\n      <td>...</td>\n      <td>...</td>\n      <td>...</td>\n    </tr>\n    <tr>\n      <th>83</th>\n      <td>2023-11-13 17:38:44.529581+00:00</td>\n      <td>2023-11-13 17:38:44.529591+00:00</td>\n      <td>001400050009</td>\n      <td>3</td>\n      <td>0</td>\n      <td>57cb12bd-45e7-470b-bf80-140445ad3764</td>\n      <td>6294</td>\n      <td>Garbage</td>\n      <td>ex_regular</td>\n      <td>None</td>\n      <td>debit</td>\n      <td>False</td>\n      <td>True</td>\n      <td>f1262cc2-82d1-4ed1-b19b-6e0f241ef1ae</td>\n    </tr>\n    <tr>\n      <th>84</th>\n      <td>2023-11-13 17:38:44.543776+00:00</td>\n      <td>2023-11-13 17:38:44.543788+00:00</td>\n      <td>001400050001</td>\n      <td>3</td>\n      <td>0</td>\n      <td>01218b4a-1cc6-4e81-8153-a34da5ff7f2e</td>\n      <td>6295</td>\n      <td>Electricity</td>\n      <td>ex_regular</td>\n      <td>None</td>\n      <td>debit</td>\n      <td>False</td>\n      <td>True</td>\n      <td>f1262cc2-82d1-4ed1-b19b-6e0f241ef1ae</td>\n    </tr>\n    <tr>\n      <th>85</th>\n      <td>2023-11-13 17:38:44.552585+00:00</td>\n      <td>2023-11-13 17:38:44.552599+00:00</td>\n      <td>00140005000K</td>\n      <td>3</td>\n      <td>0</td>\n      <td>8ab7033f-db7b-460f-a5fe-6fe5d6c22e4f</td>\n      <td>6300</td>\n      <td>Property Management</td>\n      <td>ex_regular</td>\n      <td>None</td>\n      <td>debit</td>\n      <td>False</td>\n      <td>True</td>\n      <td>f1262cc2-82d1-4ed1-b19b-6e0f241ef1ae</td>\n    </tr>\n    <tr>\n      <th>86</th>\n      <td>2023-11-13 17:38:44.556906+00:00</td>\n      <td>2023-11-13 17:38:44.556916+00:00</td>\n      <td>00140005000Y</td>\n      <td>3</td>\n      <td>0</td>\n      <td>e3c44191-37fd-4108-a16d-67ddc6814229</td>\n      <td>6400</td>\n      <td>Vacancy</td>\n      <td>ex_regular</td>\n      <td>None</td>\n      <td>debit</td>\n      <td>False</td>\n      <td>True</td>\n      <td>f1262cc2-82d1-4ed1-b19b-6e0f241ef1ae</td>\n    </tr>\n    <tr>\n      <th>87</th>\n      <td>2023-11-13 17:38:44.356777+00:00</td>\n      <td>2023-11-13 17:38:44.356784+00:00</td>\n      <td>001400050007</td>\n      <td>3</td>\n      <td>0</td>\n      <td>4f903e96-e29d-4201-a1f5-c5c3a04eeee7</td>\n      <td>6500</td>\n      <td>Misc. Expense</td>\n      <td>ex_other</td>\n      <td>True</td>\n      <td>debit</td>\n      <td>False</td>\n      <td>True</td>\n      <td>f1262cc2-82d1-4ed1-b19b-6e0f241ef1ae</td>\n    </tr>\n  </tbody>\n</table>\n<p>88 rows × 14 columns</p>\n</div>"
     },
     "execution_count": 18,
     "metadata": {},
     "output_type": "execute_result"
    }
   ],
   "source": [
    "coa_accounts_by_coa_uuid_qs = entity_model.get_coa_accounts(coa_model=default_coa_model.uuid)\n",
    "pd.DataFrame(coa_accounts_by_coa_uuid_qs.values())"
   ]
  },
  {
   "cell_type": "markdown",
   "metadata": {},
   "source": [
    "## Get CoA Accounts by CoA Model Slug"
   ]
  },
  {
   "cell_type": "code",
   "execution_count": 19,
   "metadata": {
    "tags": [],
    "ExecuteTime": {
     "end_time": "2023-11-13T17:38:47.977780Z",
     "start_time": "2023-11-13T17:38:47.912574Z"
    }
   },
   "outputs": [
    {
     "data": {
      "text/plain": "                            created                          updated  \\\n0  2023-11-13 17:38:44.234131+00:00 2023-11-13 17:38:44.234138+00:00   \n1  2023-11-13 17:38:44.240975+00:00 2023-11-13 17:38:44.240981+00:00   \n2  2023-11-13 17:38:44.248853+00:00 2023-11-13 17:38:44.248859+00:00   \n3  2023-11-13 17:38:44.251788+00:00 2023-11-13 17:38:44.251794+00:00   \n4  2023-11-13 17:38:44.237139+00:00 2023-11-13 17:38:44.237146+00:00   \n..                              ...                              ...   \n83 2023-11-13 17:38:44.529581+00:00 2023-11-13 17:38:44.529591+00:00   \n84 2023-11-13 17:38:44.543776+00:00 2023-11-13 17:38:44.543788+00:00   \n85 2023-11-13 17:38:44.552585+00:00 2023-11-13 17:38:44.552599+00:00   \n86 2023-11-13 17:38:44.556906+00:00 2023-11-13 17:38:44.556916+00:00   \n87 2023-11-13 17:38:44.356777+00:00 2023-11-13 17:38:44.356784+00:00   \n\n            path  depth  numchild                                  uuid  code  \\\n0   001400010009      3         0  690baf2c-e77f-4f0e-b4fb-46eb02696410  1010   \n1   001400010005      3         0  2f4fd01d-8194-4c78-b7ae-7dac3627f438  1050   \n2   00140001000O      3         0  f6de4cef-abfa-416d-b115-42eab4290a4b  1100   \n3   00140001000B      3         0  6d556011-8e89-4b27-9eea-5f7f33478238  1110   \n4   001400010002      3         0  12ed5dee-51dc-4d83-8354-5434fc19da18  1200   \n..           ...    ...       ...                                   ...   ...   \n83  001400050009      3         0  57cb12bd-45e7-470b-bf80-140445ad3764  6294   \n84  001400050001      3         0  01218b4a-1cc6-4e81-8153-a34da5ff7f2e  6295   \n85  00140005000K      3         0  8ab7033f-db7b-460f-a5fe-6fe5d6c22e4f  6300   \n86  00140005000Y      3         0  e3c44191-37fd-4108-a16d-67ddc6814229  6400   \n87  001400050007      3         0  4f903e96-e29d-4201-a1f5-c5c3a04eeee7  6500   \n\n                      name              role role_default balance_type  \\\n0                     Cash     asset_ca_cash         True        debit   \n1   Short Term Investments  asset_ca_mkt_sec         True        debit   \n2      Accounts Receivable     asset_ca_recv         True        debit   \n3           Uncollectibles   asset_ca_uncoll         True       credit   \n4                Inventory      asset_ca_inv         True        debit   \n..                     ...               ...          ...          ...   \n83                 Garbage        ex_regular         None        debit   \n84             Electricity        ex_regular         None        debit   \n85     Property Management        ex_regular         None        debit   \n86                 Vacancy        ex_regular         None        debit   \n87           Misc. Expense          ex_other         True        debit   \n\n    locked  active                          coa_model_id  \n0    False    True  f1262cc2-82d1-4ed1-b19b-6e0f241ef1ae  \n1    False    True  f1262cc2-82d1-4ed1-b19b-6e0f241ef1ae  \n2    False    True  f1262cc2-82d1-4ed1-b19b-6e0f241ef1ae  \n3    False    True  f1262cc2-82d1-4ed1-b19b-6e0f241ef1ae  \n4    False    True  f1262cc2-82d1-4ed1-b19b-6e0f241ef1ae  \n..     ...     ...                                   ...  \n83   False    True  f1262cc2-82d1-4ed1-b19b-6e0f241ef1ae  \n84   False    True  f1262cc2-82d1-4ed1-b19b-6e0f241ef1ae  \n85   False    True  f1262cc2-82d1-4ed1-b19b-6e0f241ef1ae  \n86   False    True  f1262cc2-82d1-4ed1-b19b-6e0f241ef1ae  \n87   False    True  f1262cc2-82d1-4ed1-b19b-6e0f241ef1ae  \n\n[88 rows x 14 columns]",
      "text/html": "<div>\n<style scoped>\n    .dataframe tbody tr th:only-of-type {\n        vertical-align: middle;\n    }\n\n    .dataframe tbody tr th {\n        vertical-align: top;\n    }\n\n    .dataframe thead th {\n        text-align: right;\n    }\n</style>\n<table border=\"1\" class=\"dataframe\">\n  <thead>\n    <tr style=\"text-align: right;\">\n      <th></th>\n      <th>created</th>\n      <th>updated</th>\n      <th>path</th>\n      <th>depth</th>\n      <th>numchild</th>\n      <th>uuid</th>\n      <th>code</th>\n      <th>name</th>\n      <th>role</th>\n      <th>role_default</th>\n      <th>balance_type</th>\n      <th>locked</th>\n      <th>active</th>\n      <th>coa_model_id</th>\n    </tr>\n  </thead>\n  <tbody>\n    <tr>\n      <th>0</th>\n      <td>2023-11-13 17:38:44.234131+00:00</td>\n      <td>2023-11-13 17:38:44.234138+00:00</td>\n      <td>001400010009</td>\n      <td>3</td>\n      <td>0</td>\n      <td>690baf2c-e77f-4f0e-b4fb-46eb02696410</td>\n      <td>1010</td>\n      <td>Cash</td>\n      <td>asset_ca_cash</td>\n      <td>True</td>\n      <td>debit</td>\n      <td>False</td>\n      <td>True</td>\n      <td>f1262cc2-82d1-4ed1-b19b-6e0f241ef1ae</td>\n    </tr>\n    <tr>\n      <th>1</th>\n      <td>2023-11-13 17:38:44.240975+00:00</td>\n      <td>2023-11-13 17:38:44.240981+00:00</td>\n      <td>001400010005</td>\n      <td>3</td>\n      <td>0</td>\n      <td>2f4fd01d-8194-4c78-b7ae-7dac3627f438</td>\n      <td>1050</td>\n      <td>Short Term Investments</td>\n      <td>asset_ca_mkt_sec</td>\n      <td>True</td>\n      <td>debit</td>\n      <td>False</td>\n      <td>True</td>\n      <td>f1262cc2-82d1-4ed1-b19b-6e0f241ef1ae</td>\n    </tr>\n    <tr>\n      <th>2</th>\n      <td>2023-11-13 17:38:44.248853+00:00</td>\n      <td>2023-11-13 17:38:44.248859+00:00</td>\n      <td>00140001000O</td>\n      <td>3</td>\n      <td>0</td>\n      <td>f6de4cef-abfa-416d-b115-42eab4290a4b</td>\n      <td>1100</td>\n      <td>Accounts Receivable</td>\n      <td>asset_ca_recv</td>\n      <td>True</td>\n      <td>debit</td>\n      <td>False</td>\n      <td>True</td>\n      <td>f1262cc2-82d1-4ed1-b19b-6e0f241ef1ae</td>\n    </tr>\n    <tr>\n      <th>3</th>\n      <td>2023-11-13 17:38:44.251788+00:00</td>\n      <td>2023-11-13 17:38:44.251794+00:00</td>\n      <td>00140001000B</td>\n      <td>3</td>\n      <td>0</td>\n      <td>6d556011-8e89-4b27-9eea-5f7f33478238</td>\n      <td>1110</td>\n      <td>Uncollectibles</td>\n      <td>asset_ca_uncoll</td>\n      <td>True</td>\n      <td>credit</td>\n      <td>False</td>\n      <td>True</td>\n      <td>f1262cc2-82d1-4ed1-b19b-6e0f241ef1ae</td>\n    </tr>\n    <tr>\n      <th>4</th>\n      <td>2023-11-13 17:38:44.237139+00:00</td>\n      <td>2023-11-13 17:38:44.237146+00:00</td>\n      <td>001400010002</td>\n      <td>3</td>\n      <td>0</td>\n      <td>12ed5dee-51dc-4d83-8354-5434fc19da18</td>\n      <td>1200</td>\n      <td>Inventory</td>\n      <td>asset_ca_inv</td>\n      <td>True</td>\n      <td>debit</td>\n      <td>False</td>\n      <td>True</td>\n      <td>f1262cc2-82d1-4ed1-b19b-6e0f241ef1ae</td>\n    </tr>\n    <tr>\n      <th>...</th>\n      <td>...</td>\n      <td>...</td>\n      <td>...</td>\n      <td>...</td>\n      <td>...</td>\n      <td>...</td>\n      <td>...</td>\n      <td>...</td>\n      <td>...</td>\n      <td>...</td>\n      <td>...</td>\n      <td>...</td>\n      <td>...</td>\n      <td>...</td>\n    </tr>\n    <tr>\n      <th>83</th>\n      <td>2023-11-13 17:38:44.529581+00:00</td>\n      <td>2023-11-13 17:38:44.529591+00:00</td>\n      <td>001400050009</td>\n      <td>3</td>\n      <td>0</td>\n      <td>57cb12bd-45e7-470b-bf80-140445ad3764</td>\n      <td>6294</td>\n      <td>Garbage</td>\n      <td>ex_regular</td>\n      <td>None</td>\n      <td>debit</td>\n      <td>False</td>\n      <td>True</td>\n      <td>f1262cc2-82d1-4ed1-b19b-6e0f241ef1ae</td>\n    </tr>\n    <tr>\n      <th>84</th>\n      <td>2023-11-13 17:38:44.543776+00:00</td>\n      <td>2023-11-13 17:38:44.543788+00:00</td>\n      <td>001400050001</td>\n      <td>3</td>\n      <td>0</td>\n      <td>01218b4a-1cc6-4e81-8153-a34da5ff7f2e</td>\n      <td>6295</td>\n      <td>Electricity</td>\n      <td>ex_regular</td>\n      <td>None</td>\n      <td>debit</td>\n      <td>False</td>\n      <td>True</td>\n      <td>f1262cc2-82d1-4ed1-b19b-6e0f241ef1ae</td>\n    </tr>\n    <tr>\n      <th>85</th>\n      <td>2023-11-13 17:38:44.552585+00:00</td>\n      <td>2023-11-13 17:38:44.552599+00:00</td>\n      <td>00140005000K</td>\n      <td>3</td>\n      <td>0</td>\n      <td>8ab7033f-db7b-460f-a5fe-6fe5d6c22e4f</td>\n      <td>6300</td>\n      <td>Property Management</td>\n      <td>ex_regular</td>\n      <td>None</td>\n      <td>debit</td>\n      <td>False</td>\n      <td>True</td>\n      <td>f1262cc2-82d1-4ed1-b19b-6e0f241ef1ae</td>\n    </tr>\n    <tr>\n      <th>86</th>\n      <td>2023-11-13 17:38:44.556906+00:00</td>\n      <td>2023-11-13 17:38:44.556916+00:00</td>\n      <td>00140005000Y</td>\n      <td>3</td>\n      <td>0</td>\n      <td>e3c44191-37fd-4108-a16d-67ddc6814229</td>\n      <td>6400</td>\n      <td>Vacancy</td>\n      <td>ex_regular</td>\n      <td>None</td>\n      <td>debit</td>\n      <td>False</td>\n      <td>True</td>\n      <td>f1262cc2-82d1-4ed1-b19b-6e0f241ef1ae</td>\n    </tr>\n    <tr>\n      <th>87</th>\n      <td>2023-11-13 17:38:44.356777+00:00</td>\n      <td>2023-11-13 17:38:44.356784+00:00</td>\n      <td>001400050007</td>\n      <td>3</td>\n      <td>0</td>\n      <td>4f903e96-e29d-4201-a1f5-c5c3a04eeee7</td>\n      <td>6500</td>\n      <td>Misc. Expense</td>\n      <td>ex_other</td>\n      <td>True</td>\n      <td>debit</td>\n      <td>False</td>\n      <td>True</td>\n      <td>f1262cc2-82d1-4ed1-b19b-6e0f241ef1ae</td>\n    </tr>\n  </tbody>\n</table>\n<p>88 rows × 14 columns</p>\n</div>"
     },
     "execution_count": 19,
     "metadata": {},
     "output_type": "execute_result"
    }
   ],
   "source": [
    "coa_accounts_by_coa_slug_qs = entity_model.get_coa_accounts(coa_model=default_coa_model.slug)\n",
    "pd.DataFrame(coa_accounts_by_coa_slug_qs.values())"
   ]
  },
  {
   "cell_type": "markdown",
   "metadata": {},
   "source": [
    "## Get Accounts With Codes and CoA Model"
   ]
  },
  {
   "cell_type": "code",
   "execution_count": 20,
   "metadata": {
    "tags": [],
    "ExecuteTime": {
     "end_time": "2023-11-13T17:38:48.463198Z",
     "start_time": "2023-11-13T17:38:48.436033Z"
    }
   },
   "outputs": [
    {
     "data": {
      "text/plain": "                           created                          updated  \\\n0 2023-11-13 17:38:44.234131+00:00 2023-11-13 17:38:44.234138+00:00   \n1 2023-11-13 17:38:44.240975+00:00 2023-11-13 17:38:44.240981+00:00   \n\n           path  depth  numchild                                  uuid  code  \\\n0  001400010009      3         0  690baf2c-e77f-4f0e-b4fb-46eb02696410  1010   \n1  001400010005      3         0  2f4fd01d-8194-4c78-b7ae-7dac3627f438  1050   \n\n                     name              role  role_default balance_type  \\\n0                    Cash     asset_ca_cash          True        debit   \n1  Short Term Investments  asset_ca_mkt_sec          True        debit   \n\n   locked  active                          coa_model_id  \n0   False    True  f1262cc2-82d1-4ed1-b19b-6e0f241ef1ae  \n1   False    True  f1262cc2-82d1-4ed1-b19b-6e0f241ef1ae  ",
      "text/html": "<div>\n<style scoped>\n    .dataframe tbody tr th:only-of-type {\n        vertical-align: middle;\n    }\n\n    .dataframe tbody tr th {\n        vertical-align: top;\n    }\n\n    .dataframe thead th {\n        text-align: right;\n    }\n</style>\n<table border=\"1\" class=\"dataframe\">\n  <thead>\n    <tr style=\"text-align: right;\">\n      <th></th>\n      <th>created</th>\n      <th>updated</th>\n      <th>path</th>\n      <th>depth</th>\n      <th>numchild</th>\n      <th>uuid</th>\n      <th>code</th>\n      <th>name</th>\n      <th>role</th>\n      <th>role_default</th>\n      <th>balance_type</th>\n      <th>locked</th>\n      <th>active</th>\n      <th>coa_model_id</th>\n    </tr>\n  </thead>\n  <tbody>\n    <tr>\n      <th>0</th>\n      <td>2023-11-13 17:38:44.234131+00:00</td>\n      <td>2023-11-13 17:38:44.234138+00:00</td>\n      <td>001400010009</td>\n      <td>3</td>\n      <td>0</td>\n      <td>690baf2c-e77f-4f0e-b4fb-46eb02696410</td>\n      <td>1010</td>\n      <td>Cash</td>\n      <td>asset_ca_cash</td>\n      <td>True</td>\n      <td>debit</td>\n      <td>False</td>\n      <td>True</td>\n      <td>f1262cc2-82d1-4ed1-b19b-6e0f241ef1ae</td>\n    </tr>\n    <tr>\n      <th>1</th>\n      <td>2023-11-13 17:38:44.240975+00:00</td>\n      <td>2023-11-13 17:38:44.240981+00:00</td>\n      <td>001400010005</td>\n      <td>3</td>\n      <td>0</td>\n      <td>2f4fd01d-8194-4c78-b7ae-7dac3627f438</td>\n      <td>1050</td>\n      <td>Short Term Investments</td>\n      <td>asset_ca_mkt_sec</td>\n      <td>True</td>\n      <td>debit</td>\n      <td>False</td>\n      <td>True</td>\n      <td>f1262cc2-82d1-4ed1-b19b-6e0f241ef1ae</td>\n    </tr>\n  </tbody>\n</table>\n</div>"
     },
     "execution_count": 20,
     "metadata": {},
     "output_type": "execute_result"
    }
   ],
   "source": [
    "coa_accounts_by_codes_qs = entity_model.get_accounts_with_codes(code_list=['1010', '1050'])\n",
    "pd.DataFrame(coa_accounts_by_codes_qs.values())"
   ]
  },
  {
   "cell_type": "markdown",
   "metadata": {},
   "source": [
    "## Create Account Model"
   ]
  },
  {
   "cell_type": "code",
   "execution_count": 21,
   "metadata": {
    "tags": [],
    "ExecuteTime": {
     "end_time": "2023-11-13T17:38:48.634031Z",
     "start_time": "2023-11-13T17:38:48.537201Z"
    }
   },
   "outputs": [],
   "source": [
    "coa_model, account_model = entity_model.create_account(\n",
    "    coa_model=another_coa_model,\n",
    "    account_model_kwargs={\n",
    "        'code': f'1{str(randint(10000, 99999))}ABC',\n",
    "        'role': roles.ASSET_CA_INVENTORY,\n",
    "        'name': 'A cool account created from the EntityModel API!',\n",
    "        'balance_type': roles.DEBIT,\n",
    "        'active': True\n",
    "    })"
   ]
  },
  {
   "cell_type": "code",
   "execution_count": 22,
   "metadata": {
    "tags": [],
    "ExecuteTime": {
     "end_time": "2023-11-13T17:38:48.803152Z",
     "start_time": "2023-11-13T17:38:48.756660Z"
    }
   },
   "outputs": [
    {
     "data": {
      "text/plain": "<AccountModel: ASSETS - 135062ABC: A cool account created from the EntityModel API! (ASSET_CA_INV/debit)>"
     },
     "execution_count": 22,
     "metadata": {},
     "output_type": "execute_result"
    }
   ],
   "source": [
    "account_model"
   ]
  },
  {
   "cell_type": "code",
   "execution_count": 23,
   "metadata": {
    "tags": [],
    "ExecuteTime": {
     "end_time": "2023-11-13T17:38:48.957411Z",
     "start_time": "2023-11-13T17:38:48.913933Z"
    }
   },
   "outputs": [
    {
     "data": {
      "text/plain": "                           created                          updated  \\\n0 2023-11-13 17:38:48.539100+00:00 2023-11-13 17:38:48.539113+00:00   \n\n           path  depth  numchild                                  uuid  \\\n0  001100060001      3         0  22a76645-060b-4d73-a29f-e2073afc7691   \n\n        code                                              name          role  \\\n0  135062ABC  A cool account created from the EntityModel API!  asset_ca_inv   \n\n  role_default balance_type  locked  active  \\\n0         None        debit   False    True   \n\n                           coa_model_id  \n0  69446d15-9053-4406-9345-0b75d919cbe2  ",
      "text/html": "<div>\n<style scoped>\n    .dataframe tbody tr th:only-of-type {\n        vertical-align: middle;\n    }\n\n    .dataframe tbody tr th {\n        vertical-align: top;\n    }\n\n    .dataframe thead th {\n        text-align: right;\n    }\n</style>\n<table border=\"1\" class=\"dataframe\">\n  <thead>\n    <tr style=\"text-align: right;\">\n      <th></th>\n      <th>created</th>\n      <th>updated</th>\n      <th>path</th>\n      <th>depth</th>\n      <th>numchild</th>\n      <th>uuid</th>\n      <th>code</th>\n      <th>name</th>\n      <th>role</th>\n      <th>role_default</th>\n      <th>balance_type</th>\n      <th>locked</th>\n      <th>active</th>\n      <th>coa_model_id</th>\n    </tr>\n  </thead>\n  <tbody>\n    <tr>\n      <th>0</th>\n      <td>2023-11-13 17:38:48.539100+00:00</td>\n      <td>2023-11-13 17:38:48.539113+00:00</td>\n      <td>001100060001</td>\n      <td>3</td>\n      <td>0</td>\n      <td>22a76645-060b-4d73-a29f-e2073afc7691</td>\n      <td>135062ABC</td>\n      <td>A cool account created from the EntityModel API!</td>\n      <td>asset_ca_inv</td>\n      <td>None</td>\n      <td>debit</td>\n      <td>False</td>\n      <td>True</td>\n      <td>69446d15-9053-4406-9345-0b75d919cbe2</td>\n    </tr>\n  </tbody>\n</table>\n</div>"
     },
     "execution_count": 23,
     "metadata": {},
     "output_type": "execute_result"
    }
   ],
   "source": [
    "another_coa_accounts_qs = entity_model.get_coa_accounts(coa_model=another_coa_model)\n",
    "pd.DataFrame(another_coa_accounts_qs.values())"
   ]
  },
  {
   "cell_type": "markdown",
   "metadata": {},
   "source": [
    "# Customers"
   ]
  },
  {
   "cell_type": "markdown",
   "metadata": {},
   "source": [
    "## Get Customers"
   ]
  },
  {
   "cell_type": "code",
   "execution_count": 24,
   "metadata": {
    "tags": [],
    "ExecuteTime": {
     "end_time": "2023-11-13T17:38:49.489754Z",
     "start_time": "2023-11-13T17:38:49.450183Z"
    }
   },
   "outputs": [
    {
     "data": {
      "text/plain": "                            created                          updated  \\\n0  2023-11-13 17:38:44.676474+00:00 2023-11-13 17:38:44.676484+00:00   \n1  2023-11-13 17:38:44.678245+00:00 2023-11-13 17:38:44.678252+00:00   \n2  2023-11-13 17:38:44.680203+00:00 2023-11-13 17:38:44.680213+00:00   \n3  2023-11-13 17:38:44.681891+00:00 2023-11-13 17:38:44.681899+00:00   \n4  2023-11-13 17:38:44.683906+00:00 2023-11-13 17:38:44.683912+00:00   \n5  2023-11-13 17:38:44.685442+00:00 2023-11-13 17:38:44.685449+00:00   \n6  2023-11-13 17:38:44.687528+00:00 2023-11-13 17:38:44.687534+00:00   \n7  2023-11-13 17:38:44.689018+00:00 2023-11-13 17:38:44.689025+00:00   \n8  2023-11-13 17:38:44.690531+00:00 2023-11-13 17:38:44.690537+00:00   \n9  2023-11-13 17:38:44.691993+00:00 2023-11-13 17:38:44.691999+00:00   \n10 2023-11-13 17:38:44.693507+00:00 2023-11-13 17:38:44.693513+00:00   \n11 2023-11-13 17:38:44.694937+00:00 2023-11-13 17:38:44.694943+00:00   \n12 2023-11-13 17:38:44.696446+00:00 2023-11-13 17:38:44.696452+00:00   \n13 2023-11-13 17:38:44.697904+00:00 2023-11-13 17:38:44.697913+00:00   \n14 2023-11-13 17:38:44.700135+00:00 2023-11-13 17:38:44.700142+00:00   \n15 2023-11-13 17:38:44.701602+00:00 2023-11-13 17:38:44.701608+00:00   \n16 2023-11-13 17:38:44.703546+00:00 2023-11-13 17:38:44.703552+00:00   \n17 2023-11-13 17:38:44.705049+00:00 2023-11-13 17:38:44.705056+00:00   \n\n                                address_1 address_2              city state  \\\n0      7488 Smith Gateway Suite 122Circle     21895  West Michaelfort    WI   \n1                 81190 Baxter ParkDrives      None        Barkertown    AZ   \n2   4109 Gabrielle Mission Suite 772Grove     18361         East Tina    MH   \n3                   88720 John PlainsNeck       402    South Samantha    NE   \n4         9100 Wright Ranch Suite 384Pike     60754      Gardnerburgh    NJ   \n5             75184 Hebert BrooksMotorway      None   Victoriachester    WA   \n6       1668 Charles Spring Apt. 303Field       938    Lake Blakefort    AK   \n7                  701 Joyce StreamRadial      7235   East Stevenstad    AZ   \n8                    5039 Levi ShoalGrove      None     Butlerborough    OH   \n9        4510 Moreno Passage Apt. 781Fall      0187     Hendersonland    NE   \n10        58938 Page Drive Suite 588Ville       272   Lake Laurenberg    MD   \n11  441 Anderson Station Suite 366Squares      4913       Jeffreyland    PR   \n12              4685 Richard LakesHeights      None       Dawsonhaven    MA   \n13  95950 Alvarez Overpass Apt. 991Harbor      8864       Michaelfurt    VI   \n14     7580 Tyler Mount Apt. 125Junctions      4816         Cantuside    OH   \n15                54547 Brown CrestSummit       886     West Brittany    TX   \n16          126 Foster Flat Suite 216Loaf      None     North Heather    DE   \n17  900 Christian Crossing Suite 588Lodge      1084         Deanmouth    PA   \n\n   zip_code country                      email  \\\n0     43322      US      vmatthews@example.org   \n1     20070      US        aaron95@example.net   \n2     58893      US      annette39@example.org   \n3     57976      US  alexaespinoza@example.com   \n4     48578      US        akramer@example.com   \n5     94396      US     johnwilson@example.com   \n6     03508      US       henrylee@example.com   \n7     20116      US         ubrown@example.com   \n8     20885      US      michael91@example.com   \n9     99911      US        rgraham@example.com   \n10    12775      US     jennaevans@example.net   \n11    84440      US        wstuart@example.com   \n12    46372      US      kanejames@example.org   \n13    83221      US        julie61@example.net   \n14    80112      US        phudson@example.com   \n15    55557      US    everettkyle@example.org   \n16    03607      US       ksanders@example.org   \n17    64785      US      qjennings@example.net   \n\n                           website                  phone  sales_tax_rate  \\\n0                 http://ross.com/           290-935-1566             0.0   \n1               https://brown.com/       001-783-913-7585             0.0   \n2             http://www.reed.com/       832.453.8416x042             0.0   \n3           http://www.thomas.com/      287-577-2407x9722             0.0   \n4            https://www.hale.com/   001-847-371-6965x790             0.0   \n5              https://farmer.com/       001-870-501-2293             0.0   \n6           http://www.adkins.com/             6833342458             0.0   \n7   http://www.kennedy-parker.net/           940-372-6345             0.0   \n8               https://jones.com/             4106464993             0.0   \n9                http://gross.com/           297-845-6754             0.0   \n10      http://delgado-miller.com/   +1-377-826-9494x4948             0.0   \n11      https://www.woodward.info/           572.518.5301             0.0   \n12           https://peterson.org/       822.579.9439x347             0.0   \n13       http://www.henderson.org/  001-899-291-1879x4650             0.0   \n14        http://www.mcintosh.net/      (477)340-3373x194             0.0   \n15          http://scott-ross.biz/     887-888-6911x02614             0.0   \n16       https://young-carter.com/       606-765-6854x343             0.0   \n17           http://www.walsh.net/   001-327-493-9255x456             0.0   \n\n                                    uuid     customer_name customer_number  \\\n0   46d934b0-093e-4639-968d-7f1574e5f784        James Luna    C-0000000001   \n1   e81399e3-35c7-4a3f-a214-33dade639b70       Ronnie Holt    C-0000000002   \n2   8366a9b4-0192-420d-9e6b-2df1912cd054  Christine Flores    C-0000000003   \n3   babcb385-7b6e-4dbb-ae3b-6710aa29f2cb   Mrs. Lisa Moore    C-0000000004   \n4   d74e5118-8608-4b5f-a97b-5cee198b077b  Michelle Watkins    C-0000000005   \n5   58965fd4-107f-4c70-a985-990fd21a1b74   Kristy Williams    C-0000000006   \n6   ac6214dd-7333-445a-bef1-56f4f180fb99      Joshua Patel    C-0000000007   \n7   91594ec2-1654-490e-ba29-4305ff99e32c      Karen Branch    C-0000000008   \n8   cfbc50a3-1b0f-4c9c-8e45-2ed23ac2e28f      Patrick Frye    C-0000000009   \n9   1e262888-3241-48da-8dcd-9df51028451e  Stephanie Hebert    C-0000000010   \n10  5da00d3e-c9ab-4ffe-a022-abb6f044c772     Pamela Harvey    C-0000000011   \n11  b51a5ef6-1c51-4115-bb07-1e6b11262a27      Johnny Jones    C-0000000012   \n12  e4ac62f7-8dea-4f99-a146-828f4acd53d2         Corey Kim    C-0000000013   \n13  d596ee81-318d-492b-8bcb-fbe9a77c1702        Shawn Wise    C-0000000014   \n14  2bdbe2fa-5802-4b3d-a0cc-f2db59881326         Erin Clay    C-0000000015   \n15  74f4982c-510a-4fce-a803-9be4e082f151    Nathan Schmidt    C-0000000016   \n16  02434ce3-a335-417d-b9ed-d069323e5e00  Monica Armstrong    C-0000000017   \n17  991f527a-65ad-401c-b684-aa22fc9231b2      David Parker    C-0000000018   \n\n                         entity_model_id  \\\n0   44d57e0b-48bc-4e1b-8d9f-04b781cc607c   \n1   44d57e0b-48bc-4e1b-8d9f-04b781cc607c   \n2   44d57e0b-48bc-4e1b-8d9f-04b781cc607c   \n3   44d57e0b-48bc-4e1b-8d9f-04b781cc607c   \n4   44d57e0b-48bc-4e1b-8d9f-04b781cc607c   \n5   44d57e0b-48bc-4e1b-8d9f-04b781cc607c   \n6   44d57e0b-48bc-4e1b-8d9f-04b781cc607c   \n7   44d57e0b-48bc-4e1b-8d9f-04b781cc607c   \n8   44d57e0b-48bc-4e1b-8d9f-04b781cc607c   \n9   44d57e0b-48bc-4e1b-8d9f-04b781cc607c   \n10  44d57e0b-48bc-4e1b-8d9f-04b781cc607c   \n11  44d57e0b-48bc-4e1b-8d9f-04b781cc607c   \n12  44d57e0b-48bc-4e1b-8d9f-04b781cc607c   \n13  44d57e0b-48bc-4e1b-8d9f-04b781cc607c   \n14  44d57e0b-48bc-4e1b-8d9f-04b781cc607c   \n15  44d57e0b-48bc-4e1b-8d9f-04b781cc607c   \n16  44d57e0b-48bc-4e1b-8d9f-04b781cc607c   \n17  44d57e0b-48bc-4e1b-8d9f-04b781cc607c   \n\n                                        description  active  hidden  \\\n0   A cool customer description. We love customers!    True   False   \n1   A cool customer description. We love customers!    True   False   \n2   A cool customer description. We love customers!    True   False   \n3   A cool customer description. We love customers!    True   False   \n4   A cool customer description. We love customers!    True   False   \n5   A cool customer description. We love customers!    True   False   \n6   A cool customer description. We love customers!    True   False   \n7   A cool customer description. We love customers!    True   False   \n8   A cool customer description. We love customers!    True   False   \n9   A cool customer description. We love customers!    True   False   \n10  A cool customer description. We love customers!    True   False   \n11  A cool customer description. We love customers!    True   False   \n12  A cool customer description. We love customers!    True   False   \n13  A cool customer description. We love customers!    True   False   \n14  A cool customer description. We love customers!    True   False   \n15  A cool customer description. We love customers!    True   False   \n16  A cool customer description. We love customers!    True   False   \n17  A cool customer description. We love customers!    True   False   \n\n   additional_info  \n0               {}  \n1               {}  \n2               {}  \n3               {}  \n4               {}  \n5               {}  \n6               {}  \n7               {}  \n8               {}  \n9               {}  \n10              {}  \n11              {}  \n12              {}  \n13              {}  \n14              {}  \n15              {}  \n16              {}  \n17              {}  ",
      "text/html": "<div>\n<style scoped>\n    .dataframe tbody tr th:only-of-type {\n        vertical-align: middle;\n    }\n\n    .dataframe tbody tr th {\n        vertical-align: top;\n    }\n\n    .dataframe thead th {\n        text-align: right;\n    }\n</style>\n<table border=\"1\" class=\"dataframe\">\n  <thead>\n    <tr style=\"text-align: right;\">\n      <th></th>\n      <th>created</th>\n      <th>updated</th>\n      <th>address_1</th>\n      <th>address_2</th>\n      <th>city</th>\n      <th>state</th>\n      <th>zip_code</th>\n      <th>country</th>\n      <th>email</th>\n      <th>website</th>\n      <th>phone</th>\n      <th>sales_tax_rate</th>\n      <th>uuid</th>\n      <th>customer_name</th>\n      <th>customer_number</th>\n      <th>entity_model_id</th>\n      <th>description</th>\n      <th>active</th>\n      <th>hidden</th>\n      <th>additional_info</th>\n    </tr>\n  </thead>\n  <tbody>\n    <tr>\n      <th>0</th>\n      <td>2023-11-13 17:38:44.676474+00:00</td>\n      <td>2023-11-13 17:38:44.676484+00:00</td>\n      <td>7488 Smith Gateway Suite 122Circle</td>\n      <td>21895</td>\n      <td>West Michaelfort</td>\n      <td>WI</td>\n      <td>43322</td>\n      <td>US</td>\n      <td>vmatthews@example.org</td>\n      <td>http://ross.com/</td>\n      <td>290-935-1566</td>\n      <td>0.0</td>\n      <td>46d934b0-093e-4639-968d-7f1574e5f784</td>\n      <td>James Luna</td>\n      <td>C-0000000001</td>\n      <td>44d57e0b-48bc-4e1b-8d9f-04b781cc607c</td>\n      <td>A cool customer description. We love customers!</td>\n      <td>True</td>\n      <td>False</td>\n      <td>{}</td>\n    </tr>\n    <tr>\n      <th>1</th>\n      <td>2023-11-13 17:38:44.678245+00:00</td>\n      <td>2023-11-13 17:38:44.678252+00:00</td>\n      <td>81190 Baxter ParkDrives</td>\n      <td>None</td>\n      <td>Barkertown</td>\n      <td>AZ</td>\n      <td>20070</td>\n      <td>US</td>\n      <td>aaron95@example.net</td>\n      <td>https://brown.com/</td>\n      <td>001-783-913-7585</td>\n      <td>0.0</td>\n      <td>e81399e3-35c7-4a3f-a214-33dade639b70</td>\n      <td>Ronnie Holt</td>\n      <td>C-0000000002</td>\n      <td>44d57e0b-48bc-4e1b-8d9f-04b781cc607c</td>\n      <td>A cool customer description. We love customers!</td>\n      <td>True</td>\n      <td>False</td>\n      <td>{}</td>\n    </tr>\n    <tr>\n      <th>2</th>\n      <td>2023-11-13 17:38:44.680203+00:00</td>\n      <td>2023-11-13 17:38:44.680213+00:00</td>\n      <td>4109 Gabrielle Mission Suite 772Grove</td>\n      <td>18361</td>\n      <td>East Tina</td>\n      <td>MH</td>\n      <td>58893</td>\n      <td>US</td>\n      <td>annette39@example.org</td>\n      <td>http://www.reed.com/</td>\n      <td>832.453.8416x042</td>\n      <td>0.0</td>\n      <td>8366a9b4-0192-420d-9e6b-2df1912cd054</td>\n      <td>Christine Flores</td>\n      <td>C-0000000003</td>\n      <td>44d57e0b-48bc-4e1b-8d9f-04b781cc607c</td>\n      <td>A cool customer description. We love customers!</td>\n      <td>True</td>\n      <td>False</td>\n      <td>{}</td>\n    </tr>\n    <tr>\n      <th>3</th>\n      <td>2023-11-13 17:38:44.681891+00:00</td>\n      <td>2023-11-13 17:38:44.681899+00:00</td>\n      <td>88720 John PlainsNeck</td>\n      <td>402</td>\n      <td>South Samantha</td>\n      <td>NE</td>\n      <td>57976</td>\n      <td>US</td>\n      <td>alexaespinoza@example.com</td>\n      <td>http://www.thomas.com/</td>\n      <td>287-577-2407x9722</td>\n      <td>0.0</td>\n      <td>babcb385-7b6e-4dbb-ae3b-6710aa29f2cb</td>\n      <td>Mrs. Lisa Moore</td>\n      <td>C-0000000004</td>\n      <td>44d57e0b-48bc-4e1b-8d9f-04b781cc607c</td>\n      <td>A cool customer description. We love customers!</td>\n      <td>True</td>\n      <td>False</td>\n      <td>{}</td>\n    </tr>\n    <tr>\n      <th>4</th>\n      <td>2023-11-13 17:38:44.683906+00:00</td>\n      <td>2023-11-13 17:38:44.683912+00:00</td>\n      <td>9100 Wright Ranch Suite 384Pike</td>\n      <td>60754</td>\n      <td>Gardnerburgh</td>\n      <td>NJ</td>\n      <td>48578</td>\n      <td>US</td>\n      <td>akramer@example.com</td>\n      <td>https://www.hale.com/</td>\n      <td>001-847-371-6965x790</td>\n      <td>0.0</td>\n      <td>d74e5118-8608-4b5f-a97b-5cee198b077b</td>\n      <td>Michelle Watkins</td>\n      <td>C-0000000005</td>\n      <td>44d57e0b-48bc-4e1b-8d9f-04b781cc607c</td>\n      <td>A cool customer description. We love customers!</td>\n      <td>True</td>\n      <td>False</td>\n      <td>{}</td>\n    </tr>\n    <tr>\n      <th>5</th>\n      <td>2023-11-13 17:38:44.685442+00:00</td>\n      <td>2023-11-13 17:38:44.685449+00:00</td>\n      <td>75184 Hebert BrooksMotorway</td>\n      <td>None</td>\n      <td>Victoriachester</td>\n      <td>WA</td>\n      <td>94396</td>\n      <td>US</td>\n      <td>johnwilson@example.com</td>\n      <td>https://farmer.com/</td>\n      <td>001-870-501-2293</td>\n      <td>0.0</td>\n      <td>58965fd4-107f-4c70-a985-990fd21a1b74</td>\n      <td>Kristy Williams</td>\n      <td>C-0000000006</td>\n      <td>44d57e0b-48bc-4e1b-8d9f-04b781cc607c</td>\n      <td>A cool customer description. We love customers!</td>\n      <td>True</td>\n      <td>False</td>\n      <td>{}</td>\n    </tr>\n    <tr>\n      <th>6</th>\n      <td>2023-11-13 17:38:44.687528+00:00</td>\n      <td>2023-11-13 17:38:44.687534+00:00</td>\n      <td>1668 Charles Spring Apt. 303Field</td>\n      <td>938</td>\n      <td>Lake Blakefort</td>\n      <td>AK</td>\n      <td>03508</td>\n      <td>US</td>\n      <td>henrylee@example.com</td>\n      <td>http://www.adkins.com/</td>\n      <td>6833342458</td>\n      <td>0.0</td>\n      <td>ac6214dd-7333-445a-bef1-56f4f180fb99</td>\n      <td>Joshua Patel</td>\n      <td>C-0000000007</td>\n      <td>44d57e0b-48bc-4e1b-8d9f-04b781cc607c</td>\n      <td>A cool customer description. We love customers!</td>\n      <td>True</td>\n      <td>False</td>\n      <td>{}</td>\n    </tr>\n    <tr>\n      <th>7</th>\n      <td>2023-11-13 17:38:44.689018+00:00</td>\n      <td>2023-11-13 17:38:44.689025+00:00</td>\n      <td>701 Joyce StreamRadial</td>\n      <td>7235</td>\n      <td>East Stevenstad</td>\n      <td>AZ</td>\n      <td>20116</td>\n      <td>US</td>\n      <td>ubrown@example.com</td>\n      <td>http://www.kennedy-parker.net/</td>\n      <td>940-372-6345</td>\n      <td>0.0</td>\n      <td>91594ec2-1654-490e-ba29-4305ff99e32c</td>\n      <td>Karen Branch</td>\n      <td>C-0000000008</td>\n      <td>44d57e0b-48bc-4e1b-8d9f-04b781cc607c</td>\n      <td>A cool customer description. We love customers!</td>\n      <td>True</td>\n      <td>False</td>\n      <td>{}</td>\n    </tr>\n    <tr>\n      <th>8</th>\n      <td>2023-11-13 17:38:44.690531+00:00</td>\n      <td>2023-11-13 17:38:44.690537+00:00</td>\n      <td>5039 Levi ShoalGrove</td>\n      <td>None</td>\n      <td>Butlerborough</td>\n      <td>OH</td>\n      <td>20885</td>\n      <td>US</td>\n      <td>michael91@example.com</td>\n      <td>https://jones.com/</td>\n      <td>4106464993</td>\n      <td>0.0</td>\n      <td>cfbc50a3-1b0f-4c9c-8e45-2ed23ac2e28f</td>\n      <td>Patrick Frye</td>\n      <td>C-0000000009</td>\n      <td>44d57e0b-48bc-4e1b-8d9f-04b781cc607c</td>\n      <td>A cool customer description. We love customers!</td>\n      <td>True</td>\n      <td>False</td>\n      <td>{}</td>\n    </tr>\n    <tr>\n      <th>9</th>\n      <td>2023-11-13 17:38:44.691993+00:00</td>\n      <td>2023-11-13 17:38:44.691999+00:00</td>\n      <td>4510 Moreno Passage Apt. 781Fall</td>\n      <td>0187</td>\n      <td>Hendersonland</td>\n      <td>NE</td>\n      <td>99911</td>\n      <td>US</td>\n      <td>rgraham@example.com</td>\n      <td>http://gross.com/</td>\n      <td>297-845-6754</td>\n      <td>0.0</td>\n      <td>1e262888-3241-48da-8dcd-9df51028451e</td>\n      <td>Stephanie Hebert</td>\n      <td>C-0000000010</td>\n      <td>44d57e0b-48bc-4e1b-8d9f-04b781cc607c</td>\n      <td>A cool customer description. We love customers!</td>\n      <td>True</td>\n      <td>False</td>\n      <td>{}</td>\n    </tr>\n    <tr>\n      <th>10</th>\n      <td>2023-11-13 17:38:44.693507+00:00</td>\n      <td>2023-11-13 17:38:44.693513+00:00</td>\n      <td>58938 Page Drive Suite 588Ville</td>\n      <td>272</td>\n      <td>Lake Laurenberg</td>\n      <td>MD</td>\n      <td>12775</td>\n      <td>US</td>\n      <td>jennaevans@example.net</td>\n      <td>http://delgado-miller.com/</td>\n      <td>+1-377-826-9494x4948</td>\n      <td>0.0</td>\n      <td>5da00d3e-c9ab-4ffe-a022-abb6f044c772</td>\n      <td>Pamela Harvey</td>\n      <td>C-0000000011</td>\n      <td>44d57e0b-48bc-4e1b-8d9f-04b781cc607c</td>\n      <td>A cool customer description. We love customers!</td>\n      <td>True</td>\n      <td>False</td>\n      <td>{}</td>\n    </tr>\n    <tr>\n      <th>11</th>\n      <td>2023-11-13 17:38:44.694937+00:00</td>\n      <td>2023-11-13 17:38:44.694943+00:00</td>\n      <td>441 Anderson Station Suite 366Squares</td>\n      <td>4913</td>\n      <td>Jeffreyland</td>\n      <td>PR</td>\n      <td>84440</td>\n      <td>US</td>\n      <td>wstuart@example.com</td>\n      <td>https://www.woodward.info/</td>\n      <td>572.518.5301</td>\n      <td>0.0</td>\n      <td>b51a5ef6-1c51-4115-bb07-1e6b11262a27</td>\n      <td>Johnny Jones</td>\n      <td>C-0000000012</td>\n      <td>44d57e0b-48bc-4e1b-8d9f-04b781cc607c</td>\n      <td>A cool customer description. We love customers!</td>\n      <td>True</td>\n      <td>False</td>\n      <td>{}</td>\n    </tr>\n    <tr>\n      <th>12</th>\n      <td>2023-11-13 17:38:44.696446+00:00</td>\n      <td>2023-11-13 17:38:44.696452+00:00</td>\n      <td>4685 Richard LakesHeights</td>\n      <td>None</td>\n      <td>Dawsonhaven</td>\n      <td>MA</td>\n      <td>46372</td>\n      <td>US</td>\n      <td>kanejames@example.org</td>\n      <td>https://peterson.org/</td>\n      <td>822.579.9439x347</td>\n      <td>0.0</td>\n      <td>e4ac62f7-8dea-4f99-a146-828f4acd53d2</td>\n      <td>Corey Kim</td>\n      <td>C-0000000013</td>\n      <td>44d57e0b-48bc-4e1b-8d9f-04b781cc607c</td>\n      <td>A cool customer description. We love customers!</td>\n      <td>True</td>\n      <td>False</td>\n      <td>{}</td>\n    </tr>\n    <tr>\n      <th>13</th>\n      <td>2023-11-13 17:38:44.697904+00:00</td>\n      <td>2023-11-13 17:38:44.697913+00:00</td>\n      <td>95950 Alvarez Overpass Apt. 991Harbor</td>\n      <td>8864</td>\n      <td>Michaelfurt</td>\n      <td>VI</td>\n      <td>83221</td>\n      <td>US</td>\n      <td>julie61@example.net</td>\n      <td>http://www.henderson.org/</td>\n      <td>001-899-291-1879x4650</td>\n      <td>0.0</td>\n      <td>d596ee81-318d-492b-8bcb-fbe9a77c1702</td>\n      <td>Shawn Wise</td>\n      <td>C-0000000014</td>\n      <td>44d57e0b-48bc-4e1b-8d9f-04b781cc607c</td>\n      <td>A cool customer description. We love customers!</td>\n      <td>True</td>\n      <td>False</td>\n      <td>{}</td>\n    </tr>\n    <tr>\n      <th>14</th>\n      <td>2023-11-13 17:38:44.700135+00:00</td>\n      <td>2023-11-13 17:38:44.700142+00:00</td>\n      <td>7580 Tyler Mount Apt. 125Junctions</td>\n      <td>4816</td>\n      <td>Cantuside</td>\n      <td>OH</td>\n      <td>80112</td>\n      <td>US</td>\n      <td>phudson@example.com</td>\n      <td>http://www.mcintosh.net/</td>\n      <td>(477)340-3373x194</td>\n      <td>0.0</td>\n      <td>2bdbe2fa-5802-4b3d-a0cc-f2db59881326</td>\n      <td>Erin Clay</td>\n      <td>C-0000000015</td>\n      <td>44d57e0b-48bc-4e1b-8d9f-04b781cc607c</td>\n      <td>A cool customer description. We love customers!</td>\n      <td>True</td>\n      <td>False</td>\n      <td>{}</td>\n    </tr>\n    <tr>\n      <th>15</th>\n      <td>2023-11-13 17:38:44.701602+00:00</td>\n      <td>2023-11-13 17:38:44.701608+00:00</td>\n      <td>54547 Brown CrestSummit</td>\n      <td>886</td>\n      <td>West Brittany</td>\n      <td>TX</td>\n      <td>55557</td>\n      <td>US</td>\n      <td>everettkyle@example.org</td>\n      <td>http://scott-ross.biz/</td>\n      <td>887-888-6911x02614</td>\n      <td>0.0</td>\n      <td>74f4982c-510a-4fce-a803-9be4e082f151</td>\n      <td>Nathan Schmidt</td>\n      <td>C-0000000016</td>\n      <td>44d57e0b-48bc-4e1b-8d9f-04b781cc607c</td>\n      <td>A cool customer description. We love customers!</td>\n      <td>True</td>\n      <td>False</td>\n      <td>{}</td>\n    </tr>\n    <tr>\n      <th>16</th>\n      <td>2023-11-13 17:38:44.703546+00:00</td>\n      <td>2023-11-13 17:38:44.703552+00:00</td>\n      <td>126 Foster Flat Suite 216Loaf</td>\n      <td>None</td>\n      <td>North Heather</td>\n      <td>DE</td>\n      <td>03607</td>\n      <td>US</td>\n      <td>ksanders@example.org</td>\n      <td>https://young-carter.com/</td>\n      <td>606-765-6854x343</td>\n      <td>0.0</td>\n      <td>02434ce3-a335-417d-b9ed-d069323e5e00</td>\n      <td>Monica Armstrong</td>\n      <td>C-0000000017</td>\n      <td>44d57e0b-48bc-4e1b-8d9f-04b781cc607c</td>\n      <td>A cool customer description. We love customers!</td>\n      <td>True</td>\n      <td>False</td>\n      <td>{}</td>\n    </tr>\n    <tr>\n      <th>17</th>\n      <td>2023-11-13 17:38:44.705049+00:00</td>\n      <td>2023-11-13 17:38:44.705056+00:00</td>\n      <td>900 Christian Crossing Suite 588Lodge</td>\n      <td>1084</td>\n      <td>Deanmouth</td>\n      <td>PA</td>\n      <td>64785</td>\n      <td>US</td>\n      <td>qjennings@example.net</td>\n      <td>http://www.walsh.net/</td>\n      <td>001-327-493-9255x456</td>\n      <td>0.0</td>\n      <td>991f527a-65ad-401c-b684-aa22fc9231b2</td>\n      <td>David Parker</td>\n      <td>C-0000000018</td>\n      <td>44d57e0b-48bc-4e1b-8d9f-04b781cc607c</td>\n      <td>A cool customer description. We love customers!</td>\n      <td>True</td>\n      <td>False</td>\n      <td>{}</td>\n    </tr>\n  </tbody>\n</table>\n</div>"
     },
     "execution_count": 24,
     "metadata": {},
     "output_type": "execute_result"
    }
   ],
   "source": [
    "customer_qs = entity_model.get_customers()\n",
    "pd.DataFrame(customer_qs.values())"
   ]
  },
  {
   "cell_type": "markdown",
   "metadata": {},
   "source": [
    "## Create Customers"
   ]
  },
  {
   "cell_type": "code",
   "execution_count": 25,
   "metadata": {
    "tags": [],
    "ExecuteTime": {
     "end_time": "2023-11-13T17:38:49.870087Z",
     "start_time": "2023-11-13T17:38:49.842828Z"
    }
   },
   "outputs": [],
   "source": [
    "customer_model = entity_model.create_customer(customer_model_kwargs={\n",
    "    'customer_name': 'Mr. Big',\n",
    "    'description': 'A great paying customer!',\n",
    "})"
   ]
  },
  {
   "cell_type": "markdown",
   "metadata": {},
   "source": [
    "# Vendors"
   ]
  },
  {
   "cell_type": "markdown",
   "metadata": {},
   "source": [
    "## Get Vendors"
   ]
  },
  {
   "cell_type": "code",
   "execution_count": 26,
   "metadata": {
    "tags": [],
    "ExecuteTime": {
     "end_time": "2023-11-13T17:38:50.436987Z",
     "start_time": "2023-11-13T17:38:50.408275Z"
    }
   },
   "outputs": [
    {
     "data": {
      "text/plain": "                           created                          updated  \\\n0 2023-11-13 17:38:44.673404+00:00 2023-11-13 17:38:44.673420+00:00   \n1 2023-11-13 17:38:44.673453+00:00 2023-11-13 17:38:44.673457+00:00   \n2 2023-11-13 17:38:44.673476+00:00 2023-11-13 17:38:44.673480+00:00   \n3 2023-11-13 17:38:44.673496+00:00 2023-11-13 17:38:44.673500+00:00   \n4 2023-11-13 17:38:44.673516+00:00 2023-11-13 17:38:44.673520+00:00   \n5 2023-11-13 17:38:44.673536+00:00 2023-11-13 17:38:44.673540+00:00   \n6 2023-11-13 17:38:44.673572+00:00 2023-11-13 17:38:44.673576+00:00   \n7 2023-11-13 17:38:44.673593+00:00 2023-11-13 17:38:44.673597+00:00   \n8 2023-11-13 17:38:44.673613+00:00 2023-11-13 17:38:44.673616+00:00   \n9 2023-11-13 17:38:44.673631+00:00 2023-11-13 17:38:44.673634+00:00   \n\n                        address_1 address_2                 city state  \\\n0       3714 Brown Isle Suite 265      None     Lake Nicolemouth    VI   \n1      78760 Daniel Club Apt. 355      None      Lake Oliviaview    TN   \n2            16070 Cooley Springs      None           Georgeside    LA   \n3               98138 Booth Ports      3260          Michelleton    VT   \n4                  2708 Chen Rest      8860  New Virginiaborough    CT   \n5   605 Watson Parkways Suite 053      None       New Shawnshire    AK   \n6            17420 Tracy Turnpike      None          Jessicatown    VA   \n7               89500 Hill Branch      None       West Dylanland    MT   \n8  62484 Danielle Canyon Apt. 283      None           Taylorside    WA   \n9                511 Clark Unions      None       Lake Jamesfort    MA   \n\n  zip_code country                         email  \\\n0    25263      US       thomasfrost@example.net   \n1    21147      US  thompsonjennifer@example.com   \n2    91499      US       robertchang@example.net   \n3    92327      US        carlwilson@example.net   \n4    23115      US      wilsonjudith@example.com   \n5    50146      US            tina15@example.com   \n6    33488      US           david95@example.org   \n7    11787      US     davissamantha@example.com   \n8    66535      US     garrettmclean@example.org   \n9    05065      US       pereznathan@example.org   \n\n                          website  ... account_type tax_id_number  \\\n0                http://duke.com/  ...     checking          None   \n1         http://www.hopkins.biz/  ...     checking          None   \n2  http://www.miller-jackson.com/  ...     checking          None   \n3         https://rice-smith.com/  ...     checking          None   \n4           https://trujillo.com/  ...     checking          None   \n5            https://mcclure.com/  ...     checking          None   \n6         http://www.johnson.com/  ...     checking          None   \n7       https://www.peterson.com/  ...     checking          None   \n8       https://www.thompson.com/  ...     checking          None   \n9                http://boyd.com/  ...     checking          None   \n\n                                   uuid vendor_number  \\\n0  2f1b986f-9457-4e2f-9f15-660506f881bd  V-0000000001   \n1  29f2ddb4-3b48-44cd-b5a7-394a715a0f7d  V-0000000002   \n2  eefe8979-eb21-4cd3-bfdb-c960727cd190  V-0000000003   \n3  61fd995c-26f6-4826-8c27-30fb2436bb45  V-0000000004   \n4  29d24570-8299-404b-809c-bc6f86f1a080  V-0000000005   \n5  74182bf9-39b9-41dc-88dd-f2a050d75a87  V-0000000006   \n6  8f49980e-f408-4d0d-87ef-105be0aa9719  V-0000000007   \n7  1f9894ea-c7a3-4110-8bab-d043509bc7dc  V-0000000008   \n8  0a52ef1f-ba8c-459f-8254-8113a87730b5  V-0000000009   \n9  13e8805b-6b12-4a89-966e-b44fd5deb769  V-0000000010   \n\n                 vendor_name                       entity_model_id  \\\n0                Garcia-Holt  44d57e0b-48bc-4e1b-8d9f-04b781cc607c   \n1           Wilkinson-Briggs  44d57e0b-48bc-4e1b-8d9f-04b781cc607c   \n2  Johnson, Bailey and Terry  44d57e0b-48bc-4e1b-8d9f-04b781cc607c   \n3   Simpson, Yoder and Price  44d57e0b-48bc-4e1b-8d9f-04b781cc607c   \n4               Griffin-Rose  44d57e0b-48bc-4e1b-8d9f-04b781cc607c   \n5             Hernandez-Roth  44d57e0b-48bc-4e1b-8d9f-04b781cc607c   \n6                  Adam Boyd  44d57e0b-48bc-4e1b-8d9f-04b781cc607c   \n7              Tanner Miller  44d57e0b-48bc-4e1b-8d9f-04b781cc607c   \n8             Kara Schroeder  44d57e0b-48bc-4e1b-8d9f-04b781cc607c   \n9               Munoz-Thomas  44d57e0b-48bc-4e1b-8d9f-04b781cc607c   \n\n                  description active hidden additional_info  \n0  A cool vendor description.   True  False              {}  \n1  A cool vendor description.   True  False              {}  \n2  A cool vendor description.   True  False              {}  \n3  A cool vendor description.   True  False              {}  \n4  A cool vendor description.   True  False              {}  \n5  A cool vendor description.   True  False              {}  \n6  A cool vendor description.   True  False              {}  \n7  A cool vendor description.   True  False              {}  \n8  A cool vendor description.   True  False              {}  \n9  A cool vendor description.   True  False              {}  \n\n[10 rows x 25 columns]",
      "text/html": "<div>\n<style scoped>\n    .dataframe tbody tr th:only-of-type {\n        vertical-align: middle;\n    }\n\n    .dataframe tbody tr th {\n        vertical-align: top;\n    }\n\n    .dataframe thead th {\n        text-align: right;\n    }\n</style>\n<table border=\"1\" class=\"dataframe\">\n  <thead>\n    <tr style=\"text-align: right;\">\n      <th></th>\n      <th>created</th>\n      <th>updated</th>\n      <th>address_1</th>\n      <th>address_2</th>\n      <th>city</th>\n      <th>state</th>\n      <th>zip_code</th>\n      <th>country</th>\n      <th>email</th>\n      <th>website</th>\n      <th>...</th>\n      <th>account_type</th>\n      <th>tax_id_number</th>\n      <th>uuid</th>\n      <th>vendor_number</th>\n      <th>vendor_name</th>\n      <th>entity_model_id</th>\n      <th>description</th>\n      <th>active</th>\n      <th>hidden</th>\n      <th>additional_info</th>\n    </tr>\n  </thead>\n  <tbody>\n    <tr>\n      <th>0</th>\n      <td>2023-11-13 17:38:44.673404+00:00</td>\n      <td>2023-11-13 17:38:44.673420+00:00</td>\n      <td>3714 Brown Isle Suite 265</td>\n      <td>None</td>\n      <td>Lake Nicolemouth</td>\n      <td>VI</td>\n      <td>25263</td>\n      <td>US</td>\n      <td>thomasfrost@example.net</td>\n      <td>http://duke.com/</td>\n      <td>...</td>\n      <td>checking</td>\n      <td>None</td>\n      <td>2f1b986f-9457-4e2f-9f15-660506f881bd</td>\n      <td>V-0000000001</td>\n      <td>Garcia-Holt</td>\n      <td>44d57e0b-48bc-4e1b-8d9f-04b781cc607c</td>\n      <td>A cool vendor description.</td>\n      <td>True</td>\n      <td>False</td>\n      <td>{}</td>\n    </tr>\n    <tr>\n      <th>1</th>\n      <td>2023-11-13 17:38:44.673453+00:00</td>\n      <td>2023-11-13 17:38:44.673457+00:00</td>\n      <td>78760 Daniel Club Apt. 355</td>\n      <td>None</td>\n      <td>Lake Oliviaview</td>\n      <td>TN</td>\n      <td>21147</td>\n      <td>US</td>\n      <td>thompsonjennifer@example.com</td>\n      <td>http://www.hopkins.biz/</td>\n      <td>...</td>\n      <td>checking</td>\n      <td>None</td>\n      <td>29f2ddb4-3b48-44cd-b5a7-394a715a0f7d</td>\n      <td>V-0000000002</td>\n      <td>Wilkinson-Briggs</td>\n      <td>44d57e0b-48bc-4e1b-8d9f-04b781cc607c</td>\n      <td>A cool vendor description.</td>\n      <td>True</td>\n      <td>False</td>\n      <td>{}</td>\n    </tr>\n    <tr>\n      <th>2</th>\n      <td>2023-11-13 17:38:44.673476+00:00</td>\n      <td>2023-11-13 17:38:44.673480+00:00</td>\n      <td>16070 Cooley Springs</td>\n      <td>None</td>\n      <td>Georgeside</td>\n      <td>LA</td>\n      <td>91499</td>\n      <td>US</td>\n      <td>robertchang@example.net</td>\n      <td>http://www.miller-jackson.com/</td>\n      <td>...</td>\n      <td>checking</td>\n      <td>None</td>\n      <td>eefe8979-eb21-4cd3-bfdb-c960727cd190</td>\n      <td>V-0000000003</td>\n      <td>Johnson, Bailey and Terry</td>\n      <td>44d57e0b-48bc-4e1b-8d9f-04b781cc607c</td>\n      <td>A cool vendor description.</td>\n      <td>True</td>\n      <td>False</td>\n      <td>{}</td>\n    </tr>\n    <tr>\n      <th>3</th>\n      <td>2023-11-13 17:38:44.673496+00:00</td>\n      <td>2023-11-13 17:38:44.673500+00:00</td>\n      <td>98138 Booth Ports</td>\n      <td>3260</td>\n      <td>Michelleton</td>\n      <td>VT</td>\n      <td>92327</td>\n      <td>US</td>\n      <td>carlwilson@example.net</td>\n      <td>https://rice-smith.com/</td>\n      <td>...</td>\n      <td>checking</td>\n      <td>None</td>\n      <td>61fd995c-26f6-4826-8c27-30fb2436bb45</td>\n      <td>V-0000000004</td>\n      <td>Simpson, Yoder and Price</td>\n      <td>44d57e0b-48bc-4e1b-8d9f-04b781cc607c</td>\n      <td>A cool vendor description.</td>\n      <td>True</td>\n      <td>False</td>\n      <td>{}</td>\n    </tr>\n    <tr>\n      <th>4</th>\n      <td>2023-11-13 17:38:44.673516+00:00</td>\n      <td>2023-11-13 17:38:44.673520+00:00</td>\n      <td>2708 Chen Rest</td>\n      <td>8860</td>\n      <td>New Virginiaborough</td>\n      <td>CT</td>\n      <td>23115</td>\n      <td>US</td>\n      <td>wilsonjudith@example.com</td>\n      <td>https://trujillo.com/</td>\n      <td>...</td>\n      <td>checking</td>\n      <td>None</td>\n      <td>29d24570-8299-404b-809c-bc6f86f1a080</td>\n      <td>V-0000000005</td>\n      <td>Griffin-Rose</td>\n      <td>44d57e0b-48bc-4e1b-8d9f-04b781cc607c</td>\n      <td>A cool vendor description.</td>\n      <td>True</td>\n      <td>False</td>\n      <td>{}</td>\n    </tr>\n    <tr>\n      <th>5</th>\n      <td>2023-11-13 17:38:44.673536+00:00</td>\n      <td>2023-11-13 17:38:44.673540+00:00</td>\n      <td>605 Watson Parkways Suite 053</td>\n      <td>None</td>\n      <td>New Shawnshire</td>\n      <td>AK</td>\n      <td>50146</td>\n      <td>US</td>\n      <td>tina15@example.com</td>\n      <td>https://mcclure.com/</td>\n      <td>...</td>\n      <td>checking</td>\n      <td>None</td>\n      <td>74182bf9-39b9-41dc-88dd-f2a050d75a87</td>\n      <td>V-0000000006</td>\n      <td>Hernandez-Roth</td>\n      <td>44d57e0b-48bc-4e1b-8d9f-04b781cc607c</td>\n      <td>A cool vendor description.</td>\n      <td>True</td>\n      <td>False</td>\n      <td>{}</td>\n    </tr>\n    <tr>\n      <th>6</th>\n      <td>2023-11-13 17:38:44.673572+00:00</td>\n      <td>2023-11-13 17:38:44.673576+00:00</td>\n      <td>17420 Tracy Turnpike</td>\n      <td>None</td>\n      <td>Jessicatown</td>\n      <td>VA</td>\n      <td>33488</td>\n      <td>US</td>\n      <td>david95@example.org</td>\n      <td>http://www.johnson.com/</td>\n      <td>...</td>\n      <td>checking</td>\n      <td>None</td>\n      <td>8f49980e-f408-4d0d-87ef-105be0aa9719</td>\n      <td>V-0000000007</td>\n      <td>Adam Boyd</td>\n      <td>44d57e0b-48bc-4e1b-8d9f-04b781cc607c</td>\n      <td>A cool vendor description.</td>\n      <td>True</td>\n      <td>False</td>\n      <td>{}</td>\n    </tr>\n    <tr>\n      <th>7</th>\n      <td>2023-11-13 17:38:44.673593+00:00</td>\n      <td>2023-11-13 17:38:44.673597+00:00</td>\n      <td>89500 Hill Branch</td>\n      <td>None</td>\n      <td>West Dylanland</td>\n      <td>MT</td>\n      <td>11787</td>\n      <td>US</td>\n      <td>davissamantha@example.com</td>\n      <td>https://www.peterson.com/</td>\n      <td>...</td>\n      <td>checking</td>\n      <td>None</td>\n      <td>1f9894ea-c7a3-4110-8bab-d043509bc7dc</td>\n      <td>V-0000000008</td>\n      <td>Tanner Miller</td>\n      <td>44d57e0b-48bc-4e1b-8d9f-04b781cc607c</td>\n      <td>A cool vendor description.</td>\n      <td>True</td>\n      <td>False</td>\n      <td>{}</td>\n    </tr>\n    <tr>\n      <th>8</th>\n      <td>2023-11-13 17:38:44.673613+00:00</td>\n      <td>2023-11-13 17:38:44.673616+00:00</td>\n      <td>62484 Danielle Canyon Apt. 283</td>\n      <td>None</td>\n      <td>Taylorside</td>\n      <td>WA</td>\n      <td>66535</td>\n      <td>US</td>\n      <td>garrettmclean@example.org</td>\n      <td>https://www.thompson.com/</td>\n      <td>...</td>\n      <td>checking</td>\n      <td>None</td>\n      <td>0a52ef1f-ba8c-459f-8254-8113a87730b5</td>\n      <td>V-0000000009</td>\n      <td>Kara Schroeder</td>\n      <td>44d57e0b-48bc-4e1b-8d9f-04b781cc607c</td>\n      <td>A cool vendor description.</td>\n      <td>True</td>\n      <td>False</td>\n      <td>{}</td>\n    </tr>\n    <tr>\n      <th>9</th>\n      <td>2023-11-13 17:38:44.673631+00:00</td>\n      <td>2023-11-13 17:38:44.673634+00:00</td>\n      <td>511 Clark Unions</td>\n      <td>None</td>\n      <td>Lake Jamesfort</td>\n      <td>MA</td>\n      <td>05065</td>\n      <td>US</td>\n      <td>pereznathan@example.org</td>\n      <td>http://boyd.com/</td>\n      <td>...</td>\n      <td>checking</td>\n      <td>None</td>\n      <td>13e8805b-6b12-4a89-966e-b44fd5deb769</td>\n      <td>V-0000000010</td>\n      <td>Munoz-Thomas</td>\n      <td>44d57e0b-48bc-4e1b-8d9f-04b781cc607c</td>\n      <td>A cool vendor description.</td>\n      <td>True</td>\n      <td>False</td>\n      <td>{}</td>\n    </tr>\n  </tbody>\n</table>\n<p>10 rows × 25 columns</p>\n</div>"
     },
     "execution_count": 26,
     "metadata": {},
     "output_type": "execute_result"
    }
   ],
   "source": [
    "vendor_qs = entity_model.get_vendors()\n",
    "pd.DataFrame(vendor_qs.values())"
   ]
  },
  {
   "cell_type": "markdown",
   "metadata": {},
   "source": [
    "## Create Vendor"
   ]
  },
  {
   "cell_type": "code",
   "execution_count": 27,
   "metadata": {
    "tags": [],
    "ExecuteTime": {
     "end_time": "2023-11-13T17:38:50.834893Z",
     "start_time": "2023-11-13T17:38:50.805449Z"
    }
   },
   "outputs": [],
   "source": [
    "vendor_model = entity_model.create_vendor(vendor_model_kwargs={\n",
    "    'vendor_name': 'ACME LLC',\n",
    "    'description': 'A Reliable Vendor!'\n",
    "})"
   ]
  },
  {
   "cell_type": "markdown",
   "metadata": {},
   "source": [
    "# Invoices"
   ]
  },
  {
   "cell_type": "markdown",
   "metadata": {},
   "source": [
    "## Get Invoices"
   ]
  },
  {
   "cell_type": "code",
   "execution_count": 28,
   "metadata": {
    "tags": [],
    "ExecuteTime": {
     "end_time": "2023-11-13T17:38:51.436559Z",
     "start_time": "2023-11-13T17:38:51.390950Z"
    }
   },
   "outputs": [
    {
     "data": {
      "text/plain": "                            created                          updated  \\\n0  2023-11-13 17:38:47.777142+00:00 2023-11-13 17:38:47.783719+00:00   \n1  2023-11-13 17:38:47.766057+00:00 2023-11-13 17:38:47.773837+00:00   \n2  2023-11-13 17:38:47.712394+00:00 2023-11-13 17:38:47.726722+00:00   \n3  2023-11-13 17:38:47.700360+00:00 2023-11-13 17:38:47.709055+00:00   \n4  2023-11-13 17:38:47.671054+00:00 2023-11-13 17:38:47.678512+00:00   \n5  2023-11-13 17:38:47.658698+00:00 2023-11-13 17:38:47.667152+00:00   \n6  2023-11-13 17:38:47.593969+00:00 2023-11-13 17:38:47.611982+00:00   \n7  2023-11-13 17:38:47.580196+00:00 2023-11-13 17:38:47.590320+00:00   \n8  2023-11-13 17:38:47.566471+00:00 2023-11-13 17:38:47.576600+00:00   \n9  2023-11-13 17:38:47.499200+00:00 2023-11-13 17:38:47.522744+00:00   \n10 2023-11-13 17:38:47.433534+00:00 2023-11-13 17:38:47.453413+00:00   \n11 2023-11-13 17:38:47.422340+00:00 2023-11-13 17:38:47.430125+00:00   \n12 2023-11-13 17:38:47.353385+00:00 2023-11-13 17:38:47.375524+00:00   \n13 2023-11-13 17:38:47.342577+00:00 2023-11-13 17:38:47.350256+00:00   \n14 2023-11-13 17:38:47.331242+00:00 2023-11-13 17:38:47.338855+00:00   \n15 2023-11-13 17:38:47.225986+00:00 2023-11-13 17:38:47.267941+00:00   \n16 2023-11-13 17:38:47.167998+00:00 2023-11-13 17:38:47.184164+00:00   \n17 2023-11-13 17:38:47.157190+00:00 2023-11-13 17:38:47.164987+00:00   \n18 2023-11-13 17:38:47.146828+00:00 2023-11-13 17:38:47.153782+00:00   \n19 2023-11-13 17:38:47.082507+00:00 2023-11-13 17:38:47.104151+00:00   \n20 2023-11-13 17:38:47.069339+00:00 2023-11-13 17:38:47.078648+00:00   \n21 2023-11-13 17:38:47.060217+00:00 2023-11-13 17:38:47.065052+00:00   \n22 2023-11-13 17:38:47.046188+00:00 2023-11-13 17:38:47.056043+00:00   \n23 2023-11-13 17:38:47.029971+00:00 2023-11-13 17:38:47.042117+00:00   \n24 2023-11-13 17:38:46.957212+00:00 2023-11-13 17:38:46.983203+00:00   \n\n   amount_due amount_paid amount_receivable amount_unearned amount_earned  \\\n0      627.83        0.00              0.00            0.00          0.00   \n1       45.90        0.00              0.00            0.00          0.00   \n2      543.80      543.80              0.00            0.00        543.80   \n3     2466.11        0.00              0.00            0.00          0.00   \n4     1387.02        0.00           1387.02            0.00       1387.02   \n5        6.74        0.00              0.00            0.00          0.00   \n6     1574.04     1574.04              0.00            0.00       1574.04   \n7     7512.08        0.00              0.00            0.00          0.00   \n8     2227.07        0.00              0.00            0.00          0.00   \n9     3899.67     3899.67              0.00            0.00       3899.67   \n10    4646.56     4646.56              0.00            0.00       4646.56   \n11    2878.97        0.00              0.00            0.00          0.00   \n12    3202.75     3202.75              0.00            0.00       3202.75   \n13    5391.80        0.00              0.00            0.00          0.00   \n14    1292.70        0.00              0.00            0.00          0.00   \n15    6566.89     6566.89              0.00            0.00       6566.89   \n16    8048.25     8048.25              0.00            0.00       8048.25   \n17    4470.93        0.00              0.00            0.00          0.00   \n18    1541.10        0.00              0.00            0.00          0.00   \n19     206.85      206.85              0.00            0.00        206.85   \n20    3665.74        0.00              0.00            0.00          0.00   \n21     284.09        0.00              0.00            0.00          0.00   \n22   11130.69        0.00              0.00            0.00          0.00   \n23    4672.92        0.00              0.00            0.00          0.00   \n24    3595.65     3595.65              0.00            0.00       3595.65   \n\n    accrue progress                             ledger_id  ...  \\\n0     True     0.00  0b60c048-9bd1-4c4f-a42a-b6c0e546ea86  ...   \n1     True     0.00  1a245dfe-6210-4368-af0b-3fcfe2ccba0b  ...   \n2     True     1.00  ca841cd3-7e03-4fc3-a832-c8a02bf8ef46  ...   \n3     True     0.00  489bcbf1-aac0-4d6b-b348-5a9bc58fd067  ...   \n4     True     1.00  2c9639a9-5267-425b-908e-ab8e66ae9b36  ...   \n5     True     0.00  0b05e3b5-339a-4d66-ace2-8fe94583aa1e  ...   \n6     True     1.00  6fee0ef6-f10c-4567-8fd0-577c13fe4c2e  ...   \n7     True     0.00  f27bb075-f789-4a2d-adb6-21d3ec78ffe8  ...   \n8     True     0.00  cef4bd3f-4d4e-4ee3-a542-2e522e8a699b  ...   \n9     True     1.00  392cfd4b-33be-4d8d-adfb-0ca47a2d6d01  ...   \n10    True     1.00  8dc7de0e-c0b9-4d6a-9884-a62fa4312034  ...   \n11    True     0.00  4c9d7396-d523-4bcc-b62b-c27b2e40d28f  ...   \n12    True     1.00  d1bc6754-f8ad-4c8b-b0a8-1f280bad7cc3  ...   \n13    True     0.00  578f19dd-533d-4f2e-977a-35dcf844f8c3  ...   \n14    True     0.00  fca01df0-aa1c-43cb-82d6-12dc12facd2d  ...   \n15    True     1.00  95a4e9a1-49ad-4fdd-a0e1-f183457a5a6d  ...   \n16    True     1.00  b316ace5-5567-49dc-a18e-201d95355df1  ...   \n17    True     0.00  e30565fb-167e-447a-a5c1-dd522b450478  ...   \n18    True     0.00  538ac671-940f-444b-bbe5-4675ea891e08  ...   \n19    True     1.00  16ac1571-8555-468a-9f04-dd0fc58525b7  ...   \n20    True     0.00  512996a7-1332-467e-a57e-f10f4ed77b89  ...   \n21    True     0.00  6f637f90-a9f2-4b74-90c4-7d037aa65dd0  ...   \n22    True     0.00  ee459dec-b2f3-46b4-a685-7a9129f153ba  ...   \n23    True     0.00  7a59a89d-320d-4c9b-b289-a90a780e8468  ...   \n24    True     1.00  29f780d7-1529-4fc1-aa2e-d08a2fdd734e  ...   \n\n                      prepaid_account_id  \\\n0   f6de4cef-abfa-416d-b115-42eab4290a4b   \n1   f6de4cef-abfa-416d-b115-42eab4290a4b   \n2   f6de4cef-abfa-416d-b115-42eab4290a4b   \n3   f6de4cef-abfa-416d-b115-42eab4290a4b   \n4   f6de4cef-abfa-416d-b115-42eab4290a4b   \n5   f6de4cef-abfa-416d-b115-42eab4290a4b   \n6   f6de4cef-abfa-416d-b115-42eab4290a4b   \n7   f6de4cef-abfa-416d-b115-42eab4290a4b   \n8   f6de4cef-abfa-416d-b115-42eab4290a4b   \n9   f6de4cef-abfa-416d-b115-42eab4290a4b   \n10  f6de4cef-abfa-416d-b115-42eab4290a4b   \n11  f6de4cef-abfa-416d-b115-42eab4290a4b   \n12  f6de4cef-abfa-416d-b115-42eab4290a4b   \n13  f6de4cef-abfa-416d-b115-42eab4290a4b   \n14  f6de4cef-abfa-416d-b115-42eab4290a4b   \n15  f6de4cef-abfa-416d-b115-42eab4290a4b   \n16  f6de4cef-abfa-416d-b115-42eab4290a4b   \n17  f6de4cef-abfa-416d-b115-42eab4290a4b   \n18  f6de4cef-abfa-416d-b115-42eab4290a4b   \n19  f6de4cef-abfa-416d-b115-42eab4290a4b   \n20  f6de4cef-abfa-416d-b115-42eab4290a4b   \n21  f6de4cef-abfa-416d-b115-42eab4290a4b   \n22  f6de4cef-abfa-416d-b115-42eab4290a4b   \n23  f6de4cef-abfa-416d-b115-42eab4290a4b   \n24  f6de4cef-abfa-416d-b115-42eab4290a4b   \n\n                     unearned_account_id additional_info ce_model_id  \\\n0   3a4b3db9-eede-47da-8107-f7efd1dd27af              {}        None   \n1   3a4b3db9-eede-47da-8107-f7efd1dd27af              {}        None   \n2   3a4b3db9-eede-47da-8107-f7efd1dd27af              {}        None   \n3   3a4b3db9-eede-47da-8107-f7efd1dd27af              {}        None   \n4   3a4b3db9-eede-47da-8107-f7efd1dd27af              {}        None   \n5   3a4b3db9-eede-47da-8107-f7efd1dd27af              {}        None   \n6   3a4b3db9-eede-47da-8107-f7efd1dd27af              {}        None   \n7   3a4b3db9-eede-47da-8107-f7efd1dd27af              {}        None   \n8   3a4b3db9-eede-47da-8107-f7efd1dd27af              {}        None   \n9   3a4b3db9-eede-47da-8107-f7efd1dd27af              {}        None   \n10  3a4b3db9-eede-47da-8107-f7efd1dd27af              {}        None   \n11  3a4b3db9-eede-47da-8107-f7efd1dd27af              {}        None   \n12  3a4b3db9-eede-47da-8107-f7efd1dd27af              {}        None   \n13  3a4b3db9-eede-47da-8107-f7efd1dd27af              {}        None   \n14  3a4b3db9-eede-47da-8107-f7efd1dd27af              {}        None   \n15  3a4b3db9-eede-47da-8107-f7efd1dd27af              {}        None   \n16  3a4b3db9-eede-47da-8107-f7efd1dd27af              {}        None   \n17  3a4b3db9-eede-47da-8107-f7efd1dd27af              {}        None   \n18  3a4b3db9-eede-47da-8107-f7efd1dd27af              {}        None   \n19  3a4b3db9-eede-47da-8107-f7efd1dd27af              {}        None   \n20  3a4b3db9-eede-47da-8107-f7efd1dd27af              {}        None   \n21  3a4b3db9-eede-47da-8107-f7efd1dd27af              {}        None   \n22  3a4b3db9-eede-47da-8107-f7efd1dd27af              {}        None   \n23  3a4b3db9-eede-47da-8107-f7efd1dd27af              {}        None   \n24  3a4b3db9-eede-47da-8107-f7efd1dd27af              {}        None   \n\n    date_draft date_in_review date_approved   date_paid date_void  \\\n0   2023-03-07     2023-03-11          None        None      None   \n1   2022-10-11     2022-10-19          None        None      None   \n2   2023-03-04     2023-03-05    2023-03-07  2023-03-15      None   \n3   2023-02-18     2023-02-22          None        None      None   \n4   2023-03-21     2023-03-28    2023-03-30        None      None   \n5   2023-02-03           None          None        None      None   \n6   2023-01-26     2023-01-30    2023-02-05  2023-02-10      None   \n7   2022-11-18           None          None        None      None   \n8   2023-01-26     2023-02-01          None        None      None   \n9   2022-11-27     2022-11-28    2022-12-01  2022-12-04      None   \n10  2022-10-25     2022-11-02    2022-11-08  2022-11-10      None   \n11  2022-12-21           None          None        None      None   \n12  2022-10-30     2022-11-05    2022-11-11  2022-11-12      None   \n13  2022-11-19     2022-11-21          None        None      None   \n14  2023-03-25           None          None        None      None   \n15  2023-02-18     2023-02-26    2023-03-05  2023-03-10      None   \n16  2023-01-22     2023-01-26    2023-01-30  2023-02-02      None   \n17  2022-12-23     2022-12-28          None        None      None   \n18  2023-01-24           None          None        None      None   \n19  2022-12-19     2022-12-24    2022-12-31  2023-01-04      None   \n20  2023-01-25     2023-01-26          None        None      None   \n21  2022-12-12           None          None        None      None   \n22  2023-02-10           None          None        None      None   \n23  2022-11-22     2022-11-26          None        None      None   \n24  2023-03-28     2023-04-05    2023-04-12  2023-04-18      None   \n\n   date_canceled  \n0           None  \n1           None  \n2           None  \n3     2023-02-26  \n4           None  \n5           None  \n6           None  \n7           None  \n8     2023-02-07  \n9           None  \n10          None  \n11          None  \n12          None  \n13          None  \n14          None  \n15          None  \n16          None  \n17          None  \n18          None  \n19          None  \n20          None  \n21          None  \n22          None  \n23    2022-12-01  \n24          None  \n\n[25 rows x 28 columns]",
      "text/html": "<div>\n<style scoped>\n    .dataframe tbody tr th:only-of-type {\n        vertical-align: middle;\n    }\n\n    .dataframe tbody tr th {\n        vertical-align: top;\n    }\n\n    .dataframe thead th {\n        text-align: right;\n    }\n</style>\n<table border=\"1\" class=\"dataframe\">\n  <thead>\n    <tr style=\"text-align: right;\">\n      <th></th>\n      <th>created</th>\n      <th>updated</th>\n      <th>amount_due</th>\n      <th>amount_paid</th>\n      <th>amount_receivable</th>\n      <th>amount_unearned</th>\n      <th>amount_earned</th>\n      <th>accrue</th>\n      <th>progress</th>\n      <th>ledger_id</th>\n      <th>...</th>\n      <th>prepaid_account_id</th>\n      <th>unearned_account_id</th>\n      <th>additional_info</th>\n      <th>ce_model_id</th>\n      <th>date_draft</th>\n      <th>date_in_review</th>\n      <th>date_approved</th>\n      <th>date_paid</th>\n      <th>date_void</th>\n      <th>date_canceled</th>\n    </tr>\n  </thead>\n  <tbody>\n    <tr>\n      <th>0</th>\n      <td>2023-11-13 17:38:47.777142+00:00</td>\n      <td>2023-11-13 17:38:47.783719+00:00</td>\n      <td>627.83</td>\n      <td>0.00</td>\n      <td>0.00</td>\n      <td>0.00</td>\n      <td>0.00</td>\n      <td>True</td>\n      <td>0.00</td>\n      <td>0b60c048-9bd1-4c4f-a42a-b6c0e546ea86</td>\n      <td>...</td>\n      <td>f6de4cef-abfa-416d-b115-42eab4290a4b</td>\n      <td>3a4b3db9-eede-47da-8107-f7efd1dd27af</td>\n      <td>{}</td>\n      <td>None</td>\n      <td>2023-03-07</td>\n      <td>2023-03-11</td>\n      <td>None</td>\n      <td>None</td>\n      <td>None</td>\n      <td>None</td>\n    </tr>\n    <tr>\n      <th>1</th>\n      <td>2023-11-13 17:38:47.766057+00:00</td>\n      <td>2023-11-13 17:38:47.773837+00:00</td>\n      <td>45.90</td>\n      <td>0.00</td>\n      <td>0.00</td>\n      <td>0.00</td>\n      <td>0.00</td>\n      <td>True</td>\n      <td>0.00</td>\n      <td>1a245dfe-6210-4368-af0b-3fcfe2ccba0b</td>\n      <td>...</td>\n      <td>f6de4cef-abfa-416d-b115-42eab4290a4b</td>\n      <td>3a4b3db9-eede-47da-8107-f7efd1dd27af</td>\n      <td>{}</td>\n      <td>None</td>\n      <td>2022-10-11</td>\n      <td>2022-10-19</td>\n      <td>None</td>\n      <td>None</td>\n      <td>None</td>\n      <td>None</td>\n    </tr>\n    <tr>\n      <th>2</th>\n      <td>2023-11-13 17:38:47.712394+00:00</td>\n      <td>2023-11-13 17:38:47.726722+00:00</td>\n      <td>543.80</td>\n      <td>543.80</td>\n      <td>0.00</td>\n      <td>0.00</td>\n      <td>543.80</td>\n      <td>True</td>\n      <td>1.00</td>\n      <td>ca841cd3-7e03-4fc3-a832-c8a02bf8ef46</td>\n      <td>...</td>\n      <td>f6de4cef-abfa-416d-b115-42eab4290a4b</td>\n      <td>3a4b3db9-eede-47da-8107-f7efd1dd27af</td>\n      <td>{}</td>\n      <td>None</td>\n      <td>2023-03-04</td>\n      <td>2023-03-05</td>\n      <td>2023-03-07</td>\n      <td>2023-03-15</td>\n      <td>None</td>\n      <td>None</td>\n    </tr>\n    <tr>\n      <th>3</th>\n      <td>2023-11-13 17:38:47.700360+00:00</td>\n      <td>2023-11-13 17:38:47.709055+00:00</td>\n      <td>2466.11</td>\n      <td>0.00</td>\n      <td>0.00</td>\n      <td>0.00</td>\n      <td>0.00</td>\n      <td>True</td>\n      <td>0.00</td>\n      <td>489bcbf1-aac0-4d6b-b348-5a9bc58fd067</td>\n      <td>...</td>\n      <td>f6de4cef-abfa-416d-b115-42eab4290a4b</td>\n      <td>3a4b3db9-eede-47da-8107-f7efd1dd27af</td>\n      <td>{}</td>\n      <td>None</td>\n      <td>2023-02-18</td>\n      <td>2023-02-22</td>\n      <td>None</td>\n      <td>None</td>\n      <td>None</td>\n      <td>2023-02-26</td>\n    </tr>\n    <tr>\n      <th>4</th>\n      <td>2023-11-13 17:38:47.671054+00:00</td>\n      <td>2023-11-13 17:38:47.678512+00:00</td>\n      <td>1387.02</td>\n      <td>0.00</td>\n      <td>1387.02</td>\n      <td>0.00</td>\n      <td>1387.02</td>\n      <td>True</td>\n      <td>1.00</td>\n      <td>2c9639a9-5267-425b-908e-ab8e66ae9b36</td>\n      <td>...</td>\n      <td>f6de4cef-abfa-416d-b115-42eab4290a4b</td>\n      <td>3a4b3db9-eede-47da-8107-f7efd1dd27af</td>\n      <td>{}</td>\n      <td>None</td>\n      <td>2023-03-21</td>\n      <td>2023-03-28</td>\n      <td>2023-03-30</td>\n      <td>None</td>\n      <td>None</td>\n      <td>None</td>\n    </tr>\n    <tr>\n      <th>5</th>\n      <td>2023-11-13 17:38:47.658698+00:00</td>\n      <td>2023-11-13 17:38:47.667152+00:00</td>\n      <td>6.74</td>\n      <td>0.00</td>\n      <td>0.00</td>\n      <td>0.00</td>\n      <td>0.00</td>\n      <td>True</td>\n      <td>0.00</td>\n      <td>0b05e3b5-339a-4d66-ace2-8fe94583aa1e</td>\n      <td>...</td>\n      <td>f6de4cef-abfa-416d-b115-42eab4290a4b</td>\n      <td>3a4b3db9-eede-47da-8107-f7efd1dd27af</td>\n      <td>{}</td>\n      <td>None</td>\n      <td>2023-02-03</td>\n      <td>None</td>\n      <td>None</td>\n      <td>None</td>\n      <td>None</td>\n      <td>None</td>\n    </tr>\n    <tr>\n      <th>6</th>\n      <td>2023-11-13 17:38:47.593969+00:00</td>\n      <td>2023-11-13 17:38:47.611982+00:00</td>\n      <td>1574.04</td>\n      <td>1574.04</td>\n      <td>0.00</td>\n      <td>0.00</td>\n      <td>1574.04</td>\n      <td>True</td>\n      <td>1.00</td>\n      <td>6fee0ef6-f10c-4567-8fd0-577c13fe4c2e</td>\n      <td>...</td>\n      <td>f6de4cef-abfa-416d-b115-42eab4290a4b</td>\n      <td>3a4b3db9-eede-47da-8107-f7efd1dd27af</td>\n      <td>{}</td>\n      <td>None</td>\n      <td>2023-01-26</td>\n      <td>2023-01-30</td>\n      <td>2023-02-05</td>\n      <td>2023-02-10</td>\n      <td>None</td>\n      <td>None</td>\n    </tr>\n    <tr>\n      <th>7</th>\n      <td>2023-11-13 17:38:47.580196+00:00</td>\n      <td>2023-11-13 17:38:47.590320+00:00</td>\n      <td>7512.08</td>\n      <td>0.00</td>\n      <td>0.00</td>\n      <td>0.00</td>\n      <td>0.00</td>\n      <td>True</td>\n      <td>0.00</td>\n      <td>f27bb075-f789-4a2d-adb6-21d3ec78ffe8</td>\n      <td>...</td>\n      <td>f6de4cef-abfa-416d-b115-42eab4290a4b</td>\n      <td>3a4b3db9-eede-47da-8107-f7efd1dd27af</td>\n      <td>{}</td>\n      <td>None</td>\n      <td>2022-11-18</td>\n      <td>None</td>\n      <td>None</td>\n      <td>None</td>\n      <td>None</td>\n      <td>None</td>\n    </tr>\n    <tr>\n      <th>8</th>\n      <td>2023-11-13 17:38:47.566471+00:00</td>\n      <td>2023-11-13 17:38:47.576600+00:00</td>\n      <td>2227.07</td>\n      <td>0.00</td>\n      <td>0.00</td>\n      <td>0.00</td>\n      <td>0.00</td>\n      <td>True</td>\n      <td>0.00</td>\n      <td>cef4bd3f-4d4e-4ee3-a542-2e522e8a699b</td>\n      <td>...</td>\n      <td>f6de4cef-abfa-416d-b115-42eab4290a4b</td>\n      <td>3a4b3db9-eede-47da-8107-f7efd1dd27af</td>\n      <td>{}</td>\n      <td>None</td>\n      <td>2023-01-26</td>\n      <td>2023-02-01</td>\n      <td>None</td>\n      <td>None</td>\n      <td>None</td>\n      <td>2023-02-07</td>\n    </tr>\n    <tr>\n      <th>9</th>\n      <td>2023-11-13 17:38:47.499200+00:00</td>\n      <td>2023-11-13 17:38:47.522744+00:00</td>\n      <td>3899.67</td>\n      <td>3899.67</td>\n      <td>0.00</td>\n      <td>0.00</td>\n      <td>3899.67</td>\n      <td>True</td>\n      <td>1.00</td>\n      <td>392cfd4b-33be-4d8d-adfb-0ca47a2d6d01</td>\n      <td>...</td>\n      <td>f6de4cef-abfa-416d-b115-42eab4290a4b</td>\n      <td>3a4b3db9-eede-47da-8107-f7efd1dd27af</td>\n      <td>{}</td>\n      <td>None</td>\n      <td>2022-11-27</td>\n      <td>2022-11-28</td>\n      <td>2022-12-01</td>\n      <td>2022-12-04</td>\n      <td>None</td>\n      <td>None</td>\n    </tr>\n    <tr>\n      <th>10</th>\n      <td>2023-11-13 17:38:47.433534+00:00</td>\n      <td>2023-11-13 17:38:47.453413+00:00</td>\n      <td>4646.56</td>\n      <td>4646.56</td>\n      <td>0.00</td>\n      <td>0.00</td>\n      <td>4646.56</td>\n      <td>True</td>\n      <td>1.00</td>\n      <td>8dc7de0e-c0b9-4d6a-9884-a62fa4312034</td>\n      <td>...</td>\n      <td>f6de4cef-abfa-416d-b115-42eab4290a4b</td>\n      <td>3a4b3db9-eede-47da-8107-f7efd1dd27af</td>\n      <td>{}</td>\n      <td>None</td>\n      <td>2022-10-25</td>\n      <td>2022-11-02</td>\n      <td>2022-11-08</td>\n      <td>2022-11-10</td>\n      <td>None</td>\n      <td>None</td>\n    </tr>\n    <tr>\n      <th>11</th>\n      <td>2023-11-13 17:38:47.422340+00:00</td>\n      <td>2023-11-13 17:38:47.430125+00:00</td>\n      <td>2878.97</td>\n      <td>0.00</td>\n      <td>0.00</td>\n      <td>0.00</td>\n      <td>0.00</td>\n      <td>True</td>\n      <td>0.00</td>\n      <td>4c9d7396-d523-4bcc-b62b-c27b2e40d28f</td>\n      <td>...</td>\n      <td>f6de4cef-abfa-416d-b115-42eab4290a4b</td>\n      <td>3a4b3db9-eede-47da-8107-f7efd1dd27af</td>\n      <td>{}</td>\n      <td>None</td>\n      <td>2022-12-21</td>\n      <td>None</td>\n      <td>None</td>\n      <td>None</td>\n      <td>None</td>\n      <td>None</td>\n    </tr>\n    <tr>\n      <th>12</th>\n      <td>2023-11-13 17:38:47.353385+00:00</td>\n      <td>2023-11-13 17:38:47.375524+00:00</td>\n      <td>3202.75</td>\n      <td>3202.75</td>\n      <td>0.00</td>\n      <td>0.00</td>\n      <td>3202.75</td>\n      <td>True</td>\n      <td>1.00</td>\n      <td>d1bc6754-f8ad-4c8b-b0a8-1f280bad7cc3</td>\n      <td>...</td>\n      <td>f6de4cef-abfa-416d-b115-42eab4290a4b</td>\n      <td>3a4b3db9-eede-47da-8107-f7efd1dd27af</td>\n      <td>{}</td>\n      <td>None</td>\n      <td>2022-10-30</td>\n      <td>2022-11-05</td>\n      <td>2022-11-11</td>\n      <td>2022-11-12</td>\n      <td>None</td>\n      <td>None</td>\n    </tr>\n    <tr>\n      <th>13</th>\n      <td>2023-11-13 17:38:47.342577+00:00</td>\n      <td>2023-11-13 17:38:47.350256+00:00</td>\n      <td>5391.80</td>\n      <td>0.00</td>\n      <td>0.00</td>\n      <td>0.00</td>\n      <td>0.00</td>\n      <td>True</td>\n      <td>0.00</td>\n      <td>578f19dd-533d-4f2e-977a-35dcf844f8c3</td>\n      <td>...</td>\n      <td>f6de4cef-abfa-416d-b115-42eab4290a4b</td>\n      <td>3a4b3db9-eede-47da-8107-f7efd1dd27af</td>\n      <td>{}</td>\n      <td>None</td>\n      <td>2022-11-19</td>\n      <td>2022-11-21</td>\n      <td>None</td>\n      <td>None</td>\n      <td>None</td>\n      <td>None</td>\n    </tr>\n    <tr>\n      <th>14</th>\n      <td>2023-11-13 17:38:47.331242+00:00</td>\n      <td>2023-11-13 17:38:47.338855+00:00</td>\n      <td>1292.70</td>\n      <td>0.00</td>\n      <td>0.00</td>\n      <td>0.00</td>\n      <td>0.00</td>\n      <td>True</td>\n      <td>0.00</td>\n      <td>fca01df0-aa1c-43cb-82d6-12dc12facd2d</td>\n      <td>...</td>\n      <td>f6de4cef-abfa-416d-b115-42eab4290a4b</td>\n      <td>3a4b3db9-eede-47da-8107-f7efd1dd27af</td>\n      <td>{}</td>\n      <td>None</td>\n      <td>2023-03-25</td>\n      <td>None</td>\n      <td>None</td>\n      <td>None</td>\n      <td>None</td>\n      <td>None</td>\n    </tr>\n    <tr>\n      <th>15</th>\n      <td>2023-11-13 17:38:47.225986+00:00</td>\n      <td>2023-11-13 17:38:47.267941+00:00</td>\n      <td>6566.89</td>\n      <td>6566.89</td>\n      <td>0.00</td>\n      <td>0.00</td>\n      <td>6566.89</td>\n      <td>True</td>\n      <td>1.00</td>\n      <td>95a4e9a1-49ad-4fdd-a0e1-f183457a5a6d</td>\n      <td>...</td>\n      <td>f6de4cef-abfa-416d-b115-42eab4290a4b</td>\n      <td>3a4b3db9-eede-47da-8107-f7efd1dd27af</td>\n      <td>{}</td>\n      <td>None</td>\n      <td>2023-02-18</td>\n      <td>2023-02-26</td>\n      <td>2023-03-05</td>\n      <td>2023-03-10</td>\n      <td>None</td>\n      <td>None</td>\n    </tr>\n    <tr>\n      <th>16</th>\n      <td>2023-11-13 17:38:47.167998+00:00</td>\n      <td>2023-11-13 17:38:47.184164+00:00</td>\n      <td>8048.25</td>\n      <td>8048.25</td>\n      <td>0.00</td>\n      <td>0.00</td>\n      <td>8048.25</td>\n      <td>True</td>\n      <td>1.00</td>\n      <td>b316ace5-5567-49dc-a18e-201d95355df1</td>\n      <td>...</td>\n      <td>f6de4cef-abfa-416d-b115-42eab4290a4b</td>\n      <td>3a4b3db9-eede-47da-8107-f7efd1dd27af</td>\n      <td>{}</td>\n      <td>None</td>\n      <td>2023-01-22</td>\n      <td>2023-01-26</td>\n      <td>2023-01-30</td>\n      <td>2023-02-02</td>\n      <td>None</td>\n      <td>None</td>\n    </tr>\n    <tr>\n      <th>17</th>\n      <td>2023-11-13 17:38:47.157190+00:00</td>\n      <td>2023-11-13 17:38:47.164987+00:00</td>\n      <td>4470.93</td>\n      <td>0.00</td>\n      <td>0.00</td>\n      <td>0.00</td>\n      <td>0.00</td>\n      <td>True</td>\n      <td>0.00</td>\n      <td>e30565fb-167e-447a-a5c1-dd522b450478</td>\n      <td>...</td>\n      <td>f6de4cef-abfa-416d-b115-42eab4290a4b</td>\n      <td>3a4b3db9-eede-47da-8107-f7efd1dd27af</td>\n      <td>{}</td>\n      <td>None</td>\n      <td>2022-12-23</td>\n      <td>2022-12-28</td>\n      <td>None</td>\n      <td>None</td>\n      <td>None</td>\n      <td>None</td>\n    </tr>\n    <tr>\n      <th>18</th>\n      <td>2023-11-13 17:38:47.146828+00:00</td>\n      <td>2023-11-13 17:38:47.153782+00:00</td>\n      <td>1541.10</td>\n      <td>0.00</td>\n      <td>0.00</td>\n      <td>0.00</td>\n      <td>0.00</td>\n      <td>True</td>\n      <td>0.00</td>\n      <td>538ac671-940f-444b-bbe5-4675ea891e08</td>\n      <td>...</td>\n      <td>f6de4cef-abfa-416d-b115-42eab4290a4b</td>\n      <td>3a4b3db9-eede-47da-8107-f7efd1dd27af</td>\n      <td>{}</td>\n      <td>None</td>\n      <td>2023-01-24</td>\n      <td>None</td>\n      <td>None</td>\n      <td>None</td>\n      <td>None</td>\n      <td>None</td>\n    </tr>\n    <tr>\n      <th>19</th>\n      <td>2023-11-13 17:38:47.082507+00:00</td>\n      <td>2023-11-13 17:38:47.104151+00:00</td>\n      <td>206.85</td>\n      <td>206.85</td>\n      <td>0.00</td>\n      <td>0.00</td>\n      <td>206.85</td>\n      <td>True</td>\n      <td>1.00</td>\n      <td>16ac1571-8555-468a-9f04-dd0fc58525b7</td>\n      <td>...</td>\n      <td>f6de4cef-abfa-416d-b115-42eab4290a4b</td>\n      <td>3a4b3db9-eede-47da-8107-f7efd1dd27af</td>\n      <td>{}</td>\n      <td>None</td>\n      <td>2022-12-19</td>\n      <td>2022-12-24</td>\n      <td>2022-12-31</td>\n      <td>2023-01-04</td>\n      <td>None</td>\n      <td>None</td>\n    </tr>\n    <tr>\n      <th>20</th>\n      <td>2023-11-13 17:38:47.069339+00:00</td>\n      <td>2023-11-13 17:38:47.078648+00:00</td>\n      <td>3665.74</td>\n      <td>0.00</td>\n      <td>0.00</td>\n      <td>0.00</td>\n      <td>0.00</td>\n      <td>True</td>\n      <td>0.00</td>\n      <td>512996a7-1332-467e-a57e-f10f4ed77b89</td>\n      <td>...</td>\n      <td>f6de4cef-abfa-416d-b115-42eab4290a4b</td>\n      <td>3a4b3db9-eede-47da-8107-f7efd1dd27af</td>\n      <td>{}</td>\n      <td>None</td>\n      <td>2023-01-25</td>\n      <td>2023-01-26</td>\n      <td>None</td>\n      <td>None</td>\n      <td>None</td>\n      <td>None</td>\n    </tr>\n    <tr>\n      <th>21</th>\n      <td>2023-11-13 17:38:47.060217+00:00</td>\n      <td>2023-11-13 17:38:47.065052+00:00</td>\n      <td>284.09</td>\n      <td>0.00</td>\n      <td>0.00</td>\n      <td>0.00</td>\n      <td>0.00</td>\n      <td>True</td>\n      <td>0.00</td>\n      <td>6f637f90-a9f2-4b74-90c4-7d037aa65dd0</td>\n      <td>...</td>\n      <td>f6de4cef-abfa-416d-b115-42eab4290a4b</td>\n      <td>3a4b3db9-eede-47da-8107-f7efd1dd27af</td>\n      <td>{}</td>\n      <td>None</td>\n      <td>2022-12-12</td>\n      <td>None</td>\n      <td>None</td>\n      <td>None</td>\n      <td>None</td>\n      <td>None</td>\n    </tr>\n    <tr>\n      <th>22</th>\n      <td>2023-11-13 17:38:47.046188+00:00</td>\n      <td>2023-11-13 17:38:47.056043+00:00</td>\n      <td>11130.69</td>\n      <td>0.00</td>\n      <td>0.00</td>\n      <td>0.00</td>\n      <td>0.00</td>\n      <td>True</td>\n      <td>0.00</td>\n      <td>ee459dec-b2f3-46b4-a685-7a9129f153ba</td>\n      <td>...</td>\n      <td>f6de4cef-abfa-416d-b115-42eab4290a4b</td>\n      <td>3a4b3db9-eede-47da-8107-f7efd1dd27af</td>\n      <td>{}</td>\n      <td>None</td>\n      <td>2023-02-10</td>\n      <td>None</td>\n      <td>None</td>\n      <td>None</td>\n      <td>None</td>\n      <td>None</td>\n    </tr>\n    <tr>\n      <th>23</th>\n      <td>2023-11-13 17:38:47.029971+00:00</td>\n      <td>2023-11-13 17:38:47.042117+00:00</td>\n      <td>4672.92</td>\n      <td>0.00</td>\n      <td>0.00</td>\n      <td>0.00</td>\n      <td>0.00</td>\n      <td>True</td>\n      <td>0.00</td>\n      <td>7a59a89d-320d-4c9b-b289-a90a780e8468</td>\n      <td>...</td>\n      <td>f6de4cef-abfa-416d-b115-42eab4290a4b</td>\n      <td>3a4b3db9-eede-47da-8107-f7efd1dd27af</td>\n      <td>{}</td>\n      <td>None</td>\n      <td>2022-11-22</td>\n      <td>2022-11-26</td>\n      <td>None</td>\n      <td>None</td>\n      <td>None</td>\n      <td>2022-12-01</td>\n    </tr>\n    <tr>\n      <th>24</th>\n      <td>2023-11-13 17:38:46.957212+00:00</td>\n      <td>2023-11-13 17:38:46.983203+00:00</td>\n      <td>3595.65</td>\n      <td>3595.65</td>\n      <td>0.00</td>\n      <td>0.00</td>\n      <td>3595.65</td>\n      <td>True</td>\n      <td>1.00</td>\n      <td>29f780d7-1529-4fc1-aa2e-d08a2fdd734e</td>\n      <td>...</td>\n      <td>f6de4cef-abfa-416d-b115-42eab4290a4b</td>\n      <td>3a4b3db9-eede-47da-8107-f7efd1dd27af</td>\n      <td>{}</td>\n      <td>None</td>\n      <td>2023-03-28</td>\n      <td>2023-04-05</td>\n      <td>2023-04-12</td>\n      <td>2023-04-18</td>\n      <td>None</td>\n      <td>None</td>\n    </tr>\n  </tbody>\n</table>\n<p>25 rows × 28 columns</p>\n</div>"
     },
     "execution_count": 28,
     "metadata": {},
     "output_type": "execute_result"
    }
   ],
   "source": [
    "invoices_qs = entity_model.get_invoices()\n",
    "pd.DataFrame(invoices_qs.values())"
   ]
  },
  {
   "cell_type": "markdown",
   "metadata": {},
   "source": [
    "## Create Invoice"
   ]
  },
  {
   "cell_type": "code",
   "execution_count": 29,
   "metadata": {
    "tags": [],
    "ExecuteTime": {
     "end_time": "2023-11-13T17:38:51.796910Z",
     "start_time": "2023-11-13T17:38:51.779331Z"
    }
   },
   "outputs": [],
   "source": [
    "invoice_model = entity_model.create_invoice(\n",
    "    customer_model='C-0000000006',\n",
    "    terms=InvoiceModel.TERMS_NET_30\n",
    ")"
   ]
  },
  {
   "cell_type": "code",
   "execution_count": 30,
   "metadata": {
    "ExecuteTime": {
     "end_time": "2023-11-13T17:38:52.002770Z",
     "start_time": "2023-11-13T17:38:51.978894Z"
    }
   },
   "outputs": [
    {
     "data": {
      "text/plain": "<InvoiceModel: Invoice: I-2023-0000000015 | Draft>"
     },
     "execution_count": 30,
     "metadata": {},
     "output_type": "execute_result"
    }
   ],
   "source": [
    "invoice_model"
   ]
  },
  {
   "cell_type": "markdown",
   "metadata": {},
   "source": [
    "## Add Items to Invoices"
   ]
  },
  {
   "cell_type": "code",
   "execution_count": 31,
   "metadata": {
    "tags": [],
    "ExecuteTime": {
     "end_time": "2023-11-13T17:38:52.400529Z",
     "start_time": "2023-11-13T17:38:52.379341Z"
    }
   },
   "outputs": [
    {
     "data": {
      "text/plain": "[<ItemTransactionModel: Invoice Model: a0d06c0e-c7df-4e21-a5a5-c7909c043ed6 | 342.61>,\n <ItemTransactionModel: Invoice Model: a0d06c0e-c7df-4e21-a5a5-c7909c043ed6 | 235.50>,\n <ItemTransactionModel: Invoice Model: a0d06c0e-c7df-4e21-a5a5-c7909c043ed6 | 404.04>,\n <ItemTransactionModel: Invoice Model: a0d06c0e-c7df-4e21-a5a5-c7909c043ed6 | 905.21>,\n <ItemTransactionModel: Invoice Model: a0d06c0e-c7df-4e21-a5a5-c7909c043ed6 | 326.02>,\n <ItemTransactionModel: Invoice Model: a0d06c0e-c7df-4e21-a5a5-c7909c043ed6 | 537.68>]"
     },
     "execution_count": 31,
     "metadata": {},
     "output_type": "execute_result"
    }
   ],
   "source": [
    "invoices_item_models = invoice_model.get_item_model_qs()\n",
    "\n",
    "# K= number of items...\n",
    "K = 6\n",
    "\n",
    "invoice_itemtxs = {\n",
    "    im.item_number: {\n",
    "        'unit_cost': round(random() * 10, 2),\n",
    "        'quantity': round(random() * 100, 2),\n",
    "        'total_amount': None\n",
    "    } for im in choices(invoices_item_models, k=K)\n",
    "}\n",
    "\n",
    "# Choose operation ITEMIZE_APPEND to append itemtxs...\n",
    "invoice_itemtxs = invoice_model.migrate_itemtxs(itemtxs=invoice_itemtxs,\n",
    "                                                commit=True,\n",
    "                                                operation=InvoiceModel.ITEMIZE_REPLACE)\n",
    "invoice_itemtxs"
   ]
  },
  {
   "cell_type": "code",
   "execution_count": 32,
   "metadata": {
    "tags": [],
    "ExecuteTime": {
     "end_time": "2023-11-13T17:38:52.603417Z",
     "start_time": "2023-11-13T17:38:52.579222Z"
    }
   },
   "outputs": [
    {
     "data": {
      "text/plain": "Decimal('2751.06')"
     },
     "execution_count": 32,
     "metadata": {},
     "output_type": "execute_result"
    }
   ],
   "source": [
    "invoice_model.amount_due"
   ]
  },
  {
   "cell_type": "markdown",
   "metadata": {},
   "source": [
    "# Bills"
   ]
  },
  {
   "cell_type": "markdown",
   "metadata": {},
   "source": [
    "## Get Bills"
   ]
  },
  {
   "cell_type": "code",
   "execution_count": 33,
   "metadata": {
    "tags": [],
    "ExecuteTime": {
     "end_time": "2023-11-13T17:38:53.188387Z",
     "start_time": "2023-11-13T17:38:53.161302Z"
    }
   },
   "outputs": [
    {
     "data": {
      "text/plain": "                            created                          updated  \\\n0  2023-11-13 17:38:46.944377+00:00 2023-11-13 17:38:46.953462+00:00   \n1  2023-11-13 17:38:46.875707+00:00 2023-11-13 17:38:46.884190+00:00   \n2  2023-11-13 17:38:46.786916+00:00 2023-11-13 17:38:46.799465+00:00   \n3  2023-11-13 17:38:46.724595+00:00 2023-11-13 17:38:46.749358+00:00   \n4  2023-11-13 17:38:46.666424+00:00 2023-11-13 17:38:46.675674+00:00   \n5  2023-11-13 17:38:46.605570+00:00 2023-11-13 17:38:46.613135+00:00   \n6  2023-11-13 17:38:46.562688+00:00 2023-11-13 17:38:46.569390+00:00   \n7  2023-11-13 17:38:46.526417+00:00 2023-11-13 17:38:46.534589+00:00   \n8  2023-11-13 17:38:46.459644+00:00 2023-11-13 17:38:46.465855+00:00   \n9  2023-11-13 17:38:46.396997+00:00 2023-11-13 17:38:46.403191+00:00   \n10 2023-11-13 17:38:46.315475+00:00 2023-11-13 17:38:46.335175+00:00   \n11 2023-11-13 17:38:46.276246+00:00 2023-11-13 17:38:46.284761+00:00   \n12 2023-11-13 17:38:46.245160+00:00 2023-11-13 17:38:46.249435+00:00   \n13 2023-11-13 17:38:46.186978+00:00 2023-11-13 17:38:46.195242+00:00   \n14 2023-11-13 17:38:46.092693+00:00 2023-11-13 17:38:46.118195+00:00   \n15 2023-11-13 17:38:46.003621+00:00 2023-11-13 17:38:46.021362+00:00   \n16 2023-11-13 17:38:45.882563+00:00 2023-11-13 17:38:45.893224+00:00   \n17 2023-11-13 17:38:45.806943+00:00 2023-11-13 17:38:45.829723+00:00   \n18 2023-11-13 17:38:45.742760+00:00 2023-11-13 17:38:45.752169+00:00   \n19 2023-11-13 17:38:45.684225+00:00 2023-11-13 17:38:45.689494+00:00   \n20 2023-11-13 17:38:45.600195+00:00 2023-11-13 17:38:45.621715+00:00   \n21 2023-11-13 17:38:45.560979+00:00 2023-11-13 17:38:45.567728+00:00   \n22 2023-11-13 17:38:45.531057+00:00 2023-11-13 17:38:45.537227+00:00   \n23 2023-11-13 17:38:45.461838+00:00 2023-11-13 17:38:45.471111+00:00   \n24 2023-11-13 17:38:45.374361+00:00 2023-11-13 17:38:45.392347+00:00   \n25 2023-11-13 17:38:45.345230+00:00 2023-11-13 17:38:45.351204+00:00   \n26 2023-11-13 17:38:45.280266+00:00 2023-11-13 17:38:45.291421+00:00   \n27 2023-11-13 17:38:45.216559+00:00 2023-11-13 17:38:45.224287+00:00   \n28 2023-11-13 17:38:45.109765+00:00 2023-11-13 17:38:45.119033+00:00   \n29 2023-11-13 17:38:45.020373+00:00 2023-11-13 17:38:45.048628+00:00   \n\n   amount_due amount_paid amount_receivable amount_unearned amount_earned  \\\n0     2072.97        0.00              0.00            0.00          0.00   \n1     1896.10        0.00              0.00            0.00          0.00   \n2    19406.11        0.00              0.00            0.00          0.00   \n3      935.23      935.23              0.00            0.00        935.23   \n4     1136.04        0.00              0.00            0.00          0.00   \n5      710.96        0.00              0.00            0.00          0.00   \n6    17133.22        0.00              0.00            0.00          0.00   \n7      581.01        0.00              0.00            0.00          0.00   \n8       10.62        0.00              0.00            0.00          0.00   \n9      503.69        0.00              0.00            0.00          0.00   \n10     232.49      232.49              0.00            0.00        232.49   \n11    9626.27        0.00              0.00            0.00          0.00   \n12      90.16        0.00              0.00            0.00          0.00   \n13    1501.81        0.00              0.00            0.00          0.00   \n14    1096.99     1096.99              0.00            0.00       1096.99   \n15    1330.08        0.00              0.00         1330.08       1330.08   \n16     365.87        0.00              0.00            0.00          0.00   \n17     926.22        0.00              0.00            0.00          0.00   \n18     645.11        0.00              0.00            0.00          0.00   \n19     136.61        0.00              0.00            0.00          0.00   \n20     997.62      997.62              0.00            0.00        997.62   \n21    4412.35        0.00              0.00            0.00          0.00   \n22     620.50        0.00              0.00            0.00          0.00   \n23    1270.71        0.00              0.00            0.00          0.00   \n24    3364.02     3364.02              0.00            0.00       3364.02   \n25     578.04        0.00              0.00            0.00          0.00   \n26    1537.42        0.00              0.00            0.00          0.00   \n27     961.44        0.00              0.00            0.00          0.00   \n28     739.64        0.00              0.00            0.00          0.00   \n29    1078.18     1078.18              0.00            0.00       1078.18   \n\n    accrue progress                             ledger_id  ...  xref  \\\n0     True     0.00  f1d28045-4085-4549-8bc8-00709f326f88  ...  None   \n1     True     0.00  f6df493d-fe5e-4fa9-b448-bbeb1e556e5b  ...  None   \n2     True     0.00  d12a1f69-a8ba-42f5-ae08-8a2057445b03  ...  None   \n3     True     1.00  35ef9df5-87a8-479f-97d6-c18f9d28ee61  ...  None   \n4     True     0.00  c0a217a6-dcd7-4b1f-9c8d-8cfffb09bba6  ...  None   \n5     True     0.00  2e474fd5-f6c0-4512-9d8a-7a09cf91f34a  ...  None   \n6     True     0.00  a51d3066-ff14-4015-a53e-3538c11590b1  ...  None   \n7     True     0.00  ef11db35-53c4-43b6-ac54-b75b38595bc9  ...  None   \n8     True     0.00  9126e569-35d7-48e6-a108-cb5b41118551  ...  None   \n9     True     0.00  f44cf4aa-459a-42c1-87bf-3d380c78b925  ...  None   \n10    True     1.00  49e66c5f-fecf-47d0-a654-50801e862180  ...  None   \n11    True     0.00  a76721f8-cf29-483d-9682-413d41873ded  ...  None   \n12    True     0.00  dcc3dc85-18ab-4e90-8d60-d69518686143  ...  None   \n13    True     0.00  7451c19c-4e47-4515-8cda-389c28c3a2b5  ...  None   \n14    True     1.00  32529095-a879-4069-9fab-733d123cf629  ...  None   \n15    True     1.00  7fd8e678-ec14-4a5b-9111-6121f4422f2f  ...  None   \n16    True     0.00  bccacae6-1366-4cf3-9588-3ed6e88c536c  ...  None   \n17    True     0.00  ac772fc1-098b-41b0-8f1f-13d6be2958c5  ...  None   \n18    True     0.00  0b686f27-a4a1-45c6-8914-6f5f63ca8b10  ...  None   \n19    True     0.00  4aa441c2-7a5b-4e3b-89f1-15d03d8d0d73  ...  None   \n20    True     1.00  9760c217-040f-4bb1-bd26-8d4ffdbc9abe  ...  None   \n21    True     0.00  0ce31103-958a-4d22-aca0-a13074246a9f  ...  None   \n22    True     0.00  99b80aec-c572-4d0f-a291-d33c5ec1ef14  ...  None   \n23    True     0.00  9cd121a4-7c57-4dac-9a3e-0aabe8ead77d  ...  None   \n24    True     1.00  bf870430-984a-4667-a682-c0a79a00a22a  ...  None   \n25    True     0.00  ea08bc24-fd30-41f3-a95b-2b757117d5c5  ...  None   \n26    True     0.00  cc28db63-156e-4c68-a093-9811211ebd1d  ...  None   \n27    True     0.00  93d8df0e-4734-4b1b-aa50-7b79eb42fbe7  ...  None   \n28    True     0.00  f2a508ad-5fb7-4849-80b4-c44026f01016  ...  None   \n29    True     1.00  28f18a9f-a833-4881-8b35-a22c45c3b40a  ...  None   \n\n                               vendor_id additional_info ce_model_id  \\\n0   29d24570-8299-404b-809c-bc6f86f1a080              {}        None   \n1   74182bf9-39b9-41dc-88dd-f2a050d75a87              {}        None   \n2   0a52ef1f-ba8c-459f-8254-8113a87730b5            None        None   \n3   eefe8979-eb21-4cd3-bfdb-c960727cd190              {}        None   \n4   eefe8979-eb21-4cd3-bfdb-c960727cd190              {}        None   \n5   74182bf9-39b9-41dc-88dd-f2a050d75a87              {}        None   \n6   61fd995c-26f6-4826-8c27-30fb2436bb45            None        None   \n7   eefe8979-eb21-4cd3-bfdb-c960727cd190              {}        None   \n8   74182bf9-39b9-41dc-88dd-f2a050d75a87              {}        None   \n9   0a52ef1f-ba8c-459f-8254-8113a87730b5              {}        None   \n10  0a52ef1f-ba8c-459f-8254-8113a87730b5              {}        None   \n11  29f2ddb4-3b48-44cd-b5a7-394a715a0f7d            None        None   \n12  0a52ef1f-ba8c-459f-8254-8113a87730b5              {}        None   \n13  8f49980e-f408-4d0d-87ef-105be0aa9719              {}        None   \n14  13e8805b-6b12-4a89-966e-b44fd5deb769              {}        None   \n15  29d24570-8299-404b-809c-bc6f86f1a080              {}        None   \n16  74182bf9-39b9-41dc-88dd-f2a050d75a87              {}        None   \n17  8f49980e-f408-4d0d-87ef-105be0aa9719              {}        None   \n18  74182bf9-39b9-41dc-88dd-f2a050d75a87              {}        None   \n19  1f9894ea-c7a3-4110-8bab-d043509bc7dc              {}        None   \n20  29d24570-8299-404b-809c-bc6f86f1a080              {}        None   \n21  0a52ef1f-ba8c-459f-8254-8113a87730b5            None        None   \n22  2f1b986f-9457-4e2f-9f15-660506f881bd              {}        None   \n23  8f49980e-f408-4d0d-87ef-105be0aa9719              {}        None   \n24  74182bf9-39b9-41dc-88dd-f2a050d75a87            None        None   \n25  2f1b986f-9457-4e2f-9f15-660506f881bd              {}        None   \n26  1f9894ea-c7a3-4110-8bab-d043509bc7dc              {}        None   \n27  29f2ddb4-3b48-44cd-b5a7-394a715a0f7d              {}        None   \n28  eefe8979-eb21-4cd3-bfdb-c960727cd190              {}        None   \n29  1f9894ea-c7a3-4110-8bab-d043509bc7dc              {}        None   \n\n    date_draft date_in_review date_approved   date_paid   date_void  \\\n0   2023-01-01           None          None        None        None   \n1   2023-01-26           None          None        None        None   \n2   2023-02-03     2023-02-08          None        None        None   \n3   2022-12-29     2023-01-03    2023-01-05  2023-01-12        None   \n4   2023-02-22     2023-02-27          None        None        None   \n5   2023-02-12           None          None        None        None   \n6   2023-02-22           None          None        None        None   \n7   2023-02-05     2023-02-10          None        None        None   \n8   2023-02-15     2023-02-18          None        None        None   \n9   2023-02-10     2023-02-13          None        None        None   \n10  2022-10-16     2022-10-18    2022-10-26  2022-10-30        None   \n11  2022-10-27     2022-10-31          None        None        None   \n12  2022-10-10           None          None        None        None   \n13  2022-12-19           None          None        None        None   \n14  2023-01-09     2023-01-16    2023-01-22  2023-01-26        None   \n15  2023-03-21     2023-03-22    2023-03-23        None        None   \n16  2023-03-27           None          None        None        None   \n17  2023-02-18     2023-02-20    2023-02-23        None  2023-03-02   \n18  2023-03-11     2023-03-14          None        None        None   \n19  2022-11-07           None          None        None        None   \n20  2023-03-03     2023-03-07    2023-03-10  2023-03-15        None   \n21  2023-03-07     2023-03-08          None        None        None   \n22  2023-03-17           None          None        None        None   \n23  2022-11-27           None          None        None        None   \n24  2022-12-10     2022-12-17    2022-12-19  2022-12-20        None   \n25  2023-01-08     2023-01-10          None        None        None   \n26  2023-03-20     2023-03-28          None        None        None   \n27  2023-03-20     2023-03-27          None        None        None   \n28  2023-01-31     2023-02-02          None        None        None   \n29  2023-03-06     2023-03-13    2023-03-18  2023-03-22        None   \n\n   date_canceled  \n0           None  \n1           None  \n2           None  \n3           None  \n4           None  \n5           None  \n6           None  \n7           None  \n8           None  \n9           None  \n10          None  \n11          None  \n12          None  \n13          None  \n14          None  \n15          None  \n16          None  \n17          None  \n18          None  \n19          None  \n20          None  \n21          None  \n22          None  \n23          None  \n24          None  \n25          None  \n26          None  \n27          None  \n28          None  \n29          None  \n\n[30 rows x 29 columns]",
      "text/html": "<div>\n<style scoped>\n    .dataframe tbody tr th:only-of-type {\n        vertical-align: middle;\n    }\n\n    .dataframe tbody tr th {\n        vertical-align: top;\n    }\n\n    .dataframe thead th {\n        text-align: right;\n    }\n</style>\n<table border=\"1\" class=\"dataframe\">\n  <thead>\n    <tr style=\"text-align: right;\">\n      <th></th>\n      <th>created</th>\n      <th>updated</th>\n      <th>amount_due</th>\n      <th>amount_paid</th>\n      <th>amount_receivable</th>\n      <th>amount_unearned</th>\n      <th>amount_earned</th>\n      <th>accrue</th>\n      <th>progress</th>\n      <th>ledger_id</th>\n      <th>...</th>\n      <th>xref</th>\n      <th>vendor_id</th>\n      <th>additional_info</th>\n      <th>ce_model_id</th>\n      <th>date_draft</th>\n      <th>date_in_review</th>\n      <th>date_approved</th>\n      <th>date_paid</th>\n      <th>date_void</th>\n      <th>date_canceled</th>\n    </tr>\n  </thead>\n  <tbody>\n    <tr>\n      <th>0</th>\n      <td>2023-11-13 17:38:46.944377+00:00</td>\n      <td>2023-11-13 17:38:46.953462+00:00</td>\n      <td>2072.97</td>\n      <td>0.00</td>\n      <td>0.00</td>\n      <td>0.00</td>\n      <td>0.00</td>\n      <td>True</td>\n      <td>0.00</td>\n      <td>f1d28045-4085-4549-8bc8-00709f326f88</td>\n      <td>...</td>\n      <td>None</td>\n      <td>29d24570-8299-404b-809c-bc6f86f1a080</td>\n      <td>{}</td>\n      <td>None</td>\n      <td>2023-01-01</td>\n      <td>None</td>\n      <td>None</td>\n      <td>None</td>\n      <td>None</td>\n      <td>None</td>\n    </tr>\n    <tr>\n      <th>1</th>\n      <td>2023-11-13 17:38:46.875707+00:00</td>\n      <td>2023-11-13 17:38:46.884190+00:00</td>\n      <td>1896.10</td>\n      <td>0.00</td>\n      <td>0.00</td>\n      <td>0.00</td>\n      <td>0.00</td>\n      <td>True</td>\n      <td>0.00</td>\n      <td>f6df493d-fe5e-4fa9-b448-bbeb1e556e5b</td>\n      <td>...</td>\n      <td>None</td>\n      <td>74182bf9-39b9-41dc-88dd-f2a050d75a87</td>\n      <td>{}</td>\n      <td>None</td>\n      <td>2023-01-26</td>\n      <td>None</td>\n      <td>None</td>\n      <td>None</td>\n      <td>None</td>\n      <td>None</td>\n    </tr>\n    <tr>\n      <th>2</th>\n      <td>2023-11-13 17:38:46.786916+00:00</td>\n      <td>2023-11-13 17:38:46.799465+00:00</td>\n      <td>19406.11</td>\n      <td>0.00</td>\n      <td>0.00</td>\n      <td>0.00</td>\n      <td>0.00</td>\n      <td>True</td>\n      <td>0.00</td>\n      <td>d12a1f69-a8ba-42f5-ae08-8a2057445b03</td>\n      <td>...</td>\n      <td>None</td>\n      <td>0a52ef1f-ba8c-459f-8254-8113a87730b5</td>\n      <td>None</td>\n      <td>None</td>\n      <td>2023-02-03</td>\n      <td>2023-02-08</td>\n      <td>None</td>\n      <td>None</td>\n      <td>None</td>\n      <td>None</td>\n    </tr>\n    <tr>\n      <th>3</th>\n      <td>2023-11-13 17:38:46.724595+00:00</td>\n      <td>2023-11-13 17:38:46.749358+00:00</td>\n      <td>935.23</td>\n      <td>935.23</td>\n      <td>0.00</td>\n      <td>0.00</td>\n      <td>935.23</td>\n      <td>True</td>\n      <td>1.00</td>\n      <td>35ef9df5-87a8-479f-97d6-c18f9d28ee61</td>\n      <td>...</td>\n      <td>None</td>\n      <td>eefe8979-eb21-4cd3-bfdb-c960727cd190</td>\n      <td>{}</td>\n      <td>None</td>\n      <td>2022-12-29</td>\n      <td>2023-01-03</td>\n      <td>2023-01-05</td>\n      <td>2023-01-12</td>\n      <td>None</td>\n      <td>None</td>\n    </tr>\n    <tr>\n      <th>4</th>\n      <td>2023-11-13 17:38:46.666424+00:00</td>\n      <td>2023-11-13 17:38:46.675674+00:00</td>\n      <td>1136.04</td>\n      <td>0.00</td>\n      <td>0.00</td>\n      <td>0.00</td>\n      <td>0.00</td>\n      <td>True</td>\n      <td>0.00</td>\n      <td>c0a217a6-dcd7-4b1f-9c8d-8cfffb09bba6</td>\n      <td>...</td>\n      <td>None</td>\n      <td>eefe8979-eb21-4cd3-bfdb-c960727cd190</td>\n      <td>{}</td>\n      <td>None</td>\n      <td>2023-02-22</td>\n      <td>2023-02-27</td>\n      <td>None</td>\n      <td>None</td>\n      <td>None</td>\n      <td>None</td>\n    </tr>\n    <tr>\n      <th>5</th>\n      <td>2023-11-13 17:38:46.605570+00:00</td>\n      <td>2023-11-13 17:38:46.613135+00:00</td>\n      <td>710.96</td>\n      <td>0.00</td>\n      <td>0.00</td>\n      <td>0.00</td>\n      <td>0.00</td>\n      <td>True</td>\n      <td>0.00</td>\n      <td>2e474fd5-f6c0-4512-9d8a-7a09cf91f34a</td>\n      <td>...</td>\n      <td>None</td>\n      <td>74182bf9-39b9-41dc-88dd-f2a050d75a87</td>\n      <td>{}</td>\n      <td>None</td>\n      <td>2023-02-12</td>\n      <td>None</td>\n      <td>None</td>\n      <td>None</td>\n      <td>None</td>\n      <td>None</td>\n    </tr>\n    <tr>\n      <th>6</th>\n      <td>2023-11-13 17:38:46.562688+00:00</td>\n      <td>2023-11-13 17:38:46.569390+00:00</td>\n      <td>17133.22</td>\n      <td>0.00</td>\n      <td>0.00</td>\n      <td>0.00</td>\n      <td>0.00</td>\n      <td>True</td>\n      <td>0.00</td>\n      <td>a51d3066-ff14-4015-a53e-3538c11590b1</td>\n      <td>...</td>\n      <td>None</td>\n      <td>61fd995c-26f6-4826-8c27-30fb2436bb45</td>\n      <td>None</td>\n      <td>None</td>\n      <td>2023-02-22</td>\n      <td>None</td>\n      <td>None</td>\n      <td>None</td>\n      <td>None</td>\n      <td>None</td>\n    </tr>\n    <tr>\n      <th>7</th>\n      <td>2023-11-13 17:38:46.526417+00:00</td>\n      <td>2023-11-13 17:38:46.534589+00:00</td>\n      <td>581.01</td>\n      <td>0.00</td>\n      <td>0.00</td>\n      <td>0.00</td>\n      <td>0.00</td>\n      <td>True</td>\n      <td>0.00</td>\n      <td>ef11db35-53c4-43b6-ac54-b75b38595bc9</td>\n      <td>...</td>\n      <td>None</td>\n      <td>eefe8979-eb21-4cd3-bfdb-c960727cd190</td>\n      <td>{}</td>\n      <td>None</td>\n      <td>2023-02-05</td>\n      <td>2023-02-10</td>\n      <td>None</td>\n      <td>None</td>\n      <td>None</td>\n      <td>None</td>\n    </tr>\n    <tr>\n      <th>8</th>\n      <td>2023-11-13 17:38:46.459644+00:00</td>\n      <td>2023-11-13 17:38:46.465855+00:00</td>\n      <td>10.62</td>\n      <td>0.00</td>\n      <td>0.00</td>\n      <td>0.00</td>\n      <td>0.00</td>\n      <td>True</td>\n      <td>0.00</td>\n      <td>9126e569-35d7-48e6-a108-cb5b41118551</td>\n      <td>...</td>\n      <td>None</td>\n      <td>74182bf9-39b9-41dc-88dd-f2a050d75a87</td>\n      <td>{}</td>\n      <td>None</td>\n      <td>2023-02-15</td>\n      <td>2023-02-18</td>\n      <td>None</td>\n      <td>None</td>\n      <td>None</td>\n      <td>None</td>\n    </tr>\n    <tr>\n      <th>9</th>\n      <td>2023-11-13 17:38:46.396997+00:00</td>\n      <td>2023-11-13 17:38:46.403191+00:00</td>\n      <td>503.69</td>\n      <td>0.00</td>\n      <td>0.00</td>\n      <td>0.00</td>\n      <td>0.00</td>\n      <td>True</td>\n      <td>0.00</td>\n      <td>f44cf4aa-459a-42c1-87bf-3d380c78b925</td>\n      <td>...</td>\n      <td>None</td>\n      <td>0a52ef1f-ba8c-459f-8254-8113a87730b5</td>\n      <td>{}</td>\n      <td>None</td>\n      <td>2023-02-10</td>\n      <td>2023-02-13</td>\n      <td>None</td>\n      <td>None</td>\n      <td>None</td>\n      <td>None</td>\n    </tr>\n    <tr>\n      <th>10</th>\n      <td>2023-11-13 17:38:46.315475+00:00</td>\n      <td>2023-11-13 17:38:46.335175+00:00</td>\n      <td>232.49</td>\n      <td>232.49</td>\n      <td>0.00</td>\n      <td>0.00</td>\n      <td>232.49</td>\n      <td>True</td>\n      <td>1.00</td>\n      <td>49e66c5f-fecf-47d0-a654-50801e862180</td>\n      <td>...</td>\n      <td>None</td>\n      <td>0a52ef1f-ba8c-459f-8254-8113a87730b5</td>\n      <td>{}</td>\n      <td>None</td>\n      <td>2022-10-16</td>\n      <td>2022-10-18</td>\n      <td>2022-10-26</td>\n      <td>2022-10-30</td>\n      <td>None</td>\n      <td>None</td>\n    </tr>\n    <tr>\n      <th>11</th>\n      <td>2023-11-13 17:38:46.276246+00:00</td>\n      <td>2023-11-13 17:38:46.284761+00:00</td>\n      <td>9626.27</td>\n      <td>0.00</td>\n      <td>0.00</td>\n      <td>0.00</td>\n      <td>0.00</td>\n      <td>True</td>\n      <td>0.00</td>\n      <td>a76721f8-cf29-483d-9682-413d41873ded</td>\n      <td>...</td>\n      <td>None</td>\n      <td>29f2ddb4-3b48-44cd-b5a7-394a715a0f7d</td>\n      <td>None</td>\n      <td>None</td>\n      <td>2022-10-27</td>\n      <td>2022-10-31</td>\n      <td>None</td>\n      <td>None</td>\n      <td>None</td>\n      <td>None</td>\n    </tr>\n    <tr>\n      <th>12</th>\n      <td>2023-11-13 17:38:46.245160+00:00</td>\n      <td>2023-11-13 17:38:46.249435+00:00</td>\n      <td>90.16</td>\n      <td>0.00</td>\n      <td>0.00</td>\n      <td>0.00</td>\n      <td>0.00</td>\n      <td>True</td>\n      <td>0.00</td>\n      <td>dcc3dc85-18ab-4e90-8d60-d69518686143</td>\n      <td>...</td>\n      <td>None</td>\n      <td>0a52ef1f-ba8c-459f-8254-8113a87730b5</td>\n      <td>{}</td>\n      <td>None</td>\n      <td>2022-10-10</td>\n      <td>None</td>\n      <td>None</td>\n      <td>None</td>\n      <td>None</td>\n      <td>None</td>\n    </tr>\n    <tr>\n      <th>13</th>\n      <td>2023-11-13 17:38:46.186978+00:00</td>\n      <td>2023-11-13 17:38:46.195242+00:00</td>\n      <td>1501.81</td>\n      <td>0.00</td>\n      <td>0.00</td>\n      <td>0.00</td>\n      <td>0.00</td>\n      <td>True</td>\n      <td>0.00</td>\n      <td>7451c19c-4e47-4515-8cda-389c28c3a2b5</td>\n      <td>...</td>\n      <td>None</td>\n      <td>8f49980e-f408-4d0d-87ef-105be0aa9719</td>\n      <td>{}</td>\n      <td>None</td>\n      <td>2022-12-19</td>\n      <td>None</td>\n      <td>None</td>\n      <td>None</td>\n      <td>None</td>\n      <td>None</td>\n    </tr>\n    <tr>\n      <th>14</th>\n      <td>2023-11-13 17:38:46.092693+00:00</td>\n      <td>2023-11-13 17:38:46.118195+00:00</td>\n      <td>1096.99</td>\n      <td>1096.99</td>\n      <td>0.00</td>\n      <td>0.00</td>\n      <td>1096.99</td>\n      <td>True</td>\n      <td>1.00</td>\n      <td>32529095-a879-4069-9fab-733d123cf629</td>\n      <td>...</td>\n      <td>None</td>\n      <td>13e8805b-6b12-4a89-966e-b44fd5deb769</td>\n      <td>{}</td>\n      <td>None</td>\n      <td>2023-01-09</td>\n      <td>2023-01-16</td>\n      <td>2023-01-22</td>\n      <td>2023-01-26</td>\n      <td>None</td>\n      <td>None</td>\n    </tr>\n    <tr>\n      <th>15</th>\n      <td>2023-11-13 17:38:46.003621+00:00</td>\n      <td>2023-11-13 17:38:46.021362+00:00</td>\n      <td>1330.08</td>\n      <td>0.00</td>\n      <td>0.00</td>\n      <td>1330.08</td>\n      <td>1330.08</td>\n      <td>True</td>\n      <td>1.00</td>\n      <td>7fd8e678-ec14-4a5b-9111-6121f4422f2f</td>\n      <td>...</td>\n      <td>None</td>\n      <td>29d24570-8299-404b-809c-bc6f86f1a080</td>\n      <td>{}</td>\n      <td>None</td>\n      <td>2023-03-21</td>\n      <td>2023-03-22</td>\n      <td>2023-03-23</td>\n      <td>None</td>\n      <td>None</td>\n      <td>None</td>\n    </tr>\n    <tr>\n      <th>16</th>\n      <td>2023-11-13 17:38:45.882563+00:00</td>\n      <td>2023-11-13 17:38:45.893224+00:00</td>\n      <td>365.87</td>\n      <td>0.00</td>\n      <td>0.00</td>\n      <td>0.00</td>\n      <td>0.00</td>\n      <td>True</td>\n      <td>0.00</td>\n      <td>bccacae6-1366-4cf3-9588-3ed6e88c536c</td>\n      <td>...</td>\n      <td>None</td>\n      <td>74182bf9-39b9-41dc-88dd-f2a050d75a87</td>\n      <td>{}</td>\n      <td>None</td>\n      <td>2023-03-27</td>\n      <td>None</td>\n      <td>None</td>\n      <td>None</td>\n      <td>None</td>\n      <td>None</td>\n    </tr>\n    <tr>\n      <th>17</th>\n      <td>2023-11-13 17:38:45.806943+00:00</td>\n      <td>2023-11-13 17:38:45.829723+00:00</td>\n      <td>926.22</td>\n      <td>0.00</td>\n      <td>0.00</td>\n      <td>0.00</td>\n      <td>0.00</td>\n      <td>True</td>\n      <td>0.00</td>\n      <td>ac772fc1-098b-41b0-8f1f-13d6be2958c5</td>\n      <td>...</td>\n      <td>None</td>\n      <td>8f49980e-f408-4d0d-87ef-105be0aa9719</td>\n      <td>{}</td>\n      <td>None</td>\n      <td>2023-02-18</td>\n      <td>2023-02-20</td>\n      <td>2023-02-23</td>\n      <td>None</td>\n      <td>2023-03-02</td>\n      <td>None</td>\n    </tr>\n    <tr>\n      <th>18</th>\n      <td>2023-11-13 17:38:45.742760+00:00</td>\n      <td>2023-11-13 17:38:45.752169+00:00</td>\n      <td>645.11</td>\n      <td>0.00</td>\n      <td>0.00</td>\n      <td>0.00</td>\n      <td>0.00</td>\n      <td>True</td>\n      <td>0.00</td>\n      <td>0b686f27-a4a1-45c6-8914-6f5f63ca8b10</td>\n      <td>...</td>\n      <td>None</td>\n      <td>74182bf9-39b9-41dc-88dd-f2a050d75a87</td>\n      <td>{}</td>\n      <td>None</td>\n      <td>2023-03-11</td>\n      <td>2023-03-14</td>\n      <td>None</td>\n      <td>None</td>\n      <td>None</td>\n      <td>None</td>\n    </tr>\n    <tr>\n      <th>19</th>\n      <td>2023-11-13 17:38:45.684225+00:00</td>\n      <td>2023-11-13 17:38:45.689494+00:00</td>\n      <td>136.61</td>\n      <td>0.00</td>\n      <td>0.00</td>\n      <td>0.00</td>\n      <td>0.00</td>\n      <td>True</td>\n      <td>0.00</td>\n      <td>4aa441c2-7a5b-4e3b-89f1-15d03d8d0d73</td>\n      <td>...</td>\n      <td>None</td>\n      <td>1f9894ea-c7a3-4110-8bab-d043509bc7dc</td>\n      <td>{}</td>\n      <td>None</td>\n      <td>2022-11-07</td>\n      <td>None</td>\n      <td>None</td>\n      <td>None</td>\n      <td>None</td>\n      <td>None</td>\n    </tr>\n    <tr>\n      <th>20</th>\n      <td>2023-11-13 17:38:45.600195+00:00</td>\n      <td>2023-11-13 17:38:45.621715+00:00</td>\n      <td>997.62</td>\n      <td>997.62</td>\n      <td>0.00</td>\n      <td>0.00</td>\n      <td>997.62</td>\n      <td>True</td>\n      <td>1.00</td>\n      <td>9760c217-040f-4bb1-bd26-8d4ffdbc9abe</td>\n      <td>...</td>\n      <td>None</td>\n      <td>29d24570-8299-404b-809c-bc6f86f1a080</td>\n      <td>{}</td>\n      <td>None</td>\n      <td>2023-03-03</td>\n      <td>2023-03-07</td>\n      <td>2023-03-10</td>\n      <td>2023-03-15</td>\n      <td>None</td>\n      <td>None</td>\n    </tr>\n    <tr>\n      <th>21</th>\n      <td>2023-11-13 17:38:45.560979+00:00</td>\n      <td>2023-11-13 17:38:45.567728+00:00</td>\n      <td>4412.35</td>\n      <td>0.00</td>\n      <td>0.00</td>\n      <td>0.00</td>\n      <td>0.00</td>\n      <td>True</td>\n      <td>0.00</td>\n      <td>0ce31103-958a-4d22-aca0-a13074246a9f</td>\n      <td>...</td>\n      <td>None</td>\n      <td>0a52ef1f-ba8c-459f-8254-8113a87730b5</td>\n      <td>None</td>\n      <td>None</td>\n      <td>2023-03-07</td>\n      <td>2023-03-08</td>\n      <td>None</td>\n      <td>None</td>\n      <td>None</td>\n      <td>None</td>\n    </tr>\n    <tr>\n      <th>22</th>\n      <td>2023-11-13 17:38:45.531057+00:00</td>\n      <td>2023-11-13 17:38:45.537227+00:00</td>\n      <td>620.50</td>\n      <td>0.00</td>\n      <td>0.00</td>\n      <td>0.00</td>\n      <td>0.00</td>\n      <td>True</td>\n      <td>0.00</td>\n      <td>99b80aec-c572-4d0f-a291-d33c5ec1ef14</td>\n      <td>...</td>\n      <td>None</td>\n      <td>2f1b986f-9457-4e2f-9f15-660506f881bd</td>\n      <td>{}</td>\n      <td>None</td>\n      <td>2023-03-17</td>\n      <td>None</td>\n      <td>None</td>\n      <td>None</td>\n      <td>None</td>\n      <td>None</td>\n    </tr>\n    <tr>\n      <th>23</th>\n      <td>2023-11-13 17:38:45.461838+00:00</td>\n      <td>2023-11-13 17:38:45.471111+00:00</td>\n      <td>1270.71</td>\n      <td>0.00</td>\n      <td>0.00</td>\n      <td>0.00</td>\n      <td>0.00</td>\n      <td>True</td>\n      <td>0.00</td>\n      <td>9cd121a4-7c57-4dac-9a3e-0aabe8ead77d</td>\n      <td>...</td>\n      <td>None</td>\n      <td>8f49980e-f408-4d0d-87ef-105be0aa9719</td>\n      <td>{}</td>\n      <td>None</td>\n      <td>2022-11-27</td>\n      <td>None</td>\n      <td>None</td>\n      <td>None</td>\n      <td>None</td>\n      <td>None</td>\n    </tr>\n    <tr>\n      <th>24</th>\n      <td>2023-11-13 17:38:45.374361+00:00</td>\n      <td>2023-11-13 17:38:45.392347+00:00</td>\n      <td>3364.02</td>\n      <td>3364.02</td>\n      <td>0.00</td>\n      <td>0.00</td>\n      <td>3364.02</td>\n      <td>True</td>\n      <td>1.00</td>\n      <td>bf870430-984a-4667-a682-c0a79a00a22a</td>\n      <td>...</td>\n      <td>None</td>\n      <td>74182bf9-39b9-41dc-88dd-f2a050d75a87</td>\n      <td>None</td>\n      <td>None</td>\n      <td>2022-12-10</td>\n      <td>2022-12-17</td>\n      <td>2022-12-19</td>\n      <td>2022-12-20</td>\n      <td>None</td>\n      <td>None</td>\n    </tr>\n    <tr>\n      <th>25</th>\n      <td>2023-11-13 17:38:45.345230+00:00</td>\n      <td>2023-11-13 17:38:45.351204+00:00</td>\n      <td>578.04</td>\n      <td>0.00</td>\n      <td>0.00</td>\n      <td>0.00</td>\n      <td>0.00</td>\n      <td>True</td>\n      <td>0.00</td>\n      <td>ea08bc24-fd30-41f3-a95b-2b757117d5c5</td>\n      <td>...</td>\n      <td>None</td>\n      <td>2f1b986f-9457-4e2f-9f15-660506f881bd</td>\n      <td>{}</td>\n      <td>None</td>\n      <td>2023-01-08</td>\n      <td>2023-01-10</td>\n      <td>None</td>\n      <td>None</td>\n      <td>None</td>\n      <td>None</td>\n    </tr>\n    <tr>\n      <th>26</th>\n      <td>2023-11-13 17:38:45.280266+00:00</td>\n      <td>2023-11-13 17:38:45.291421+00:00</td>\n      <td>1537.42</td>\n      <td>0.00</td>\n      <td>0.00</td>\n      <td>0.00</td>\n      <td>0.00</td>\n      <td>True</td>\n      <td>0.00</td>\n      <td>cc28db63-156e-4c68-a093-9811211ebd1d</td>\n      <td>...</td>\n      <td>None</td>\n      <td>1f9894ea-c7a3-4110-8bab-d043509bc7dc</td>\n      <td>{}</td>\n      <td>None</td>\n      <td>2023-03-20</td>\n      <td>2023-03-28</td>\n      <td>None</td>\n      <td>None</td>\n      <td>None</td>\n      <td>None</td>\n    </tr>\n    <tr>\n      <th>27</th>\n      <td>2023-11-13 17:38:45.216559+00:00</td>\n      <td>2023-11-13 17:38:45.224287+00:00</td>\n      <td>961.44</td>\n      <td>0.00</td>\n      <td>0.00</td>\n      <td>0.00</td>\n      <td>0.00</td>\n      <td>True</td>\n      <td>0.00</td>\n      <td>93d8df0e-4734-4b1b-aa50-7b79eb42fbe7</td>\n      <td>...</td>\n      <td>None</td>\n      <td>29f2ddb4-3b48-44cd-b5a7-394a715a0f7d</td>\n      <td>{}</td>\n      <td>None</td>\n      <td>2023-03-20</td>\n      <td>2023-03-27</td>\n      <td>None</td>\n      <td>None</td>\n      <td>None</td>\n      <td>None</td>\n    </tr>\n    <tr>\n      <th>28</th>\n      <td>2023-11-13 17:38:45.109765+00:00</td>\n      <td>2023-11-13 17:38:45.119033+00:00</td>\n      <td>739.64</td>\n      <td>0.00</td>\n      <td>0.00</td>\n      <td>0.00</td>\n      <td>0.00</td>\n      <td>True</td>\n      <td>0.00</td>\n      <td>f2a508ad-5fb7-4849-80b4-c44026f01016</td>\n      <td>...</td>\n      <td>None</td>\n      <td>eefe8979-eb21-4cd3-bfdb-c960727cd190</td>\n      <td>{}</td>\n      <td>None</td>\n      <td>2023-01-31</td>\n      <td>2023-02-02</td>\n      <td>None</td>\n      <td>None</td>\n      <td>None</td>\n      <td>None</td>\n    </tr>\n    <tr>\n      <th>29</th>\n      <td>2023-11-13 17:38:45.020373+00:00</td>\n      <td>2023-11-13 17:38:45.048628+00:00</td>\n      <td>1078.18</td>\n      <td>1078.18</td>\n      <td>0.00</td>\n      <td>0.00</td>\n      <td>1078.18</td>\n      <td>True</td>\n      <td>1.00</td>\n      <td>28f18a9f-a833-4881-8b35-a22c45c3b40a</td>\n      <td>...</td>\n      <td>None</td>\n      <td>1f9894ea-c7a3-4110-8bab-d043509bc7dc</td>\n      <td>{}</td>\n      <td>None</td>\n      <td>2023-03-06</td>\n      <td>2023-03-13</td>\n      <td>2023-03-18</td>\n      <td>2023-03-22</td>\n      <td>None</td>\n      <td>None</td>\n    </tr>\n  </tbody>\n</table>\n<p>30 rows × 29 columns</p>\n</div>"
     },
     "execution_count": 33,
     "metadata": {},
     "output_type": "execute_result"
    }
   ],
   "source": [
    "bills_qs = entity_model.get_bills()\n",
    "pd.DataFrame(bills_qs.values())"
   ]
  },
  {
   "cell_type": "markdown",
   "metadata": {},
   "source": [
    "## Create Bill"
   ]
  },
  {
   "cell_type": "code",
   "execution_count": 34,
   "metadata": {
    "tags": [],
    "ExecuteTime": {
     "end_time": "2023-11-13T17:38:53.558286Z",
     "start_time": "2023-11-13T17:38:53.536377Z"
    }
   },
   "outputs": [],
   "source": [
    "bill_model = entity_model.create_bill(\n",
    "    vendor_model='V-0000000002',\n",
    "    terms=BillModel.TERMS_NET_60\n",
    ")"
   ]
  },
  {
   "cell_type": "code",
   "execution_count": 35,
   "metadata": {
    "collapsed": false,
    "ExecuteTime": {
     "end_time": "2023-11-13T17:38:53.763612Z",
     "start_time": "2023-11-13T17:38:53.740532Z"
    }
   },
   "outputs": [
    {
     "data": {
      "text/plain": "<BillModel: Bill: B-2023-0000000023 | Draft>"
     },
     "execution_count": 35,
     "metadata": {},
     "output_type": "execute_result"
    }
   ],
   "source": [
    "bill_model"
   ]
  },
  {
   "cell_type": "markdown",
   "metadata": {},
   "source": [
    "## Add Items to Bills"
   ]
  },
  {
   "cell_type": "code",
   "execution_count": 36,
   "metadata": {
    "tags": [],
    "ExecuteTime": {
     "end_time": "2023-11-13T17:38:54.139675Z",
     "start_time": "2023-11-13T17:38:54.123861Z"
    }
   },
   "outputs": [
    {
     "data": {
      "text/plain": "[<ItemTransactionModel: Bill Model: 3aee4a4e-d600-4d0e-9a8d-0e1a17d409c8 | 115.64>,\n <ItemTransactionModel: Bill Model: 3aee4a4e-d600-4d0e-9a8d-0e1a17d409c8 | 479.17>,\n <ItemTransactionModel: Bill Model: 3aee4a4e-d600-4d0e-9a8d-0e1a17d409c8 | 1.83>,\n <ItemTransactionModel: Bill Model: 3aee4a4e-d600-4d0e-9a8d-0e1a17d409c8 | 573.97>,\n <ItemTransactionModel: Bill Model: 3aee4a4e-d600-4d0e-9a8d-0e1a17d409c8 | 41.83>,\n <ItemTransactionModel: Bill Model: 3aee4a4e-d600-4d0e-9a8d-0e1a17d409c8 | 144.99>]"
     },
     "execution_count": 36,
     "metadata": {},
     "output_type": "execute_result"
    }
   ],
   "source": [
    "bill_item_models = bill_model.get_item_model_qs()\n",
    "\n",
    "K = 6\n",
    "\n",
    "bill_itemtxs = {\n",
    "    im.item_number: {\n",
    "        'unit_cost': round(random() * 10, 2),\n",
    "        'quantity': round(random() * 100, 2),\n",
    "        'total_amount': None\n",
    "    } for im in choices(bill_item_models, k=K)\n",
    "}\n",
    "\n",
    "# Choose operation ITEMIZE_APPEND to append itemtxs...\n",
    "bill_itemtxs = bill_model.migrate_itemtxs(itemtxs=bill_itemtxs,\n",
    "                                          commit=True,\n",
    "                                          operation=BillModel.ITEMIZE_REPLACE)\n",
    "\n",
    "bill_itemtxs"
   ]
  },
  {
   "cell_type": "code",
   "execution_count": 37,
   "metadata": {
    "tags": [],
    "ExecuteTime": {
     "end_time": "2023-11-13T17:38:54.342841Z",
     "start_time": "2023-11-13T17:38:54.314410Z"
    }
   },
   "outputs": [
    {
     "data": {
      "text/plain": "Decimal('1357.43')"
     },
     "execution_count": 37,
     "metadata": {},
     "output_type": "execute_result"
    }
   ],
   "source": [
    "bill_model.amount_due"
   ]
  },
  {
   "cell_type": "markdown",
   "metadata": {},
   "source": [
    "# Purchase Orders"
   ]
  },
  {
   "cell_type": "markdown",
   "metadata": {},
   "source": [
    "## Get Purchase Orders"
   ]
  },
  {
   "cell_type": "code",
   "execution_count": 38,
   "metadata": {
    "tags": [],
    "ExecuteTime": {
     "end_time": "2023-11-13T17:38:54.954012Z",
     "start_time": "2023-11-13T17:38:54.929275Z"
    }
   },
   "outputs": [
    {
     "data": {
      "text/plain": "                            created                          updated  \\\n0  2023-11-13 17:38:44.971392+00:00 2023-11-13 17:38:44.979742+00:00   \n1  2023-11-13 17:38:45.067737+00:00 2023-11-13 17:38:45.077063+00:00   \n2  2023-11-13 17:38:45.131587+00:00 2023-11-13 17:38:45.145801+00:00   \n3  2023-11-13 17:38:45.237670+00:00 2023-11-13 17:38:45.247584+00:00   \n4  2023-11-13 17:38:45.305146+00:00 2023-11-13 17:38:45.314249+00:00   \n5  2023-11-13 17:38:45.365373+00:00 2023-11-13 17:38:45.404823+00:00   \n6  2023-11-13 17:38:45.484381+00:00 2023-11-13 17:38:45.492915+00:00   \n7  2023-11-13 17:38:45.551000+00:00 2023-11-13 17:38:45.558003+00:00   \n8  2023-11-13 17:38:45.646679+00:00 2023-11-13 17:38:45.649995+00:00   \n9  2023-11-13 17:38:45.702992+00:00 2023-11-13 17:38:45.712674+00:00   \n10 2023-11-13 17:38:45.766356+00:00 2023-11-13 17:38:45.775815+00:00   \n11 2023-11-13 17:38:45.844701+00:00 2023-11-13 17:38:45.848869+00:00   \n12 2023-11-13 17:38:45.911239+00:00 2023-11-13 17:38:45.918075+00:00   \n13 2023-11-13 17:38:46.048174+00:00 2023-11-13 17:38:46.058624+00:00   \n14 2023-11-13 17:38:46.148585+00:00 2023-11-13 17:38:46.154786+00:00   \n15 2023-11-13 17:38:46.206336+00:00 2023-11-13 17:38:46.214308+00:00   \n16 2023-11-13 17:38:46.262805+00:00 2023-11-13 17:38:46.272462+00:00   \n17 2023-11-13 17:38:46.358885+00:00 2023-11-13 17:38:46.366365+00:00   \n18 2023-11-13 17:38:46.418145+00:00 2023-11-13 17:38:46.425261+00:00   \n19 2023-11-13 17:38:46.482749+00:00 2023-11-13 17:38:46.487229+00:00   \n20 2023-11-13 17:38:46.549177+00:00 2023-11-13 17:38:46.559657+00:00   \n21 2023-11-13 17:38:46.623259+00:00 2023-11-13 17:38:46.633206+00:00   \n22 2023-11-13 17:38:46.686578+00:00 2023-11-13 17:38:46.694007+00:00   \n23 2023-11-13 17:38:46.771813+00:00 2023-11-13 17:38:46.783786+00:00   \n24 2023-11-13 17:38:46.899776+00:00 2023-11-13 17:38:46.910597+00:00   \n\n   markdown_notes                                  uuid           po_number  \\\n0            None  eaeeeed7-45e0-48f6-8f9f-7bf791d3dd04  PO-2023-0000000001   \n1            None  d0dab8bc-17fe-4dc4-af15-078b6803e5a7  PO-2023-0000000002   \n2            None  c42f6564-4506-4ea2-a2c4-7fd18fd1c945  PO-2023-0000000003   \n3            None  4e9db824-af40-4d93-9b25-03b4da6551de  PO-2023-0000000004   \n4            None  28d2ca06-bdbf-4634-bfa7-4d26e716f63b  PO-2023-0000000005   \n5            None  39ab1a83-4cd3-457f-9385-afe19e1fc781  PO-2022-0000000001   \n6            None  98c5e030-c83b-4b75-9202-0b84248d6dde  PO-2023-0000000006   \n7            None  a8c529ca-f11c-44f3-8f43-df314c168474  PO-2023-0000000007   \n8            None  46403eef-bafd-477d-a659-b15d1bb3e32d  PO-2022-0000000002   \n9            None  2fb8d512-96c9-460a-b277-ebe20c835873  PO-2023-0000000008   \n10           None  23840d61-22c7-4680-b10b-b318cf31a3d7  PO-2023-0000000009   \n11           None  e1833ecb-2cda-42bb-aa27-8386f61d7197  PO-2023-0000000010   \n12           None  3ba77dbf-cfa1-4541-a1bc-43b633ec3e11  PO-2023-0000000011   \n13           None  b1965bd9-e0e9-4f95-af28-778021ebfa99  PO-2023-0000000012   \n14           None  7cc4f0eb-f6c3-4501-b233-daf2422132a1  PO-2022-0000000003   \n15           None  b1a3952b-1af3-4fd8-9e09-61eb58cb28d5  PO-2022-0000000004   \n16           None  839cf9bd-2586-4220-a79f-29d7c62c919f  PO-2022-0000000005   \n17           None  d3bdc539-d6bd-40c5-9045-3c65241d386a  PO-2023-0000000013   \n18           None  6f4af818-6526-4bd5-91cc-6042f189bbd9  PO-2023-0000000014   \n19           None  f49d1ec5-9c37-431a-bcda-3e7b7b076a5e  PO-2023-0000000015   \n20           None  86523687-a7df-4fc9-86c6-3e3c63d1a534  PO-2023-0000000016   \n21           None  42acd96e-4ed9-442c-aaf4-51f47f2f81ae  PO-2023-0000000017   \n22           None  7665cef8-543e-43da-909d-d0ee9bea6c36  PO-2022-0000000006   \n23           None  f6734fda-43fb-415c-9567-56e536d36efa  PO-2023-0000000018   \n24           None  c0814f63-15fa-45ff-8fe4-3422f9289c48  PO-2023-0000000019   \n\n                        po_title  po_status po_amount po_amount_received  \\\n0   PO Number PO-2023-0000000001  in_review   1521.80               0.00   \n1   PO Number PO-2023-0000000002  in_review   5164.17               0.00   \n2   PO Number PO-2023-0000000003  in_review   8682.90               0.00   \n3   PO Number PO-2023-0000000004   approved  19201.04               0.00   \n4   PO Number PO-2023-0000000005      draft   4894.57               0.00   \n5   PO Number PO-2022-0000000001  fulfilled   3364.02               0.00   \n6   PO Number PO-2023-0000000006      draft  16338.32               0.00   \n7   PO Number PO-2023-0000000007   approved   4412.35               0.00   \n8   PO Number PO-2022-0000000002      draft   1374.67               0.00   \n9   PO Number PO-2023-0000000008  in_review  14391.63               0.00   \n10  PO Number PO-2023-0000000009  in_review   9547.96               0.00   \n11  PO Number PO-2023-0000000010  in_review   1190.00               0.00   \n12  PO Number PO-2023-0000000011  in_review   4471.76               0.00   \n13  PO Number PO-2023-0000000012  in_review  15901.32               0.00   \n14  PO Number PO-2022-0000000003  in_review   3605.83               0.00   \n15  PO Number PO-2022-0000000004   approved  13799.53               0.00   \n16  PO Number PO-2022-0000000005   approved   9626.27               0.00   \n17  PO Number PO-2023-0000000013  in_review   8592.58               0.00   \n18  PO Number PO-2023-0000000014  in_review   8076.93               0.00   \n19  PO Number PO-2023-0000000015  in_review   1269.16               0.00   \n20  PO Number PO-2023-0000000016   approved  17133.22               0.00   \n21  PO Number PO-2023-0000000017  in_review   9580.29               0.00   \n22  PO Number PO-2022-0000000006      draft  10531.88               0.00   \n23  PO Number PO-2023-0000000018   approved  19406.11               0.00   \n24  PO Number PO-2023-0000000019  in_review  13214.19               0.00   \n\n                               entity_id  date_draft date_in_review  \\\n0   44d57e0b-48bc-4e1b-8d9f-04b781cc607c  2023-03-05     2023-03-11   \n1   44d57e0b-48bc-4e1b-8d9f-04b781cc607c  2023-01-30     2023-02-04   \n2   44d57e0b-48bc-4e1b-8d9f-04b781cc607c  2023-03-19     2023-03-22   \n3   44d57e0b-48bc-4e1b-8d9f-04b781cc607c  2023-03-19     2023-03-24   \n4   44d57e0b-48bc-4e1b-8d9f-04b781cc607c  2023-01-07           None   \n5   44d57e0b-48bc-4e1b-8d9f-04b781cc607c  2022-11-26     2022-12-03   \n6   44d57e0b-48bc-4e1b-8d9f-04b781cc607c  2023-03-16           None   \n7   44d57e0b-48bc-4e1b-8d9f-04b781cc607c  2023-03-02     2023-03-06   \n8   44d57e0b-48bc-4e1b-8d9f-04b781cc607c  2022-11-06           None   \n9   44d57e0b-48bc-4e1b-8d9f-04b781cc607c  2023-03-10     2023-03-16   \n10  44d57e0b-48bc-4e1b-8d9f-04b781cc607c  2023-02-17     2023-02-18   \n11  44d57e0b-48bc-4e1b-8d9f-04b781cc607c  2023-03-26     2023-04-02   \n12  44d57e0b-48bc-4e1b-8d9f-04b781cc607c  2023-03-20     2023-03-24   \n13  44d57e0b-48bc-4e1b-8d9f-04b781cc607c  2023-01-08     2023-01-11   \n14  44d57e0b-48bc-4e1b-8d9f-04b781cc607c  2022-12-18     2022-12-26   \n15  44d57e0b-48bc-4e1b-8d9f-04b781cc607c  2022-10-09     2022-10-16   \n16  44d57e0b-48bc-4e1b-8d9f-04b781cc607c  2022-10-15     2022-10-23   \n17  44d57e0b-48bc-4e1b-8d9f-04b781cc607c  2023-02-09     2023-02-14   \n18  44d57e0b-48bc-4e1b-8d9f-04b781cc607c  2023-02-14     2023-02-15   \n19  44d57e0b-48bc-4e1b-8d9f-04b781cc607c  2023-02-04     2023-02-10   \n20  44d57e0b-48bc-4e1b-8d9f-04b781cc607c  2023-02-11     2023-02-18   \n21  44d57e0b-48bc-4e1b-8d9f-04b781cc607c  2023-02-21     2023-02-25   \n22  44d57e0b-48bc-4e1b-8d9f-04b781cc607c  2022-12-28           None   \n23  44d57e0b-48bc-4e1b-8d9f-04b781cc607c  2023-01-25     2023-01-27   \n24  44d57e0b-48bc-4e1b-8d9f-04b781cc607c  2022-12-31     2023-01-03   \n\n   date_approved date_void date_fulfilled date_canceled ce_model_id  \n0           None      None           None          None        None  \n1           None      None           None          None        None  \n2           None      None           None          None        None  \n3     2023-04-01      None           None          None        None  \n4           None      None           None          None        None  \n5     2022-12-06      None     2022-12-11          None        None  \n6           None      None           None          None        None  \n7     2023-03-08      None           None          None        None  \n8           None      None           None          None        None  \n9           None      None           None          None        None  \n10          None      None           None          None        None  \n11          None      None           None          None        None  \n12          None      None           None          None        None  \n13          None      None           None          None        None  \n14          None      None           None          None        None  \n15    2022-10-23      None           None          None        None  \n16    2022-10-27      None           None          None        None  \n17          None      None           None          None        None  \n18          None      None           None          None        None  \n19          None      None           None          None        None  \n20    2023-02-19      None           None          None        None  \n21          None      None           None          None        None  \n22          None      None           None          None        None  \n23    2023-01-30      None           None          None        None  \n24          None      None           None          None        None  ",
      "text/html": "<div>\n<style scoped>\n    .dataframe tbody tr th:only-of-type {\n        vertical-align: middle;\n    }\n\n    .dataframe tbody tr th {\n        vertical-align: top;\n    }\n\n    .dataframe thead th {\n        text-align: right;\n    }\n</style>\n<table border=\"1\" class=\"dataframe\">\n  <thead>\n    <tr style=\"text-align: right;\">\n      <th></th>\n      <th>created</th>\n      <th>updated</th>\n      <th>markdown_notes</th>\n      <th>uuid</th>\n      <th>po_number</th>\n      <th>po_title</th>\n      <th>po_status</th>\n      <th>po_amount</th>\n      <th>po_amount_received</th>\n      <th>entity_id</th>\n      <th>date_draft</th>\n      <th>date_in_review</th>\n      <th>date_approved</th>\n      <th>date_void</th>\n      <th>date_fulfilled</th>\n      <th>date_canceled</th>\n      <th>ce_model_id</th>\n    </tr>\n  </thead>\n  <tbody>\n    <tr>\n      <th>0</th>\n      <td>2023-11-13 17:38:44.971392+00:00</td>\n      <td>2023-11-13 17:38:44.979742+00:00</td>\n      <td>None</td>\n      <td>eaeeeed7-45e0-48f6-8f9f-7bf791d3dd04</td>\n      <td>PO-2023-0000000001</td>\n      <td>PO Number PO-2023-0000000001</td>\n      <td>in_review</td>\n      <td>1521.80</td>\n      <td>0.00</td>\n      <td>44d57e0b-48bc-4e1b-8d9f-04b781cc607c</td>\n      <td>2023-03-05</td>\n      <td>2023-03-11</td>\n      <td>None</td>\n      <td>None</td>\n      <td>None</td>\n      <td>None</td>\n      <td>None</td>\n    </tr>\n    <tr>\n      <th>1</th>\n      <td>2023-11-13 17:38:45.067737+00:00</td>\n      <td>2023-11-13 17:38:45.077063+00:00</td>\n      <td>None</td>\n      <td>d0dab8bc-17fe-4dc4-af15-078b6803e5a7</td>\n      <td>PO-2023-0000000002</td>\n      <td>PO Number PO-2023-0000000002</td>\n      <td>in_review</td>\n      <td>5164.17</td>\n      <td>0.00</td>\n      <td>44d57e0b-48bc-4e1b-8d9f-04b781cc607c</td>\n      <td>2023-01-30</td>\n      <td>2023-02-04</td>\n      <td>None</td>\n      <td>None</td>\n      <td>None</td>\n      <td>None</td>\n      <td>None</td>\n    </tr>\n    <tr>\n      <th>2</th>\n      <td>2023-11-13 17:38:45.131587+00:00</td>\n      <td>2023-11-13 17:38:45.145801+00:00</td>\n      <td>None</td>\n      <td>c42f6564-4506-4ea2-a2c4-7fd18fd1c945</td>\n      <td>PO-2023-0000000003</td>\n      <td>PO Number PO-2023-0000000003</td>\n      <td>in_review</td>\n      <td>8682.90</td>\n      <td>0.00</td>\n      <td>44d57e0b-48bc-4e1b-8d9f-04b781cc607c</td>\n      <td>2023-03-19</td>\n      <td>2023-03-22</td>\n      <td>None</td>\n      <td>None</td>\n      <td>None</td>\n      <td>None</td>\n      <td>None</td>\n    </tr>\n    <tr>\n      <th>3</th>\n      <td>2023-11-13 17:38:45.237670+00:00</td>\n      <td>2023-11-13 17:38:45.247584+00:00</td>\n      <td>None</td>\n      <td>4e9db824-af40-4d93-9b25-03b4da6551de</td>\n      <td>PO-2023-0000000004</td>\n      <td>PO Number PO-2023-0000000004</td>\n      <td>approved</td>\n      <td>19201.04</td>\n      <td>0.00</td>\n      <td>44d57e0b-48bc-4e1b-8d9f-04b781cc607c</td>\n      <td>2023-03-19</td>\n      <td>2023-03-24</td>\n      <td>2023-04-01</td>\n      <td>None</td>\n      <td>None</td>\n      <td>None</td>\n      <td>None</td>\n    </tr>\n    <tr>\n      <th>4</th>\n      <td>2023-11-13 17:38:45.305146+00:00</td>\n      <td>2023-11-13 17:38:45.314249+00:00</td>\n      <td>None</td>\n      <td>28d2ca06-bdbf-4634-bfa7-4d26e716f63b</td>\n      <td>PO-2023-0000000005</td>\n      <td>PO Number PO-2023-0000000005</td>\n      <td>draft</td>\n      <td>4894.57</td>\n      <td>0.00</td>\n      <td>44d57e0b-48bc-4e1b-8d9f-04b781cc607c</td>\n      <td>2023-01-07</td>\n      <td>None</td>\n      <td>None</td>\n      <td>None</td>\n      <td>None</td>\n      <td>None</td>\n      <td>None</td>\n    </tr>\n    <tr>\n      <th>5</th>\n      <td>2023-11-13 17:38:45.365373+00:00</td>\n      <td>2023-11-13 17:38:45.404823+00:00</td>\n      <td>None</td>\n      <td>39ab1a83-4cd3-457f-9385-afe19e1fc781</td>\n      <td>PO-2022-0000000001</td>\n      <td>PO Number PO-2022-0000000001</td>\n      <td>fulfilled</td>\n      <td>3364.02</td>\n      <td>0.00</td>\n      <td>44d57e0b-48bc-4e1b-8d9f-04b781cc607c</td>\n      <td>2022-11-26</td>\n      <td>2022-12-03</td>\n      <td>2022-12-06</td>\n      <td>None</td>\n      <td>2022-12-11</td>\n      <td>None</td>\n      <td>None</td>\n    </tr>\n    <tr>\n      <th>6</th>\n      <td>2023-11-13 17:38:45.484381+00:00</td>\n      <td>2023-11-13 17:38:45.492915+00:00</td>\n      <td>None</td>\n      <td>98c5e030-c83b-4b75-9202-0b84248d6dde</td>\n      <td>PO-2023-0000000006</td>\n      <td>PO Number PO-2023-0000000006</td>\n      <td>draft</td>\n      <td>16338.32</td>\n      <td>0.00</td>\n      <td>44d57e0b-48bc-4e1b-8d9f-04b781cc607c</td>\n      <td>2023-03-16</td>\n      <td>None</td>\n      <td>None</td>\n      <td>None</td>\n      <td>None</td>\n      <td>None</td>\n      <td>None</td>\n    </tr>\n    <tr>\n      <th>7</th>\n      <td>2023-11-13 17:38:45.551000+00:00</td>\n      <td>2023-11-13 17:38:45.558003+00:00</td>\n      <td>None</td>\n      <td>a8c529ca-f11c-44f3-8f43-df314c168474</td>\n      <td>PO-2023-0000000007</td>\n      <td>PO Number PO-2023-0000000007</td>\n      <td>approved</td>\n      <td>4412.35</td>\n      <td>0.00</td>\n      <td>44d57e0b-48bc-4e1b-8d9f-04b781cc607c</td>\n      <td>2023-03-02</td>\n      <td>2023-03-06</td>\n      <td>2023-03-08</td>\n      <td>None</td>\n      <td>None</td>\n      <td>None</td>\n      <td>None</td>\n    </tr>\n    <tr>\n      <th>8</th>\n      <td>2023-11-13 17:38:45.646679+00:00</td>\n      <td>2023-11-13 17:38:45.649995+00:00</td>\n      <td>None</td>\n      <td>46403eef-bafd-477d-a659-b15d1bb3e32d</td>\n      <td>PO-2022-0000000002</td>\n      <td>PO Number PO-2022-0000000002</td>\n      <td>draft</td>\n      <td>1374.67</td>\n      <td>0.00</td>\n      <td>44d57e0b-48bc-4e1b-8d9f-04b781cc607c</td>\n      <td>2022-11-06</td>\n      <td>None</td>\n      <td>None</td>\n      <td>None</td>\n      <td>None</td>\n      <td>None</td>\n      <td>None</td>\n    </tr>\n    <tr>\n      <th>9</th>\n      <td>2023-11-13 17:38:45.702992+00:00</td>\n      <td>2023-11-13 17:38:45.712674+00:00</td>\n      <td>None</td>\n      <td>2fb8d512-96c9-460a-b277-ebe20c835873</td>\n      <td>PO-2023-0000000008</td>\n      <td>PO Number PO-2023-0000000008</td>\n      <td>in_review</td>\n      <td>14391.63</td>\n      <td>0.00</td>\n      <td>44d57e0b-48bc-4e1b-8d9f-04b781cc607c</td>\n      <td>2023-03-10</td>\n      <td>2023-03-16</td>\n      <td>None</td>\n      <td>None</td>\n      <td>None</td>\n      <td>None</td>\n      <td>None</td>\n    </tr>\n    <tr>\n      <th>10</th>\n      <td>2023-11-13 17:38:45.766356+00:00</td>\n      <td>2023-11-13 17:38:45.775815+00:00</td>\n      <td>None</td>\n      <td>23840d61-22c7-4680-b10b-b318cf31a3d7</td>\n      <td>PO-2023-0000000009</td>\n      <td>PO Number PO-2023-0000000009</td>\n      <td>in_review</td>\n      <td>9547.96</td>\n      <td>0.00</td>\n      <td>44d57e0b-48bc-4e1b-8d9f-04b781cc607c</td>\n      <td>2023-02-17</td>\n      <td>2023-02-18</td>\n      <td>None</td>\n      <td>None</td>\n      <td>None</td>\n      <td>None</td>\n      <td>None</td>\n    </tr>\n    <tr>\n      <th>11</th>\n      <td>2023-11-13 17:38:45.844701+00:00</td>\n      <td>2023-11-13 17:38:45.848869+00:00</td>\n      <td>None</td>\n      <td>e1833ecb-2cda-42bb-aa27-8386f61d7197</td>\n      <td>PO-2023-0000000010</td>\n      <td>PO Number PO-2023-0000000010</td>\n      <td>in_review</td>\n      <td>1190.00</td>\n      <td>0.00</td>\n      <td>44d57e0b-48bc-4e1b-8d9f-04b781cc607c</td>\n      <td>2023-03-26</td>\n      <td>2023-04-02</td>\n      <td>None</td>\n      <td>None</td>\n      <td>None</td>\n      <td>None</td>\n      <td>None</td>\n    </tr>\n    <tr>\n      <th>12</th>\n      <td>2023-11-13 17:38:45.911239+00:00</td>\n      <td>2023-11-13 17:38:45.918075+00:00</td>\n      <td>None</td>\n      <td>3ba77dbf-cfa1-4541-a1bc-43b633ec3e11</td>\n      <td>PO-2023-0000000011</td>\n      <td>PO Number PO-2023-0000000011</td>\n      <td>in_review</td>\n      <td>4471.76</td>\n      <td>0.00</td>\n      <td>44d57e0b-48bc-4e1b-8d9f-04b781cc607c</td>\n      <td>2023-03-20</td>\n      <td>2023-03-24</td>\n      <td>None</td>\n      <td>None</td>\n      <td>None</td>\n      <td>None</td>\n      <td>None</td>\n    </tr>\n    <tr>\n      <th>13</th>\n      <td>2023-11-13 17:38:46.048174+00:00</td>\n      <td>2023-11-13 17:38:46.058624+00:00</td>\n      <td>None</td>\n      <td>b1965bd9-e0e9-4f95-af28-778021ebfa99</td>\n      <td>PO-2023-0000000012</td>\n      <td>PO Number PO-2023-0000000012</td>\n      <td>in_review</td>\n      <td>15901.32</td>\n      <td>0.00</td>\n      <td>44d57e0b-48bc-4e1b-8d9f-04b781cc607c</td>\n      <td>2023-01-08</td>\n      <td>2023-01-11</td>\n      <td>None</td>\n      <td>None</td>\n      <td>None</td>\n      <td>None</td>\n      <td>None</td>\n    </tr>\n    <tr>\n      <th>14</th>\n      <td>2023-11-13 17:38:46.148585+00:00</td>\n      <td>2023-11-13 17:38:46.154786+00:00</td>\n      <td>None</td>\n      <td>7cc4f0eb-f6c3-4501-b233-daf2422132a1</td>\n      <td>PO-2022-0000000003</td>\n      <td>PO Number PO-2022-0000000003</td>\n      <td>in_review</td>\n      <td>3605.83</td>\n      <td>0.00</td>\n      <td>44d57e0b-48bc-4e1b-8d9f-04b781cc607c</td>\n      <td>2022-12-18</td>\n      <td>2022-12-26</td>\n      <td>None</td>\n      <td>None</td>\n      <td>None</td>\n      <td>None</td>\n      <td>None</td>\n    </tr>\n    <tr>\n      <th>15</th>\n      <td>2023-11-13 17:38:46.206336+00:00</td>\n      <td>2023-11-13 17:38:46.214308+00:00</td>\n      <td>None</td>\n      <td>b1a3952b-1af3-4fd8-9e09-61eb58cb28d5</td>\n      <td>PO-2022-0000000004</td>\n      <td>PO Number PO-2022-0000000004</td>\n      <td>approved</td>\n      <td>13799.53</td>\n      <td>0.00</td>\n      <td>44d57e0b-48bc-4e1b-8d9f-04b781cc607c</td>\n      <td>2022-10-09</td>\n      <td>2022-10-16</td>\n      <td>2022-10-23</td>\n      <td>None</td>\n      <td>None</td>\n      <td>None</td>\n      <td>None</td>\n    </tr>\n    <tr>\n      <th>16</th>\n      <td>2023-11-13 17:38:46.262805+00:00</td>\n      <td>2023-11-13 17:38:46.272462+00:00</td>\n      <td>None</td>\n      <td>839cf9bd-2586-4220-a79f-29d7c62c919f</td>\n      <td>PO-2022-0000000005</td>\n      <td>PO Number PO-2022-0000000005</td>\n      <td>approved</td>\n      <td>9626.27</td>\n      <td>0.00</td>\n      <td>44d57e0b-48bc-4e1b-8d9f-04b781cc607c</td>\n      <td>2022-10-15</td>\n      <td>2022-10-23</td>\n      <td>2022-10-27</td>\n      <td>None</td>\n      <td>None</td>\n      <td>None</td>\n      <td>None</td>\n    </tr>\n    <tr>\n      <th>17</th>\n      <td>2023-11-13 17:38:46.358885+00:00</td>\n      <td>2023-11-13 17:38:46.366365+00:00</td>\n      <td>None</td>\n      <td>d3bdc539-d6bd-40c5-9045-3c65241d386a</td>\n      <td>PO-2023-0000000013</td>\n      <td>PO Number PO-2023-0000000013</td>\n      <td>in_review</td>\n      <td>8592.58</td>\n      <td>0.00</td>\n      <td>44d57e0b-48bc-4e1b-8d9f-04b781cc607c</td>\n      <td>2023-02-09</td>\n      <td>2023-02-14</td>\n      <td>None</td>\n      <td>None</td>\n      <td>None</td>\n      <td>None</td>\n      <td>None</td>\n    </tr>\n    <tr>\n      <th>18</th>\n      <td>2023-11-13 17:38:46.418145+00:00</td>\n      <td>2023-11-13 17:38:46.425261+00:00</td>\n      <td>None</td>\n      <td>6f4af818-6526-4bd5-91cc-6042f189bbd9</td>\n      <td>PO-2023-0000000014</td>\n      <td>PO Number PO-2023-0000000014</td>\n      <td>in_review</td>\n      <td>8076.93</td>\n      <td>0.00</td>\n      <td>44d57e0b-48bc-4e1b-8d9f-04b781cc607c</td>\n      <td>2023-02-14</td>\n      <td>2023-02-15</td>\n      <td>None</td>\n      <td>None</td>\n      <td>None</td>\n      <td>None</td>\n      <td>None</td>\n    </tr>\n    <tr>\n      <th>19</th>\n      <td>2023-11-13 17:38:46.482749+00:00</td>\n      <td>2023-11-13 17:38:46.487229+00:00</td>\n      <td>None</td>\n      <td>f49d1ec5-9c37-431a-bcda-3e7b7b076a5e</td>\n      <td>PO-2023-0000000015</td>\n      <td>PO Number PO-2023-0000000015</td>\n      <td>in_review</td>\n      <td>1269.16</td>\n      <td>0.00</td>\n      <td>44d57e0b-48bc-4e1b-8d9f-04b781cc607c</td>\n      <td>2023-02-04</td>\n      <td>2023-02-10</td>\n      <td>None</td>\n      <td>None</td>\n      <td>None</td>\n      <td>None</td>\n      <td>None</td>\n    </tr>\n    <tr>\n      <th>20</th>\n      <td>2023-11-13 17:38:46.549177+00:00</td>\n      <td>2023-11-13 17:38:46.559657+00:00</td>\n      <td>None</td>\n      <td>86523687-a7df-4fc9-86c6-3e3c63d1a534</td>\n      <td>PO-2023-0000000016</td>\n      <td>PO Number PO-2023-0000000016</td>\n      <td>approved</td>\n      <td>17133.22</td>\n      <td>0.00</td>\n      <td>44d57e0b-48bc-4e1b-8d9f-04b781cc607c</td>\n      <td>2023-02-11</td>\n      <td>2023-02-18</td>\n      <td>2023-02-19</td>\n      <td>None</td>\n      <td>None</td>\n      <td>None</td>\n      <td>None</td>\n    </tr>\n    <tr>\n      <th>21</th>\n      <td>2023-11-13 17:38:46.623259+00:00</td>\n      <td>2023-11-13 17:38:46.633206+00:00</td>\n      <td>None</td>\n      <td>42acd96e-4ed9-442c-aaf4-51f47f2f81ae</td>\n      <td>PO-2023-0000000017</td>\n      <td>PO Number PO-2023-0000000017</td>\n      <td>in_review</td>\n      <td>9580.29</td>\n      <td>0.00</td>\n      <td>44d57e0b-48bc-4e1b-8d9f-04b781cc607c</td>\n      <td>2023-02-21</td>\n      <td>2023-02-25</td>\n      <td>None</td>\n      <td>None</td>\n      <td>None</td>\n      <td>None</td>\n      <td>None</td>\n    </tr>\n    <tr>\n      <th>22</th>\n      <td>2023-11-13 17:38:46.686578+00:00</td>\n      <td>2023-11-13 17:38:46.694007+00:00</td>\n      <td>None</td>\n      <td>7665cef8-543e-43da-909d-d0ee9bea6c36</td>\n      <td>PO-2022-0000000006</td>\n      <td>PO Number PO-2022-0000000006</td>\n      <td>draft</td>\n      <td>10531.88</td>\n      <td>0.00</td>\n      <td>44d57e0b-48bc-4e1b-8d9f-04b781cc607c</td>\n      <td>2022-12-28</td>\n      <td>None</td>\n      <td>None</td>\n      <td>None</td>\n      <td>None</td>\n      <td>None</td>\n      <td>None</td>\n    </tr>\n    <tr>\n      <th>23</th>\n      <td>2023-11-13 17:38:46.771813+00:00</td>\n      <td>2023-11-13 17:38:46.783786+00:00</td>\n      <td>None</td>\n      <td>f6734fda-43fb-415c-9567-56e536d36efa</td>\n      <td>PO-2023-0000000018</td>\n      <td>PO Number PO-2023-0000000018</td>\n      <td>approved</td>\n      <td>19406.11</td>\n      <td>0.00</td>\n      <td>44d57e0b-48bc-4e1b-8d9f-04b781cc607c</td>\n      <td>2023-01-25</td>\n      <td>2023-01-27</td>\n      <td>2023-01-30</td>\n      <td>None</td>\n      <td>None</td>\n      <td>None</td>\n      <td>None</td>\n    </tr>\n    <tr>\n      <th>24</th>\n      <td>2023-11-13 17:38:46.899776+00:00</td>\n      <td>2023-11-13 17:38:46.910597+00:00</td>\n      <td>None</td>\n      <td>c0814f63-15fa-45ff-8fe4-3422f9289c48</td>\n      <td>PO-2023-0000000019</td>\n      <td>PO Number PO-2023-0000000019</td>\n      <td>in_review</td>\n      <td>13214.19</td>\n      <td>0.00</td>\n      <td>44d57e0b-48bc-4e1b-8d9f-04b781cc607c</td>\n      <td>2022-12-31</td>\n      <td>2023-01-03</td>\n      <td>None</td>\n      <td>None</td>\n      <td>None</td>\n      <td>None</td>\n      <td>None</td>\n    </tr>\n  </tbody>\n</table>\n</div>"
     },
     "execution_count": 38,
     "metadata": {},
     "output_type": "execute_result"
    }
   ],
   "source": [
    "purchase_orders_qs = entity_model.get_purchase_orders()\n",
    "pd.DataFrame(purchase_orders_qs.values())"
   ]
  },
  {
   "cell_type": "markdown",
   "metadata": {},
   "source": [
    "## Create Purchase Order"
   ]
  },
  {
   "cell_type": "code",
   "execution_count": 39,
   "metadata": {
    "tags": [],
    "ExecuteTime": {
     "end_time": "2023-11-13T17:38:55.344629Z",
     "start_time": "2023-11-13T17:38:55.315784Z"
    }
   },
   "outputs": [],
   "source": [
    "po_model = entity_model.create_purchase_order()"
   ]
  },
  {
   "cell_type": "markdown",
   "metadata": {},
   "source": [
    "## Add Items to Purchase Orders"
   ]
  },
  {
   "cell_type": "code",
   "execution_count": 40,
   "metadata": {
    "tags": [],
    "ExecuteTime": {
     "end_time": "2023-11-13T17:38:55.912692Z",
     "start_time": "2023-11-13T17:38:55.895543Z"
    }
   },
   "outputs": [
    {
     "data": {
      "text/plain": "[<ItemTransactionModel: PO Model: e6102e35-491a-4fd8-8892-5eb12360621e | Not Ordered | 40.36>,\n <ItemTransactionModel: PO Model: e6102e35-491a-4fd8-8892-5eb12360621e | Not Ordered | 319.77>,\n <ItemTransactionModel: PO Model: e6102e35-491a-4fd8-8892-5eb12360621e | Not Ordered | 49.02>,\n <ItemTransactionModel: PO Model: e6102e35-491a-4fd8-8892-5eb12360621e | Not Ordered | 21.62>,\n <ItemTransactionModel: PO Model: e6102e35-491a-4fd8-8892-5eb12360621e | Not Ordered | 217.84>,\n <ItemTransactionModel: PO Model: e6102e35-491a-4fd8-8892-5eb12360621e | Not Ordered | 475.93>]"
     },
     "execution_count": 40,
     "metadata": {},
     "output_type": "execute_result"
    }
   ],
   "source": [
    "po_item_models = po_model.get_item_model_qs()\n",
    "\n",
    "K = 6\n",
    "\n",
    "po_itemtxs = {\n",
    "    im.item_number: {\n",
    "        'unit_cost': round(random() * 10, 2),\n",
    "        'quantity': round(random() * 100, 2),\n",
    "        'total_amount': None\n",
    "    } for im in choices(po_item_models, k=K)\n",
    "}\n",
    "\n",
    "# Choose operation ITEMIZE_APPEND to append itemtxs...\n",
    "po_itemtxs = po_model.migrate_itemtxs(itemtxs=po_itemtxs,\n",
    "                                      commit=True,\n",
    "                                      operation=EstimateModel.ITEMIZE_REPLACE)\n",
    "\n",
    "po_itemtxs"
   ]
  },
  {
   "cell_type": "code",
   "execution_count": 41,
   "metadata": {
    "tags": [],
    "ExecuteTime": {
     "end_time": "2023-11-13T17:38:56.122056Z",
     "start_time": "2023-11-13T17:38:56.097901Z"
    }
   },
   "outputs": [
    {
     "data": {
      "text/plain": "Decimal('1124.54')"
     },
     "execution_count": 41,
     "metadata": {},
     "output_type": "execute_result"
    }
   ],
   "source": [
    "po_model.po_amount"
   ]
  },
  {
   "cell_type": "markdown",
   "metadata": {},
   "source": [
    "# Estimates/Contracts"
   ]
  },
  {
   "cell_type": "markdown",
   "metadata": {},
   "source": [
    "## Get Estimates/Contracts"
   ]
  },
  {
   "cell_type": "code",
   "execution_count": 42,
   "metadata": {
    "tags": [],
    "ExecuteTime": {
     "end_time": "2023-11-13T17:38:56.777584Z",
     "start_time": "2023-11-13T17:38:56.746167Z"
    }
   },
   "outputs": [
    {
     "data": {
      "text/plain": "                            created                          updated  \\\n0  2023-11-13 17:38:46.886888+00:00 2023-11-13 17:38:46.897893+00:00   \n1  2023-11-13 17:38:46.763741+00:00 2023-11-13 17:38:46.770160+00:00   \n2  2023-11-13 17:38:46.677547+00:00 2023-11-13 17:38:46.684864+00:00   \n3  2023-11-13 17:38:46.615297+00:00 2023-11-13 17:38:46.621651+00:00   \n4  2023-11-13 17:38:46.536798+00:00 2023-11-13 17:38:46.547460+00:00   \n5  2023-11-13 17:38:46.468053+00:00 2023-11-13 17:38:46.480791+00:00   \n6  2023-11-13 17:38:46.404943+00:00 2023-11-13 17:38:46.416423+00:00   \n7  2023-11-13 17:38:46.350434+00:00 2023-11-13 17:38:46.355283+00:00   \n8  2023-11-13 17:38:46.252139+00:00 2023-11-13 17:38:46.260645+00:00   \n9  2023-11-13 17:38:46.197362+00:00 2023-11-13 17:38:46.204714+00:00   \n10 2023-11-13 17:38:46.138026+00:00 2023-11-13 17:38:46.146958+00:00   \n11 2023-11-13 17:38:46.036869+00:00 2023-11-13 17:38:46.043509+00:00   \n12 2023-11-13 17:38:45.895787+00:00 2023-11-13 17:38:45.908953+00:00   \n13 2023-11-13 17:38:45.831915+00:00 2023-11-13 17:38:45.843013+00:00   \n14 2023-11-13 17:38:45.754008+00:00 2023-11-13 17:38:45.760726+00:00   \n15 2023-11-13 17:38:45.691546+00:00 2023-11-13 17:38:45.701396+00:00   \n16 2023-11-13 17:38:45.637530+00:00 2023-11-13 17:38:45.645052+00:00   \n17 2023-11-13 17:38:45.539325+00:00 2023-11-13 17:38:45.549313+00:00   \n18 2023-11-13 17:38:45.473460+00:00 2023-11-13 17:38:45.478739+00:00   \n19 2023-11-13 17:38:45.353131+00:00 2023-11-13 17:38:45.363673+00:00   \n20 2023-11-13 17:38:45.293498+00:00 2023-11-13 17:38:45.303089+00:00   \n21 2023-11-13 17:38:45.226091+00:00 2023-11-13 17:38:45.236046+00:00   \n22 2023-11-13 17:38:45.121409+00:00 2023-11-13 17:38:45.129121+00:00   \n23 2023-11-13 17:38:45.059792+00:00 2023-11-13 17:38:45.066157+00:00   \n24 2023-11-13 17:38:44.959299+00:00 2023-11-13 17:38:44.965678+00:00   \n\n   markdown_notes                                  uuid    estimate_number  \\\n0            None  6c1593e5-9e07-40f1-807a-5bb5d3c4661f  E-2023-0000000025   \n1            None  ac203317-1259-4035-8d79-f9438f2cb7fb  E-2023-0000000024   \n2            None  fade3523-3695-45ff-97b1-3dd1409a3b0e  E-2023-0000000023   \n3            None  9d92967c-8c09-4758-82f0-02bdc5d52297  E-2023-0000000022   \n4            None  68833f6b-f74b-4879-8ab2-c38ba151f550  E-2023-0000000021   \n5            None  2c2baece-b0d8-4256-a55a-2e0326969cdd  E-2023-0000000020   \n6            None  7a0930dd-673e-47d9-88d8-1928eaf85207  E-2023-0000000019   \n7            None  19fbbed0-a18b-45a8-8c14-3c96f9435acc  E-2023-0000000018   \n8            None  bab2707c-cdb0-4c09-a464-8500a3f3fc92  E-2023-0000000017   \n9            None  59fd0523-3a5d-4f4c-ac81-f80c5c400635  E-2023-0000000016   \n10           None  bd15a150-fd9c-44b3-8464-30a43c9fb414  E-2023-0000000015   \n11           None  611aaf4f-66df-4fb0-afde-491e8d501a7b  E-2023-0000000014   \n12           None  93669d0c-0826-4dff-b59e-a4c196e2fb87  E-2023-0000000013   \n13           None  63c79327-d7df-4ad4-bf82-22df681b9e26  E-2023-0000000012   \n14           None  cd702761-97f2-4e47-8e97-155ce661d169  E-2023-0000000011   \n15           None  164e0d93-ea27-4e9d-9723-2cfb0d62390d  E-2023-0000000010   \n16           None  7e31734b-fef3-42a6-adde-7cf999fcc240  E-2023-0000000009   \n17           None  5a3e0384-f2cd-498b-95c8-4d1ee32d6259  E-2023-0000000008   \n18           None  e44096d1-d75d-4b35-a9f8-e229888f9291  E-2023-0000000007   \n19           None  047a8e25-d88d-4a4f-a7c0-01439d984adb  E-2023-0000000006   \n20           None  fcaad2c2-03b8-4403-bcef-0ab5b471a9e0  E-2023-0000000005   \n21           None  e214a2fe-3e6e-4adf-b302-29d8e5fcf277  E-2023-0000000004   \n22           None  b8e5329b-c043-4f88-a43b-db09d900f8f0  E-2023-0000000003   \n23           None  4e60f650-b93c-410a-a17f-2b6ee1ad5689  E-2023-0000000002   \n24           None  ee186cad-8ab7-42ae-a5fe-1c532fc115e0  E-2023-0000000001   \n\n                               entity_id  \\\n0   44d57e0b-48bc-4e1b-8d9f-04b781cc607c   \n1   44d57e0b-48bc-4e1b-8d9f-04b781cc607c   \n2   44d57e0b-48bc-4e1b-8d9f-04b781cc607c   \n3   44d57e0b-48bc-4e1b-8d9f-04b781cc607c   \n4   44d57e0b-48bc-4e1b-8d9f-04b781cc607c   \n5   44d57e0b-48bc-4e1b-8d9f-04b781cc607c   \n6   44d57e0b-48bc-4e1b-8d9f-04b781cc607c   \n7   44d57e0b-48bc-4e1b-8d9f-04b781cc607c   \n8   44d57e0b-48bc-4e1b-8d9f-04b781cc607c   \n9   44d57e0b-48bc-4e1b-8d9f-04b781cc607c   \n10  44d57e0b-48bc-4e1b-8d9f-04b781cc607c   \n11  44d57e0b-48bc-4e1b-8d9f-04b781cc607c   \n12  44d57e0b-48bc-4e1b-8d9f-04b781cc607c   \n13  44d57e0b-48bc-4e1b-8d9f-04b781cc607c   \n14  44d57e0b-48bc-4e1b-8d9f-04b781cc607c   \n15  44d57e0b-48bc-4e1b-8d9f-04b781cc607c   \n16  44d57e0b-48bc-4e1b-8d9f-04b781cc607c   \n17  44d57e0b-48bc-4e1b-8d9f-04b781cc607c   \n18  44d57e0b-48bc-4e1b-8d9f-04b781cc607c   \n19  44d57e0b-48bc-4e1b-8d9f-04b781cc607c   \n20  44d57e0b-48bc-4e1b-8d9f-04b781cc607c   \n21  44d57e0b-48bc-4e1b-8d9f-04b781cc607c   \n22  44d57e0b-48bc-4e1b-8d9f-04b781cc607c   \n23  44d57e0b-48bc-4e1b-8d9f-04b781cc607c   \n24  44d57e0b-48bc-4e1b-8d9f-04b781cc607c   \n\n                             customer_id   terms  \\\n0   8366a9b4-0192-420d-9e6b-2df1912cd054  target   \n1   1e262888-3241-48da-8dcd-9df51028451e     t&m   \n2   b51a5ef6-1c51-4115-bb07-1e6b11262a27   fixed   \n3   8366a9b4-0192-420d-9e6b-2df1912cd054     t&m   \n4   8366a9b4-0192-420d-9e6b-2df1912cd054   fixed   \n5   5da00d3e-c9ab-4ffe-a022-abb6f044c772   other   \n6   91594ec2-1654-490e-ba29-4305ff99e32c     t&m   \n7   ac6214dd-7333-445a-bef1-56f4f180fb99  target   \n8   46d934b0-093e-4639-968d-7f1574e5f784   fixed   \n9   d74e5118-8608-4b5f-a97b-5cee198b077b   fixed   \n10  b51a5ef6-1c51-4115-bb07-1e6b11262a27   other   \n11  babcb385-7b6e-4dbb-ae3b-6710aa29f2cb     t&m   \n12  91594ec2-1654-490e-ba29-4305ff99e32c  target   \n13  e4ac62f7-8dea-4f99-a146-828f4acd53d2   other   \n14  991f527a-65ad-401c-b684-aa22fc9231b2   fixed   \n15  91594ec2-1654-490e-ba29-4305ff99e32c  target   \n16  46d934b0-093e-4639-968d-7f1574e5f784   other   \n17  8366a9b4-0192-420d-9e6b-2df1912cd054   fixed   \n18  babcb385-7b6e-4dbb-ae3b-6710aa29f2cb   fixed   \n19  2bdbe2fa-5802-4b3d-a0cc-f2db59881326     t&m   \n20  58965fd4-107f-4c70-a985-990fd21a1b74   fixed   \n21  2bdbe2fa-5802-4b3d-a0cc-f2db59881326     t&m   \n22  1e262888-3241-48da-8dcd-9df51028451e   other   \n23  cfbc50a3-1b0f-4c9c-8e45-2ed23ac2e28f  target   \n24  ac6214dd-7333-445a-bef1-56f4f180fb99   fixed   \n\n                                          title     status  ...  \\\n0   Customer Estimate 2023-01-01 00:00:00+00:00  completed  ...   \n1   Customer Estimate 2023-01-26 00:00:00+00:00  in_review  ...   \n2   Customer Estimate 2022-12-29 00:00:00+00:00  completed  ...   \n3   Customer Estimate 2023-02-22 00:00:00+00:00   canceled  ...   \n4   Customer Estimate 2023-02-12 00:00:00+00:00  in_review  ...   \n5   Customer Estimate 2023-02-05 00:00:00+00:00  completed  ...   \n6   Customer Estimate 2023-02-15 00:00:00+00:00  completed  ...   \n7   Customer Estimate 2023-02-10 00:00:00+00:00      draft  ...   \n8   Customer Estimate 2022-10-16 00:00:00+00:00  in_review  ...   \n9   Customer Estimate 2022-10-10 00:00:00+00:00  completed  ...   \n10  Customer Estimate 2022-12-19 00:00:00+00:00  completed  ...   \n11  Customer Estimate 2023-01-09 00:00:00+00:00      draft  ...   \n12  Customer Estimate 2023-03-21 00:00:00+00:00  in_review  ...   \n13  Customer Estimate 2023-03-27 00:00:00+00:00  completed  ...   \n14  Customer Estimate 2023-02-18 00:00:00+00:00      draft  ...   \n15  Customer Estimate 2023-03-11 00:00:00+00:00  in_review  ...   \n16  Customer Estimate 2022-11-07 00:00:00+00:00  in_review  ...   \n17  Customer Estimate 2023-03-03 00:00:00+00:00  in_review  ...   \n18  Customer Estimate 2023-03-17 00:00:00+00:00      draft  ...   \n19  Customer Estimate 2022-11-27 00:00:00+00:00  in_review  ...   \n20  Customer Estimate 2023-01-08 00:00:00+00:00  completed  ...   \n21  Customer Estimate 2023-03-20 00:00:00+00:00  in_review  ...   \n22  Customer Estimate 2023-03-20 00:00:00+00:00  completed  ...   \n23  Customer Estimate 2023-01-31 00:00:00+00:00   approved  ...   \n24  Customer Estimate 2023-03-06 00:00:00+00:00      draft  ...   \n\n   date_in_review date_approved date_completed date_canceled date_void  \\\n0      2023-01-04    2023-01-06     2023-01-11          None      None   \n1      2023-01-26          None           None          None      None   \n2      2022-12-29    2023-01-02     2023-01-05          None      None   \n3      2023-03-01          None           None    2023-03-04      None   \n4      2023-02-12          None           None          None      None   \n5      2023-02-12    2023-02-13     2023-02-20          None      None   \n6      2023-02-22    2023-02-28     2023-03-08          None      None   \n7            None          None           None          None      None   \n8      2022-10-19          None           None          None      None   \n9      2022-10-13    2022-10-15     2022-10-23          None      None   \n10     2022-12-21    2022-12-27     2022-12-29          None      None   \n11           None          None           None          None      None   \n12     2023-03-25          None           None          None      None   \n13     2023-03-31    2023-04-04     2023-04-09          None      None   \n14           None          None           None          None      None   \n15     2023-03-14          None           None          None      None   \n16     2022-11-09          None           None          None      None   \n17     2023-03-05          None           None          None      None   \n18           None          None           None          None      None   \n19     2022-12-01          None           None          None      None   \n20     2023-01-15    2023-01-21     2023-01-24          None      None   \n21     2023-03-27          None           None          None      None   \n22     2023-03-26    2023-03-28     2023-04-01          None      None   \n23     2023-02-07    2023-02-13           None          None      None   \n24           None          None           None          None      None   \n\n   revenue_estimate labor_estimate material_estimate equipment_estimate  \\\n0            800.68           0.00              0.00               0.00   \n1           1056.77           0.00              0.00               0.00   \n2            757.37           0.00              0.00               0.00   \n3            425.90           0.00              0.00               0.00   \n4           2795.21           0.00              0.00               0.00   \n5           2205.25           0.00              0.00               0.00   \n6           2048.06           0.00              0.00               0.00   \n7           1814.88           0.00              0.00               0.00   \n8           1791.28           0.00              0.00               0.00   \n9           1012.00           0.00              0.00               0.00   \n10          1024.69           0.00              0.00               0.00   \n11          2958.58           0.00              0.00               0.00   \n12          3934.02           0.00              0.00               0.00   \n13          2425.53           0.00              0.00               0.00   \n14          2744.74           0.00              0.00               0.00   \n15          1871.62           0.00              0.00               0.00   \n16          1283.69           0.00              0.00               0.00   \n17          2067.25           0.00              0.00               0.00   \n18          1221.59           0.00              0.00               0.00   \n19          2390.08           0.00              0.00               0.00   \n20           496.34           0.00              0.00               0.00   \n21          2158.67           0.00              0.00               0.00   \n22            24.62           0.00              0.00               0.00   \n23           543.09           0.00              0.00               0.00   \n24           847.16           0.00              0.00               0.00   \n\n   other_estimate  \n0          201.22  \n1          640.70  \n2          388.41  \n3          372.38  \n4         1303.50  \n5         1413.63  \n6         1848.24  \n7          640.96  \n8          998.99  \n9           73.18  \n10         713.37  \n11        1537.91  \n12        1895.97  \n13        2685.57  \n14        3351.39  \n15        1985.52  \n16        1227.63  \n17        1217.28  \n18         792.44  \n19        2675.25  \n20         613.26  \n21         937.73  \n22          44.84  \n23         245.68  \n24         327.56  \n\n[25 rows x 21 columns]",
      "text/html": "<div>\n<style scoped>\n    .dataframe tbody tr th:only-of-type {\n        vertical-align: middle;\n    }\n\n    .dataframe tbody tr th {\n        vertical-align: top;\n    }\n\n    .dataframe thead th {\n        text-align: right;\n    }\n</style>\n<table border=\"1\" class=\"dataframe\">\n  <thead>\n    <tr style=\"text-align: right;\">\n      <th></th>\n      <th>created</th>\n      <th>updated</th>\n      <th>markdown_notes</th>\n      <th>uuid</th>\n      <th>estimate_number</th>\n      <th>entity_id</th>\n      <th>customer_id</th>\n      <th>terms</th>\n      <th>title</th>\n      <th>status</th>\n      <th>...</th>\n      <th>date_in_review</th>\n      <th>date_approved</th>\n      <th>date_completed</th>\n      <th>date_canceled</th>\n      <th>date_void</th>\n      <th>revenue_estimate</th>\n      <th>labor_estimate</th>\n      <th>material_estimate</th>\n      <th>equipment_estimate</th>\n      <th>other_estimate</th>\n    </tr>\n  </thead>\n  <tbody>\n    <tr>\n      <th>0</th>\n      <td>2023-11-13 17:38:46.886888+00:00</td>\n      <td>2023-11-13 17:38:46.897893+00:00</td>\n      <td>None</td>\n      <td>6c1593e5-9e07-40f1-807a-5bb5d3c4661f</td>\n      <td>E-2023-0000000025</td>\n      <td>44d57e0b-48bc-4e1b-8d9f-04b781cc607c</td>\n      <td>8366a9b4-0192-420d-9e6b-2df1912cd054</td>\n      <td>target</td>\n      <td>Customer Estimate 2023-01-01 00:00:00+00:00</td>\n      <td>completed</td>\n      <td>...</td>\n      <td>2023-01-04</td>\n      <td>2023-01-06</td>\n      <td>2023-01-11</td>\n      <td>None</td>\n      <td>None</td>\n      <td>800.68</td>\n      <td>0.00</td>\n      <td>0.00</td>\n      <td>0.00</td>\n      <td>201.22</td>\n    </tr>\n    <tr>\n      <th>1</th>\n      <td>2023-11-13 17:38:46.763741+00:00</td>\n      <td>2023-11-13 17:38:46.770160+00:00</td>\n      <td>None</td>\n      <td>ac203317-1259-4035-8d79-f9438f2cb7fb</td>\n      <td>E-2023-0000000024</td>\n      <td>44d57e0b-48bc-4e1b-8d9f-04b781cc607c</td>\n      <td>1e262888-3241-48da-8dcd-9df51028451e</td>\n      <td>t&amp;m</td>\n      <td>Customer Estimate 2023-01-26 00:00:00+00:00</td>\n      <td>in_review</td>\n      <td>...</td>\n      <td>2023-01-26</td>\n      <td>None</td>\n      <td>None</td>\n      <td>None</td>\n      <td>None</td>\n      <td>1056.77</td>\n      <td>0.00</td>\n      <td>0.00</td>\n      <td>0.00</td>\n      <td>640.70</td>\n    </tr>\n    <tr>\n      <th>2</th>\n      <td>2023-11-13 17:38:46.677547+00:00</td>\n      <td>2023-11-13 17:38:46.684864+00:00</td>\n      <td>None</td>\n      <td>fade3523-3695-45ff-97b1-3dd1409a3b0e</td>\n      <td>E-2023-0000000023</td>\n      <td>44d57e0b-48bc-4e1b-8d9f-04b781cc607c</td>\n      <td>b51a5ef6-1c51-4115-bb07-1e6b11262a27</td>\n      <td>fixed</td>\n      <td>Customer Estimate 2022-12-29 00:00:00+00:00</td>\n      <td>completed</td>\n      <td>...</td>\n      <td>2022-12-29</td>\n      <td>2023-01-02</td>\n      <td>2023-01-05</td>\n      <td>None</td>\n      <td>None</td>\n      <td>757.37</td>\n      <td>0.00</td>\n      <td>0.00</td>\n      <td>0.00</td>\n      <td>388.41</td>\n    </tr>\n    <tr>\n      <th>3</th>\n      <td>2023-11-13 17:38:46.615297+00:00</td>\n      <td>2023-11-13 17:38:46.621651+00:00</td>\n      <td>None</td>\n      <td>9d92967c-8c09-4758-82f0-02bdc5d52297</td>\n      <td>E-2023-0000000022</td>\n      <td>44d57e0b-48bc-4e1b-8d9f-04b781cc607c</td>\n      <td>8366a9b4-0192-420d-9e6b-2df1912cd054</td>\n      <td>t&amp;m</td>\n      <td>Customer Estimate 2023-02-22 00:00:00+00:00</td>\n      <td>canceled</td>\n      <td>...</td>\n      <td>2023-03-01</td>\n      <td>None</td>\n      <td>None</td>\n      <td>2023-03-04</td>\n      <td>None</td>\n      <td>425.90</td>\n      <td>0.00</td>\n      <td>0.00</td>\n      <td>0.00</td>\n      <td>372.38</td>\n    </tr>\n    <tr>\n      <th>4</th>\n      <td>2023-11-13 17:38:46.536798+00:00</td>\n      <td>2023-11-13 17:38:46.547460+00:00</td>\n      <td>None</td>\n      <td>68833f6b-f74b-4879-8ab2-c38ba151f550</td>\n      <td>E-2023-0000000021</td>\n      <td>44d57e0b-48bc-4e1b-8d9f-04b781cc607c</td>\n      <td>8366a9b4-0192-420d-9e6b-2df1912cd054</td>\n      <td>fixed</td>\n      <td>Customer Estimate 2023-02-12 00:00:00+00:00</td>\n      <td>in_review</td>\n      <td>...</td>\n      <td>2023-02-12</td>\n      <td>None</td>\n      <td>None</td>\n      <td>None</td>\n      <td>None</td>\n      <td>2795.21</td>\n      <td>0.00</td>\n      <td>0.00</td>\n      <td>0.00</td>\n      <td>1303.50</td>\n    </tr>\n    <tr>\n      <th>5</th>\n      <td>2023-11-13 17:38:46.468053+00:00</td>\n      <td>2023-11-13 17:38:46.480791+00:00</td>\n      <td>None</td>\n      <td>2c2baece-b0d8-4256-a55a-2e0326969cdd</td>\n      <td>E-2023-0000000020</td>\n      <td>44d57e0b-48bc-4e1b-8d9f-04b781cc607c</td>\n      <td>5da00d3e-c9ab-4ffe-a022-abb6f044c772</td>\n      <td>other</td>\n      <td>Customer Estimate 2023-02-05 00:00:00+00:00</td>\n      <td>completed</td>\n      <td>...</td>\n      <td>2023-02-12</td>\n      <td>2023-02-13</td>\n      <td>2023-02-20</td>\n      <td>None</td>\n      <td>None</td>\n      <td>2205.25</td>\n      <td>0.00</td>\n      <td>0.00</td>\n      <td>0.00</td>\n      <td>1413.63</td>\n    </tr>\n    <tr>\n      <th>6</th>\n      <td>2023-11-13 17:38:46.404943+00:00</td>\n      <td>2023-11-13 17:38:46.416423+00:00</td>\n      <td>None</td>\n      <td>7a0930dd-673e-47d9-88d8-1928eaf85207</td>\n      <td>E-2023-0000000019</td>\n      <td>44d57e0b-48bc-4e1b-8d9f-04b781cc607c</td>\n      <td>91594ec2-1654-490e-ba29-4305ff99e32c</td>\n      <td>t&amp;m</td>\n      <td>Customer Estimate 2023-02-15 00:00:00+00:00</td>\n      <td>completed</td>\n      <td>...</td>\n      <td>2023-02-22</td>\n      <td>2023-02-28</td>\n      <td>2023-03-08</td>\n      <td>None</td>\n      <td>None</td>\n      <td>2048.06</td>\n      <td>0.00</td>\n      <td>0.00</td>\n      <td>0.00</td>\n      <td>1848.24</td>\n    </tr>\n    <tr>\n      <th>7</th>\n      <td>2023-11-13 17:38:46.350434+00:00</td>\n      <td>2023-11-13 17:38:46.355283+00:00</td>\n      <td>None</td>\n      <td>19fbbed0-a18b-45a8-8c14-3c96f9435acc</td>\n      <td>E-2023-0000000018</td>\n      <td>44d57e0b-48bc-4e1b-8d9f-04b781cc607c</td>\n      <td>ac6214dd-7333-445a-bef1-56f4f180fb99</td>\n      <td>target</td>\n      <td>Customer Estimate 2023-02-10 00:00:00+00:00</td>\n      <td>draft</td>\n      <td>...</td>\n      <td>None</td>\n      <td>None</td>\n      <td>None</td>\n      <td>None</td>\n      <td>None</td>\n      <td>1814.88</td>\n      <td>0.00</td>\n      <td>0.00</td>\n      <td>0.00</td>\n      <td>640.96</td>\n    </tr>\n    <tr>\n      <th>8</th>\n      <td>2023-11-13 17:38:46.252139+00:00</td>\n      <td>2023-11-13 17:38:46.260645+00:00</td>\n      <td>None</td>\n      <td>bab2707c-cdb0-4c09-a464-8500a3f3fc92</td>\n      <td>E-2023-0000000017</td>\n      <td>44d57e0b-48bc-4e1b-8d9f-04b781cc607c</td>\n      <td>46d934b0-093e-4639-968d-7f1574e5f784</td>\n      <td>fixed</td>\n      <td>Customer Estimate 2022-10-16 00:00:00+00:00</td>\n      <td>in_review</td>\n      <td>...</td>\n      <td>2022-10-19</td>\n      <td>None</td>\n      <td>None</td>\n      <td>None</td>\n      <td>None</td>\n      <td>1791.28</td>\n      <td>0.00</td>\n      <td>0.00</td>\n      <td>0.00</td>\n      <td>998.99</td>\n    </tr>\n    <tr>\n      <th>9</th>\n      <td>2023-11-13 17:38:46.197362+00:00</td>\n      <td>2023-11-13 17:38:46.204714+00:00</td>\n      <td>None</td>\n      <td>59fd0523-3a5d-4f4c-ac81-f80c5c400635</td>\n      <td>E-2023-0000000016</td>\n      <td>44d57e0b-48bc-4e1b-8d9f-04b781cc607c</td>\n      <td>d74e5118-8608-4b5f-a97b-5cee198b077b</td>\n      <td>fixed</td>\n      <td>Customer Estimate 2022-10-10 00:00:00+00:00</td>\n      <td>completed</td>\n      <td>...</td>\n      <td>2022-10-13</td>\n      <td>2022-10-15</td>\n      <td>2022-10-23</td>\n      <td>None</td>\n      <td>None</td>\n      <td>1012.00</td>\n      <td>0.00</td>\n      <td>0.00</td>\n      <td>0.00</td>\n      <td>73.18</td>\n    </tr>\n    <tr>\n      <th>10</th>\n      <td>2023-11-13 17:38:46.138026+00:00</td>\n      <td>2023-11-13 17:38:46.146958+00:00</td>\n      <td>None</td>\n      <td>bd15a150-fd9c-44b3-8464-30a43c9fb414</td>\n      <td>E-2023-0000000015</td>\n      <td>44d57e0b-48bc-4e1b-8d9f-04b781cc607c</td>\n      <td>b51a5ef6-1c51-4115-bb07-1e6b11262a27</td>\n      <td>other</td>\n      <td>Customer Estimate 2022-12-19 00:00:00+00:00</td>\n      <td>completed</td>\n      <td>...</td>\n      <td>2022-12-21</td>\n      <td>2022-12-27</td>\n      <td>2022-12-29</td>\n      <td>None</td>\n      <td>None</td>\n      <td>1024.69</td>\n      <td>0.00</td>\n      <td>0.00</td>\n      <td>0.00</td>\n      <td>713.37</td>\n    </tr>\n    <tr>\n      <th>11</th>\n      <td>2023-11-13 17:38:46.036869+00:00</td>\n      <td>2023-11-13 17:38:46.043509+00:00</td>\n      <td>None</td>\n      <td>611aaf4f-66df-4fb0-afde-491e8d501a7b</td>\n      <td>E-2023-0000000014</td>\n      <td>44d57e0b-48bc-4e1b-8d9f-04b781cc607c</td>\n      <td>babcb385-7b6e-4dbb-ae3b-6710aa29f2cb</td>\n      <td>t&amp;m</td>\n      <td>Customer Estimate 2023-01-09 00:00:00+00:00</td>\n      <td>draft</td>\n      <td>...</td>\n      <td>None</td>\n      <td>None</td>\n      <td>None</td>\n      <td>None</td>\n      <td>None</td>\n      <td>2958.58</td>\n      <td>0.00</td>\n      <td>0.00</td>\n      <td>0.00</td>\n      <td>1537.91</td>\n    </tr>\n    <tr>\n      <th>12</th>\n      <td>2023-11-13 17:38:45.895787+00:00</td>\n      <td>2023-11-13 17:38:45.908953+00:00</td>\n      <td>None</td>\n      <td>93669d0c-0826-4dff-b59e-a4c196e2fb87</td>\n      <td>E-2023-0000000013</td>\n      <td>44d57e0b-48bc-4e1b-8d9f-04b781cc607c</td>\n      <td>91594ec2-1654-490e-ba29-4305ff99e32c</td>\n      <td>target</td>\n      <td>Customer Estimate 2023-03-21 00:00:00+00:00</td>\n      <td>in_review</td>\n      <td>...</td>\n      <td>2023-03-25</td>\n      <td>None</td>\n      <td>None</td>\n      <td>None</td>\n      <td>None</td>\n      <td>3934.02</td>\n      <td>0.00</td>\n      <td>0.00</td>\n      <td>0.00</td>\n      <td>1895.97</td>\n    </tr>\n    <tr>\n      <th>13</th>\n      <td>2023-11-13 17:38:45.831915+00:00</td>\n      <td>2023-11-13 17:38:45.843013+00:00</td>\n      <td>None</td>\n      <td>63c79327-d7df-4ad4-bf82-22df681b9e26</td>\n      <td>E-2023-0000000012</td>\n      <td>44d57e0b-48bc-4e1b-8d9f-04b781cc607c</td>\n      <td>e4ac62f7-8dea-4f99-a146-828f4acd53d2</td>\n      <td>other</td>\n      <td>Customer Estimate 2023-03-27 00:00:00+00:00</td>\n      <td>completed</td>\n      <td>...</td>\n      <td>2023-03-31</td>\n      <td>2023-04-04</td>\n      <td>2023-04-09</td>\n      <td>None</td>\n      <td>None</td>\n      <td>2425.53</td>\n      <td>0.00</td>\n      <td>0.00</td>\n      <td>0.00</td>\n      <td>2685.57</td>\n    </tr>\n    <tr>\n      <th>14</th>\n      <td>2023-11-13 17:38:45.754008+00:00</td>\n      <td>2023-11-13 17:38:45.760726+00:00</td>\n      <td>None</td>\n      <td>cd702761-97f2-4e47-8e97-155ce661d169</td>\n      <td>E-2023-0000000011</td>\n      <td>44d57e0b-48bc-4e1b-8d9f-04b781cc607c</td>\n      <td>991f527a-65ad-401c-b684-aa22fc9231b2</td>\n      <td>fixed</td>\n      <td>Customer Estimate 2023-02-18 00:00:00+00:00</td>\n      <td>draft</td>\n      <td>...</td>\n      <td>None</td>\n      <td>None</td>\n      <td>None</td>\n      <td>None</td>\n      <td>None</td>\n      <td>2744.74</td>\n      <td>0.00</td>\n      <td>0.00</td>\n      <td>0.00</td>\n      <td>3351.39</td>\n    </tr>\n    <tr>\n      <th>15</th>\n      <td>2023-11-13 17:38:45.691546+00:00</td>\n      <td>2023-11-13 17:38:45.701396+00:00</td>\n      <td>None</td>\n      <td>164e0d93-ea27-4e9d-9723-2cfb0d62390d</td>\n      <td>E-2023-0000000010</td>\n      <td>44d57e0b-48bc-4e1b-8d9f-04b781cc607c</td>\n      <td>91594ec2-1654-490e-ba29-4305ff99e32c</td>\n      <td>target</td>\n      <td>Customer Estimate 2023-03-11 00:00:00+00:00</td>\n      <td>in_review</td>\n      <td>...</td>\n      <td>2023-03-14</td>\n      <td>None</td>\n      <td>None</td>\n      <td>None</td>\n      <td>None</td>\n      <td>1871.62</td>\n      <td>0.00</td>\n      <td>0.00</td>\n      <td>0.00</td>\n      <td>1985.52</td>\n    </tr>\n    <tr>\n      <th>16</th>\n      <td>2023-11-13 17:38:45.637530+00:00</td>\n      <td>2023-11-13 17:38:45.645052+00:00</td>\n      <td>None</td>\n      <td>7e31734b-fef3-42a6-adde-7cf999fcc240</td>\n      <td>E-2023-0000000009</td>\n      <td>44d57e0b-48bc-4e1b-8d9f-04b781cc607c</td>\n      <td>46d934b0-093e-4639-968d-7f1574e5f784</td>\n      <td>other</td>\n      <td>Customer Estimate 2022-11-07 00:00:00+00:00</td>\n      <td>in_review</td>\n      <td>...</td>\n      <td>2022-11-09</td>\n      <td>None</td>\n      <td>None</td>\n      <td>None</td>\n      <td>None</td>\n      <td>1283.69</td>\n      <td>0.00</td>\n      <td>0.00</td>\n      <td>0.00</td>\n      <td>1227.63</td>\n    </tr>\n    <tr>\n      <th>17</th>\n      <td>2023-11-13 17:38:45.539325+00:00</td>\n      <td>2023-11-13 17:38:45.549313+00:00</td>\n      <td>None</td>\n      <td>5a3e0384-f2cd-498b-95c8-4d1ee32d6259</td>\n      <td>E-2023-0000000008</td>\n      <td>44d57e0b-48bc-4e1b-8d9f-04b781cc607c</td>\n      <td>8366a9b4-0192-420d-9e6b-2df1912cd054</td>\n      <td>fixed</td>\n      <td>Customer Estimate 2023-03-03 00:00:00+00:00</td>\n      <td>in_review</td>\n      <td>...</td>\n      <td>2023-03-05</td>\n      <td>None</td>\n      <td>None</td>\n      <td>None</td>\n      <td>None</td>\n      <td>2067.25</td>\n      <td>0.00</td>\n      <td>0.00</td>\n      <td>0.00</td>\n      <td>1217.28</td>\n    </tr>\n    <tr>\n      <th>18</th>\n      <td>2023-11-13 17:38:45.473460+00:00</td>\n      <td>2023-11-13 17:38:45.478739+00:00</td>\n      <td>None</td>\n      <td>e44096d1-d75d-4b35-a9f8-e229888f9291</td>\n      <td>E-2023-0000000007</td>\n      <td>44d57e0b-48bc-4e1b-8d9f-04b781cc607c</td>\n      <td>babcb385-7b6e-4dbb-ae3b-6710aa29f2cb</td>\n      <td>fixed</td>\n      <td>Customer Estimate 2023-03-17 00:00:00+00:00</td>\n      <td>draft</td>\n      <td>...</td>\n      <td>None</td>\n      <td>None</td>\n      <td>None</td>\n      <td>None</td>\n      <td>None</td>\n      <td>1221.59</td>\n      <td>0.00</td>\n      <td>0.00</td>\n      <td>0.00</td>\n      <td>792.44</td>\n    </tr>\n    <tr>\n      <th>19</th>\n      <td>2023-11-13 17:38:45.353131+00:00</td>\n      <td>2023-11-13 17:38:45.363673+00:00</td>\n      <td>None</td>\n      <td>047a8e25-d88d-4a4f-a7c0-01439d984adb</td>\n      <td>E-2023-0000000006</td>\n      <td>44d57e0b-48bc-4e1b-8d9f-04b781cc607c</td>\n      <td>2bdbe2fa-5802-4b3d-a0cc-f2db59881326</td>\n      <td>t&amp;m</td>\n      <td>Customer Estimate 2022-11-27 00:00:00+00:00</td>\n      <td>in_review</td>\n      <td>...</td>\n      <td>2022-12-01</td>\n      <td>None</td>\n      <td>None</td>\n      <td>None</td>\n      <td>None</td>\n      <td>2390.08</td>\n      <td>0.00</td>\n      <td>0.00</td>\n      <td>0.00</td>\n      <td>2675.25</td>\n    </tr>\n    <tr>\n      <th>20</th>\n      <td>2023-11-13 17:38:45.293498+00:00</td>\n      <td>2023-11-13 17:38:45.303089+00:00</td>\n      <td>None</td>\n      <td>fcaad2c2-03b8-4403-bcef-0ab5b471a9e0</td>\n      <td>E-2023-0000000005</td>\n      <td>44d57e0b-48bc-4e1b-8d9f-04b781cc607c</td>\n      <td>58965fd4-107f-4c70-a985-990fd21a1b74</td>\n      <td>fixed</td>\n      <td>Customer Estimate 2023-01-08 00:00:00+00:00</td>\n      <td>completed</td>\n      <td>...</td>\n      <td>2023-01-15</td>\n      <td>2023-01-21</td>\n      <td>2023-01-24</td>\n      <td>None</td>\n      <td>None</td>\n      <td>496.34</td>\n      <td>0.00</td>\n      <td>0.00</td>\n      <td>0.00</td>\n      <td>613.26</td>\n    </tr>\n    <tr>\n      <th>21</th>\n      <td>2023-11-13 17:38:45.226091+00:00</td>\n      <td>2023-11-13 17:38:45.236046+00:00</td>\n      <td>None</td>\n      <td>e214a2fe-3e6e-4adf-b302-29d8e5fcf277</td>\n      <td>E-2023-0000000004</td>\n      <td>44d57e0b-48bc-4e1b-8d9f-04b781cc607c</td>\n      <td>2bdbe2fa-5802-4b3d-a0cc-f2db59881326</td>\n      <td>t&amp;m</td>\n      <td>Customer Estimate 2023-03-20 00:00:00+00:00</td>\n      <td>in_review</td>\n      <td>...</td>\n      <td>2023-03-27</td>\n      <td>None</td>\n      <td>None</td>\n      <td>None</td>\n      <td>None</td>\n      <td>2158.67</td>\n      <td>0.00</td>\n      <td>0.00</td>\n      <td>0.00</td>\n      <td>937.73</td>\n    </tr>\n    <tr>\n      <th>22</th>\n      <td>2023-11-13 17:38:45.121409+00:00</td>\n      <td>2023-11-13 17:38:45.129121+00:00</td>\n      <td>None</td>\n      <td>b8e5329b-c043-4f88-a43b-db09d900f8f0</td>\n      <td>E-2023-0000000003</td>\n      <td>44d57e0b-48bc-4e1b-8d9f-04b781cc607c</td>\n      <td>1e262888-3241-48da-8dcd-9df51028451e</td>\n      <td>other</td>\n      <td>Customer Estimate 2023-03-20 00:00:00+00:00</td>\n      <td>completed</td>\n      <td>...</td>\n      <td>2023-03-26</td>\n      <td>2023-03-28</td>\n      <td>2023-04-01</td>\n      <td>None</td>\n      <td>None</td>\n      <td>24.62</td>\n      <td>0.00</td>\n      <td>0.00</td>\n      <td>0.00</td>\n      <td>44.84</td>\n    </tr>\n    <tr>\n      <th>23</th>\n      <td>2023-11-13 17:38:45.059792+00:00</td>\n      <td>2023-11-13 17:38:45.066157+00:00</td>\n      <td>None</td>\n      <td>4e60f650-b93c-410a-a17f-2b6ee1ad5689</td>\n      <td>E-2023-0000000002</td>\n      <td>44d57e0b-48bc-4e1b-8d9f-04b781cc607c</td>\n      <td>cfbc50a3-1b0f-4c9c-8e45-2ed23ac2e28f</td>\n      <td>target</td>\n      <td>Customer Estimate 2023-01-31 00:00:00+00:00</td>\n      <td>approved</td>\n      <td>...</td>\n      <td>2023-02-07</td>\n      <td>2023-02-13</td>\n      <td>None</td>\n      <td>None</td>\n      <td>None</td>\n      <td>543.09</td>\n      <td>0.00</td>\n      <td>0.00</td>\n      <td>0.00</td>\n      <td>245.68</td>\n    </tr>\n    <tr>\n      <th>24</th>\n      <td>2023-11-13 17:38:44.959299+00:00</td>\n      <td>2023-11-13 17:38:44.965678+00:00</td>\n      <td>None</td>\n      <td>ee186cad-8ab7-42ae-a5fe-1c532fc115e0</td>\n      <td>E-2023-0000000001</td>\n      <td>44d57e0b-48bc-4e1b-8d9f-04b781cc607c</td>\n      <td>ac6214dd-7333-445a-bef1-56f4f180fb99</td>\n      <td>fixed</td>\n      <td>Customer Estimate 2023-03-06 00:00:00+00:00</td>\n      <td>draft</td>\n      <td>...</td>\n      <td>None</td>\n      <td>None</td>\n      <td>None</td>\n      <td>None</td>\n      <td>None</td>\n      <td>847.16</td>\n      <td>0.00</td>\n      <td>0.00</td>\n      <td>0.00</td>\n      <td>327.56</td>\n    </tr>\n  </tbody>\n</table>\n<p>25 rows × 21 columns</p>\n</div>"
     },
     "execution_count": 42,
     "metadata": {},
     "output_type": "execute_result"
    }
   ],
   "source": [
    "estimates_qs = entity_model.get_estimates()\n",
    "pd.DataFrame(estimates_qs.values())"
   ]
  },
  {
   "cell_type": "markdown",
   "metadata": {},
   "source": [
    "## Create Estimate"
   ]
  },
  {
   "cell_type": "code",
   "execution_count": 43,
   "metadata": {
    "tags": [],
    "ExecuteTime": {
     "end_time": "2023-11-13T17:38:57.189141Z",
     "start_time": "2023-11-13T17:38:57.159762Z"
    }
   },
   "outputs": [],
   "source": [
    "estimate_model = entity_model.create_estimate(\n",
    "    estimate_title='A quote for new potential customer!',\n",
    "    customer_model='C-0000000009',\n",
    "    contract_terms=EstimateModel.CONTRACT_TERMS_FIXED\n",
    ")"
   ]
  },
  {
   "cell_type": "markdown",
   "metadata": {},
   "source": [
    "## Add Items to Estimates"
   ]
  },
  {
   "cell_type": "code",
   "execution_count": 44,
   "metadata": {
    "tags": [],
    "ExecuteTime": {
     "end_time": "2023-11-13T17:38:57.581800Z",
     "start_time": "2023-11-13T17:38:57.560101Z"
    }
   },
   "outputs": [
    {
     "data": {
      "text/plain": "[<ItemTransactionModel: Estimate/Contract Model: 10d40a18-c411-4be5-a0f9-f03fa5fca71b | 743.82>,\n <ItemTransactionModel: Estimate/Contract Model: 10d40a18-c411-4be5-a0f9-f03fa5fca71b | 62.15>,\n <ItemTransactionModel: Estimate/Contract Model: 10d40a18-c411-4be5-a0f9-f03fa5fca71b | 117.56>,\n <ItemTransactionModel: Estimate/Contract Model: 10d40a18-c411-4be5-a0f9-f03fa5fca71b | 14.38>,\n <ItemTransactionModel: Estimate/Contract Model: 10d40a18-c411-4be5-a0f9-f03fa5fca71b | 115.38>,\n <ItemTransactionModel: Estimate/Contract Model: 10d40a18-c411-4be5-a0f9-f03fa5fca71b | 56.88>]"
     },
     "execution_count": 44,
     "metadata": {},
     "output_type": "execute_result"
    }
   ],
   "source": [
    "estimate_item_models = estimate_model.get_item_model_qs()\n",
    "\n",
    "K = 6\n",
    "\n",
    "estimate_itemtxs = {\n",
    "    im.item_number: {\n",
    "        'unit_cost': round(random() * 10, 2),\n",
    "        'unit_revenue': round(random() * 20, 2),\n",
    "        'quantity': round(random() * 100, 2),\n",
    "        'total_amount': None\n",
    "    } for im in choices(estimate_item_models, k=K)\n",
    "}\n",
    "\n",
    "# Choose operation ITEMIZE_APPEND to append itemtxs...\n",
    "estimate_itemtxs = estimate_model.migrate_itemtxs(itemtxs=estimate_itemtxs,\n",
    "                                                  commit=True,\n",
    "                                                  operation=EstimateModel.ITEMIZE_REPLACE)\n",
    "\n",
    "estimate_itemtxs"
   ]
  },
  {
   "cell_type": "code",
   "execution_count": 45,
   "metadata": {
    "tags": [],
    "ExecuteTime": {
     "end_time": "2023-11-13T17:38:57.798395Z",
     "start_time": "2023-11-13T17:38:57.781208Z"
    }
   },
   "outputs": [
    {
     "data": {
      "text/plain": "Decimal('1110.17')"
     },
     "execution_count": 45,
     "metadata": {},
     "output_type": "execute_result"
    }
   ],
   "source": [
    "estimate_model.get_cost_estimate()"
   ]
  },
  {
   "cell_type": "code",
   "execution_count": 46,
   "metadata": {
    "tags": [],
    "ExecuteTime": {
     "end_time": "2023-11-13T17:38:57.996396Z",
     "start_time": "2023-11-13T17:38:57.980598Z"
    }
   },
   "outputs": [
    {
     "data": {
      "text/plain": "Decimal('1064.512400000000017286083675')"
     },
     "execution_count": 46,
     "metadata": {},
     "output_type": "execute_result"
    }
   ],
   "source": [
    "estimate_model.get_revenue_estimate()"
   ]
  },
  {
   "cell_type": "code",
   "execution_count": 47,
   "metadata": {
    "tags": [],
    "ExecuteTime": {
     "end_time": "2023-11-13T17:38:58.187627Z",
     "start_time": "2023-11-13T17:38:58.171849Z"
    }
   },
   "outputs": [
    {
     "data": {
      "text/plain": "Decimal('-45.657599999999982713916325')"
     },
     "execution_count": 47,
     "metadata": {},
     "output_type": "execute_result"
    }
   ],
   "source": [
    "estimate_model.get_profit_estimate()"
   ]
  },
  {
   "cell_type": "code",
   "execution_count": 48,
   "metadata": {
    "tags": [],
    "ExecuteTime": {
     "end_time": "2023-11-13T17:38:58.396312Z",
     "start_time": "2023-11-13T17:38:58.373051Z"
    }
   },
   "outputs": [
    {
     "data": {
      "text/plain": "-4.1126674293126335"
     },
     "execution_count": 48,
     "metadata": {},
     "output_type": "execute_result"
    }
   ],
   "source": [
    "estimate_model.get_gross_margin_estimate(as_percent=True)"
   ]
  },
  {
   "cell_type": "markdown",
   "metadata": {},
   "source": [
    "# Bank Accounts"
   ]
  },
  {
   "cell_type": "markdown",
   "metadata": {},
   "source": [
    "## Get Bank Accounts"
   ]
  },
  {
   "cell_type": "code",
   "execution_count": 49,
   "metadata": {
    "ExecuteTime": {
     "end_time": "2023-11-13T17:38:58.994403Z",
     "start_time": "2023-11-13T17:38:58.964192Z"
    }
   },
   "outputs": [
    {
     "data": {
      "text/plain": "                           created                          updated  \\\n0 2023-11-13 17:38:44.724753+00:00 2023-11-13 17:38:44.724761+00:00   \n1 2023-11-13 17:38:44.724776+00:00 2023-11-13 17:38:44.724780+00:00   \n\n  account_number routing_number   aba_number swift_number account_type  \\\n0      008676280      002567115  CFBYGBPYC9O         None     checking   \n1      006027853      002990223  CUVLGB3UXP9         None      savings   \n\n                                   uuid  \\\n0  cdb95324-0836-471c-b5ab-cf364b3ae59d   \n1  97efa8db-d0f3-48f3-a4d4-62e688f689ae   \n\n                                    name  \\\n0  One Big Company, LLC Checking Account   \n1   One Big Company, LLC Savings Account   \n\n                        entity_model_id                       cash_account_id  \\\n0  44d57e0b-48bc-4e1b-8d9f-04b781cc607c  690baf2c-e77f-4f0e-b4fb-46eb02696410   \n1  44d57e0b-48bc-4e1b-8d9f-04b781cc607c  690baf2c-e77f-4f0e-b4fb-46eb02696410   \n\n   active  hidden  \n0    True   False  \n1    True   False  ",
      "text/html": "<div>\n<style scoped>\n    .dataframe tbody tr th:only-of-type {\n        vertical-align: middle;\n    }\n\n    .dataframe tbody tr th {\n        vertical-align: top;\n    }\n\n    .dataframe thead th {\n        text-align: right;\n    }\n</style>\n<table border=\"1\" class=\"dataframe\">\n  <thead>\n    <tr style=\"text-align: right;\">\n      <th></th>\n      <th>created</th>\n      <th>updated</th>\n      <th>account_number</th>\n      <th>routing_number</th>\n      <th>aba_number</th>\n      <th>swift_number</th>\n      <th>account_type</th>\n      <th>uuid</th>\n      <th>name</th>\n      <th>entity_model_id</th>\n      <th>cash_account_id</th>\n      <th>active</th>\n      <th>hidden</th>\n    </tr>\n  </thead>\n  <tbody>\n    <tr>\n      <th>0</th>\n      <td>2023-11-13 17:38:44.724753+00:00</td>\n      <td>2023-11-13 17:38:44.724761+00:00</td>\n      <td>008676280</td>\n      <td>002567115</td>\n      <td>CFBYGBPYC9O</td>\n      <td>None</td>\n      <td>checking</td>\n      <td>cdb95324-0836-471c-b5ab-cf364b3ae59d</td>\n      <td>One Big Company, LLC Checking Account</td>\n      <td>44d57e0b-48bc-4e1b-8d9f-04b781cc607c</td>\n      <td>690baf2c-e77f-4f0e-b4fb-46eb02696410</td>\n      <td>True</td>\n      <td>False</td>\n    </tr>\n    <tr>\n      <th>1</th>\n      <td>2023-11-13 17:38:44.724776+00:00</td>\n      <td>2023-11-13 17:38:44.724780+00:00</td>\n      <td>006027853</td>\n      <td>002990223</td>\n      <td>CUVLGB3UXP9</td>\n      <td>None</td>\n      <td>savings</td>\n      <td>97efa8db-d0f3-48f3-a4d4-62e688f689ae</td>\n      <td>One Big Company, LLC Savings Account</td>\n      <td>44d57e0b-48bc-4e1b-8d9f-04b781cc607c</td>\n      <td>690baf2c-e77f-4f0e-b4fb-46eb02696410</td>\n      <td>True</td>\n      <td>False</td>\n    </tr>\n  </tbody>\n</table>\n</div>"
     },
     "execution_count": 49,
     "metadata": {},
     "output_type": "execute_result"
    }
   ],
   "source": [
    "bank_accounts_qs = entity_model.get_bank_accounts()\n",
    "pd.DataFrame(bank_accounts_qs.values())"
   ]
  },
  {
   "cell_type": "markdown",
   "metadata": {},
   "source": [
    "## Create Bank Account"
   ]
  },
  {
   "cell_type": "code",
   "execution_count": 50,
   "metadata": {
    "ExecuteTime": {
     "end_time": "2023-11-13T17:38:59.380280Z",
     "start_time": "2023-11-13T17:38:59.346992Z"
    }
   },
   "outputs": [],
   "source": [
    "bank_account_model = entity_model.create_bank_account(name='A big bank account!',\n",
    "                                                      account_type='checking')"
   ]
  },
  {
   "cell_type": "markdown",
   "metadata": {},
   "source": [
    "# Items"
   ]
  },
  {
   "cell_type": "markdown",
   "metadata": {},
   "source": [
    "## Unit of Measures"
   ]
  },
  {
   "cell_type": "markdown",
   "metadata": {},
   "source": [
    "### Get Unit of Measures"
   ]
  },
  {
   "cell_type": "code",
   "execution_count": 51,
   "metadata": {
    "ExecuteTime": {
     "end_time": "2023-11-13T17:39:00.217872Z",
     "start_time": "2023-11-13T17:39:00.190021Z"
    }
   },
   "outputs": [
    {
     "data": {
      "text/plain": "                           created                          updated  \\\n0 2023-11-13 17:38:44.729235+00:00 2023-11-13 17:38:44.729239+00:00   \n1 2023-11-13 17:38:44.729214+00:00 2023-11-13 17:38:44.729218+00:00   \n2 2023-11-13 17:38:44.729255+00:00 2023-11-13 17:38:44.729258+00:00   \n3 2023-11-13 17:38:44.729245+00:00 2023-11-13 17:38:44.729249+00:00   \n4 2023-11-13 17:38:44.729225+00:00 2023-11-13 17:38:44.729229+00:00   \n5 2023-11-13 17:38:44.729193+00:00 2023-11-13 17:38:44.729202+00:00   \n\n                                   uuid          name unit_abbr  is_active  \\\n0  0b4fd4cb-3573-481a-a746-9e0a769bfce8         Pound        lb       True   \n1  924d4b04-28a5-4ae9-9eba-fae474227567   Linear Feet     ln-ft       True   \n2  01851ed2-a516-43df-9f8e-02e0cd93b11d      Man Hour  man-hour       True   \n3  220735b7-7c99-485e-ac8d-70144eceb6aa        Pallet    pallet       True   \n4  536d0221-926b-4250-bed3-81e7bae47238  Square Fee t     sq-ft       True   \n5  94cf9411-f494-4d01-8c20-2f57b5e5fd6c          Unit      unit       True   \n\n                              entity_id  \n0  44d57e0b-48bc-4e1b-8d9f-04b781cc607c  \n1  44d57e0b-48bc-4e1b-8d9f-04b781cc607c  \n2  44d57e0b-48bc-4e1b-8d9f-04b781cc607c  \n3  44d57e0b-48bc-4e1b-8d9f-04b781cc607c  \n4  44d57e0b-48bc-4e1b-8d9f-04b781cc607c  \n5  44d57e0b-48bc-4e1b-8d9f-04b781cc607c  ",
      "text/html": "<div>\n<style scoped>\n    .dataframe tbody tr th:only-of-type {\n        vertical-align: middle;\n    }\n\n    .dataframe tbody tr th {\n        vertical-align: top;\n    }\n\n    .dataframe thead th {\n        text-align: right;\n    }\n</style>\n<table border=\"1\" class=\"dataframe\">\n  <thead>\n    <tr style=\"text-align: right;\">\n      <th></th>\n      <th>created</th>\n      <th>updated</th>\n      <th>uuid</th>\n      <th>name</th>\n      <th>unit_abbr</th>\n      <th>is_active</th>\n      <th>entity_id</th>\n    </tr>\n  </thead>\n  <tbody>\n    <tr>\n      <th>0</th>\n      <td>2023-11-13 17:38:44.729235+00:00</td>\n      <td>2023-11-13 17:38:44.729239+00:00</td>\n      <td>0b4fd4cb-3573-481a-a746-9e0a769bfce8</td>\n      <td>Pound</td>\n      <td>lb</td>\n      <td>True</td>\n      <td>44d57e0b-48bc-4e1b-8d9f-04b781cc607c</td>\n    </tr>\n    <tr>\n      <th>1</th>\n      <td>2023-11-13 17:38:44.729214+00:00</td>\n      <td>2023-11-13 17:38:44.729218+00:00</td>\n      <td>924d4b04-28a5-4ae9-9eba-fae474227567</td>\n      <td>Linear Feet</td>\n      <td>ln-ft</td>\n      <td>True</td>\n      <td>44d57e0b-48bc-4e1b-8d9f-04b781cc607c</td>\n    </tr>\n    <tr>\n      <th>2</th>\n      <td>2023-11-13 17:38:44.729255+00:00</td>\n      <td>2023-11-13 17:38:44.729258+00:00</td>\n      <td>01851ed2-a516-43df-9f8e-02e0cd93b11d</td>\n      <td>Man Hour</td>\n      <td>man-hour</td>\n      <td>True</td>\n      <td>44d57e0b-48bc-4e1b-8d9f-04b781cc607c</td>\n    </tr>\n    <tr>\n      <th>3</th>\n      <td>2023-11-13 17:38:44.729245+00:00</td>\n      <td>2023-11-13 17:38:44.729249+00:00</td>\n      <td>220735b7-7c99-485e-ac8d-70144eceb6aa</td>\n      <td>Pallet</td>\n      <td>pallet</td>\n      <td>True</td>\n      <td>44d57e0b-48bc-4e1b-8d9f-04b781cc607c</td>\n    </tr>\n    <tr>\n      <th>4</th>\n      <td>2023-11-13 17:38:44.729225+00:00</td>\n      <td>2023-11-13 17:38:44.729229+00:00</td>\n      <td>536d0221-926b-4250-bed3-81e7bae47238</td>\n      <td>Square Fee t</td>\n      <td>sq-ft</td>\n      <td>True</td>\n      <td>44d57e0b-48bc-4e1b-8d9f-04b781cc607c</td>\n    </tr>\n    <tr>\n      <th>5</th>\n      <td>2023-11-13 17:38:44.729193+00:00</td>\n      <td>2023-11-13 17:38:44.729202+00:00</td>\n      <td>94cf9411-f494-4d01-8c20-2f57b5e5fd6c</td>\n      <td>Unit</td>\n      <td>unit</td>\n      <td>True</td>\n      <td>44d57e0b-48bc-4e1b-8d9f-04b781cc607c</td>\n    </tr>\n  </tbody>\n</table>\n</div>"
     },
     "execution_count": 51,
     "metadata": {},
     "output_type": "execute_result"
    }
   ],
   "source": [
    "uom_qs = entity_model.get_uom_all()\n",
    "pd.DataFrame(uom_qs.values())"
   ]
  },
  {
   "cell_type": "markdown",
   "metadata": {},
   "source": [
    "### Create a UOM"
   ]
  },
  {
   "cell_type": "code",
   "execution_count": 52,
   "metadata": {
    "ExecuteTime": {
     "end_time": "2023-11-13T17:39:00.607560Z",
     "start_time": "2023-11-13T17:39:00.582393Z"
    }
   },
   "outputs": [],
   "source": [
    "uom_model_ft = entity_model.create_uom(\n",
    "    name='Linear Feet',\n",
    "    unit_abbr='lin-ft'\n",
    ")"
   ]
  },
  {
   "cell_type": "markdown",
   "metadata": {},
   "source": [
    "### Get Some UoMs"
   ]
  },
  {
   "cell_type": "code",
   "execution_count": 53,
   "metadata": {
    "ExecuteTime": {
     "end_time": "2023-11-13T17:39:01.844659Z",
     "start_time": "2023-11-13T17:39:01.813038Z"
    }
   },
   "outputs": [],
   "source": [
    "uom_model_unit = uom_qs.get(unit_abbr__exact='unit')\n",
    "uom_model_man_hr = uom_qs.get(unit_abbr__exact='man-hour')"
   ]
  },
  {
   "cell_type": "markdown",
   "metadata": {},
   "source": [
    "## Expenses"
   ]
  },
  {
   "cell_type": "markdown",
   "metadata": {},
   "source": [
    "### Get Expense Items"
   ]
  },
  {
   "cell_type": "code",
   "execution_count": 54,
   "metadata": {
    "ExecuteTime": {
     "end_time": "2023-11-13T17:39:02.418520Z",
     "start_time": "2023-11-13T17:39:02.390575Z"
    }
   },
   "outputs": [
    {
     "data": {
      "text/plain": "                            created                          updated  \\\n0  2023-11-13 17:38:44.938284+00:00 2023-11-13 17:38:44.938317+00:00   \n1  2023-11-13 17:38:44.938372+00:00 2023-11-13 17:38:44.938377+00:00   \n2  2023-11-13 17:38:44.938396+00:00 2023-11-13 17:38:44.938399+00:00   \n3  2023-11-13 17:38:44.938417+00:00 2023-11-13 17:38:44.938421+00:00   \n4  2023-11-13 17:38:44.938438+00:00 2023-11-13 17:38:44.938441+00:00   \n5  2023-11-13 17:38:44.938458+00:00 2023-11-13 17:38:44.938461+00:00   \n6  2023-11-13 17:38:44.938478+00:00 2023-11-13 17:38:44.938481+00:00   \n7  2023-11-13 17:38:44.938498+00:00 2023-11-13 17:38:44.938501+00:00   \n8  2023-11-13 17:38:44.938517+00:00 2023-11-13 17:38:44.938521+00:00   \n9  2023-11-13 17:38:44.938537+00:00 2023-11-13 17:38:44.938541+00:00   \n10 2023-11-13 17:38:44.938558+00:00 2023-11-13 17:38:44.938561+00:00   \n11 2023-11-13 17:38:44.938577+00:00 2023-11-13 17:38:44.938581+00:00   \n12 2023-11-13 17:38:44.938597+00:00 2023-11-13 17:38:44.938601+00:00   \n13 2023-11-13 17:38:44.938617+00:00 2023-11-13 17:38:44.938620+00:00   \n14 2023-11-13 17:38:44.938637+00:00 2023-11-13 17:38:44.938640+00:00   \n15 2023-11-13 17:38:44.938657+00:00 2023-11-13 17:38:44.938660+00:00   \n16 2023-11-13 17:38:44.938676+00:00 2023-11-13 17:38:44.938680+00:00   \n17 2023-11-13 17:38:44.938696+00:00 2023-11-13 17:38:44.938700+00:00   \n18 2023-11-13 17:38:44.938716+00:00 2023-11-13 17:38:44.938720+00:00   \n19 2023-11-13 17:38:44.938736+00:00 2023-11-13 17:38:44.938740+00:00   \n20 2023-11-13 17:38:44.938756+00:00 2023-11-13 17:38:44.938760+00:00   \n\n                                    uuid               name  \\\n0   93227d17-61c5-48ca-a79f-2191de9ee767  Expense Item 7490   \n1   f89eb52c-7de9-459b-9bbd-ef2167280f22  Expense Item 1439   \n2   181bb12b-3c0e-4011-90fe-7c068c0d3e81  Expense Item 9391   \n3   465b827e-df04-42ad-8456-3de3cc8306e6  Expense Item 6178   \n4   21d6d955-52d9-4e13-bf1d-36ef06125070  Expense Item 5030   \n5   81eaa54b-daca-4130-8834-15058adaffc8  Expense Item 1473   \n6   8bffe9e9-2574-40aa-94df-b5c4a165bb1e  Expense Item 7721   \n7   e218f380-fca0-46e8-991d-e7bb09d84997  Expense Item 6807   \n8   7563a28b-3d9a-416e-a1fd-438394f420f1  Expense Item 4520   \n9   81ec1475-c533-40a1-a8d4-42c0955e4b08  Expense Item 7198   \n10  03995657-01fc-419a-b786-60acd5838f88  Expense Item 1127   \n11  59fd8aef-32e3-489e-88aa-d0a0fa6bf6a1  Expense Item 8241   \n12  41d84175-0903-40cb-9f04-66bd5cc30a42  Expense Item 5732   \n13  a2bfafef-72b1-4da4-acb0-4bba0d92ee37  Expense Item 9119   \n14  6f1d6642-de11-4cfd-991e-7df3cea8abab  Expense Item 3885   \n15  4e835ea2-9af8-4dd4-87b3-015c3c4fefd3  Expense Item 2385   \n16  f2b232ef-d175-4475-b684-9ae4f3093ba1  Expense Item 4406   \n17  680e4e5a-b72a-4fb2-bfac-9a8915b2bc6e  Expense Item 5295   \n18  8cac2018-0ac9-41a0-9b20-9adc1e113bd5  Expense Item 7647   \n19  b6cadfe1-7d15-481e-8e15-0a8243f4c208  Expense Item 4193   \n20  80d1e9e8-53f6-4e34-a98c-0d4ab24e7ae7  Expense Item 8607   \n\n                 item_id     item_number item_role item_type  \\\n0   EqZXBQGQt1WYWKtXzLpf  IEX-0000000100   expense         M   \n1   Hwo5aeE69ws5A1LpZtSQ  IEX-0000000101   expense         E   \n2   zFqLm1BIscXSEk9xXtqW  IEX-0000000102   expense         L   \n3   TMP12KizrlcqkVdV7ArO  IEX-0000000103   expense         O   \n4   14yZDwD6GaytLXcg4ybG  IEX-0000000104   expense         S   \n5   1sPH1A7V64XCpKBUAaCA  IEX-0000000105   expense         O   \n6   LzuaUIIttjIIgFP0t8P7  IEX-0000000106   expense         M   \n7   cP8ZDKkZmGfElvmfIJvD  IEX-0000000107   expense         L   \n8   rb3wJ7TMyQX7ZMOhx2rq  IEX-0000000108   expense         E   \n9   HagRAJm2zssExFNPnl4D  IEX-0000000109   expense         L   \n10  QWAazQ5M0CrRJ6k2wpoA  IEX-0000000110   expense         S   \n11  sMvE0joDrWwP2p74XJq3  IEX-0000000111   expense         O   \n12  8lCXOKCtx43i1PTmz1UN  IEX-0000000112   expense         O   \n13  0yfogdRpneHSmk5e1U58  IEX-0000000113   expense         M   \n14  p0ghjSVY2HE63AWXK5jB  IEX-0000000114   expense         S   \n15  CFH3DayNHd91lQ0qTvnq  IEX-0000000115   expense         O   \n16  ooATGj3EAH81jGEOztc3  IEX-0000000116   expense         L   \n17  Ic3cOZi3AKWxdCfGMFyU  IEX-0000000117   expense         S   \n18  ezTz8KjgOYgvGmUDHiWP  IEX-0000000118   expense         E   \n19  msHRKoUwJtVmf92kvjvI  IEX-0000000119   expense         L   \n20  E7CHxnw8ihNjNgXrY6wU  IEX-0000000120   expense         L   \n\n                                  uom_id           sku  ...  \\\n0   924d4b04-28a5-4ae9-9eba-fae474227567  738CVCMVMF7S  ...   \n1   924d4b04-28a5-4ae9-9eba-fae474227567  5W1IXMC2IHR6  ...   \n2   220735b7-7c99-485e-ac8d-70144eceb6aa  E89IAJR0YQ46  ...   \n3   924d4b04-28a5-4ae9-9eba-fae474227567  HUOZMLYTMC1W  ...   \n4   536d0221-926b-4250-bed3-81e7bae47238  VZUE8SBWJW83  ...   \n5   536d0221-926b-4250-bed3-81e7bae47238  8APW9AFBXU54  ...   \n6   924d4b04-28a5-4ae9-9eba-fae474227567  VQ43AXWT5TWH  ...   \n7   01851ed2-a516-43df-9f8e-02e0cd93b11d  DTPVBX45ZO9Y  ...   \n8   536d0221-926b-4250-bed3-81e7bae47238  QMPZMKHD51BM  ...   \n9   0b4fd4cb-3573-481a-a746-9e0a769bfce8  17TW985AWTBQ  ...   \n10  94cf9411-f494-4d01-8c20-2f57b5e5fd6c  9MCXV94T97XS  ...   \n11  924d4b04-28a5-4ae9-9eba-fae474227567  N1B3J8ZGRYVD  ...   \n12  924d4b04-28a5-4ae9-9eba-fae474227567  C4OZUMM6L3RJ  ...   \n13  0b4fd4cb-3573-481a-a746-9e0a769bfce8  VMGEC9HW2V76  ...   \n14  924d4b04-28a5-4ae9-9eba-fae474227567  91V2IAI1U9FA  ...   \n15  01851ed2-a516-43df-9f8e-02e0cd93b11d  Z0RNIS4VGQ4L  ...   \n16  01851ed2-a516-43df-9f8e-02e0cd93b11d  UDV23AN9HGW2  ...   \n17  924d4b04-28a5-4ae9-9eba-fae474227567  PUVAAL6OE0C7  ...   \n18  924d4b04-28a5-4ae9-9eba-fae474227567  HMDM531YNB5H  ...   \n19  536d0221-926b-4250-bed3-81e7bae47238  JNPSWXPYF4MP  ...   \n20  94cf9411-f494-4d01-8c20-2f57b5e5fd6c  N3YZSKR5X2SN  ...   \n\n   is_product_or_service  sold_as_unit inventory_account_id  \\\n0                  False         False                 None   \n1                  False         False                 None   \n2                  False         False                 None   \n3                  False         False                 None   \n4                  False         False                 None   \n5                  False         False                 None   \n6                  False         False                 None   \n7                  False         False                 None   \n8                  False         False                 None   \n9                  False         False                 None   \n10                 False         False                 None   \n11                 False         False                 None   \n12                 False         False                 None   \n13                 False         False                 None   \n14                 False         False                 None   \n15                 False         False                 None   \n16                 False         False                 None   \n17                 False         False                 None   \n18                 False         False                 None   \n19                 False         False                 None   \n20                 False         False                 None   \n\n    inventory_received  inventory_received_value  cogs_account_id  \\\n0                 None                      None             None   \n1                 None                      None             None   \n2                 None                      None             None   \n3                 None                      None             None   \n4                 None                      None             None   \n5                 None                      None             None   \n6                 None                      None             None   \n7                 None                      None             None   \n8                 None                      None             None   \n9                 None                      None             None   \n10                None                      None             None   \n11                None                      None             None   \n12                None                      None             None   \n13                None                      None             None   \n14                None                      None             None   \n15                None                      None             None   \n16                None                      None             None   \n17                None                      None             None   \n18                None                      None             None   \n19                None                      None             None   \n20                None                      None             None   \n\n   earnings_account_id                    expense_account_id additional_info  \\\n0                 None  ea54e0ba-9242-4e67-88c9-cd2809ef55b3              {}   \n1                 None  ac651a90-4106-47e0-843c-216d6dbc1a94              {}   \n2                 None  d0e4235a-b99f-4c60-b338-56a0d244ae9f              {}   \n3                 None  ed4d39a3-81c9-45ed-8cea-8be48eadfef5              {}   \n4                 None  dcf25f98-6dfe-471f-811f-1e997bca4da4              {}   \n5                 None  79179efc-836c-4f45-8975-34a736353040              {}   \n6                 None  bd5b2130-c2fa-4eb9-a0d0-052b9b4d8379              {}   \n7                 None  615a3f01-f751-43fb-bda8-0ff473c71b3e              {}   \n8                 None  8ab7033f-db7b-460f-a5fe-6fe5d6c22e4f              {}   \n9                 None  eacea730-3bdc-4d2a-bc94-7f35bc0a44ee              {}   \n10                None  8016b2d8-3c40-46c5-892c-9618efa984e2              {}   \n11                None  ea54e0ba-9242-4e67-88c9-cd2809ef55b3              {}   \n12                None  8016b2d8-3c40-46c5-892c-9618efa984e2              {}   \n13                None  57cb12bd-45e7-470b-bf80-140445ad3764              {}   \n14                None  615a3f01-f751-43fb-bda8-0ff473c71b3e              {}   \n15                None  615a3f01-f751-43fb-bda8-0ff473c71b3e              {}   \n16                None  8016b2d8-3c40-46c5-892c-9618efa984e2              {}   \n17                None  57cb12bd-45e7-470b-bf80-140445ad3764              {}   \n18                None  e2ad8396-d52f-4072-aa69-09e6f46eeb44              {}   \n19                None  e3c44191-37fd-4108-a16d-67ddc6814229              {}   \n20                None  01218b4a-1cc6-4e81-8153-a34da5ff7f2e              {}   \n\n                               entity_id  \n0   44d57e0b-48bc-4e1b-8d9f-04b781cc607c  \n1   44d57e0b-48bc-4e1b-8d9f-04b781cc607c  \n2   44d57e0b-48bc-4e1b-8d9f-04b781cc607c  \n3   44d57e0b-48bc-4e1b-8d9f-04b781cc607c  \n4   44d57e0b-48bc-4e1b-8d9f-04b781cc607c  \n5   44d57e0b-48bc-4e1b-8d9f-04b781cc607c  \n6   44d57e0b-48bc-4e1b-8d9f-04b781cc607c  \n7   44d57e0b-48bc-4e1b-8d9f-04b781cc607c  \n8   44d57e0b-48bc-4e1b-8d9f-04b781cc607c  \n9   44d57e0b-48bc-4e1b-8d9f-04b781cc607c  \n10  44d57e0b-48bc-4e1b-8d9f-04b781cc607c  \n11  44d57e0b-48bc-4e1b-8d9f-04b781cc607c  \n12  44d57e0b-48bc-4e1b-8d9f-04b781cc607c  \n13  44d57e0b-48bc-4e1b-8d9f-04b781cc607c  \n14  44d57e0b-48bc-4e1b-8d9f-04b781cc607c  \n15  44d57e0b-48bc-4e1b-8d9f-04b781cc607c  \n16  44d57e0b-48bc-4e1b-8d9f-04b781cc607c  \n17  44d57e0b-48bc-4e1b-8d9f-04b781cc607c  \n18  44d57e0b-48bc-4e1b-8d9f-04b781cc607c  \n19  44d57e0b-48bc-4e1b-8d9f-04b781cc607c  \n20  44d57e0b-48bc-4e1b-8d9f-04b781cc607c  \n\n[21 rows x 24 columns]",
      "text/html": "<div>\n<style scoped>\n    .dataframe tbody tr th:only-of-type {\n        vertical-align: middle;\n    }\n\n    .dataframe tbody tr th {\n        vertical-align: top;\n    }\n\n    .dataframe thead th {\n        text-align: right;\n    }\n</style>\n<table border=\"1\" class=\"dataframe\">\n  <thead>\n    <tr style=\"text-align: right;\">\n      <th></th>\n      <th>created</th>\n      <th>updated</th>\n      <th>uuid</th>\n      <th>name</th>\n      <th>item_id</th>\n      <th>item_number</th>\n      <th>item_role</th>\n      <th>item_type</th>\n      <th>uom_id</th>\n      <th>sku</th>\n      <th>...</th>\n      <th>is_product_or_service</th>\n      <th>sold_as_unit</th>\n      <th>inventory_account_id</th>\n      <th>inventory_received</th>\n      <th>inventory_received_value</th>\n      <th>cogs_account_id</th>\n      <th>earnings_account_id</th>\n      <th>expense_account_id</th>\n      <th>additional_info</th>\n      <th>entity_id</th>\n    </tr>\n  </thead>\n  <tbody>\n    <tr>\n      <th>0</th>\n      <td>2023-11-13 17:38:44.938284+00:00</td>\n      <td>2023-11-13 17:38:44.938317+00:00</td>\n      <td>93227d17-61c5-48ca-a79f-2191de9ee767</td>\n      <td>Expense Item 7490</td>\n      <td>EqZXBQGQt1WYWKtXzLpf</td>\n      <td>IEX-0000000100</td>\n      <td>expense</td>\n      <td>M</td>\n      <td>924d4b04-28a5-4ae9-9eba-fae474227567</td>\n      <td>738CVCMVMF7S</td>\n      <td>...</td>\n      <td>False</td>\n      <td>False</td>\n      <td>None</td>\n      <td>None</td>\n      <td>None</td>\n      <td>None</td>\n      <td>None</td>\n      <td>ea54e0ba-9242-4e67-88c9-cd2809ef55b3</td>\n      <td>{}</td>\n      <td>44d57e0b-48bc-4e1b-8d9f-04b781cc607c</td>\n    </tr>\n    <tr>\n      <th>1</th>\n      <td>2023-11-13 17:38:44.938372+00:00</td>\n      <td>2023-11-13 17:38:44.938377+00:00</td>\n      <td>f89eb52c-7de9-459b-9bbd-ef2167280f22</td>\n      <td>Expense Item 1439</td>\n      <td>Hwo5aeE69ws5A1LpZtSQ</td>\n      <td>IEX-0000000101</td>\n      <td>expense</td>\n      <td>E</td>\n      <td>924d4b04-28a5-4ae9-9eba-fae474227567</td>\n      <td>5W1IXMC2IHR6</td>\n      <td>...</td>\n      <td>False</td>\n      <td>False</td>\n      <td>None</td>\n      <td>None</td>\n      <td>None</td>\n      <td>None</td>\n      <td>None</td>\n      <td>ac651a90-4106-47e0-843c-216d6dbc1a94</td>\n      <td>{}</td>\n      <td>44d57e0b-48bc-4e1b-8d9f-04b781cc607c</td>\n    </tr>\n    <tr>\n      <th>2</th>\n      <td>2023-11-13 17:38:44.938396+00:00</td>\n      <td>2023-11-13 17:38:44.938399+00:00</td>\n      <td>181bb12b-3c0e-4011-90fe-7c068c0d3e81</td>\n      <td>Expense Item 9391</td>\n      <td>zFqLm1BIscXSEk9xXtqW</td>\n      <td>IEX-0000000102</td>\n      <td>expense</td>\n      <td>L</td>\n      <td>220735b7-7c99-485e-ac8d-70144eceb6aa</td>\n      <td>E89IAJR0YQ46</td>\n      <td>...</td>\n      <td>False</td>\n      <td>False</td>\n      <td>None</td>\n      <td>None</td>\n      <td>None</td>\n      <td>None</td>\n      <td>None</td>\n      <td>d0e4235a-b99f-4c60-b338-56a0d244ae9f</td>\n      <td>{}</td>\n      <td>44d57e0b-48bc-4e1b-8d9f-04b781cc607c</td>\n    </tr>\n    <tr>\n      <th>3</th>\n      <td>2023-11-13 17:38:44.938417+00:00</td>\n      <td>2023-11-13 17:38:44.938421+00:00</td>\n      <td>465b827e-df04-42ad-8456-3de3cc8306e6</td>\n      <td>Expense Item 6178</td>\n      <td>TMP12KizrlcqkVdV7ArO</td>\n      <td>IEX-0000000103</td>\n      <td>expense</td>\n      <td>O</td>\n      <td>924d4b04-28a5-4ae9-9eba-fae474227567</td>\n      <td>HUOZMLYTMC1W</td>\n      <td>...</td>\n      <td>False</td>\n      <td>False</td>\n      <td>None</td>\n      <td>None</td>\n      <td>None</td>\n      <td>None</td>\n      <td>None</td>\n      <td>ed4d39a3-81c9-45ed-8cea-8be48eadfef5</td>\n      <td>{}</td>\n      <td>44d57e0b-48bc-4e1b-8d9f-04b781cc607c</td>\n    </tr>\n    <tr>\n      <th>4</th>\n      <td>2023-11-13 17:38:44.938438+00:00</td>\n      <td>2023-11-13 17:38:44.938441+00:00</td>\n      <td>21d6d955-52d9-4e13-bf1d-36ef06125070</td>\n      <td>Expense Item 5030</td>\n      <td>14yZDwD6GaytLXcg4ybG</td>\n      <td>IEX-0000000104</td>\n      <td>expense</td>\n      <td>S</td>\n      <td>536d0221-926b-4250-bed3-81e7bae47238</td>\n      <td>VZUE8SBWJW83</td>\n      <td>...</td>\n      <td>False</td>\n      <td>False</td>\n      <td>None</td>\n      <td>None</td>\n      <td>None</td>\n      <td>None</td>\n      <td>None</td>\n      <td>dcf25f98-6dfe-471f-811f-1e997bca4da4</td>\n      <td>{}</td>\n      <td>44d57e0b-48bc-4e1b-8d9f-04b781cc607c</td>\n    </tr>\n    <tr>\n      <th>5</th>\n      <td>2023-11-13 17:38:44.938458+00:00</td>\n      <td>2023-11-13 17:38:44.938461+00:00</td>\n      <td>81eaa54b-daca-4130-8834-15058adaffc8</td>\n      <td>Expense Item 1473</td>\n      <td>1sPH1A7V64XCpKBUAaCA</td>\n      <td>IEX-0000000105</td>\n      <td>expense</td>\n      <td>O</td>\n      <td>536d0221-926b-4250-bed3-81e7bae47238</td>\n      <td>8APW9AFBXU54</td>\n      <td>...</td>\n      <td>False</td>\n      <td>False</td>\n      <td>None</td>\n      <td>None</td>\n      <td>None</td>\n      <td>None</td>\n      <td>None</td>\n      <td>79179efc-836c-4f45-8975-34a736353040</td>\n      <td>{}</td>\n      <td>44d57e0b-48bc-4e1b-8d9f-04b781cc607c</td>\n    </tr>\n    <tr>\n      <th>6</th>\n      <td>2023-11-13 17:38:44.938478+00:00</td>\n      <td>2023-11-13 17:38:44.938481+00:00</td>\n      <td>8bffe9e9-2574-40aa-94df-b5c4a165bb1e</td>\n      <td>Expense Item 7721</td>\n      <td>LzuaUIIttjIIgFP0t8P7</td>\n      <td>IEX-0000000106</td>\n      <td>expense</td>\n      <td>M</td>\n      <td>924d4b04-28a5-4ae9-9eba-fae474227567</td>\n      <td>VQ43AXWT5TWH</td>\n      <td>...</td>\n      <td>False</td>\n      <td>False</td>\n      <td>None</td>\n      <td>None</td>\n      <td>None</td>\n      <td>None</td>\n      <td>None</td>\n      <td>bd5b2130-c2fa-4eb9-a0d0-052b9b4d8379</td>\n      <td>{}</td>\n      <td>44d57e0b-48bc-4e1b-8d9f-04b781cc607c</td>\n    </tr>\n    <tr>\n      <th>7</th>\n      <td>2023-11-13 17:38:44.938498+00:00</td>\n      <td>2023-11-13 17:38:44.938501+00:00</td>\n      <td>e218f380-fca0-46e8-991d-e7bb09d84997</td>\n      <td>Expense Item 6807</td>\n      <td>cP8ZDKkZmGfElvmfIJvD</td>\n      <td>IEX-0000000107</td>\n      <td>expense</td>\n      <td>L</td>\n      <td>01851ed2-a516-43df-9f8e-02e0cd93b11d</td>\n      <td>DTPVBX45ZO9Y</td>\n      <td>...</td>\n      <td>False</td>\n      <td>False</td>\n      <td>None</td>\n      <td>None</td>\n      <td>None</td>\n      <td>None</td>\n      <td>None</td>\n      <td>615a3f01-f751-43fb-bda8-0ff473c71b3e</td>\n      <td>{}</td>\n      <td>44d57e0b-48bc-4e1b-8d9f-04b781cc607c</td>\n    </tr>\n    <tr>\n      <th>8</th>\n      <td>2023-11-13 17:38:44.938517+00:00</td>\n      <td>2023-11-13 17:38:44.938521+00:00</td>\n      <td>7563a28b-3d9a-416e-a1fd-438394f420f1</td>\n      <td>Expense Item 4520</td>\n      <td>rb3wJ7TMyQX7ZMOhx2rq</td>\n      <td>IEX-0000000108</td>\n      <td>expense</td>\n      <td>E</td>\n      <td>536d0221-926b-4250-bed3-81e7bae47238</td>\n      <td>QMPZMKHD51BM</td>\n      <td>...</td>\n      <td>False</td>\n      <td>False</td>\n      <td>None</td>\n      <td>None</td>\n      <td>None</td>\n      <td>None</td>\n      <td>None</td>\n      <td>8ab7033f-db7b-460f-a5fe-6fe5d6c22e4f</td>\n      <td>{}</td>\n      <td>44d57e0b-48bc-4e1b-8d9f-04b781cc607c</td>\n    </tr>\n    <tr>\n      <th>9</th>\n      <td>2023-11-13 17:38:44.938537+00:00</td>\n      <td>2023-11-13 17:38:44.938541+00:00</td>\n      <td>81ec1475-c533-40a1-a8d4-42c0955e4b08</td>\n      <td>Expense Item 7198</td>\n      <td>HagRAJm2zssExFNPnl4D</td>\n      <td>IEX-0000000109</td>\n      <td>expense</td>\n      <td>L</td>\n      <td>0b4fd4cb-3573-481a-a746-9e0a769bfce8</td>\n      <td>17TW985AWTBQ</td>\n      <td>...</td>\n      <td>False</td>\n      <td>False</td>\n      <td>None</td>\n      <td>None</td>\n      <td>None</td>\n      <td>None</td>\n      <td>None</td>\n      <td>eacea730-3bdc-4d2a-bc94-7f35bc0a44ee</td>\n      <td>{}</td>\n      <td>44d57e0b-48bc-4e1b-8d9f-04b781cc607c</td>\n    </tr>\n    <tr>\n      <th>10</th>\n      <td>2023-11-13 17:38:44.938558+00:00</td>\n      <td>2023-11-13 17:38:44.938561+00:00</td>\n      <td>03995657-01fc-419a-b786-60acd5838f88</td>\n      <td>Expense Item 1127</td>\n      <td>QWAazQ5M0CrRJ6k2wpoA</td>\n      <td>IEX-0000000110</td>\n      <td>expense</td>\n      <td>S</td>\n      <td>94cf9411-f494-4d01-8c20-2f57b5e5fd6c</td>\n      <td>9MCXV94T97XS</td>\n      <td>...</td>\n      <td>False</td>\n      <td>False</td>\n      <td>None</td>\n      <td>None</td>\n      <td>None</td>\n      <td>None</td>\n      <td>None</td>\n      <td>8016b2d8-3c40-46c5-892c-9618efa984e2</td>\n      <td>{}</td>\n      <td>44d57e0b-48bc-4e1b-8d9f-04b781cc607c</td>\n    </tr>\n    <tr>\n      <th>11</th>\n      <td>2023-11-13 17:38:44.938577+00:00</td>\n      <td>2023-11-13 17:38:44.938581+00:00</td>\n      <td>59fd8aef-32e3-489e-88aa-d0a0fa6bf6a1</td>\n      <td>Expense Item 8241</td>\n      <td>sMvE0joDrWwP2p74XJq3</td>\n      <td>IEX-0000000111</td>\n      <td>expense</td>\n      <td>O</td>\n      <td>924d4b04-28a5-4ae9-9eba-fae474227567</td>\n      <td>N1B3J8ZGRYVD</td>\n      <td>...</td>\n      <td>False</td>\n      <td>False</td>\n      <td>None</td>\n      <td>None</td>\n      <td>None</td>\n      <td>None</td>\n      <td>None</td>\n      <td>ea54e0ba-9242-4e67-88c9-cd2809ef55b3</td>\n      <td>{}</td>\n      <td>44d57e0b-48bc-4e1b-8d9f-04b781cc607c</td>\n    </tr>\n    <tr>\n      <th>12</th>\n      <td>2023-11-13 17:38:44.938597+00:00</td>\n      <td>2023-11-13 17:38:44.938601+00:00</td>\n      <td>41d84175-0903-40cb-9f04-66bd5cc30a42</td>\n      <td>Expense Item 5732</td>\n      <td>8lCXOKCtx43i1PTmz1UN</td>\n      <td>IEX-0000000112</td>\n      <td>expense</td>\n      <td>O</td>\n      <td>924d4b04-28a5-4ae9-9eba-fae474227567</td>\n      <td>C4OZUMM6L3RJ</td>\n      <td>...</td>\n      <td>False</td>\n      <td>False</td>\n      <td>None</td>\n      <td>None</td>\n      <td>None</td>\n      <td>None</td>\n      <td>None</td>\n      <td>8016b2d8-3c40-46c5-892c-9618efa984e2</td>\n      <td>{}</td>\n      <td>44d57e0b-48bc-4e1b-8d9f-04b781cc607c</td>\n    </tr>\n    <tr>\n      <th>13</th>\n      <td>2023-11-13 17:38:44.938617+00:00</td>\n      <td>2023-11-13 17:38:44.938620+00:00</td>\n      <td>a2bfafef-72b1-4da4-acb0-4bba0d92ee37</td>\n      <td>Expense Item 9119</td>\n      <td>0yfogdRpneHSmk5e1U58</td>\n      <td>IEX-0000000113</td>\n      <td>expense</td>\n      <td>M</td>\n      <td>0b4fd4cb-3573-481a-a746-9e0a769bfce8</td>\n      <td>VMGEC9HW2V76</td>\n      <td>...</td>\n      <td>False</td>\n      <td>False</td>\n      <td>None</td>\n      <td>None</td>\n      <td>None</td>\n      <td>None</td>\n      <td>None</td>\n      <td>57cb12bd-45e7-470b-bf80-140445ad3764</td>\n      <td>{}</td>\n      <td>44d57e0b-48bc-4e1b-8d9f-04b781cc607c</td>\n    </tr>\n    <tr>\n      <th>14</th>\n      <td>2023-11-13 17:38:44.938637+00:00</td>\n      <td>2023-11-13 17:38:44.938640+00:00</td>\n      <td>6f1d6642-de11-4cfd-991e-7df3cea8abab</td>\n      <td>Expense Item 3885</td>\n      <td>p0ghjSVY2HE63AWXK5jB</td>\n      <td>IEX-0000000114</td>\n      <td>expense</td>\n      <td>S</td>\n      <td>924d4b04-28a5-4ae9-9eba-fae474227567</td>\n      <td>91V2IAI1U9FA</td>\n      <td>...</td>\n      <td>False</td>\n      <td>False</td>\n      <td>None</td>\n      <td>None</td>\n      <td>None</td>\n      <td>None</td>\n      <td>None</td>\n      <td>615a3f01-f751-43fb-bda8-0ff473c71b3e</td>\n      <td>{}</td>\n      <td>44d57e0b-48bc-4e1b-8d9f-04b781cc607c</td>\n    </tr>\n    <tr>\n      <th>15</th>\n      <td>2023-11-13 17:38:44.938657+00:00</td>\n      <td>2023-11-13 17:38:44.938660+00:00</td>\n      <td>4e835ea2-9af8-4dd4-87b3-015c3c4fefd3</td>\n      <td>Expense Item 2385</td>\n      <td>CFH3DayNHd91lQ0qTvnq</td>\n      <td>IEX-0000000115</td>\n      <td>expense</td>\n      <td>O</td>\n      <td>01851ed2-a516-43df-9f8e-02e0cd93b11d</td>\n      <td>Z0RNIS4VGQ4L</td>\n      <td>...</td>\n      <td>False</td>\n      <td>False</td>\n      <td>None</td>\n      <td>None</td>\n      <td>None</td>\n      <td>None</td>\n      <td>None</td>\n      <td>615a3f01-f751-43fb-bda8-0ff473c71b3e</td>\n      <td>{}</td>\n      <td>44d57e0b-48bc-4e1b-8d9f-04b781cc607c</td>\n    </tr>\n    <tr>\n      <th>16</th>\n      <td>2023-11-13 17:38:44.938676+00:00</td>\n      <td>2023-11-13 17:38:44.938680+00:00</td>\n      <td>f2b232ef-d175-4475-b684-9ae4f3093ba1</td>\n      <td>Expense Item 4406</td>\n      <td>ooATGj3EAH81jGEOztc3</td>\n      <td>IEX-0000000116</td>\n      <td>expense</td>\n      <td>L</td>\n      <td>01851ed2-a516-43df-9f8e-02e0cd93b11d</td>\n      <td>UDV23AN9HGW2</td>\n      <td>...</td>\n      <td>False</td>\n      <td>False</td>\n      <td>None</td>\n      <td>None</td>\n      <td>None</td>\n      <td>None</td>\n      <td>None</td>\n      <td>8016b2d8-3c40-46c5-892c-9618efa984e2</td>\n      <td>{}</td>\n      <td>44d57e0b-48bc-4e1b-8d9f-04b781cc607c</td>\n    </tr>\n    <tr>\n      <th>17</th>\n      <td>2023-11-13 17:38:44.938696+00:00</td>\n      <td>2023-11-13 17:38:44.938700+00:00</td>\n      <td>680e4e5a-b72a-4fb2-bfac-9a8915b2bc6e</td>\n      <td>Expense Item 5295</td>\n      <td>Ic3cOZi3AKWxdCfGMFyU</td>\n      <td>IEX-0000000117</td>\n      <td>expense</td>\n      <td>S</td>\n      <td>924d4b04-28a5-4ae9-9eba-fae474227567</td>\n      <td>PUVAAL6OE0C7</td>\n      <td>...</td>\n      <td>False</td>\n      <td>False</td>\n      <td>None</td>\n      <td>None</td>\n      <td>None</td>\n      <td>None</td>\n      <td>None</td>\n      <td>57cb12bd-45e7-470b-bf80-140445ad3764</td>\n      <td>{}</td>\n      <td>44d57e0b-48bc-4e1b-8d9f-04b781cc607c</td>\n    </tr>\n    <tr>\n      <th>18</th>\n      <td>2023-11-13 17:38:44.938716+00:00</td>\n      <td>2023-11-13 17:38:44.938720+00:00</td>\n      <td>8cac2018-0ac9-41a0-9b20-9adc1e113bd5</td>\n      <td>Expense Item 7647</td>\n      <td>ezTz8KjgOYgvGmUDHiWP</td>\n      <td>IEX-0000000118</td>\n      <td>expense</td>\n      <td>E</td>\n      <td>924d4b04-28a5-4ae9-9eba-fae474227567</td>\n      <td>HMDM531YNB5H</td>\n      <td>...</td>\n      <td>False</td>\n      <td>False</td>\n      <td>None</td>\n      <td>None</td>\n      <td>None</td>\n      <td>None</td>\n      <td>None</td>\n      <td>e2ad8396-d52f-4072-aa69-09e6f46eeb44</td>\n      <td>{}</td>\n      <td>44d57e0b-48bc-4e1b-8d9f-04b781cc607c</td>\n    </tr>\n    <tr>\n      <th>19</th>\n      <td>2023-11-13 17:38:44.938736+00:00</td>\n      <td>2023-11-13 17:38:44.938740+00:00</td>\n      <td>b6cadfe1-7d15-481e-8e15-0a8243f4c208</td>\n      <td>Expense Item 4193</td>\n      <td>msHRKoUwJtVmf92kvjvI</td>\n      <td>IEX-0000000119</td>\n      <td>expense</td>\n      <td>L</td>\n      <td>536d0221-926b-4250-bed3-81e7bae47238</td>\n      <td>JNPSWXPYF4MP</td>\n      <td>...</td>\n      <td>False</td>\n      <td>False</td>\n      <td>None</td>\n      <td>None</td>\n      <td>None</td>\n      <td>None</td>\n      <td>None</td>\n      <td>e3c44191-37fd-4108-a16d-67ddc6814229</td>\n      <td>{}</td>\n      <td>44d57e0b-48bc-4e1b-8d9f-04b781cc607c</td>\n    </tr>\n    <tr>\n      <th>20</th>\n      <td>2023-11-13 17:38:44.938756+00:00</td>\n      <td>2023-11-13 17:38:44.938760+00:00</td>\n      <td>80d1e9e8-53f6-4e34-a98c-0d4ab24e7ae7</td>\n      <td>Expense Item 8607</td>\n      <td>E7CHxnw8ihNjNgXrY6wU</td>\n      <td>IEX-0000000120</td>\n      <td>expense</td>\n      <td>L</td>\n      <td>94cf9411-f494-4d01-8c20-2f57b5e5fd6c</td>\n      <td>N3YZSKR5X2SN</td>\n      <td>...</td>\n      <td>False</td>\n      <td>False</td>\n      <td>None</td>\n      <td>None</td>\n      <td>None</td>\n      <td>None</td>\n      <td>None</td>\n      <td>01218b4a-1cc6-4e81-8153-a34da5ff7f2e</td>\n      <td>{}</td>\n      <td>44d57e0b-48bc-4e1b-8d9f-04b781cc607c</td>\n    </tr>\n  </tbody>\n</table>\n<p>21 rows × 24 columns</p>\n</div>"
     },
     "execution_count": 54,
     "metadata": {},
     "output_type": "execute_result"
    }
   ],
   "source": [
    "expenses_qs = entity_model.get_items_expenses()\n",
    "pd.DataFrame(expenses_qs.values())"
   ]
  },
  {
   "cell_type": "markdown",
   "metadata": {},
   "source": [
    "### Create Expense Item"
   ]
  },
  {
   "cell_type": "code",
   "execution_count": 55,
   "metadata": {
    "ExecuteTime": {
     "end_time": "2023-11-13T17:39:02.777228Z",
     "start_time": "2023-11-13T17:39:02.758154Z"
    }
   },
   "outputs": [],
   "source": [
    "expense_item_model = entity_model.create_item_expense(\n",
    "    name='Premium Pencils',\n",
    "    uom_model=uom_model_unit,\n",
    "    expense_type=ItemModel.ITEM_TYPE_MATERIAL\n",
    ")"
   ]
  },
  {
   "cell_type": "code",
   "execution_count": 56,
   "metadata": {
    "ExecuteTime": {
     "end_time": "2023-11-13T17:39:02.981722Z",
     "start_time": "2023-11-13T17:39:02.953563Z"
    }
   },
   "outputs": [
    {
     "data": {
      "text/plain": "True"
     },
     "execution_count": 56,
     "metadata": {},
     "output_type": "execute_result"
    }
   ],
   "source": [
    "expense_item_model.is_expense()"
   ]
  },
  {
   "cell_type": "markdown",
   "metadata": {},
   "source": [
    "## Services"
   ]
  },
  {
   "cell_type": "markdown",
   "metadata": {},
   "source": [
    "### Get Service Items"
   ]
  },
  {
   "cell_type": "code",
   "execution_count": 57,
   "metadata": {
    "ExecuteTime": {
     "end_time": "2023-11-13T17:39:03.658229Z",
     "start_time": "2023-11-13T17:39:03.615357Z"
    }
   },
   "outputs": [
    {
     "data": {
      "text/plain": "                            created                          updated  \\\n0  2023-11-13 17:38:44.836006+00:00 2023-11-13 17:38:44.836020+00:00   \n1  2023-11-13 17:38:44.836056+00:00 2023-11-13 17:38:44.836060+00:00   \n2  2023-11-13 17:38:44.836079+00:00 2023-11-13 17:38:44.836082+00:00   \n3  2023-11-13 17:38:44.836102+00:00 2023-11-13 17:38:44.836107+00:00   \n4  2023-11-13 17:38:44.836129+00:00 2023-11-13 17:38:44.836133+00:00   \n5  2023-11-13 17:38:44.836151+00:00 2023-11-13 17:38:44.836154+00:00   \n6  2023-11-13 17:38:44.836171+00:00 2023-11-13 17:38:44.836174+00:00   \n7  2023-11-13 17:38:44.836191+00:00 2023-11-13 17:38:44.836194+00:00   \n8  2023-11-13 17:38:44.836211+00:00 2023-11-13 17:38:44.836215+00:00   \n9  2023-11-13 17:38:44.836232+00:00 2023-11-13 17:38:44.836235+00:00   \n10 2023-11-13 17:38:44.836252+00:00 2023-11-13 17:38:44.836255+00:00   \n11 2023-11-13 17:38:44.836271+00:00 2023-11-13 17:38:44.836275+00:00   \n12 2023-11-13 17:38:44.836291+00:00 2023-11-13 17:38:44.836295+00:00   \n13 2023-11-13 17:38:44.836311+00:00 2023-11-13 17:38:44.836314+00:00   \n14 2023-11-13 17:38:44.836331+00:00 2023-11-13 17:38:44.836334+00:00   \n15 2023-11-13 17:38:44.836351+00:00 2023-11-13 17:38:44.836354+00:00   \n16 2023-11-13 17:38:44.836371+00:00 2023-11-13 17:38:44.836374+00:00   \n17 2023-11-13 17:38:44.836391+00:00 2023-11-13 17:38:44.836395+00:00   \n18 2023-11-13 17:38:44.836411+00:00 2023-11-13 17:38:44.836415+00:00   \n19 2023-11-13 17:38:44.836431+00:00 2023-11-13 17:38:44.836435+00:00   \n20 2023-11-13 17:38:44.836452+00:00 2023-11-13 17:38:44.836455+00:00   \n21 2023-11-13 17:38:44.836471+00:00 2023-11-13 17:38:44.836475+00:00   \n22 2023-11-13 17:38:44.836490+00:00 2023-11-13 17:38:44.836493+00:00   \n23 2023-11-13 17:38:44.836508+00:00 2023-11-13 17:38:44.836511+00:00   \n24 2023-11-13 17:38:44.836526+00:00 2023-11-13 17:38:44.836529+00:00   \n25 2023-11-13 17:38:44.836545+00:00 2023-11-13 17:38:44.836548+00:00   \n26 2023-11-13 17:38:44.836563+00:00 2023-11-13 17:38:44.836566+00:00   \n27 2023-11-13 17:38:44.836581+00:00 2023-11-13 17:38:44.836584+00:00   \n28 2023-11-13 17:38:44.836600+00:00 2023-11-13 17:38:44.836603+00:00   \n29 2023-11-13 17:38:44.836618+00:00 2023-11-13 17:38:44.836622+00:00   \n30 2023-11-13 17:38:44.836637+00:00 2023-11-13 17:38:44.836640+00:00   \n31 2023-11-13 17:38:44.836655+00:00 2023-11-13 17:38:44.836658+00:00   \n32 2023-11-13 17:38:44.836673+00:00 2023-11-13 17:38:44.836676+00:00   \n33 2023-11-13 17:38:44.836691+00:00 2023-11-13 17:38:44.836694+00:00   \n34 2023-11-13 17:38:44.836709+00:00 2023-11-13 17:38:44.836712+00:00   \n35 2023-11-13 17:38:44.836727+00:00 2023-11-13 17:38:44.836730+00:00   \n36 2023-11-13 17:38:44.836745+00:00 2023-11-13 17:38:44.836748+00:00   \n37 2023-11-13 17:38:44.836763+00:00 2023-11-13 17:38:44.836766+00:00   \n\n                                    uuid           name               item_id  \\\n0   ccc94bf5-cef1-4fff-98b3-e072084adbd9  Service #3202  WDTaZ8CYfQ8jnNhOOlXH   \n1   eaafc301-6c52-4bae-a807-33371128a313  Service #2361  1WzwMkYHYe8seIwvmRq9   \n2   8944b270-b7ee-496d-90f1-ae20be472bc8  Service #4498  eeTg98JNMyw6mPaKarhJ   \n3   0a3df58f-f160-462c-9f15-034f3d222239  Service #4899  I2cvlF80kRaWI9CFEYSL   \n4   52ba1ce4-e1c4-430a-bf09-b874102543dc  Service #4744  ohcPf56ETpTifE0bzvi5   \n5   941e6090-2e70-4643-96e7-b604eae311fb  Service #3505  bXjdR9xEtfRHekKtt2gd   \n6   7da36295-d896-4f75-85af-85e3946d1778  Service #9652  vzT4DGzauwChFPrONiFe   \n7   176eb1a1-ad3f-4211-8a73-f4d958cebfef  Service #4110  zTmufDWCWHTyMGcG9xFp   \n8   7029bb4d-1676-4fd9-84b5-3ee68722869a  Service #1936  IGiinlMOrl1zdfzx4nS2   \n9   61c54f40-1147-4159-9cde-8ecb615b1a97  Service #5387  eOWGNwo1I1gC9cXX9iqP   \n10  48895d4d-001b-4cd4-892a-0fabc6d21acf  Service #1632  VSCezK1f1FxOGj2usGDG   \n11  0198c03d-3f5e-4ad5-a57c-e35bbd326b66  Service #7978  XNy2tKleFXmzDhjatuxK   \n12  41176991-12bb-4f3e-bd05-9dbaf1941b3d  Service #5204  bOUSghPGo6KgytlHIM16   \n13  baa660bf-18fc-4f03-ba9e-715349fba86b  Service #6044  FTCp4fiSDuxnyiNAWH4y   \n14  4a71912f-5031-4b54-a508-b76eb6b63c8f  Service #3106  5t1vhL7HiG51KxmsvPEB   \n15  754bfd6a-04dd-4302-a379-400ffadd8186  Service #4966  yr14T6rkZQ5QDTAA0roJ   \n16  47ab3375-5d7d-413b-8bb1-9d21a645d66e  Service #9272  fvwSrmfM7wJ1aJf2zi0T   \n17  b0476a20-2eeb-4da1-ad24-41a7de690573  Service #9460  bio56k7fauXuMUwxKHwC   \n18  a6b3321f-b7a4-4f39-9fc6-abcd81fb64da  Service #3768  AXKMnKb3T1UtvcLnJpTz   \n19  897fb465-6872-4f88-850a-95e8178da7e0  Service #6841  TJMsjxfXDAFN2EZaIqHR   \n20  c5c68cfd-c230-4ca8-987b-63e7f7a606e5  Service #9485  euaKpz1f6JrdomrwlNCy   \n21  d526c603-712f-4242-8000-2f91cd6df099  Service #7062  cPmPsz3QqtLHjFgM84NR   \n22  4c81c0c2-597e-41e5-a956-2d2ad7a838d3  Service #1098  HP4ohhLGjvCSGGiOVWXa   \n23  3ebfee19-1812-4bfb-bd71-f556fefc96ae  Service #3604  fXJB727qCL1YAdSjiyQ9   \n24  c89e8e36-3a1d-4ae7-a845-6c961bc197ad  Service #6130  hadF3hSwmhb6yBiO37as   \n25  3c899320-a817-4269-9cfc-22da397d44cc  Service #4234  nGAKNV6jfb4TsCbsmE75   \n26  65e6e909-cac8-4e8e-81c0-7f34c0abe5bd  Service #4797  mXS2CPRKwdqrxNR74I65   \n27  0c97e0aa-4c02-409e-8ad7-df90e844b86f  Service #6808  D7PrKf0wFzmCbZWUW3J0   \n28  62a7ccf0-5f64-4719-9a1b-dded3b05b632  Service #8455  HuwisOhmzFjm2j4X8O42   \n29  6548e1a5-ac1e-4cd1-9109-9fad3f412d81  Service #3272  pc6Nl9AiEWshQKfDJSDM   \n30  537d67bd-bff1-4995-817e-f0c3edbfcf6e  Service #8618  RTFY5dCdevOaJpNLTKmk   \n31  39d38a0c-7870-47d4-a600-552d01c9f6ea  Service #6174  FaFhJRJVPGM81YLj71Oy   \n32  fbb58342-f819-47c0-b32c-465706c31019  Service #6050  zPFBDvUlH4XP2VgH8NBM   \n33  1ba5a0b5-bd00-4510-b5c3-a10a26df1cce  Service #4461  lvG2ta3xnrUvQS7iNghu   \n34  57b6a230-a8b3-4567-a6c5-72b7f1f26c05  Service #6628  sjSzHrCZx6HE2ilTcCGj   \n35  59f62b89-8b71-4847-9104-84225fb6739b  Service #8835  6TOkRtrmLjD6s2AmwodI   \n36  45988f72-7086-427c-af58-146684e8c370  Service #8170  Hd7KdT3kkXmdojQygPRm   \n37  aaabf034-18dc-45ab-b725-fd67840d0460  Service #5952  xuOzMmlU6FcuaSyk2XNl   \n\n       item_number item_role item_type                                uom_id  \\\n0   IPR-0000000023   service         L  94cf9411-f494-4d01-8c20-2f57b5e5fd6c   \n1   IPR-0000000024   service         L  924d4b04-28a5-4ae9-9eba-fae474227567   \n2   IPR-0000000025   service         L  220735b7-7c99-485e-ac8d-70144eceb6aa   \n3   IPR-0000000026   service         L  924d4b04-28a5-4ae9-9eba-fae474227567   \n4   IPR-0000000027   service         L  01851ed2-a516-43df-9f8e-02e0cd93b11d   \n5   IPR-0000000028   service         L  94cf9411-f494-4d01-8c20-2f57b5e5fd6c   \n6   IPR-0000000029   service         L  94cf9411-f494-4d01-8c20-2f57b5e5fd6c   \n7   IPR-0000000030   service         L  536d0221-926b-4250-bed3-81e7bae47238   \n8   IPR-0000000031   service         L  536d0221-926b-4250-bed3-81e7bae47238   \n9   IPR-0000000032   service         L  0b4fd4cb-3573-481a-a746-9e0a769bfce8   \n10  IPR-0000000033   service         L  536d0221-926b-4250-bed3-81e7bae47238   \n11  IPR-0000000034   service         L  924d4b04-28a5-4ae9-9eba-fae474227567   \n12  IPR-0000000035   service         L  01851ed2-a516-43df-9f8e-02e0cd93b11d   \n13  IPR-0000000036   service         L  0b4fd4cb-3573-481a-a746-9e0a769bfce8   \n14  IPR-0000000037   service         L  220735b7-7c99-485e-ac8d-70144eceb6aa   \n15  IPR-0000000038   service         L  94cf9411-f494-4d01-8c20-2f57b5e5fd6c   \n16  IPR-0000000039   service         L  536d0221-926b-4250-bed3-81e7bae47238   \n17  IPR-0000000040   service         L  924d4b04-28a5-4ae9-9eba-fae474227567   \n18  IPR-0000000041   service         L  924d4b04-28a5-4ae9-9eba-fae474227567   \n19  IPR-0000000042   service         L  01851ed2-a516-43df-9f8e-02e0cd93b11d   \n20  IPR-0000000043   service         L  94cf9411-f494-4d01-8c20-2f57b5e5fd6c   \n21  IPR-0000000044   service         L  01851ed2-a516-43df-9f8e-02e0cd93b11d   \n22  IPR-0000000045   service         L  0b4fd4cb-3573-481a-a746-9e0a769bfce8   \n23  IPR-0000000046   service         L  536d0221-926b-4250-bed3-81e7bae47238   \n24  IPR-0000000047   service         L  0b4fd4cb-3573-481a-a746-9e0a769bfce8   \n25  IPR-0000000048   service         L  94cf9411-f494-4d01-8c20-2f57b5e5fd6c   \n26  IPR-0000000049   service         L  536d0221-926b-4250-bed3-81e7bae47238   \n27  IPR-0000000050   service         L  0b4fd4cb-3573-481a-a746-9e0a769bfce8   \n28  IPR-0000000051   service         L  924d4b04-28a5-4ae9-9eba-fae474227567   \n29  IPR-0000000052   service         L  01851ed2-a516-43df-9f8e-02e0cd93b11d   \n30  IPR-0000000053   service         L  536d0221-926b-4250-bed3-81e7bae47238   \n31  IPR-0000000054   service         L  536d0221-926b-4250-bed3-81e7bae47238   \n32  IPR-0000000055   service         L  220735b7-7c99-485e-ac8d-70144eceb6aa   \n33  IPR-0000000056   service         L  0b4fd4cb-3573-481a-a746-9e0a769bfce8   \n34  IPR-0000000057   service         L  0b4fd4cb-3573-481a-a746-9e0a769bfce8   \n35  IPR-0000000058   service         L  924d4b04-28a5-4ae9-9eba-fae474227567   \n36  IPR-0000000059   service         L  01851ed2-a516-43df-9f8e-02e0cd93b11d   \n37  IPR-0000000060   service         L  94cf9411-f494-4d01-8c20-2f57b5e5fd6c   \n\n             sku  ... is_product_or_service  sold_as_unit  \\\n0   N7SM2RZXZUDO  ...                  True         False   \n1   QCUDIPWWP5SU  ...                  True         False   \n2   V4AQHTTPL4T0  ...                  True         False   \n3   PY3VH7VMHA7U  ...                  True         False   \n4   6CJRIVQKO4GI  ...                  True         False   \n5   26B58GYTMVO8  ...                  True         False   \n6   0WE8L2AKJHSK  ...                  True         False   \n7   FMMYT80ZSQFG  ...                  True         False   \n8   RVV9KYYGC6Y0  ...                  True         False   \n9   JCWP5HHBA5PR  ...                  True         False   \n10  71PO9EE2AS45  ...                  True         False   \n11  1TPDV6UHYTA0  ...                  True         False   \n12  DAHLXRRIONP4  ...                  True         False   \n13  W3J9N184NUKM  ...                  True         False   \n14  CWG9JWUMURJW  ...                  True         False   \n15  LVFP7LD6Q6PK  ...                  True         False   \n16  X3TFNV4BOUZJ  ...                  True         False   \n17  9TL7XH5T7YI9  ...                  True         False   \n18  RC9ML062TDVN  ...                  True         False   \n19  0EYUVSNOA613  ...                  True         False   \n20  9QVZKXD3XHAE  ...                  True         False   \n21  XTCA2OPRNNZJ  ...                  True         False   \n22  YHVXVH4EH3XU  ...                  True         False   \n23  Y1D82T329KCH  ...                  True         False   \n24  6065U2UDF5CI  ...                  True         False   \n25  59G5JZQVJF94  ...                  True         False   \n26  MYFIDNKZN1L4  ...                  True         False   \n27  15RN3V67UPRN  ...                  True         False   \n28  M26I1CUMO035  ...                  True         False   \n29  00VBH34NDHVY  ...                  True         False   \n30  QGQEDHT6NO03  ...                  True         False   \n31  QQ20UAC09RZT  ...                  True         False   \n32  Y3Z2IOMYWDT5  ...                  True         False   \n33  J7SR595HVPIB  ...                  True         False   \n34  VZRYOQJOZBNR  ...                  True         False   \n35  R3AHLKJCOIKV  ...                  True         False   \n36  G4URLJ9CRLTE  ...                  True         False   \n37  PNRM9XVQ5Z7C  ...                  True         False   \n\n   inventory_account_id  inventory_received  inventory_received_value  \\\n0                  None                None                      None   \n1                  None                None                      None   \n2                  None                None                      None   \n3                  None                None                      None   \n4                  None                None                      None   \n5                  None                None                      None   \n6                  None                None                      None   \n7                  None                None                      None   \n8                  None                None                      None   \n9                  None                None                      None   \n10                 None                None                      None   \n11                 None                None                      None   \n12                 None                None                      None   \n13                 None                None                      None   \n14                 None                None                      None   \n15                 None                None                      None   \n16                 None                None                      None   \n17                 None                None                      None   \n18                 None                None                      None   \n19                 None                None                      None   \n20                 None                None                      None   \n21                 None                None                      None   \n22                 None                None                      None   \n23                 None                None                      None   \n24                 None                None                      None   \n25                 None                None                      None   \n26                 None                None                      None   \n27                 None                None                      None   \n28                 None                None                      None   \n29                 None                None                      None   \n30                 None                None                      None   \n31                 None                None                      None   \n32                 None                None                      None   \n33                 None                None                      None   \n34                 None                None                      None   \n35                 None                None                      None   \n36                 None                None                      None   \n37                 None                None                      None   \n\n                         cogs_account_id  \\\n0   21bf14d1-9c99-4323-9b41-cdfe1a0b4548   \n1   21bf14d1-9c99-4323-9b41-cdfe1a0b4548   \n2   21bf14d1-9c99-4323-9b41-cdfe1a0b4548   \n3   21bf14d1-9c99-4323-9b41-cdfe1a0b4548   \n4   21bf14d1-9c99-4323-9b41-cdfe1a0b4548   \n5   21bf14d1-9c99-4323-9b41-cdfe1a0b4548   \n6   21bf14d1-9c99-4323-9b41-cdfe1a0b4548   \n7   21bf14d1-9c99-4323-9b41-cdfe1a0b4548   \n8   21bf14d1-9c99-4323-9b41-cdfe1a0b4548   \n9   21bf14d1-9c99-4323-9b41-cdfe1a0b4548   \n10  21bf14d1-9c99-4323-9b41-cdfe1a0b4548   \n11  21bf14d1-9c99-4323-9b41-cdfe1a0b4548   \n12  21bf14d1-9c99-4323-9b41-cdfe1a0b4548   \n13  21bf14d1-9c99-4323-9b41-cdfe1a0b4548   \n14  21bf14d1-9c99-4323-9b41-cdfe1a0b4548   \n15  21bf14d1-9c99-4323-9b41-cdfe1a0b4548   \n16  21bf14d1-9c99-4323-9b41-cdfe1a0b4548   \n17  21bf14d1-9c99-4323-9b41-cdfe1a0b4548   \n18  21bf14d1-9c99-4323-9b41-cdfe1a0b4548   \n19  21bf14d1-9c99-4323-9b41-cdfe1a0b4548   \n20  21bf14d1-9c99-4323-9b41-cdfe1a0b4548   \n21  21bf14d1-9c99-4323-9b41-cdfe1a0b4548   \n22  21bf14d1-9c99-4323-9b41-cdfe1a0b4548   \n23  21bf14d1-9c99-4323-9b41-cdfe1a0b4548   \n24  21bf14d1-9c99-4323-9b41-cdfe1a0b4548   \n25  21bf14d1-9c99-4323-9b41-cdfe1a0b4548   \n26  21bf14d1-9c99-4323-9b41-cdfe1a0b4548   \n27  21bf14d1-9c99-4323-9b41-cdfe1a0b4548   \n28  21bf14d1-9c99-4323-9b41-cdfe1a0b4548   \n29  21bf14d1-9c99-4323-9b41-cdfe1a0b4548   \n30  21bf14d1-9c99-4323-9b41-cdfe1a0b4548   \n31  21bf14d1-9c99-4323-9b41-cdfe1a0b4548   \n32  21bf14d1-9c99-4323-9b41-cdfe1a0b4548   \n33  21bf14d1-9c99-4323-9b41-cdfe1a0b4548   \n34  21bf14d1-9c99-4323-9b41-cdfe1a0b4548   \n35  21bf14d1-9c99-4323-9b41-cdfe1a0b4548   \n36  21bf14d1-9c99-4323-9b41-cdfe1a0b4548   \n37  21bf14d1-9c99-4323-9b41-cdfe1a0b4548   \n\n                     earnings_account_id expense_account_id additional_info  \\\n0   05321820-8593-4123-a93f-b4f278778ca5               None              {}   \n1   05321820-8593-4123-a93f-b4f278778ca5               None              {}   \n2   05321820-8593-4123-a93f-b4f278778ca5               None              {}   \n3   05321820-8593-4123-a93f-b4f278778ca5               None              {}   \n4   05321820-8593-4123-a93f-b4f278778ca5               None              {}   \n5   05321820-8593-4123-a93f-b4f278778ca5               None              {}   \n6   05321820-8593-4123-a93f-b4f278778ca5               None              {}   \n7   05321820-8593-4123-a93f-b4f278778ca5               None              {}   \n8   05321820-8593-4123-a93f-b4f278778ca5               None              {}   \n9   05321820-8593-4123-a93f-b4f278778ca5               None              {}   \n10  05321820-8593-4123-a93f-b4f278778ca5               None              {}   \n11  05321820-8593-4123-a93f-b4f278778ca5               None              {}   \n12  05321820-8593-4123-a93f-b4f278778ca5               None              {}   \n13  05321820-8593-4123-a93f-b4f278778ca5               None              {}   \n14  05321820-8593-4123-a93f-b4f278778ca5               None              {}   \n15  05321820-8593-4123-a93f-b4f278778ca5               None              {}   \n16  05321820-8593-4123-a93f-b4f278778ca5               None              {}   \n17  05321820-8593-4123-a93f-b4f278778ca5               None              {}   \n18  05321820-8593-4123-a93f-b4f278778ca5               None              {}   \n19  05321820-8593-4123-a93f-b4f278778ca5               None              {}   \n20  05321820-8593-4123-a93f-b4f278778ca5               None              {}   \n21  05321820-8593-4123-a93f-b4f278778ca5               None              {}   \n22  05321820-8593-4123-a93f-b4f278778ca5               None              {}   \n23  05321820-8593-4123-a93f-b4f278778ca5               None              {}   \n24  05321820-8593-4123-a93f-b4f278778ca5               None              {}   \n25  05321820-8593-4123-a93f-b4f278778ca5               None              {}   \n26  05321820-8593-4123-a93f-b4f278778ca5               None              {}   \n27  05321820-8593-4123-a93f-b4f278778ca5               None              {}   \n28  05321820-8593-4123-a93f-b4f278778ca5               None              {}   \n29  05321820-8593-4123-a93f-b4f278778ca5               None              {}   \n30  05321820-8593-4123-a93f-b4f278778ca5               None              {}   \n31  05321820-8593-4123-a93f-b4f278778ca5               None              {}   \n32  05321820-8593-4123-a93f-b4f278778ca5               None              {}   \n33  05321820-8593-4123-a93f-b4f278778ca5               None              {}   \n34  05321820-8593-4123-a93f-b4f278778ca5               None              {}   \n35  05321820-8593-4123-a93f-b4f278778ca5               None              {}   \n36  05321820-8593-4123-a93f-b4f278778ca5               None              {}   \n37  05321820-8593-4123-a93f-b4f278778ca5               None              {}   \n\n                               entity_id  \n0   44d57e0b-48bc-4e1b-8d9f-04b781cc607c  \n1   44d57e0b-48bc-4e1b-8d9f-04b781cc607c  \n2   44d57e0b-48bc-4e1b-8d9f-04b781cc607c  \n3   44d57e0b-48bc-4e1b-8d9f-04b781cc607c  \n4   44d57e0b-48bc-4e1b-8d9f-04b781cc607c  \n5   44d57e0b-48bc-4e1b-8d9f-04b781cc607c  \n6   44d57e0b-48bc-4e1b-8d9f-04b781cc607c  \n7   44d57e0b-48bc-4e1b-8d9f-04b781cc607c  \n8   44d57e0b-48bc-4e1b-8d9f-04b781cc607c  \n9   44d57e0b-48bc-4e1b-8d9f-04b781cc607c  \n10  44d57e0b-48bc-4e1b-8d9f-04b781cc607c  \n11  44d57e0b-48bc-4e1b-8d9f-04b781cc607c  \n12  44d57e0b-48bc-4e1b-8d9f-04b781cc607c  \n13  44d57e0b-48bc-4e1b-8d9f-04b781cc607c  \n14  44d57e0b-48bc-4e1b-8d9f-04b781cc607c  \n15  44d57e0b-48bc-4e1b-8d9f-04b781cc607c  \n16  44d57e0b-48bc-4e1b-8d9f-04b781cc607c  \n17  44d57e0b-48bc-4e1b-8d9f-04b781cc607c  \n18  44d57e0b-48bc-4e1b-8d9f-04b781cc607c  \n19  44d57e0b-48bc-4e1b-8d9f-04b781cc607c  \n20  44d57e0b-48bc-4e1b-8d9f-04b781cc607c  \n21  44d57e0b-48bc-4e1b-8d9f-04b781cc607c  \n22  44d57e0b-48bc-4e1b-8d9f-04b781cc607c  \n23  44d57e0b-48bc-4e1b-8d9f-04b781cc607c  \n24  44d57e0b-48bc-4e1b-8d9f-04b781cc607c  \n25  44d57e0b-48bc-4e1b-8d9f-04b781cc607c  \n26  44d57e0b-48bc-4e1b-8d9f-04b781cc607c  \n27  44d57e0b-48bc-4e1b-8d9f-04b781cc607c  \n28  44d57e0b-48bc-4e1b-8d9f-04b781cc607c  \n29  44d57e0b-48bc-4e1b-8d9f-04b781cc607c  \n30  44d57e0b-48bc-4e1b-8d9f-04b781cc607c  \n31  44d57e0b-48bc-4e1b-8d9f-04b781cc607c  \n32  44d57e0b-48bc-4e1b-8d9f-04b781cc607c  \n33  44d57e0b-48bc-4e1b-8d9f-04b781cc607c  \n34  44d57e0b-48bc-4e1b-8d9f-04b781cc607c  \n35  44d57e0b-48bc-4e1b-8d9f-04b781cc607c  \n36  44d57e0b-48bc-4e1b-8d9f-04b781cc607c  \n37  44d57e0b-48bc-4e1b-8d9f-04b781cc607c  \n\n[38 rows x 24 columns]",
      "text/html": "<div>\n<style scoped>\n    .dataframe tbody tr th:only-of-type {\n        vertical-align: middle;\n    }\n\n    .dataframe tbody tr th {\n        vertical-align: top;\n    }\n\n    .dataframe thead th {\n        text-align: right;\n    }\n</style>\n<table border=\"1\" class=\"dataframe\">\n  <thead>\n    <tr style=\"text-align: right;\">\n      <th></th>\n      <th>created</th>\n      <th>updated</th>\n      <th>uuid</th>\n      <th>name</th>\n      <th>item_id</th>\n      <th>item_number</th>\n      <th>item_role</th>\n      <th>item_type</th>\n      <th>uom_id</th>\n      <th>sku</th>\n      <th>...</th>\n      <th>is_product_or_service</th>\n      <th>sold_as_unit</th>\n      <th>inventory_account_id</th>\n      <th>inventory_received</th>\n      <th>inventory_received_value</th>\n      <th>cogs_account_id</th>\n      <th>earnings_account_id</th>\n      <th>expense_account_id</th>\n      <th>additional_info</th>\n      <th>entity_id</th>\n    </tr>\n  </thead>\n  <tbody>\n    <tr>\n      <th>0</th>\n      <td>2023-11-13 17:38:44.836006+00:00</td>\n      <td>2023-11-13 17:38:44.836020+00:00</td>\n      <td>ccc94bf5-cef1-4fff-98b3-e072084adbd9</td>\n      <td>Service #3202</td>\n      <td>WDTaZ8CYfQ8jnNhOOlXH</td>\n      <td>IPR-0000000023</td>\n      <td>service</td>\n      <td>L</td>\n      <td>94cf9411-f494-4d01-8c20-2f57b5e5fd6c</td>\n      <td>N7SM2RZXZUDO</td>\n      <td>...</td>\n      <td>True</td>\n      <td>False</td>\n      <td>None</td>\n      <td>None</td>\n      <td>None</td>\n      <td>21bf14d1-9c99-4323-9b41-cdfe1a0b4548</td>\n      <td>05321820-8593-4123-a93f-b4f278778ca5</td>\n      <td>None</td>\n      <td>{}</td>\n      <td>44d57e0b-48bc-4e1b-8d9f-04b781cc607c</td>\n    </tr>\n    <tr>\n      <th>1</th>\n      <td>2023-11-13 17:38:44.836056+00:00</td>\n      <td>2023-11-13 17:38:44.836060+00:00</td>\n      <td>eaafc301-6c52-4bae-a807-33371128a313</td>\n      <td>Service #2361</td>\n      <td>1WzwMkYHYe8seIwvmRq9</td>\n      <td>IPR-0000000024</td>\n      <td>service</td>\n      <td>L</td>\n      <td>924d4b04-28a5-4ae9-9eba-fae474227567</td>\n      <td>QCUDIPWWP5SU</td>\n      <td>...</td>\n      <td>True</td>\n      <td>False</td>\n      <td>None</td>\n      <td>None</td>\n      <td>None</td>\n      <td>21bf14d1-9c99-4323-9b41-cdfe1a0b4548</td>\n      <td>05321820-8593-4123-a93f-b4f278778ca5</td>\n      <td>None</td>\n      <td>{}</td>\n      <td>44d57e0b-48bc-4e1b-8d9f-04b781cc607c</td>\n    </tr>\n    <tr>\n      <th>2</th>\n      <td>2023-11-13 17:38:44.836079+00:00</td>\n      <td>2023-11-13 17:38:44.836082+00:00</td>\n      <td>8944b270-b7ee-496d-90f1-ae20be472bc8</td>\n      <td>Service #4498</td>\n      <td>eeTg98JNMyw6mPaKarhJ</td>\n      <td>IPR-0000000025</td>\n      <td>service</td>\n      <td>L</td>\n      <td>220735b7-7c99-485e-ac8d-70144eceb6aa</td>\n      <td>V4AQHTTPL4T0</td>\n      <td>...</td>\n      <td>True</td>\n      <td>False</td>\n      <td>None</td>\n      <td>None</td>\n      <td>None</td>\n      <td>21bf14d1-9c99-4323-9b41-cdfe1a0b4548</td>\n      <td>05321820-8593-4123-a93f-b4f278778ca5</td>\n      <td>None</td>\n      <td>{}</td>\n      <td>44d57e0b-48bc-4e1b-8d9f-04b781cc607c</td>\n    </tr>\n    <tr>\n      <th>3</th>\n      <td>2023-11-13 17:38:44.836102+00:00</td>\n      <td>2023-11-13 17:38:44.836107+00:00</td>\n      <td>0a3df58f-f160-462c-9f15-034f3d222239</td>\n      <td>Service #4899</td>\n      <td>I2cvlF80kRaWI9CFEYSL</td>\n      <td>IPR-0000000026</td>\n      <td>service</td>\n      <td>L</td>\n      <td>924d4b04-28a5-4ae9-9eba-fae474227567</td>\n      <td>PY3VH7VMHA7U</td>\n      <td>...</td>\n      <td>True</td>\n      <td>False</td>\n      <td>None</td>\n      <td>None</td>\n      <td>None</td>\n      <td>21bf14d1-9c99-4323-9b41-cdfe1a0b4548</td>\n      <td>05321820-8593-4123-a93f-b4f278778ca5</td>\n      <td>None</td>\n      <td>{}</td>\n      <td>44d57e0b-48bc-4e1b-8d9f-04b781cc607c</td>\n    </tr>\n    <tr>\n      <th>4</th>\n      <td>2023-11-13 17:38:44.836129+00:00</td>\n      <td>2023-11-13 17:38:44.836133+00:00</td>\n      <td>52ba1ce4-e1c4-430a-bf09-b874102543dc</td>\n      <td>Service #4744</td>\n      <td>ohcPf56ETpTifE0bzvi5</td>\n      <td>IPR-0000000027</td>\n      <td>service</td>\n      <td>L</td>\n      <td>01851ed2-a516-43df-9f8e-02e0cd93b11d</td>\n      <td>6CJRIVQKO4GI</td>\n      <td>...</td>\n      <td>True</td>\n      <td>False</td>\n      <td>None</td>\n      <td>None</td>\n      <td>None</td>\n      <td>21bf14d1-9c99-4323-9b41-cdfe1a0b4548</td>\n      <td>05321820-8593-4123-a93f-b4f278778ca5</td>\n      <td>None</td>\n      <td>{}</td>\n      <td>44d57e0b-48bc-4e1b-8d9f-04b781cc607c</td>\n    </tr>\n    <tr>\n      <th>5</th>\n      <td>2023-11-13 17:38:44.836151+00:00</td>\n      <td>2023-11-13 17:38:44.836154+00:00</td>\n      <td>941e6090-2e70-4643-96e7-b604eae311fb</td>\n      <td>Service #3505</td>\n      <td>bXjdR9xEtfRHekKtt2gd</td>\n      <td>IPR-0000000028</td>\n      <td>service</td>\n      <td>L</td>\n      <td>94cf9411-f494-4d01-8c20-2f57b5e5fd6c</td>\n      <td>26B58GYTMVO8</td>\n      <td>...</td>\n      <td>True</td>\n      <td>False</td>\n      <td>None</td>\n      <td>None</td>\n      <td>None</td>\n      <td>21bf14d1-9c99-4323-9b41-cdfe1a0b4548</td>\n      <td>05321820-8593-4123-a93f-b4f278778ca5</td>\n      <td>None</td>\n      <td>{}</td>\n      <td>44d57e0b-48bc-4e1b-8d9f-04b781cc607c</td>\n    </tr>\n    <tr>\n      <th>6</th>\n      <td>2023-11-13 17:38:44.836171+00:00</td>\n      <td>2023-11-13 17:38:44.836174+00:00</td>\n      <td>7da36295-d896-4f75-85af-85e3946d1778</td>\n      <td>Service #9652</td>\n      <td>vzT4DGzauwChFPrONiFe</td>\n      <td>IPR-0000000029</td>\n      <td>service</td>\n      <td>L</td>\n      <td>94cf9411-f494-4d01-8c20-2f57b5e5fd6c</td>\n      <td>0WE8L2AKJHSK</td>\n      <td>...</td>\n      <td>True</td>\n      <td>False</td>\n      <td>None</td>\n      <td>None</td>\n      <td>None</td>\n      <td>21bf14d1-9c99-4323-9b41-cdfe1a0b4548</td>\n      <td>05321820-8593-4123-a93f-b4f278778ca5</td>\n      <td>None</td>\n      <td>{}</td>\n      <td>44d57e0b-48bc-4e1b-8d9f-04b781cc607c</td>\n    </tr>\n    <tr>\n      <th>7</th>\n      <td>2023-11-13 17:38:44.836191+00:00</td>\n      <td>2023-11-13 17:38:44.836194+00:00</td>\n      <td>176eb1a1-ad3f-4211-8a73-f4d958cebfef</td>\n      <td>Service #4110</td>\n      <td>zTmufDWCWHTyMGcG9xFp</td>\n      <td>IPR-0000000030</td>\n      <td>service</td>\n      <td>L</td>\n      <td>536d0221-926b-4250-bed3-81e7bae47238</td>\n      <td>FMMYT80ZSQFG</td>\n      <td>...</td>\n      <td>True</td>\n      <td>False</td>\n      <td>None</td>\n      <td>None</td>\n      <td>None</td>\n      <td>21bf14d1-9c99-4323-9b41-cdfe1a0b4548</td>\n      <td>05321820-8593-4123-a93f-b4f278778ca5</td>\n      <td>None</td>\n      <td>{}</td>\n      <td>44d57e0b-48bc-4e1b-8d9f-04b781cc607c</td>\n    </tr>\n    <tr>\n      <th>8</th>\n      <td>2023-11-13 17:38:44.836211+00:00</td>\n      <td>2023-11-13 17:38:44.836215+00:00</td>\n      <td>7029bb4d-1676-4fd9-84b5-3ee68722869a</td>\n      <td>Service #1936</td>\n      <td>IGiinlMOrl1zdfzx4nS2</td>\n      <td>IPR-0000000031</td>\n      <td>service</td>\n      <td>L</td>\n      <td>536d0221-926b-4250-bed3-81e7bae47238</td>\n      <td>RVV9KYYGC6Y0</td>\n      <td>...</td>\n      <td>True</td>\n      <td>False</td>\n      <td>None</td>\n      <td>None</td>\n      <td>None</td>\n      <td>21bf14d1-9c99-4323-9b41-cdfe1a0b4548</td>\n      <td>05321820-8593-4123-a93f-b4f278778ca5</td>\n      <td>None</td>\n      <td>{}</td>\n      <td>44d57e0b-48bc-4e1b-8d9f-04b781cc607c</td>\n    </tr>\n    <tr>\n      <th>9</th>\n      <td>2023-11-13 17:38:44.836232+00:00</td>\n      <td>2023-11-13 17:38:44.836235+00:00</td>\n      <td>61c54f40-1147-4159-9cde-8ecb615b1a97</td>\n      <td>Service #5387</td>\n      <td>eOWGNwo1I1gC9cXX9iqP</td>\n      <td>IPR-0000000032</td>\n      <td>service</td>\n      <td>L</td>\n      <td>0b4fd4cb-3573-481a-a746-9e0a769bfce8</td>\n      <td>JCWP5HHBA5PR</td>\n      <td>...</td>\n      <td>True</td>\n      <td>False</td>\n      <td>None</td>\n      <td>None</td>\n      <td>None</td>\n      <td>21bf14d1-9c99-4323-9b41-cdfe1a0b4548</td>\n      <td>05321820-8593-4123-a93f-b4f278778ca5</td>\n      <td>None</td>\n      <td>{}</td>\n      <td>44d57e0b-48bc-4e1b-8d9f-04b781cc607c</td>\n    </tr>\n    <tr>\n      <th>10</th>\n      <td>2023-11-13 17:38:44.836252+00:00</td>\n      <td>2023-11-13 17:38:44.836255+00:00</td>\n      <td>48895d4d-001b-4cd4-892a-0fabc6d21acf</td>\n      <td>Service #1632</td>\n      <td>VSCezK1f1FxOGj2usGDG</td>\n      <td>IPR-0000000033</td>\n      <td>service</td>\n      <td>L</td>\n      <td>536d0221-926b-4250-bed3-81e7bae47238</td>\n      <td>71PO9EE2AS45</td>\n      <td>...</td>\n      <td>True</td>\n      <td>False</td>\n      <td>None</td>\n      <td>None</td>\n      <td>None</td>\n      <td>21bf14d1-9c99-4323-9b41-cdfe1a0b4548</td>\n      <td>05321820-8593-4123-a93f-b4f278778ca5</td>\n      <td>None</td>\n      <td>{}</td>\n      <td>44d57e0b-48bc-4e1b-8d9f-04b781cc607c</td>\n    </tr>\n    <tr>\n      <th>11</th>\n      <td>2023-11-13 17:38:44.836271+00:00</td>\n      <td>2023-11-13 17:38:44.836275+00:00</td>\n      <td>0198c03d-3f5e-4ad5-a57c-e35bbd326b66</td>\n      <td>Service #7978</td>\n      <td>XNy2tKleFXmzDhjatuxK</td>\n      <td>IPR-0000000034</td>\n      <td>service</td>\n      <td>L</td>\n      <td>924d4b04-28a5-4ae9-9eba-fae474227567</td>\n      <td>1TPDV6UHYTA0</td>\n      <td>...</td>\n      <td>True</td>\n      <td>False</td>\n      <td>None</td>\n      <td>None</td>\n      <td>None</td>\n      <td>21bf14d1-9c99-4323-9b41-cdfe1a0b4548</td>\n      <td>05321820-8593-4123-a93f-b4f278778ca5</td>\n      <td>None</td>\n      <td>{}</td>\n      <td>44d57e0b-48bc-4e1b-8d9f-04b781cc607c</td>\n    </tr>\n    <tr>\n      <th>12</th>\n      <td>2023-11-13 17:38:44.836291+00:00</td>\n      <td>2023-11-13 17:38:44.836295+00:00</td>\n      <td>41176991-12bb-4f3e-bd05-9dbaf1941b3d</td>\n      <td>Service #5204</td>\n      <td>bOUSghPGo6KgytlHIM16</td>\n      <td>IPR-0000000035</td>\n      <td>service</td>\n      <td>L</td>\n      <td>01851ed2-a516-43df-9f8e-02e0cd93b11d</td>\n      <td>DAHLXRRIONP4</td>\n      <td>...</td>\n      <td>True</td>\n      <td>False</td>\n      <td>None</td>\n      <td>None</td>\n      <td>None</td>\n      <td>21bf14d1-9c99-4323-9b41-cdfe1a0b4548</td>\n      <td>05321820-8593-4123-a93f-b4f278778ca5</td>\n      <td>None</td>\n      <td>{}</td>\n      <td>44d57e0b-48bc-4e1b-8d9f-04b781cc607c</td>\n    </tr>\n    <tr>\n      <th>13</th>\n      <td>2023-11-13 17:38:44.836311+00:00</td>\n      <td>2023-11-13 17:38:44.836314+00:00</td>\n      <td>baa660bf-18fc-4f03-ba9e-715349fba86b</td>\n      <td>Service #6044</td>\n      <td>FTCp4fiSDuxnyiNAWH4y</td>\n      <td>IPR-0000000036</td>\n      <td>service</td>\n      <td>L</td>\n      <td>0b4fd4cb-3573-481a-a746-9e0a769bfce8</td>\n      <td>W3J9N184NUKM</td>\n      <td>...</td>\n      <td>True</td>\n      <td>False</td>\n      <td>None</td>\n      <td>None</td>\n      <td>None</td>\n      <td>21bf14d1-9c99-4323-9b41-cdfe1a0b4548</td>\n      <td>05321820-8593-4123-a93f-b4f278778ca5</td>\n      <td>None</td>\n      <td>{}</td>\n      <td>44d57e0b-48bc-4e1b-8d9f-04b781cc607c</td>\n    </tr>\n    <tr>\n      <th>14</th>\n      <td>2023-11-13 17:38:44.836331+00:00</td>\n      <td>2023-11-13 17:38:44.836334+00:00</td>\n      <td>4a71912f-5031-4b54-a508-b76eb6b63c8f</td>\n      <td>Service #3106</td>\n      <td>5t1vhL7HiG51KxmsvPEB</td>\n      <td>IPR-0000000037</td>\n      <td>service</td>\n      <td>L</td>\n      <td>220735b7-7c99-485e-ac8d-70144eceb6aa</td>\n      <td>CWG9JWUMURJW</td>\n      <td>...</td>\n      <td>True</td>\n      <td>False</td>\n      <td>None</td>\n      <td>None</td>\n      <td>None</td>\n      <td>21bf14d1-9c99-4323-9b41-cdfe1a0b4548</td>\n      <td>05321820-8593-4123-a93f-b4f278778ca5</td>\n      <td>None</td>\n      <td>{}</td>\n      <td>44d57e0b-48bc-4e1b-8d9f-04b781cc607c</td>\n    </tr>\n    <tr>\n      <th>15</th>\n      <td>2023-11-13 17:38:44.836351+00:00</td>\n      <td>2023-11-13 17:38:44.836354+00:00</td>\n      <td>754bfd6a-04dd-4302-a379-400ffadd8186</td>\n      <td>Service #4966</td>\n      <td>yr14T6rkZQ5QDTAA0roJ</td>\n      <td>IPR-0000000038</td>\n      <td>service</td>\n      <td>L</td>\n      <td>94cf9411-f494-4d01-8c20-2f57b5e5fd6c</td>\n      <td>LVFP7LD6Q6PK</td>\n      <td>...</td>\n      <td>True</td>\n      <td>False</td>\n      <td>None</td>\n      <td>None</td>\n      <td>None</td>\n      <td>21bf14d1-9c99-4323-9b41-cdfe1a0b4548</td>\n      <td>05321820-8593-4123-a93f-b4f278778ca5</td>\n      <td>None</td>\n      <td>{}</td>\n      <td>44d57e0b-48bc-4e1b-8d9f-04b781cc607c</td>\n    </tr>\n    <tr>\n      <th>16</th>\n      <td>2023-11-13 17:38:44.836371+00:00</td>\n      <td>2023-11-13 17:38:44.836374+00:00</td>\n      <td>47ab3375-5d7d-413b-8bb1-9d21a645d66e</td>\n      <td>Service #9272</td>\n      <td>fvwSrmfM7wJ1aJf2zi0T</td>\n      <td>IPR-0000000039</td>\n      <td>service</td>\n      <td>L</td>\n      <td>536d0221-926b-4250-bed3-81e7bae47238</td>\n      <td>X3TFNV4BOUZJ</td>\n      <td>...</td>\n      <td>True</td>\n      <td>False</td>\n      <td>None</td>\n      <td>None</td>\n      <td>None</td>\n      <td>21bf14d1-9c99-4323-9b41-cdfe1a0b4548</td>\n      <td>05321820-8593-4123-a93f-b4f278778ca5</td>\n      <td>None</td>\n      <td>{}</td>\n      <td>44d57e0b-48bc-4e1b-8d9f-04b781cc607c</td>\n    </tr>\n    <tr>\n      <th>17</th>\n      <td>2023-11-13 17:38:44.836391+00:00</td>\n      <td>2023-11-13 17:38:44.836395+00:00</td>\n      <td>b0476a20-2eeb-4da1-ad24-41a7de690573</td>\n      <td>Service #9460</td>\n      <td>bio56k7fauXuMUwxKHwC</td>\n      <td>IPR-0000000040</td>\n      <td>service</td>\n      <td>L</td>\n      <td>924d4b04-28a5-4ae9-9eba-fae474227567</td>\n      <td>9TL7XH5T7YI9</td>\n      <td>...</td>\n      <td>True</td>\n      <td>False</td>\n      <td>None</td>\n      <td>None</td>\n      <td>None</td>\n      <td>21bf14d1-9c99-4323-9b41-cdfe1a0b4548</td>\n      <td>05321820-8593-4123-a93f-b4f278778ca5</td>\n      <td>None</td>\n      <td>{}</td>\n      <td>44d57e0b-48bc-4e1b-8d9f-04b781cc607c</td>\n    </tr>\n    <tr>\n      <th>18</th>\n      <td>2023-11-13 17:38:44.836411+00:00</td>\n      <td>2023-11-13 17:38:44.836415+00:00</td>\n      <td>a6b3321f-b7a4-4f39-9fc6-abcd81fb64da</td>\n      <td>Service #3768</td>\n      <td>AXKMnKb3T1UtvcLnJpTz</td>\n      <td>IPR-0000000041</td>\n      <td>service</td>\n      <td>L</td>\n      <td>924d4b04-28a5-4ae9-9eba-fae474227567</td>\n      <td>RC9ML062TDVN</td>\n      <td>...</td>\n      <td>True</td>\n      <td>False</td>\n      <td>None</td>\n      <td>None</td>\n      <td>None</td>\n      <td>21bf14d1-9c99-4323-9b41-cdfe1a0b4548</td>\n      <td>05321820-8593-4123-a93f-b4f278778ca5</td>\n      <td>None</td>\n      <td>{}</td>\n      <td>44d57e0b-48bc-4e1b-8d9f-04b781cc607c</td>\n    </tr>\n    <tr>\n      <th>19</th>\n      <td>2023-11-13 17:38:44.836431+00:00</td>\n      <td>2023-11-13 17:38:44.836435+00:00</td>\n      <td>897fb465-6872-4f88-850a-95e8178da7e0</td>\n      <td>Service #6841</td>\n      <td>TJMsjxfXDAFN2EZaIqHR</td>\n      <td>IPR-0000000042</td>\n      <td>service</td>\n      <td>L</td>\n      <td>01851ed2-a516-43df-9f8e-02e0cd93b11d</td>\n      <td>0EYUVSNOA613</td>\n      <td>...</td>\n      <td>True</td>\n      <td>False</td>\n      <td>None</td>\n      <td>None</td>\n      <td>None</td>\n      <td>21bf14d1-9c99-4323-9b41-cdfe1a0b4548</td>\n      <td>05321820-8593-4123-a93f-b4f278778ca5</td>\n      <td>None</td>\n      <td>{}</td>\n      <td>44d57e0b-48bc-4e1b-8d9f-04b781cc607c</td>\n    </tr>\n    <tr>\n      <th>20</th>\n      <td>2023-11-13 17:38:44.836452+00:00</td>\n      <td>2023-11-13 17:38:44.836455+00:00</td>\n      <td>c5c68cfd-c230-4ca8-987b-63e7f7a606e5</td>\n      <td>Service #9485</td>\n      <td>euaKpz1f6JrdomrwlNCy</td>\n      <td>IPR-0000000043</td>\n      <td>service</td>\n      <td>L</td>\n      <td>94cf9411-f494-4d01-8c20-2f57b5e5fd6c</td>\n      <td>9QVZKXD3XHAE</td>\n      <td>...</td>\n      <td>True</td>\n      <td>False</td>\n      <td>None</td>\n      <td>None</td>\n      <td>None</td>\n      <td>21bf14d1-9c99-4323-9b41-cdfe1a0b4548</td>\n      <td>05321820-8593-4123-a93f-b4f278778ca5</td>\n      <td>None</td>\n      <td>{}</td>\n      <td>44d57e0b-48bc-4e1b-8d9f-04b781cc607c</td>\n    </tr>\n    <tr>\n      <th>21</th>\n      <td>2023-11-13 17:38:44.836471+00:00</td>\n      <td>2023-11-13 17:38:44.836475+00:00</td>\n      <td>d526c603-712f-4242-8000-2f91cd6df099</td>\n      <td>Service #7062</td>\n      <td>cPmPsz3QqtLHjFgM84NR</td>\n      <td>IPR-0000000044</td>\n      <td>service</td>\n      <td>L</td>\n      <td>01851ed2-a516-43df-9f8e-02e0cd93b11d</td>\n      <td>XTCA2OPRNNZJ</td>\n      <td>...</td>\n      <td>True</td>\n      <td>False</td>\n      <td>None</td>\n      <td>None</td>\n      <td>None</td>\n      <td>21bf14d1-9c99-4323-9b41-cdfe1a0b4548</td>\n      <td>05321820-8593-4123-a93f-b4f278778ca5</td>\n      <td>None</td>\n      <td>{}</td>\n      <td>44d57e0b-48bc-4e1b-8d9f-04b781cc607c</td>\n    </tr>\n    <tr>\n      <th>22</th>\n      <td>2023-11-13 17:38:44.836490+00:00</td>\n      <td>2023-11-13 17:38:44.836493+00:00</td>\n      <td>4c81c0c2-597e-41e5-a956-2d2ad7a838d3</td>\n      <td>Service #1098</td>\n      <td>HP4ohhLGjvCSGGiOVWXa</td>\n      <td>IPR-0000000045</td>\n      <td>service</td>\n      <td>L</td>\n      <td>0b4fd4cb-3573-481a-a746-9e0a769bfce8</td>\n      <td>YHVXVH4EH3XU</td>\n      <td>...</td>\n      <td>True</td>\n      <td>False</td>\n      <td>None</td>\n      <td>None</td>\n      <td>None</td>\n      <td>21bf14d1-9c99-4323-9b41-cdfe1a0b4548</td>\n      <td>05321820-8593-4123-a93f-b4f278778ca5</td>\n      <td>None</td>\n      <td>{}</td>\n      <td>44d57e0b-48bc-4e1b-8d9f-04b781cc607c</td>\n    </tr>\n    <tr>\n      <th>23</th>\n      <td>2023-11-13 17:38:44.836508+00:00</td>\n      <td>2023-11-13 17:38:44.836511+00:00</td>\n      <td>3ebfee19-1812-4bfb-bd71-f556fefc96ae</td>\n      <td>Service #3604</td>\n      <td>fXJB727qCL1YAdSjiyQ9</td>\n      <td>IPR-0000000046</td>\n      <td>service</td>\n      <td>L</td>\n      <td>536d0221-926b-4250-bed3-81e7bae47238</td>\n      <td>Y1D82T329KCH</td>\n      <td>...</td>\n      <td>True</td>\n      <td>False</td>\n      <td>None</td>\n      <td>None</td>\n      <td>None</td>\n      <td>21bf14d1-9c99-4323-9b41-cdfe1a0b4548</td>\n      <td>05321820-8593-4123-a93f-b4f278778ca5</td>\n      <td>None</td>\n      <td>{}</td>\n      <td>44d57e0b-48bc-4e1b-8d9f-04b781cc607c</td>\n    </tr>\n    <tr>\n      <th>24</th>\n      <td>2023-11-13 17:38:44.836526+00:00</td>\n      <td>2023-11-13 17:38:44.836529+00:00</td>\n      <td>c89e8e36-3a1d-4ae7-a845-6c961bc197ad</td>\n      <td>Service #6130</td>\n      <td>hadF3hSwmhb6yBiO37as</td>\n      <td>IPR-0000000047</td>\n      <td>service</td>\n      <td>L</td>\n      <td>0b4fd4cb-3573-481a-a746-9e0a769bfce8</td>\n      <td>6065U2UDF5CI</td>\n      <td>...</td>\n      <td>True</td>\n      <td>False</td>\n      <td>None</td>\n      <td>None</td>\n      <td>None</td>\n      <td>21bf14d1-9c99-4323-9b41-cdfe1a0b4548</td>\n      <td>05321820-8593-4123-a93f-b4f278778ca5</td>\n      <td>None</td>\n      <td>{}</td>\n      <td>44d57e0b-48bc-4e1b-8d9f-04b781cc607c</td>\n    </tr>\n    <tr>\n      <th>25</th>\n      <td>2023-11-13 17:38:44.836545+00:00</td>\n      <td>2023-11-13 17:38:44.836548+00:00</td>\n      <td>3c899320-a817-4269-9cfc-22da397d44cc</td>\n      <td>Service #4234</td>\n      <td>nGAKNV6jfb4TsCbsmE75</td>\n      <td>IPR-0000000048</td>\n      <td>service</td>\n      <td>L</td>\n      <td>94cf9411-f494-4d01-8c20-2f57b5e5fd6c</td>\n      <td>59G5JZQVJF94</td>\n      <td>...</td>\n      <td>True</td>\n      <td>False</td>\n      <td>None</td>\n      <td>None</td>\n      <td>None</td>\n      <td>21bf14d1-9c99-4323-9b41-cdfe1a0b4548</td>\n      <td>05321820-8593-4123-a93f-b4f278778ca5</td>\n      <td>None</td>\n      <td>{}</td>\n      <td>44d57e0b-48bc-4e1b-8d9f-04b781cc607c</td>\n    </tr>\n    <tr>\n      <th>26</th>\n      <td>2023-11-13 17:38:44.836563+00:00</td>\n      <td>2023-11-13 17:38:44.836566+00:00</td>\n      <td>65e6e909-cac8-4e8e-81c0-7f34c0abe5bd</td>\n      <td>Service #4797</td>\n      <td>mXS2CPRKwdqrxNR74I65</td>\n      <td>IPR-0000000049</td>\n      <td>service</td>\n      <td>L</td>\n      <td>536d0221-926b-4250-bed3-81e7bae47238</td>\n      <td>MYFIDNKZN1L4</td>\n      <td>...</td>\n      <td>True</td>\n      <td>False</td>\n      <td>None</td>\n      <td>None</td>\n      <td>None</td>\n      <td>21bf14d1-9c99-4323-9b41-cdfe1a0b4548</td>\n      <td>05321820-8593-4123-a93f-b4f278778ca5</td>\n      <td>None</td>\n      <td>{}</td>\n      <td>44d57e0b-48bc-4e1b-8d9f-04b781cc607c</td>\n    </tr>\n    <tr>\n      <th>27</th>\n      <td>2023-11-13 17:38:44.836581+00:00</td>\n      <td>2023-11-13 17:38:44.836584+00:00</td>\n      <td>0c97e0aa-4c02-409e-8ad7-df90e844b86f</td>\n      <td>Service #6808</td>\n      <td>D7PrKf0wFzmCbZWUW3J0</td>\n      <td>IPR-0000000050</td>\n      <td>service</td>\n      <td>L</td>\n      <td>0b4fd4cb-3573-481a-a746-9e0a769bfce8</td>\n      <td>15RN3V67UPRN</td>\n      <td>...</td>\n      <td>True</td>\n      <td>False</td>\n      <td>None</td>\n      <td>None</td>\n      <td>None</td>\n      <td>21bf14d1-9c99-4323-9b41-cdfe1a0b4548</td>\n      <td>05321820-8593-4123-a93f-b4f278778ca5</td>\n      <td>None</td>\n      <td>{}</td>\n      <td>44d57e0b-48bc-4e1b-8d9f-04b781cc607c</td>\n    </tr>\n    <tr>\n      <th>28</th>\n      <td>2023-11-13 17:38:44.836600+00:00</td>\n      <td>2023-11-13 17:38:44.836603+00:00</td>\n      <td>62a7ccf0-5f64-4719-9a1b-dded3b05b632</td>\n      <td>Service #8455</td>\n      <td>HuwisOhmzFjm2j4X8O42</td>\n      <td>IPR-0000000051</td>\n      <td>service</td>\n      <td>L</td>\n      <td>924d4b04-28a5-4ae9-9eba-fae474227567</td>\n      <td>M26I1CUMO035</td>\n      <td>...</td>\n      <td>True</td>\n      <td>False</td>\n      <td>None</td>\n      <td>None</td>\n      <td>None</td>\n      <td>21bf14d1-9c99-4323-9b41-cdfe1a0b4548</td>\n      <td>05321820-8593-4123-a93f-b4f278778ca5</td>\n      <td>None</td>\n      <td>{}</td>\n      <td>44d57e0b-48bc-4e1b-8d9f-04b781cc607c</td>\n    </tr>\n    <tr>\n      <th>29</th>\n      <td>2023-11-13 17:38:44.836618+00:00</td>\n      <td>2023-11-13 17:38:44.836622+00:00</td>\n      <td>6548e1a5-ac1e-4cd1-9109-9fad3f412d81</td>\n      <td>Service #3272</td>\n      <td>pc6Nl9AiEWshQKfDJSDM</td>\n      <td>IPR-0000000052</td>\n      <td>service</td>\n      <td>L</td>\n      <td>01851ed2-a516-43df-9f8e-02e0cd93b11d</td>\n      <td>00VBH34NDHVY</td>\n      <td>...</td>\n      <td>True</td>\n      <td>False</td>\n      <td>None</td>\n      <td>None</td>\n      <td>None</td>\n      <td>21bf14d1-9c99-4323-9b41-cdfe1a0b4548</td>\n      <td>05321820-8593-4123-a93f-b4f278778ca5</td>\n      <td>None</td>\n      <td>{}</td>\n      <td>44d57e0b-48bc-4e1b-8d9f-04b781cc607c</td>\n    </tr>\n    <tr>\n      <th>30</th>\n      <td>2023-11-13 17:38:44.836637+00:00</td>\n      <td>2023-11-13 17:38:44.836640+00:00</td>\n      <td>537d67bd-bff1-4995-817e-f0c3edbfcf6e</td>\n      <td>Service #8618</td>\n      <td>RTFY5dCdevOaJpNLTKmk</td>\n      <td>IPR-0000000053</td>\n      <td>service</td>\n      <td>L</td>\n      <td>536d0221-926b-4250-bed3-81e7bae47238</td>\n      <td>QGQEDHT6NO03</td>\n      <td>...</td>\n      <td>True</td>\n      <td>False</td>\n      <td>None</td>\n      <td>None</td>\n      <td>None</td>\n      <td>21bf14d1-9c99-4323-9b41-cdfe1a0b4548</td>\n      <td>05321820-8593-4123-a93f-b4f278778ca5</td>\n      <td>None</td>\n      <td>{}</td>\n      <td>44d57e0b-48bc-4e1b-8d9f-04b781cc607c</td>\n    </tr>\n    <tr>\n      <th>31</th>\n      <td>2023-11-13 17:38:44.836655+00:00</td>\n      <td>2023-11-13 17:38:44.836658+00:00</td>\n      <td>39d38a0c-7870-47d4-a600-552d01c9f6ea</td>\n      <td>Service #6174</td>\n      <td>FaFhJRJVPGM81YLj71Oy</td>\n      <td>IPR-0000000054</td>\n      <td>service</td>\n      <td>L</td>\n      <td>536d0221-926b-4250-bed3-81e7bae47238</td>\n      <td>QQ20UAC09RZT</td>\n      <td>...</td>\n      <td>True</td>\n      <td>False</td>\n      <td>None</td>\n      <td>None</td>\n      <td>None</td>\n      <td>21bf14d1-9c99-4323-9b41-cdfe1a0b4548</td>\n      <td>05321820-8593-4123-a93f-b4f278778ca5</td>\n      <td>None</td>\n      <td>{}</td>\n      <td>44d57e0b-48bc-4e1b-8d9f-04b781cc607c</td>\n    </tr>\n    <tr>\n      <th>32</th>\n      <td>2023-11-13 17:38:44.836673+00:00</td>\n      <td>2023-11-13 17:38:44.836676+00:00</td>\n      <td>fbb58342-f819-47c0-b32c-465706c31019</td>\n      <td>Service #6050</td>\n      <td>zPFBDvUlH4XP2VgH8NBM</td>\n      <td>IPR-0000000055</td>\n      <td>service</td>\n      <td>L</td>\n      <td>220735b7-7c99-485e-ac8d-70144eceb6aa</td>\n      <td>Y3Z2IOMYWDT5</td>\n      <td>...</td>\n      <td>True</td>\n      <td>False</td>\n      <td>None</td>\n      <td>None</td>\n      <td>None</td>\n      <td>21bf14d1-9c99-4323-9b41-cdfe1a0b4548</td>\n      <td>05321820-8593-4123-a93f-b4f278778ca5</td>\n      <td>None</td>\n      <td>{}</td>\n      <td>44d57e0b-48bc-4e1b-8d9f-04b781cc607c</td>\n    </tr>\n    <tr>\n      <th>33</th>\n      <td>2023-11-13 17:38:44.836691+00:00</td>\n      <td>2023-11-13 17:38:44.836694+00:00</td>\n      <td>1ba5a0b5-bd00-4510-b5c3-a10a26df1cce</td>\n      <td>Service #4461</td>\n      <td>lvG2ta3xnrUvQS7iNghu</td>\n      <td>IPR-0000000056</td>\n      <td>service</td>\n      <td>L</td>\n      <td>0b4fd4cb-3573-481a-a746-9e0a769bfce8</td>\n      <td>J7SR595HVPIB</td>\n      <td>...</td>\n      <td>True</td>\n      <td>False</td>\n      <td>None</td>\n      <td>None</td>\n      <td>None</td>\n      <td>21bf14d1-9c99-4323-9b41-cdfe1a0b4548</td>\n      <td>05321820-8593-4123-a93f-b4f278778ca5</td>\n      <td>None</td>\n      <td>{}</td>\n      <td>44d57e0b-48bc-4e1b-8d9f-04b781cc607c</td>\n    </tr>\n    <tr>\n      <th>34</th>\n      <td>2023-11-13 17:38:44.836709+00:00</td>\n      <td>2023-11-13 17:38:44.836712+00:00</td>\n      <td>57b6a230-a8b3-4567-a6c5-72b7f1f26c05</td>\n      <td>Service #6628</td>\n      <td>sjSzHrCZx6HE2ilTcCGj</td>\n      <td>IPR-0000000057</td>\n      <td>service</td>\n      <td>L</td>\n      <td>0b4fd4cb-3573-481a-a746-9e0a769bfce8</td>\n      <td>VZRYOQJOZBNR</td>\n      <td>...</td>\n      <td>True</td>\n      <td>False</td>\n      <td>None</td>\n      <td>None</td>\n      <td>None</td>\n      <td>21bf14d1-9c99-4323-9b41-cdfe1a0b4548</td>\n      <td>05321820-8593-4123-a93f-b4f278778ca5</td>\n      <td>None</td>\n      <td>{}</td>\n      <td>44d57e0b-48bc-4e1b-8d9f-04b781cc607c</td>\n    </tr>\n    <tr>\n      <th>35</th>\n      <td>2023-11-13 17:38:44.836727+00:00</td>\n      <td>2023-11-13 17:38:44.836730+00:00</td>\n      <td>59f62b89-8b71-4847-9104-84225fb6739b</td>\n      <td>Service #8835</td>\n      <td>6TOkRtrmLjD6s2AmwodI</td>\n      <td>IPR-0000000058</td>\n      <td>service</td>\n      <td>L</td>\n      <td>924d4b04-28a5-4ae9-9eba-fae474227567</td>\n      <td>R3AHLKJCOIKV</td>\n      <td>...</td>\n      <td>True</td>\n      <td>False</td>\n      <td>None</td>\n      <td>None</td>\n      <td>None</td>\n      <td>21bf14d1-9c99-4323-9b41-cdfe1a0b4548</td>\n      <td>05321820-8593-4123-a93f-b4f278778ca5</td>\n      <td>None</td>\n      <td>{}</td>\n      <td>44d57e0b-48bc-4e1b-8d9f-04b781cc607c</td>\n    </tr>\n    <tr>\n      <th>36</th>\n      <td>2023-11-13 17:38:44.836745+00:00</td>\n      <td>2023-11-13 17:38:44.836748+00:00</td>\n      <td>45988f72-7086-427c-af58-146684e8c370</td>\n      <td>Service #8170</td>\n      <td>Hd7KdT3kkXmdojQygPRm</td>\n      <td>IPR-0000000059</td>\n      <td>service</td>\n      <td>L</td>\n      <td>01851ed2-a516-43df-9f8e-02e0cd93b11d</td>\n      <td>G4URLJ9CRLTE</td>\n      <td>...</td>\n      <td>True</td>\n      <td>False</td>\n      <td>None</td>\n      <td>None</td>\n      <td>None</td>\n      <td>21bf14d1-9c99-4323-9b41-cdfe1a0b4548</td>\n      <td>05321820-8593-4123-a93f-b4f278778ca5</td>\n      <td>None</td>\n      <td>{}</td>\n      <td>44d57e0b-48bc-4e1b-8d9f-04b781cc607c</td>\n    </tr>\n    <tr>\n      <th>37</th>\n      <td>2023-11-13 17:38:44.836763+00:00</td>\n      <td>2023-11-13 17:38:44.836766+00:00</td>\n      <td>aaabf034-18dc-45ab-b725-fd67840d0460</td>\n      <td>Service #5952</td>\n      <td>xuOzMmlU6FcuaSyk2XNl</td>\n      <td>IPR-0000000060</td>\n      <td>service</td>\n      <td>L</td>\n      <td>94cf9411-f494-4d01-8c20-2f57b5e5fd6c</td>\n      <td>PNRM9XVQ5Z7C</td>\n      <td>...</td>\n      <td>True</td>\n      <td>False</td>\n      <td>None</td>\n      <td>None</td>\n      <td>None</td>\n      <td>21bf14d1-9c99-4323-9b41-cdfe1a0b4548</td>\n      <td>05321820-8593-4123-a93f-b4f278778ca5</td>\n      <td>None</td>\n      <td>{}</td>\n      <td>44d57e0b-48bc-4e1b-8d9f-04b781cc607c</td>\n    </tr>\n  </tbody>\n</table>\n<p>38 rows × 24 columns</p>\n</div>"
     },
     "execution_count": 57,
     "metadata": {},
     "output_type": "execute_result"
    }
   ],
   "source": [
    "services_qs = entity_model.get_items_services()\n",
    "pd.DataFrame(services_qs.values())"
   ]
  },
  {
   "cell_type": "markdown",
   "metadata": {},
   "source": [
    "### Create Service Item"
   ]
  },
  {
   "cell_type": "code",
   "execution_count": 58,
   "metadata": {
    "ExecuteTime": {
     "end_time": "2023-11-13T17:39:04.030611Z",
     "start_time": "2023-11-13T17:39:04.013790Z"
    }
   },
   "outputs": [],
   "source": [
    "service_model = entity_model.create_item_service(\n",
    "    name='Yoga Class',\n",
    "    uom_model=uom_model_man_hr\n",
    ")"
   ]
  },
  {
   "cell_type": "code",
   "execution_count": 59,
   "metadata": {
    "ExecuteTime": {
     "end_time": "2023-11-13T17:39:04.298630Z",
     "start_time": "2023-11-13T17:39:04.238638Z"
    }
   },
   "outputs": [
    {
     "data": {
      "text/plain": "True"
     },
     "execution_count": 59,
     "metadata": {},
     "output_type": "execute_result"
    }
   ],
   "source": [
    "service_model.is_service()"
   ]
  },
  {
   "cell_type": "markdown",
   "metadata": {},
   "source": [
    "## Products"
   ]
  },
  {
   "cell_type": "markdown",
   "metadata": {},
   "source": [
    "### Get Product Items"
   ]
  },
  {
   "cell_type": "code",
   "execution_count": 60,
   "metadata": {
    "ExecuteTime": {
     "end_time": "2023-11-13T17:39:05.188455Z",
     "start_time": "2023-11-13T17:39:05.159910Z"
    }
   },
   "outputs": [
    {
     "data": {
      "text/plain": "                            created                          updated  \\\n0  2023-11-13 17:38:44.771410+00:00 2023-11-13 17:38:44.771427+00:00   \n1  2023-11-13 17:38:44.771469+00:00 2023-11-13 17:38:44.771473+00:00   \n2  2023-11-13 17:38:44.771495+00:00 2023-11-13 17:38:44.771499+00:00   \n3  2023-11-13 17:38:44.771519+00:00 2023-11-13 17:38:44.771523+00:00   \n4  2023-11-13 17:38:44.771542+00:00 2023-11-13 17:38:44.771546+00:00   \n5  2023-11-13 17:38:44.771563+00:00 2023-11-13 17:38:44.771567+00:00   \n6  2023-11-13 17:38:44.771585+00:00 2023-11-13 17:38:44.771589+00:00   \n7  2023-11-13 17:38:44.771606+00:00 2023-11-13 17:38:44.771610+00:00   \n8  2023-11-13 17:38:44.771627+00:00 2023-11-13 17:38:44.771631+00:00   \n9  2023-11-13 17:38:44.771648+00:00 2023-11-13 17:38:44.771652+00:00   \n10 2023-11-13 17:38:44.771669+00:00 2023-11-13 17:38:44.771672+00:00   \n11 2023-11-13 17:38:44.771689+00:00 2023-11-13 17:38:44.771693+00:00   \n12 2023-11-13 17:38:44.771710+00:00 2023-11-13 17:38:44.771713+00:00   \n13 2023-11-13 17:38:44.771731+00:00 2023-11-13 17:38:44.771734+00:00   \n14 2023-11-13 17:38:44.771751+00:00 2023-11-13 17:38:44.771755+00:00   \n15 2023-11-13 17:38:44.771771+00:00 2023-11-13 17:38:44.771775+00:00   \n16 2023-11-13 17:38:44.771792+00:00 2023-11-13 17:38:44.771795+00:00   \n17 2023-11-13 17:38:44.771839+00:00 2023-11-13 17:38:44.771844+00:00   \n18 2023-11-13 17:38:44.771861+00:00 2023-11-13 17:38:44.771865+00:00   \n19 2023-11-13 17:38:44.771882+00:00 2023-11-13 17:38:44.771888+00:00   \n20 2023-11-13 17:38:44.771907+00:00 2023-11-13 17:38:44.771911+00:00   \n21 2023-11-13 17:38:44.771928+00:00 2023-11-13 17:38:44.771931+00:00   \n\n                                    uuid           name               item_id  \\\n0   7ae17dab-05c5-45da-9482-d670efde7db4  Product #1805  NUpQGqHNWCVRWQGeEbUK   \n1   7ff6129d-6f61-4bd1-b9d4-3f930a727c92  Product #3815  ONMrNT8efwtEuRIjPnaG   \n2   b151ab95-a8af-49a8-9d33-30843583f4fa  Product #1590  puAhCLvhstbYVVappxXu   \n3   3d63352a-88b2-4a46-9dc4-5e8f081a95c2  Product #9081  a2Y7GHB2e9u0aOXtmXor   \n4   d660561d-64e0-4de6-8a67-d1750b55fec5  Product #4155  G1NtoqLldLnVilwRhE6z   \n5   b5ecc7b6-a4c4-45cb-a961-1614c330ac55  Product #8910  yvjDhan2DdR0r9DPWVFZ   \n6   225728c0-ab97-4c23-b308-6e35bdb54ce9  Product #1326  Q9L88mdkXeBUjVLgSoB5   \n7   be09b831-8bc3-429b-879d-fd003cb6449b  Product #9838  C3XiwEoBOcPxkJ0cpmlv   \n8   e7101625-3667-4945-953b-0bd99c34702c  Product #8274  vmdtW4EgC9abB87rDVly   \n9   c00a81d0-62cf-4a5f-b5bf-e3759777e028  Product #5818  88SMApYNGUHuX66vc3RW   \n10  46143a04-66b1-4eaf-97b0-bff97fcba42f  Product #8613  1zbr0lFePteTi4GAGF0D   \n11  cd2811ff-49f2-43cb-a2dc-20f409bfccf3  Product #9517  VDlwBZVC5E6YdoFTNVe3   \n12  ad0544b0-c914-4352-9e1d-7797822a185b  Product #3819  hS3JKsYmgC1YFluhV9bx   \n13  ddaad45b-2b7b-408d-88fe-b6e6aba28fa0  Product #8080  5Z3DvOSDjH0zwpWCXwYB   \n14  9a210d9e-626f-465d-8276-892cfd5c73cb  Product #7762  BOhNUAC1IVZJfFkzREcF   \n15  e94a0161-0fdc-446c-9db7-6a3bcd0beaf0  Product #4908  vn7wt5sRDk6nCwdquHIZ   \n16  18004567-00fd-4974-bdfd-df75d83185b8  Product #4569  jKzIvyHChpCvBpJiPfgO   \n17  75c1f7a0-46d3-42dc-84c8-2c609263592a  Product #1151  aljL33nOPagHJpSKEgQa   \n18  ea1eae4d-f09a-41a6-b6a6-f1b878fbd89c  Product #2420  wMWNTUv5idmyNchPaVYE   \n19  5f799023-b4d7-428d-a8d0-7ca3ab7e1500  Product #8152  CVPBGOSkNL2Oy8ZuOM83   \n20  55c0b9b4-7827-4812-a335-611a1d9d2bef  Product #2197  cOF9etDiJjlxV9sfdfHH   \n21  e26ef738-f1d7-4413-a8bf-97ca02530f8d  Product #4746  antqF4TJjERj85HwA9Yt   \n\n       item_number item_role item_type                                uom_id  \\\n0   IPR-0000000001   product      None  924d4b04-28a5-4ae9-9eba-fae474227567   \n1   IPR-0000000002   product      None  924d4b04-28a5-4ae9-9eba-fae474227567   \n2   IPR-0000000003   product      None  220735b7-7c99-485e-ac8d-70144eceb6aa   \n3   IPR-0000000004   product      None  0b4fd4cb-3573-481a-a746-9e0a769bfce8   \n4   IPR-0000000005   product      None  01851ed2-a516-43df-9f8e-02e0cd93b11d   \n5   IPR-0000000006   product      None  924d4b04-28a5-4ae9-9eba-fae474227567   \n6   IPR-0000000007   product      None  01851ed2-a516-43df-9f8e-02e0cd93b11d   \n7   IPR-0000000008   product      None  924d4b04-28a5-4ae9-9eba-fae474227567   \n8   IPR-0000000009   product      None  924d4b04-28a5-4ae9-9eba-fae474227567   \n9   IPR-0000000010   product      None  01851ed2-a516-43df-9f8e-02e0cd93b11d   \n10  IPR-0000000011   product      None  924d4b04-28a5-4ae9-9eba-fae474227567   \n11  IPR-0000000012   product      None  01851ed2-a516-43df-9f8e-02e0cd93b11d   \n12  IPR-0000000013   product      None  94cf9411-f494-4d01-8c20-2f57b5e5fd6c   \n13  IPR-0000000014   product      None  220735b7-7c99-485e-ac8d-70144eceb6aa   \n14  IPR-0000000015   product      None  0b4fd4cb-3573-481a-a746-9e0a769bfce8   \n15  IPR-0000000016   product      None  536d0221-926b-4250-bed3-81e7bae47238   \n16  IPR-0000000017   product      None  94cf9411-f494-4d01-8c20-2f57b5e5fd6c   \n17  IPR-0000000018   product      None  01851ed2-a516-43df-9f8e-02e0cd93b11d   \n18  IPR-0000000019   product      None  220735b7-7c99-485e-ac8d-70144eceb6aa   \n19  IPR-0000000020   product      None  220735b7-7c99-485e-ac8d-70144eceb6aa   \n20  IPR-0000000021   product      None  536d0221-926b-4250-bed3-81e7bae47238   \n21  IPR-0000000022   product      None  220735b7-7c99-485e-ac8d-70144eceb6aa   \n\n             sku  ... is_product_or_service  sold_as_unit  \\\n0   L9LS56B6QJ6U  ...                  True         False   \n1   NCVTL6EMSW79  ...                  True         False   \n2   9HBIFG779VV8  ...                  True         False   \n3   BRIEF0VLCGW2  ...                  True         False   \n4   T75M8WK7ODWQ  ...                  True         False   \n5   HTWFMOGFZLVS  ...                  True         False   \n6   6PDP4NJODU76  ...                  True         False   \n7   167ELR3237TC  ...                  True         False   \n8   G5RHL1EK2V3C  ...                  True         False   \n9   C5UK3KSC3S7Z  ...                  True         False   \n10  57HVURE3ZYR0  ...                  True         False   \n11  KH1MWHP09UB0  ...                  True         False   \n12  EK5N8BELECH8  ...                  True         False   \n13  KCRAA49XBWFJ  ...                  True         False   \n14  VJMDXU7N0W2C  ...                  True         False   \n15  Z44O9RF0Z9OA  ...                  True         False   \n16  VZJ6SL6K0480  ...                  True         False   \n17  3YQMKUOJYH31  ...                  True         False   \n18  H7H8X2BHAQ8L  ...                  True         False   \n19  TRPJ7VKI3NDX  ...                  True         False   \n20  BHAMC43ZOCTR  ...                  True         False   \n21  XJVF7ZRWAFIM  ...                  True         False   \n\n                    inventory_account_id  inventory_received  \\\n0   12ed5dee-51dc-4d83-8354-5434fc19da18               0.000   \n1   12ed5dee-51dc-4d83-8354-5434fc19da18               4.070   \n2   12ed5dee-51dc-4d83-8354-5434fc19da18               3.730   \n3   12ed5dee-51dc-4d83-8354-5434fc19da18              19.580   \n4   12ed5dee-51dc-4d83-8354-5434fc19da18               5.820   \n5   12ed5dee-51dc-4d83-8354-5434fc19da18               0.000   \n6   12ed5dee-51dc-4d83-8354-5434fc19da18               0.000   \n7   12ed5dee-51dc-4d83-8354-5434fc19da18              26.080   \n8   12ed5dee-51dc-4d83-8354-5434fc19da18               0.000   \n9   12ed5dee-51dc-4d83-8354-5434fc19da18               0.000   \n10  12ed5dee-51dc-4d83-8354-5434fc19da18               0.000   \n11  12ed5dee-51dc-4d83-8354-5434fc19da18               2.720   \n12  12ed5dee-51dc-4d83-8354-5434fc19da18               2.110   \n13  12ed5dee-51dc-4d83-8354-5434fc19da18               2.070   \n14  12ed5dee-51dc-4d83-8354-5434fc19da18               6.480   \n15  12ed5dee-51dc-4d83-8354-5434fc19da18               3.010   \n16  12ed5dee-51dc-4d83-8354-5434fc19da18               7.550   \n17  12ed5dee-51dc-4d83-8354-5434fc19da18               0.000   \n18  12ed5dee-51dc-4d83-8354-5434fc19da18               7.050   \n19  12ed5dee-51dc-4d83-8354-5434fc19da18              10.990   \n20  12ed5dee-51dc-4d83-8354-5434fc19da18               9.840   \n21  12ed5dee-51dc-4d83-8354-5434fc19da18               0.000   \n\n    inventory_received_value                       cogs_account_id  \\\n0                       0.00  21bf14d1-9c99-4323-9b41-cdfe1a0b4548   \n1                     754.62  21bf14d1-9c99-4323-9b41-cdfe1a0b4548   \n2                    2240.24  21bf14d1-9c99-4323-9b41-cdfe1a0b4548   \n3                    7023.82  21bf14d1-9c99-4323-9b41-cdfe1a0b4548   \n4                    3401.61  21bf14d1-9c99-4323-9b41-cdfe1a0b4548   \n5                       0.00  21bf14d1-9c99-4323-9b41-cdfe1a0b4548   \n6                       0.00  21bf14d1-9c99-4323-9b41-cdfe1a0b4548   \n7                    5589.98  21bf14d1-9c99-4323-9b41-cdfe1a0b4548   \n8                       0.00  21bf14d1-9c99-4323-9b41-cdfe1a0b4548   \n9                       0.00  21bf14d1-9c99-4323-9b41-cdfe1a0b4548   \n10                      0.00  21bf14d1-9c99-4323-9b41-cdfe1a0b4548   \n11                   1062.92  21bf14d1-9c99-4323-9b41-cdfe1a0b4548   \n12                    444.30  21bf14d1-9c99-4323-9b41-cdfe1a0b4548   \n13                    194.12  21bf14d1-9c99-4323-9b41-cdfe1a0b4548   \n14                    756.99  21bf14d1-9c99-4323-9b41-cdfe1a0b4548   \n15                     40.52  21bf14d1-9c99-4323-9b41-cdfe1a0b4548   \n16                    997.64  21bf14d1-9c99-4323-9b41-cdfe1a0b4548   \n17                      0.00  21bf14d1-9c99-4323-9b41-cdfe1a0b4548   \n18                    254.50  21bf14d1-9c99-4323-9b41-cdfe1a0b4548   \n19                   5150.97  21bf14d1-9c99-4323-9b41-cdfe1a0b4548   \n20                   2436.09  21bf14d1-9c99-4323-9b41-cdfe1a0b4548   \n21                      0.00  21bf14d1-9c99-4323-9b41-cdfe1a0b4548   \n\n                     earnings_account_id expense_account_id additional_info  \\\n0   05321820-8593-4123-a93f-b4f278778ca5               None              {}   \n1   05321820-8593-4123-a93f-b4f278778ca5               None              {}   \n2   05321820-8593-4123-a93f-b4f278778ca5               None              {}   \n3   05321820-8593-4123-a93f-b4f278778ca5               None              {}   \n4   05321820-8593-4123-a93f-b4f278778ca5               None              {}   \n5   05321820-8593-4123-a93f-b4f278778ca5               None              {}   \n6   05321820-8593-4123-a93f-b4f278778ca5               None              {}   \n7   05321820-8593-4123-a93f-b4f278778ca5               None              {}   \n8   05321820-8593-4123-a93f-b4f278778ca5               None              {}   \n9   05321820-8593-4123-a93f-b4f278778ca5               None              {}   \n10  05321820-8593-4123-a93f-b4f278778ca5               None              {}   \n11  05321820-8593-4123-a93f-b4f278778ca5               None              {}   \n12  05321820-8593-4123-a93f-b4f278778ca5               None              {}   \n13  05321820-8593-4123-a93f-b4f278778ca5               None              {}   \n14  05321820-8593-4123-a93f-b4f278778ca5               None              {}   \n15  05321820-8593-4123-a93f-b4f278778ca5               None              {}   \n16  05321820-8593-4123-a93f-b4f278778ca5               None              {}   \n17  05321820-8593-4123-a93f-b4f278778ca5               None              {}   \n18  05321820-8593-4123-a93f-b4f278778ca5               None              {}   \n19  05321820-8593-4123-a93f-b4f278778ca5               None              {}   \n20  05321820-8593-4123-a93f-b4f278778ca5               None              {}   \n21  05321820-8593-4123-a93f-b4f278778ca5               None              {}   \n\n                               entity_id  \n0   44d57e0b-48bc-4e1b-8d9f-04b781cc607c  \n1   44d57e0b-48bc-4e1b-8d9f-04b781cc607c  \n2   44d57e0b-48bc-4e1b-8d9f-04b781cc607c  \n3   44d57e0b-48bc-4e1b-8d9f-04b781cc607c  \n4   44d57e0b-48bc-4e1b-8d9f-04b781cc607c  \n5   44d57e0b-48bc-4e1b-8d9f-04b781cc607c  \n6   44d57e0b-48bc-4e1b-8d9f-04b781cc607c  \n7   44d57e0b-48bc-4e1b-8d9f-04b781cc607c  \n8   44d57e0b-48bc-4e1b-8d9f-04b781cc607c  \n9   44d57e0b-48bc-4e1b-8d9f-04b781cc607c  \n10  44d57e0b-48bc-4e1b-8d9f-04b781cc607c  \n11  44d57e0b-48bc-4e1b-8d9f-04b781cc607c  \n12  44d57e0b-48bc-4e1b-8d9f-04b781cc607c  \n13  44d57e0b-48bc-4e1b-8d9f-04b781cc607c  \n14  44d57e0b-48bc-4e1b-8d9f-04b781cc607c  \n15  44d57e0b-48bc-4e1b-8d9f-04b781cc607c  \n16  44d57e0b-48bc-4e1b-8d9f-04b781cc607c  \n17  44d57e0b-48bc-4e1b-8d9f-04b781cc607c  \n18  44d57e0b-48bc-4e1b-8d9f-04b781cc607c  \n19  44d57e0b-48bc-4e1b-8d9f-04b781cc607c  \n20  44d57e0b-48bc-4e1b-8d9f-04b781cc607c  \n21  44d57e0b-48bc-4e1b-8d9f-04b781cc607c  \n\n[22 rows x 24 columns]",
      "text/html": "<div>\n<style scoped>\n    .dataframe tbody tr th:only-of-type {\n        vertical-align: middle;\n    }\n\n    .dataframe tbody tr th {\n        vertical-align: top;\n    }\n\n    .dataframe thead th {\n        text-align: right;\n    }\n</style>\n<table border=\"1\" class=\"dataframe\">\n  <thead>\n    <tr style=\"text-align: right;\">\n      <th></th>\n      <th>created</th>\n      <th>updated</th>\n      <th>uuid</th>\n      <th>name</th>\n      <th>item_id</th>\n      <th>item_number</th>\n      <th>item_role</th>\n      <th>item_type</th>\n      <th>uom_id</th>\n      <th>sku</th>\n      <th>...</th>\n      <th>is_product_or_service</th>\n      <th>sold_as_unit</th>\n      <th>inventory_account_id</th>\n      <th>inventory_received</th>\n      <th>inventory_received_value</th>\n      <th>cogs_account_id</th>\n      <th>earnings_account_id</th>\n      <th>expense_account_id</th>\n      <th>additional_info</th>\n      <th>entity_id</th>\n    </tr>\n  </thead>\n  <tbody>\n    <tr>\n      <th>0</th>\n      <td>2023-11-13 17:38:44.771410+00:00</td>\n      <td>2023-11-13 17:38:44.771427+00:00</td>\n      <td>7ae17dab-05c5-45da-9482-d670efde7db4</td>\n      <td>Product #1805</td>\n      <td>NUpQGqHNWCVRWQGeEbUK</td>\n      <td>IPR-0000000001</td>\n      <td>product</td>\n      <td>None</td>\n      <td>924d4b04-28a5-4ae9-9eba-fae474227567</td>\n      <td>L9LS56B6QJ6U</td>\n      <td>...</td>\n      <td>True</td>\n      <td>False</td>\n      <td>12ed5dee-51dc-4d83-8354-5434fc19da18</td>\n      <td>0.000</td>\n      <td>0.00</td>\n      <td>21bf14d1-9c99-4323-9b41-cdfe1a0b4548</td>\n      <td>05321820-8593-4123-a93f-b4f278778ca5</td>\n      <td>None</td>\n      <td>{}</td>\n      <td>44d57e0b-48bc-4e1b-8d9f-04b781cc607c</td>\n    </tr>\n    <tr>\n      <th>1</th>\n      <td>2023-11-13 17:38:44.771469+00:00</td>\n      <td>2023-11-13 17:38:44.771473+00:00</td>\n      <td>7ff6129d-6f61-4bd1-b9d4-3f930a727c92</td>\n      <td>Product #3815</td>\n      <td>ONMrNT8efwtEuRIjPnaG</td>\n      <td>IPR-0000000002</td>\n      <td>product</td>\n      <td>None</td>\n      <td>924d4b04-28a5-4ae9-9eba-fae474227567</td>\n      <td>NCVTL6EMSW79</td>\n      <td>...</td>\n      <td>True</td>\n      <td>False</td>\n      <td>12ed5dee-51dc-4d83-8354-5434fc19da18</td>\n      <td>4.070</td>\n      <td>754.62</td>\n      <td>21bf14d1-9c99-4323-9b41-cdfe1a0b4548</td>\n      <td>05321820-8593-4123-a93f-b4f278778ca5</td>\n      <td>None</td>\n      <td>{}</td>\n      <td>44d57e0b-48bc-4e1b-8d9f-04b781cc607c</td>\n    </tr>\n    <tr>\n      <th>2</th>\n      <td>2023-11-13 17:38:44.771495+00:00</td>\n      <td>2023-11-13 17:38:44.771499+00:00</td>\n      <td>b151ab95-a8af-49a8-9d33-30843583f4fa</td>\n      <td>Product #1590</td>\n      <td>puAhCLvhstbYVVappxXu</td>\n      <td>IPR-0000000003</td>\n      <td>product</td>\n      <td>None</td>\n      <td>220735b7-7c99-485e-ac8d-70144eceb6aa</td>\n      <td>9HBIFG779VV8</td>\n      <td>...</td>\n      <td>True</td>\n      <td>False</td>\n      <td>12ed5dee-51dc-4d83-8354-5434fc19da18</td>\n      <td>3.730</td>\n      <td>2240.24</td>\n      <td>21bf14d1-9c99-4323-9b41-cdfe1a0b4548</td>\n      <td>05321820-8593-4123-a93f-b4f278778ca5</td>\n      <td>None</td>\n      <td>{}</td>\n      <td>44d57e0b-48bc-4e1b-8d9f-04b781cc607c</td>\n    </tr>\n    <tr>\n      <th>3</th>\n      <td>2023-11-13 17:38:44.771519+00:00</td>\n      <td>2023-11-13 17:38:44.771523+00:00</td>\n      <td>3d63352a-88b2-4a46-9dc4-5e8f081a95c2</td>\n      <td>Product #9081</td>\n      <td>a2Y7GHB2e9u0aOXtmXor</td>\n      <td>IPR-0000000004</td>\n      <td>product</td>\n      <td>None</td>\n      <td>0b4fd4cb-3573-481a-a746-9e0a769bfce8</td>\n      <td>BRIEF0VLCGW2</td>\n      <td>...</td>\n      <td>True</td>\n      <td>False</td>\n      <td>12ed5dee-51dc-4d83-8354-5434fc19da18</td>\n      <td>19.580</td>\n      <td>7023.82</td>\n      <td>21bf14d1-9c99-4323-9b41-cdfe1a0b4548</td>\n      <td>05321820-8593-4123-a93f-b4f278778ca5</td>\n      <td>None</td>\n      <td>{}</td>\n      <td>44d57e0b-48bc-4e1b-8d9f-04b781cc607c</td>\n    </tr>\n    <tr>\n      <th>4</th>\n      <td>2023-11-13 17:38:44.771542+00:00</td>\n      <td>2023-11-13 17:38:44.771546+00:00</td>\n      <td>d660561d-64e0-4de6-8a67-d1750b55fec5</td>\n      <td>Product #4155</td>\n      <td>G1NtoqLldLnVilwRhE6z</td>\n      <td>IPR-0000000005</td>\n      <td>product</td>\n      <td>None</td>\n      <td>01851ed2-a516-43df-9f8e-02e0cd93b11d</td>\n      <td>T75M8WK7ODWQ</td>\n      <td>...</td>\n      <td>True</td>\n      <td>False</td>\n      <td>12ed5dee-51dc-4d83-8354-5434fc19da18</td>\n      <td>5.820</td>\n      <td>3401.61</td>\n      <td>21bf14d1-9c99-4323-9b41-cdfe1a0b4548</td>\n      <td>05321820-8593-4123-a93f-b4f278778ca5</td>\n      <td>None</td>\n      <td>{}</td>\n      <td>44d57e0b-48bc-4e1b-8d9f-04b781cc607c</td>\n    </tr>\n    <tr>\n      <th>5</th>\n      <td>2023-11-13 17:38:44.771563+00:00</td>\n      <td>2023-11-13 17:38:44.771567+00:00</td>\n      <td>b5ecc7b6-a4c4-45cb-a961-1614c330ac55</td>\n      <td>Product #8910</td>\n      <td>yvjDhan2DdR0r9DPWVFZ</td>\n      <td>IPR-0000000006</td>\n      <td>product</td>\n      <td>None</td>\n      <td>924d4b04-28a5-4ae9-9eba-fae474227567</td>\n      <td>HTWFMOGFZLVS</td>\n      <td>...</td>\n      <td>True</td>\n      <td>False</td>\n      <td>12ed5dee-51dc-4d83-8354-5434fc19da18</td>\n      <td>0.000</td>\n      <td>0.00</td>\n      <td>21bf14d1-9c99-4323-9b41-cdfe1a0b4548</td>\n      <td>05321820-8593-4123-a93f-b4f278778ca5</td>\n      <td>None</td>\n      <td>{}</td>\n      <td>44d57e0b-48bc-4e1b-8d9f-04b781cc607c</td>\n    </tr>\n    <tr>\n      <th>6</th>\n      <td>2023-11-13 17:38:44.771585+00:00</td>\n      <td>2023-11-13 17:38:44.771589+00:00</td>\n      <td>225728c0-ab97-4c23-b308-6e35bdb54ce9</td>\n      <td>Product #1326</td>\n      <td>Q9L88mdkXeBUjVLgSoB5</td>\n      <td>IPR-0000000007</td>\n      <td>product</td>\n      <td>None</td>\n      <td>01851ed2-a516-43df-9f8e-02e0cd93b11d</td>\n      <td>6PDP4NJODU76</td>\n      <td>...</td>\n      <td>True</td>\n      <td>False</td>\n      <td>12ed5dee-51dc-4d83-8354-5434fc19da18</td>\n      <td>0.000</td>\n      <td>0.00</td>\n      <td>21bf14d1-9c99-4323-9b41-cdfe1a0b4548</td>\n      <td>05321820-8593-4123-a93f-b4f278778ca5</td>\n      <td>None</td>\n      <td>{}</td>\n      <td>44d57e0b-48bc-4e1b-8d9f-04b781cc607c</td>\n    </tr>\n    <tr>\n      <th>7</th>\n      <td>2023-11-13 17:38:44.771606+00:00</td>\n      <td>2023-11-13 17:38:44.771610+00:00</td>\n      <td>be09b831-8bc3-429b-879d-fd003cb6449b</td>\n      <td>Product #9838</td>\n      <td>C3XiwEoBOcPxkJ0cpmlv</td>\n      <td>IPR-0000000008</td>\n      <td>product</td>\n      <td>None</td>\n      <td>924d4b04-28a5-4ae9-9eba-fae474227567</td>\n      <td>167ELR3237TC</td>\n      <td>...</td>\n      <td>True</td>\n      <td>False</td>\n      <td>12ed5dee-51dc-4d83-8354-5434fc19da18</td>\n      <td>26.080</td>\n      <td>5589.98</td>\n      <td>21bf14d1-9c99-4323-9b41-cdfe1a0b4548</td>\n      <td>05321820-8593-4123-a93f-b4f278778ca5</td>\n      <td>None</td>\n      <td>{}</td>\n      <td>44d57e0b-48bc-4e1b-8d9f-04b781cc607c</td>\n    </tr>\n    <tr>\n      <th>8</th>\n      <td>2023-11-13 17:38:44.771627+00:00</td>\n      <td>2023-11-13 17:38:44.771631+00:00</td>\n      <td>e7101625-3667-4945-953b-0bd99c34702c</td>\n      <td>Product #8274</td>\n      <td>vmdtW4EgC9abB87rDVly</td>\n      <td>IPR-0000000009</td>\n      <td>product</td>\n      <td>None</td>\n      <td>924d4b04-28a5-4ae9-9eba-fae474227567</td>\n      <td>G5RHL1EK2V3C</td>\n      <td>...</td>\n      <td>True</td>\n      <td>False</td>\n      <td>12ed5dee-51dc-4d83-8354-5434fc19da18</td>\n      <td>0.000</td>\n      <td>0.00</td>\n      <td>21bf14d1-9c99-4323-9b41-cdfe1a0b4548</td>\n      <td>05321820-8593-4123-a93f-b4f278778ca5</td>\n      <td>None</td>\n      <td>{}</td>\n      <td>44d57e0b-48bc-4e1b-8d9f-04b781cc607c</td>\n    </tr>\n    <tr>\n      <th>9</th>\n      <td>2023-11-13 17:38:44.771648+00:00</td>\n      <td>2023-11-13 17:38:44.771652+00:00</td>\n      <td>c00a81d0-62cf-4a5f-b5bf-e3759777e028</td>\n      <td>Product #5818</td>\n      <td>88SMApYNGUHuX66vc3RW</td>\n      <td>IPR-0000000010</td>\n      <td>product</td>\n      <td>None</td>\n      <td>01851ed2-a516-43df-9f8e-02e0cd93b11d</td>\n      <td>C5UK3KSC3S7Z</td>\n      <td>...</td>\n      <td>True</td>\n      <td>False</td>\n      <td>12ed5dee-51dc-4d83-8354-5434fc19da18</td>\n      <td>0.000</td>\n      <td>0.00</td>\n      <td>21bf14d1-9c99-4323-9b41-cdfe1a0b4548</td>\n      <td>05321820-8593-4123-a93f-b4f278778ca5</td>\n      <td>None</td>\n      <td>{}</td>\n      <td>44d57e0b-48bc-4e1b-8d9f-04b781cc607c</td>\n    </tr>\n    <tr>\n      <th>10</th>\n      <td>2023-11-13 17:38:44.771669+00:00</td>\n      <td>2023-11-13 17:38:44.771672+00:00</td>\n      <td>46143a04-66b1-4eaf-97b0-bff97fcba42f</td>\n      <td>Product #8613</td>\n      <td>1zbr0lFePteTi4GAGF0D</td>\n      <td>IPR-0000000011</td>\n      <td>product</td>\n      <td>None</td>\n      <td>924d4b04-28a5-4ae9-9eba-fae474227567</td>\n      <td>57HVURE3ZYR0</td>\n      <td>...</td>\n      <td>True</td>\n      <td>False</td>\n      <td>12ed5dee-51dc-4d83-8354-5434fc19da18</td>\n      <td>0.000</td>\n      <td>0.00</td>\n      <td>21bf14d1-9c99-4323-9b41-cdfe1a0b4548</td>\n      <td>05321820-8593-4123-a93f-b4f278778ca5</td>\n      <td>None</td>\n      <td>{}</td>\n      <td>44d57e0b-48bc-4e1b-8d9f-04b781cc607c</td>\n    </tr>\n    <tr>\n      <th>11</th>\n      <td>2023-11-13 17:38:44.771689+00:00</td>\n      <td>2023-11-13 17:38:44.771693+00:00</td>\n      <td>cd2811ff-49f2-43cb-a2dc-20f409bfccf3</td>\n      <td>Product #9517</td>\n      <td>VDlwBZVC5E6YdoFTNVe3</td>\n      <td>IPR-0000000012</td>\n      <td>product</td>\n      <td>None</td>\n      <td>01851ed2-a516-43df-9f8e-02e0cd93b11d</td>\n      <td>KH1MWHP09UB0</td>\n      <td>...</td>\n      <td>True</td>\n      <td>False</td>\n      <td>12ed5dee-51dc-4d83-8354-5434fc19da18</td>\n      <td>2.720</td>\n      <td>1062.92</td>\n      <td>21bf14d1-9c99-4323-9b41-cdfe1a0b4548</td>\n      <td>05321820-8593-4123-a93f-b4f278778ca5</td>\n      <td>None</td>\n      <td>{}</td>\n      <td>44d57e0b-48bc-4e1b-8d9f-04b781cc607c</td>\n    </tr>\n    <tr>\n      <th>12</th>\n      <td>2023-11-13 17:38:44.771710+00:00</td>\n      <td>2023-11-13 17:38:44.771713+00:00</td>\n      <td>ad0544b0-c914-4352-9e1d-7797822a185b</td>\n      <td>Product #3819</td>\n      <td>hS3JKsYmgC1YFluhV9bx</td>\n      <td>IPR-0000000013</td>\n      <td>product</td>\n      <td>None</td>\n      <td>94cf9411-f494-4d01-8c20-2f57b5e5fd6c</td>\n      <td>EK5N8BELECH8</td>\n      <td>...</td>\n      <td>True</td>\n      <td>False</td>\n      <td>12ed5dee-51dc-4d83-8354-5434fc19da18</td>\n      <td>2.110</td>\n      <td>444.30</td>\n      <td>21bf14d1-9c99-4323-9b41-cdfe1a0b4548</td>\n      <td>05321820-8593-4123-a93f-b4f278778ca5</td>\n      <td>None</td>\n      <td>{}</td>\n      <td>44d57e0b-48bc-4e1b-8d9f-04b781cc607c</td>\n    </tr>\n    <tr>\n      <th>13</th>\n      <td>2023-11-13 17:38:44.771731+00:00</td>\n      <td>2023-11-13 17:38:44.771734+00:00</td>\n      <td>ddaad45b-2b7b-408d-88fe-b6e6aba28fa0</td>\n      <td>Product #8080</td>\n      <td>5Z3DvOSDjH0zwpWCXwYB</td>\n      <td>IPR-0000000014</td>\n      <td>product</td>\n      <td>None</td>\n      <td>220735b7-7c99-485e-ac8d-70144eceb6aa</td>\n      <td>KCRAA49XBWFJ</td>\n      <td>...</td>\n      <td>True</td>\n      <td>False</td>\n      <td>12ed5dee-51dc-4d83-8354-5434fc19da18</td>\n      <td>2.070</td>\n      <td>194.12</td>\n      <td>21bf14d1-9c99-4323-9b41-cdfe1a0b4548</td>\n      <td>05321820-8593-4123-a93f-b4f278778ca5</td>\n      <td>None</td>\n      <td>{}</td>\n      <td>44d57e0b-48bc-4e1b-8d9f-04b781cc607c</td>\n    </tr>\n    <tr>\n      <th>14</th>\n      <td>2023-11-13 17:38:44.771751+00:00</td>\n      <td>2023-11-13 17:38:44.771755+00:00</td>\n      <td>9a210d9e-626f-465d-8276-892cfd5c73cb</td>\n      <td>Product #7762</td>\n      <td>BOhNUAC1IVZJfFkzREcF</td>\n      <td>IPR-0000000015</td>\n      <td>product</td>\n      <td>None</td>\n      <td>0b4fd4cb-3573-481a-a746-9e0a769bfce8</td>\n      <td>VJMDXU7N0W2C</td>\n      <td>...</td>\n      <td>True</td>\n      <td>False</td>\n      <td>12ed5dee-51dc-4d83-8354-5434fc19da18</td>\n      <td>6.480</td>\n      <td>756.99</td>\n      <td>21bf14d1-9c99-4323-9b41-cdfe1a0b4548</td>\n      <td>05321820-8593-4123-a93f-b4f278778ca5</td>\n      <td>None</td>\n      <td>{}</td>\n      <td>44d57e0b-48bc-4e1b-8d9f-04b781cc607c</td>\n    </tr>\n    <tr>\n      <th>15</th>\n      <td>2023-11-13 17:38:44.771771+00:00</td>\n      <td>2023-11-13 17:38:44.771775+00:00</td>\n      <td>e94a0161-0fdc-446c-9db7-6a3bcd0beaf0</td>\n      <td>Product #4908</td>\n      <td>vn7wt5sRDk6nCwdquHIZ</td>\n      <td>IPR-0000000016</td>\n      <td>product</td>\n      <td>None</td>\n      <td>536d0221-926b-4250-bed3-81e7bae47238</td>\n      <td>Z44O9RF0Z9OA</td>\n      <td>...</td>\n      <td>True</td>\n      <td>False</td>\n      <td>12ed5dee-51dc-4d83-8354-5434fc19da18</td>\n      <td>3.010</td>\n      <td>40.52</td>\n      <td>21bf14d1-9c99-4323-9b41-cdfe1a0b4548</td>\n      <td>05321820-8593-4123-a93f-b4f278778ca5</td>\n      <td>None</td>\n      <td>{}</td>\n      <td>44d57e0b-48bc-4e1b-8d9f-04b781cc607c</td>\n    </tr>\n    <tr>\n      <th>16</th>\n      <td>2023-11-13 17:38:44.771792+00:00</td>\n      <td>2023-11-13 17:38:44.771795+00:00</td>\n      <td>18004567-00fd-4974-bdfd-df75d83185b8</td>\n      <td>Product #4569</td>\n      <td>jKzIvyHChpCvBpJiPfgO</td>\n      <td>IPR-0000000017</td>\n      <td>product</td>\n      <td>None</td>\n      <td>94cf9411-f494-4d01-8c20-2f57b5e5fd6c</td>\n      <td>VZJ6SL6K0480</td>\n      <td>...</td>\n      <td>True</td>\n      <td>False</td>\n      <td>12ed5dee-51dc-4d83-8354-5434fc19da18</td>\n      <td>7.550</td>\n      <td>997.64</td>\n      <td>21bf14d1-9c99-4323-9b41-cdfe1a0b4548</td>\n      <td>05321820-8593-4123-a93f-b4f278778ca5</td>\n      <td>None</td>\n      <td>{}</td>\n      <td>44d57e0b-48bc-4e1b-8d9f-04b781cc607c</td>\n    </tr>\n    <tr>\n      <th>17</th>\n      <td>2023-11-13 17:38:44.771839+00:00</td>\n      <td>2023-11-13 17:38:44.771844+00:00</td>\n      <td>75c1f7a0-46d3-42dc-84c8-2c609263592a</td>\n      <td>Product #1151</td>\n      <td>aljL33nOPagHJpSKEgQa</td>\n      <td>IPR-0000000018</td>\n      <td>product</td>\n      <td>None</td>\n      <td>01851ed2-a516-43df-9f8e-02e0cd93b11d</td>\n      <td>3YQMKUOJYH31</td>\n      <td>...</td>\n      <td>True</td>\n      <td>False</td>\n      <td>12ed5dee-51dc-4d83-8354-5434fc19da18</td>\n      <td>0.000</td>\n      <td>0.00</td>\n      <td>21bf14d1-9c99-4323-9b41-cdfe1a0b4548</td>\n      <td>05321820-8593-4123-a93f-b4f278778ca5</td>\n      <td>None</td>\n      <td>{}</td>\n      <td>44d57e0b-48bc-4e1b-8d9f-04b781cc607c</td>\n    </tr>\n    <tr>\n      <th>18</th>\n      <td>2023-11-13 17:38:44.771861+00:00</td>\n      <td>2023-11-13 17:38:44.771865+00:00</td>\n      <td>ea1eae4d-f09a-41a6-b6a6-f1b878fbd89c</td>\n      <td>Product #2420</td>\n      <td>wMWNTUv5idmyNchPaVYE</td>\n      <td>IPR-0000000019</td>\n      <td>product</td>\n      <td>None</td>\n      <td>220735b7-7c99-485e-ac8d-70144eceb6aa</td>\n      <td>H7H8X2BHAQ8L</td>\n      <td>...</td>\n      <td>True</td>\n      <td>False</td>\n      <td>12ed5dee-51dc-4d83-8354-5434fc19da18</td>\n      <td>7.050</td>\n      <td>254.50</td>\n      <td>21bf14d1-9c99-4323-9b41-cdfe1a0b4548</td>\n      <td>05321820-8593-4123-a93f-b4f278778ca5</td>\n      <td>None</td>\n      <td>{}</td>\n      <td>44d57e0b-48bc-4e1b-8d9f-04b781cc607c</td>\n    </tr>\n    <tr>\n      <th>19</th>\n      <td>2023-11-13 17:38:44.771882+00:00</td>\n      <td>2023-11-13 17:38:44.771888+00:00</td>\n      <td>5f799023-b4d7-428d-a8d0-7ca3ab7e1500</td>\n      <td>Product #8152</td>\n      <td>CVPBGOSkNL2Oy8ZuOM83</td>\n      <td>IPR-0000000020</td>\n      <td>product</td>\n      <td>None</td>\n      <td>220735b7-7c99-485e-ac8d-70144eceb6aa</td>\n      <td>TRPJ7VKI3NDX</td>\n      <td>...</td>\n      <td>True</td>\n      <td>False</td>\n      <td>12ed5dee-51dc-4d83-8354-5434fc19da18</td>\n      <td>10.990</td>\n      <td>5150.97</td>\n      <td>21bf14d1-9c99-4323-9b41-cdfe1a0b4548</td>\n      <td>05321820-8593-4123-a93f-b4f278778ca5</td>\n      <td>None</td>\n      <td>{}</td>\n      <td>44d57e0b-48bc-4e1b-8d9f-04b781cc607c</td>\n    </tr>\n    <tr>\n      <th>20</th>\n      <td>2023-11-13 17:38:44.771907+00:00</td>\n      <td>2023-11-13 17:38:44.771911+00:00</td>\n      <td>55c0b9b4-7827-4812-a335-611a1d9d2bef</td>\n      <td>Product #2197</td>\n      <td>cOF9etDiJjlxV9sfdfHH</td>\n      <td>IPR-0000000021</td>\n      <td>product</td>\n      <td>None</td>\n      <td>536d0221-926b-4250-bed3-81e7bae47238</td>\n      <td>BHAMC43ZOCTR</td>\n      <td>...</td>\n      <td>True</td>\n      <td>False</td>\n      <td>12ed5dee-51dc-4d83-8354-5434fc19da18</td>\n      <td>9.840</td>\n      <td>2436.09</td>\n      <td>21bf14d1-9c99-4323-9b41-cdfe1a0b4548</td>\n      <td>05321820-8593-4123-a93f-b4f278778ca5</td>\n      <td>None</td>\n      <td>{}</td>\n      <td>44d57e0b-48bc-4e1b-8d9f-04b781cc607c</td>\n    </tr>\n    <tr>\n      <th>21</th>\n      <td>2023-11-13 17:38:44.771928+00:00</td>\n      <td>2023-11-13 17:38:44.771931+00:00</td>\n      <td>e26ef738-f1d7-4413-a8bf-97ca02530f8d</td>\n      <td>Product #4746</td>\n      <td>antqF4TJjERj85HwA9Yt</td>\n      <td>IPR-0000000022</td>\n      <td>product</td>\n      <td>None</td>\n      <td>220735b7-7c99-485e-ac8d-70144eceb6aa</td>\n      <td>XJVF7ZRWAFIM</td>\n      <td>...</td>\n      <td>True</td>\n      <td>False</td>\n      <td>12ed5dee-51dc-4d83-8354-5434fc19da18</td>\n      <td>0.000</td>\n      <td>0.00</td>\n      <td>21bf14d1-9c99-4323-9b41-cdfe1a0b4548</td>\n      <td>05321820-8593-4123-a93f-b4f278778ca5</td>\n      <td>None</td>\n      <td>{}</td>\n      <td>44d57e0b-48bc-4e1b-8d9f-04b781cc607c</td>\n    </tr>\n  </tbody>\n</table>\n<p>22 rows × 24 columns</p>\n</div>"
     },
     "execution_count": 60,
     "metadata": {},
     "output_type": "execute_result"
    }
   ],
   "source": [
    "products_qs = entity_model.get_items_products()\n",
    "pd.DataFrame(products_qs.values())"
   ]
  },
  {
   "cell_type": "markdown",
   "metadata": {},
   "source": [
    "### Create Product Items"
   ]
  },
  {
   "cell_type": "code",
   "execution_count": 61,
   "metadata": {
    "ExecuteTime": {
     "end_time": "2023-11-13T17:39:05.705683Z",
     "start_time": "2023-11-13T17:39:05.688641Z"
    }
   },
   "outputs": [],
   "source": [
    "product_model = entity_model.create_item_product(\n",
    "    name='1/2\" Premium PVC Pipe',\n",
    "    uom_model=uom_model_ft,\n",
    "    item_type=ItemModel.ITEM_TYPE_MATERIAL\n",
    ")"
   ]
  },
  {
   "cell_type": "code",
   "execution_count": 62,
   "metadata": {
    "ExecuteTime": {
     "end_time": "2023-11-13T17:39:05.935440Z",
     "start_time": "2023-11-13T17:39:05.909599Z"
    }
   },
   "outputs": [
    {
     "data": {
      "text/plain": "True"
     },
     "execution_count": 62,
     "metadata": {},
     "output_type": "execute_result"
    }
   ],
   "source": [
    "product_model.is_product()"
   ]
  },
  {
   "cell_type": "markdown",
   "metadata": {},
   "source": [
    "## Inventory"
   ]
  },
  {
   "cell_type": "markdown",
   "metadata": {},
   "source": [
    "### Get Inventory Items"
   ]
  },
  {
   "cell_type": "code",
   "execution_count": 63,
   "metadata": {
    "ExecuteTime": {
     "end_time": "2023-11-13T17:39:06.501687Z",
     "start_time": "2023-11-13T17:39:06.477597Z"
    }
   },
   "outputs": [
    {
     "data": {
      "text/plain": "                            created                          updated  \\\n0  2023-11-13 17:38:44.771410+00:00 2023-11-13 17:38:44.771427+00:00   \n1  2023-11-13 17:38:44.771469+00:00 2023-11-13 17:38:44.771473+00:00   \n2  2023-11-13 17:38:44.771495+00:00 2023-11-13 17:38:44.771499+00:00   \n3  2023-11-13 17:38:44.771519+00:00 2023-11-13 17:38:44.771523+00:00   \n4  2023-11-13 17:38:44.771542+00:00 2023-11-13 17:38:44.771546+00:00   \n..                              ...                              ...   \n57 2023-11-13 17:38:44.902353+00:00 2023-11-13 17:38:44.902356+00:00   \n58 2023-11-13 17:38:44.902371+00:00 2023-11-13 17:38:44.902374+00:00   \n59 2023-11-13 17:38:44.902389+00:00 2023-11-13 17:38:44.902392+00:00   \n60 2023-11-13 17:38:44.902407+00:00 2023-11-13 17:38:44.902410+00:00   \n61 2023-11-13 17:39:05.692547+00:00 2023-11-13 17:39:05.692560+00:00   \n\n                                    uuid                   name  \\\n0   7ae17dab-05c5-45da-9482-d670efde7db4          Product #1805   \n1   7ff6129d-6f61-4bd1-b9d4-3f930a727c92          Product #3815   \n2   b151ab95-a8af-49a8-9d33-30843583f4fa          Product #1590   \n3   3d63352a-88b2-4a46-9dc4-5e8f081a95c2          Product #9081   \n4   d660561d-64e0-4de6-8a67-d1750b55fec5          Product #4155   \n..                                   ...                    ...   \n57  3921a1f8-2b06-4beb-9920-cd9955f5a6aa         Inventory 2342   \n58  0b294f30-9ee7-4c6c-9159-6e0a17e4c47f         Inventory 6793   \n59  e073d34f-9426-45ad-ad37-f8dd8d76bb2d         Inventory 2774   \n60  924a0e45-29ab-4d78-b202-9eb5864c4f75         Inventory 3015   \n61  cf01a4ed-9b23-40ff-8b14-61d834b4defc  1/2\" Premium PVC Pipe   \n\n                 item_id     item_number  item_role item_type  \\\n0   NUpQGqHNWCVRWQGeEbUK  IPR-0000000001    product      None   \n1   ONMrNT8efwtEuRIjPnaG  IPR-0000000002    product      None   \n2   puAhCLvhstbYVVappxXu  IPR-0000000003    product      None   \n3   a2Y7GHB2e9u0aOXtmXor  IPR-0000000004    product      None   \n4   G1NtoqLldLnVilwRhE6z  IPR-0000000005    product      None   \n..                   ...             ...        ...       ...   \n57  jbz4qDsYOGsTmQdHYdZ9  INV-0000000096  inventory         E   \n58  iKkt1Pl2hd2bNDQhJINc  INV-0000000097  inventory         M   \n59  VroOz5TzMboQDF4quCv3  INV-0000000098  inventory         L   \n60  uCcn3Iw96d3lpugd69hZ  INV-0000000099  inventory         S   \n61                  None  IPR-0000000123    product         M   \n\n                                  uom_id           sku  ...  \\\n0   924d4b04-28a5-4ae9-9eba-fae474227567  L9LS56B6QJ6U  ...   \n1   924d4b04-28a5-4ae9-9eba-fae474227567  NCVTL6EMSW79  ...   \n2   220735b7-7c99-485e-ac8d-70144eceb6aa  9HBIFG779VV8  ...   \n3   0b4fd4cb-3573-481a-a746-9e0a769bfce8  BRIEF0VLCGW2  ...   \n4   01851ed2-a516-43df-9f8e-02e0cd93b11d  T75M8WK7ODWQ  ...   \n..                                   ...           ...  ...   \n57  0b4fd4cb-3573-481a-a746-9e0a769bfce8  SSZ27T8P4HM7  ...   \n58  01851ed2-a516-43df-9f8e-02e0cd93b11d  L8V0H404B1KH  ...   \n59  0b4fd4cb-3573-481a-a746-9e0a769bfce8  9OQ08A8M33IX  ...   \n60  94cf9411-f494-4d01-8c20-2f57b5e5fd6c  N6ILD9O4OMVE  ...   \n61  9339ae48-ff09-40bc-9a2d-ed91735ab97e          None  ...   \n\n   is_product_or_service  sold_as_unit                  inventory_account_id  \\\n0                   True         False  12ed5dee-51dc-4d83-8354-5434fc19da18   \n1                   True         False  12ed5dee-51dc-4d83-8354-5434fc19da18   \n2                   True         False  12ed5dee-51dc-4d83-8354-5434fc19da18   \n3                   True         False  12ed5dee-51dc-4d83-8354-5434fc19da18   \n4                   True         False  12ed5dee-51dc-4d83-8354-5434fc19da18   \n..                   ...           ...                                   ...   \n57                 False         False  12ed5dee-51dc-4d83-8354-5434fc19da18   \n58                 False         False  12ed5dee-51dc-4d83-8354-5434fc19da18   \n59                 False         False  12ed5dee-51dc-4d83-8354-5434fc19da18   \n60                 False         False  12ed5dee-51dc-4d83-8354-5434fc19da18   \n61                  True         False  12ed5dee-51dc-4d83-8354-5434fc19da18   \n\n    inventory_received  inventory_received_value  \\\n0                0.000                      0.00   \n1                4.070                    754.62   \n2                3.730                   2240.24   \n3               19.580                   7023.82   \n4                5.820                   3401.61   \n..                 ...                       ...   \n57               0.000                      0.00   \n58               0.000                      0.00   \n59               0.000                      0.00   \n60               0.000                      0.00   \n61                None                      None   \n\n                         cogs_account_id  \\\n0   21bf14d1-9c99-4323-9b41-cdfe1a0b4548   \n1   21bf14d1-9c99-4323-9b41-cdfe1a0b4548   \n2   21bf14d1-9c99-4323-9b41-cdfe1a0b4548   \n3   21bf14d1-9c99-4323-9b41-cdfe1a0b4548   \n4   21bf14d1-9c99-4323-9b41-cdfe1a0b4548   \n..                                   ...   \n57  21bf14d1-9c99-4323-9b41-cdfe1a0b4548   \n58  21bf14d1-9c99-4323-9b41-cdfe1a0b4548   \n59  21bf14d1-9c99-4323-9b41-cdfe1a0b4548   \n60  21bf14d1-9c99-4323-9b41-cdfe1a0b4548   \n61  21bf14d1-9c99-4323-9b41-cdfe1a0b4548   \n\n                     earnings_account_id expense_account_id additional_info  \\\n0   05321820-8593-4123-a93f-b4f278778ca5               None              {}   \n1   05321820-8593-4123-a93f-b4f278778ca5               None              {}   \n2   05321820-8593-4123-a93f-b4f278778ca5               None              {}   \n3   05321820-8593-4123-a93f-b4f278778ca5               None              {}   \n4   05321820-8593-4123-a93f-b4f278778ca5               None              {}   \n..                                   ...                ...             ...   \n57                                  None               None              {}   \n58                                  None               None              {}   \n59                                  None               None              {}   \n60                                  None               None              {}   \n61  05321820-8593-4123-a93f-b4f278778ca5               None              {}   \n\n                               entity_id  \n0   44d57e0b-48bc-4e1b-8d9f-04b781cc607c  \n1   44d57e0b-48bc-4e1b-8d9f-04b781cc607c  \n2   44d57e0b-48bc-4e1b-8d9f-04b781cc607c  \n3   44d57e0b-48bc-4e1b-8d9f-04b781cc607c  \n4   44d57e0b-48bc-4e1b-8d9f-04b781cc607c  \n..                                   ...  \n57  44d57e0b-48bc-4e1b-8d9f-04b781cc607c  \n58  44d57e0b-48bc-4e1b-8d9f-04b781cc607c  \n59  44d57e0b-48bc-4e1b-8d9f-04b781cc607c  \n60  44d57e0b-48bc-4e1b-8d9f-04b781cc607c  \n61  44d57e0b-48bc-4e1b-8d9f-04b781cc607c  \n\n[62 rows x 24 columns]",
      "text/html": "<div>\n<style scoped>\n    .dataframe tbody tr th:only-of-type {\n        vertical-align: middle;\n    }\n\n    .dataframe tbody tr th {\n        vertical-align: top;\n    }\n\n    .dataframe thead th {\n        text-align: right;\n    }\n</style>\n<table border=\"1\" class=\"dataframe\">\n  <thead>\n    <tr style=\"text-align: right;\">\n      <th></th>\n      <th>created</th>\n      <th>updated</th>\n      <th>uuid</th>\n      <th>name</th>\n      <th>item_id</th>\n      <th>item_number</th>\n      <th>item_role</th>\n      <th>item_type</th>\n      <th>uom_id</th>\n      <th>sku</th>\n      <th>...</th>\n      <th>is_product_or_service</th>\n      <th>sold_as_unit</th>\n      <th>inventory_account_id</th>\n      <th>inventory_received</th>\n      <th>inventory_received_value</th>\n      <th>cogs_account_id</th>\n      <th>earnings_account_id</th>\n      <th>expense_account_id</th>\n      <th>additional_info</th>\n      <th>entity_id</th>\n    </tr>\n  </thead>\n  <tbody>\n    <tr>\n      <th>0</th>\n      <td>2023-11-13 17:38:44.771410+00:00</td>\n      <td>2023-11-13 17:38:44.771427+00:00</td>\n      <td>7ae17dab-05c5-45da-9482-d670efde7db4</td>\n      <td>Product #1805</td>\n      <td>NUpQGqHNWCVRWQGeEbUK</td>\n      <td>IPR-0000000001</td>\n      <td>product</td>\n      <td>None</td>\n      <td>924d4b04-28a5-4ae9-9eba-fae474227567</td>\n      <td>L9LS56B6QJ6U</td>\n      <td>...</td>\n      <td>True</td>\n      <td>False</td>\n      <td>12ed5dee-51dc-4d83-8354-5434fc19da18</td>\n      <td>0.000</td>\n      <td>0.00</td>\n      <td>21bf14d1-9c99-4323-9b41-cdfe1a0b4548</td>\n      <td>05321820-8593-4123-a93f-b4f278778ca5</td>\n      <td>None</td>\n      <td>{}</td>\n      <td>44d57e0b-48bc-4e1b-8d9f-04b781cc607c</td>\n    </tr>\n    <tr>\n      <th>1</th>\n      <td>2023-11-13 17:38:44.771469+00:00</td>\n      <td>2023-11-13 17:38:44.771473+00:00</td>\n      <td>7ff6129d-6f61-4bd1-b9d4-3f930a727c92</td>\n      <td>Product #3815</td>\n      <td>ONMrNT8efwtEuRIjPnaG</td>\n      <td>IPR-0000000002</td>\n      <td>product</td>\n      <td>None</td>\n      <td>924d4b04-28a5-4ae9-9eba-fae474227567</td>\n      <td>NCVTL6EMSW79</td>\n      <td>...</td>\n      <td>True</td>\n      <td>False</td>\n      <td>12ed5dee-51dc-4d83-8354-5434fc19da18</td>\n      <td>4.070</td>\n      <td>754.62</td>\n      <td>21bf14d1-9c99-4323-9b41-cdfe1a0b4548</td>\n      <td>05321820-8593-4123-a93f-b4f278778ca5</td>\n      <td>None</td>\n      <td>{}</td>\n      <td>44d57e0b-48bc-4e1b-8d9f-04b781cc607c</td>\n    </tr>\n    <tr>\n      <th>2</th>\n      <td>2023-11-13 17:38:44.771495+00:00</td>\n      <td>2023-11-13 17:38:44.771499+00:00</td>\n      <td>b151ab95-a8af-49a8-9d33-30843583f4fa</td>\n      <td>Product #1590</td>\n      <td>puAhCLvhstbYVVappxXu</td>\n      <td>IPR-0000000003</td>\n      <td>product</td>\n      <td>None</td>\n      <td>220735b7-7c99-485e-ac8d-70144eceb6aa</td>\n      <td>9HBIFG779VV8</td>\n      <td>...</td>\n      <td>True</td>\n      <td>False</td>\n      <td>12ed5dee-51dc-4d83-8354-5434fc19da18</td>\n      <td>3.730</td>\n      <td>2240.24</td>\n      <td>21bf14d1-9c99-4323-9b41-cdfe1a0b4548</td>\n      <td>05321820-8593-4123-a93f-b4f278778ca5</td>\n      <td>None</td>\n      <td>{}</td>\n      <td>44d57e0b-48bc-4e1b-8d9f-04b781cc607c</td>\n    </tr>\n    <tr>\n      <th>3</th>\n      <td>2023-11-13 17:38:44.771519+00:00</td>\n      <td>2023-11-13 17:38:44.771523+00:00</td>\n      <td>3d63352a-88b2-4a46-9dc4-5e8f081a95c2</td>\n      <td>Product #9081</td>\n      <td>a2Y7GHB2e9u0aOXtmXor</td>\n      <td>IPR-0000000004</td>\n      <td>product</td>\n      <td>None</td>\n      <td>0b4fd4cb-3573-481a-a746-9e0a769bfce8</td>\n      <td>BRIEF0VLCGW2</td>\n      <td>...</td>\n      <td>True</td>\n      <td>False</td>\n      <td>12ed5dee-51dc-4d83-8354-5434fc19da18</td>\n      <td>19.580</td>\n      <td>7023.82</td>\n      <td>21bf14d1-9c99-4323-9b41-cdfe1a0b4548</td>\n      <td>05321820-8593-4123-a93f-b4f278778ca5</td>\n      <td>None</td>\n      <td>{}</td>\n      <td>44d57e0b-48bc-4e1b-8d9f-04b781cc607c</td>\n    </tr>\n    <tr>\n      <th>4</th>\n      <td>2023-11-13 17:38:44.771542+00:00</td>\n      <td>2023-11-13 17:38:44.771546+00:00</td>\n      <td>d660561d-64e0-4de6-8a67-d1750b55fec5</td>\n      <td>Product #4155</td>\n      <td>G1NtoqLldLnVilwRhE6z</td>\n      <td>IPR-0000000005</td>\n      <td>product</td>\n      <td>None</td>\n      <td>01851ed2-a516-43df-9f8e-02e0cd93b11d</td>\n      <td>T75M8WK7ODWQ</td>\n      <td>...</td>\n      <td>True</td>\n      <td>False</td>\n      <td>12ed5dee-51dc-4d83-8354-5434fc19da18</td>\n      <td>5.820</td>\n      <td>3401.61</td>\n      <td>21bf14d1-9c99-4323-9b41-cdfe1a0b4548</td>\n      <td>05321820-8593-4123-a93f-b4f278778ca5</td>\n      <td>None</td>\n      <td>{}</td>\n      <td>44d57e0b-48bc-4e1b-8d9f-04b781cc607c</td>\n    </tr>\n    <tr>\n      <th>...</th>\n      <td>...</td>\n      <td>...</td>\n      <td>...</td>\n      <td>...</td>\n      <td>...</td>\n      <td>...</td>\n      <td>...</td>\n      <td>...</td>\n      <td>...</td>\n      <td>...</td>\n      <td>...</td>\n      <td>...</td>\n      <td>...</td>\n      <td>...</td>\n      <td>...</td>\n      <td>...</td>\n      <td>...</td>\n      <td>...</td>\n      <td>...</td>\n      <td>...</td>\n      <td>...</td>\n    </tr>\n    <tr>\n      <th>57</th>\n      <td>2023-11-13 17:38:44.902353+00:00</td>\n      <td>2023-11-13 17:38:44.902356+00:00</td>\n      <td>3921a1f8-2b06-4beb-9920-cd9955f5a6aa</td>\n      <td>Inventory 2342</td>\n      <td>jbz4qDsYOGsTmQdHYdZ9</td>\n      <td>INV-0000000096</td>\n      <td>inventory</td>\n      <td>E</td>\n      <td>0b4fd4cb-3573-481a-a746-9e0a769bfce8</td>\n      <td>SSZ27T8P4HM7</td>\n      <td>...</td>\n      <td>False</td>\n      <td>False</td>\n      <td>12ed5dee-51dc-4d83-8354-5434fc19da18</td>\n      <td>0.000</td>\n      <td>0.00</td>\n      <td>21bf14d1-9c99-4323-9b41-cdfe1a0b4548</td>\n      <td>None</td>\n      <td>None</td>\n      <td>{}</td>\n      <td>44d57e0b-48bc-4e1b-8d9f-04b781cc607c</td>\n    </tr>\n    <tr>\n      <th>58</th>\n      <td>2023-11-13 17:38:44.902371+00:00</td>\n      <td>2023-11-13 17:38:44.902374+00:00</td>\n      <td>0b294f30-9ee7-4c6c-9159-6e0a17e4c47f</td>\n      <td>Inventory 6793</td>\n      <td>iKkt1Pl2hd2bNDQhJINc</td>\n      <td>INV-0000000097</td>\n      <td>inventory</td>\n      <td>M</td>\n      <td>01851ed2-a516-43df-9f8e-02e0cd93b11d</td>\n      <td>L8V0H404B1KH</td>\n      <td>...</td>\n      <td>False</td>\n      <td>False</td>\n      <td>12ed5dee-51dc-4d83-8354-5434fc19da18</td>\n      <td>0.000</td>\n      <td>0.00</td>\n      <td>21bf14d1-9c99-4323-9b41-cdfe1a0b4548</td>\n      <td>None</td>\n      <td>None</td>\n      <td>{}</td>\n      <td>44d57e0b-48bc-4e1b-8d9f-04b781cc607c</td>\n    </tr>\n    <tr>\n      <th>59</th>\n      <td>2023-11-13 17:38:44.902389+00:00</td>\n      <td>2023-11-13 17:38:44.902392+00:00</td>\n      <td>e073d34f-9426-45ad-ad37-f8dd8d76bb2d</td>\n      <td>Inventory 2774</td>\n      <td>VroOz5TzMboQDF4quCv3</td>\n      <td>INV-0000000098</td>\n      <td>inventory</td>\n      <td>L</td>\n      <td>0b4fd4cb-3573-481a-a746-9e0a769bfce8</td>\n      <td>9OQ08A8M33IX</td>\n      <td>...</td>\n      <td>False</td>\n      <td>False</td>\n      <td>12ed5dee-51dc-4d83-8354-5434fc19da18</td>\n      <td>0.000</td>\n      <td>0.00</td>\n      <td>21bf14d1-9c99-4323-9b41-cdfe1a0b4548</td>\n      <td>None</td>\n      <td>None</td>\n      <td>{}</td>\n      <td>44d57e0b-48bc-4e1b-8d9f-04b781cc607c</td>\n    </tr>\n    <tr>\n      <th>60</th>\n      <td>2023-11-13 17:38:44.902407+00:00</td>\n      <td>2023-11-13 17:38:44.902410+00:00</td>\n      <td>924a0e45-29ab-4d78-b202-9eb5864c4f75</td>\n      <td>Inventory 3015</td>\n      <td>uCcn3Iw96d3lpugd69hZ</td>\n      <td>INV-0000000099</td>\n      <td>inventory</td>\n      <td>S</td>\n      <td>94cf9411-f494-4d01-8c20-2f57b5e5fd6c</td>\n      <td>N6ILD9O4OMVE</td>\n      <td>...</td>\n      <td>False</td>\n      <td>False</td>\n      <td>12ed5dee-51dc-4d83-8354-5434fc19da18</td>\n      <td>0.000</td>\n      <td>0.00</td>\n      <td>21bf14d1-9c99-4323-9b41-cdfe1a0b4548</td>\n      <td>None</td>\n      <td>None</td>\n      <td>{}</td>\n      <td>44d57e0b-48bc-4e1b-8d9f-04b781cc607c</td>\n    </tr>\n    <tr>\n      <th>61</th>\n      <td>2023-11-13 17:39:05.692547+00:00</td>\n      <td>2023-11-13 17:39:05.692560+00:00</td>\n      <td>cf01a4ed-9b23-40ff-8b14-61d834b4defc</td>\n      <td>1/2\" Premium PVC Pipe</td>\n      <td>None</td>\n      <td>IPR-0000000123</td>\n      <td>product</td>\n      <td>M</td>\n      <td>9339ae48-ff09-40bc-9a2d-ed91735ab97e</td>\n      <td>None</td>\n      <td>...</td>\n      <td>True</td>\n      <td>False</td>\n      <td>12ed5dee-51dc-4d83-8354-5434fc19da18</td>\n      <td>None</td>\n      <td>None</td>\n      <td>21bf14d1-9c99-4323-9b41-cdfe1a0b4548</td>\n      <td>05321820-8593-4123-a93f-b4f278778ca5</td>\n      <td>None</td>\n      <td>{}</td>\n      <td>44d57e0b-48bc-4e1b-8d9f-04b781cc607c</td>\n    </tr>\n  </tbody>\n</table>\n<p>62 rows × 24 columns</p>\n</div>"
     },
     "execution_count": 63,
     "metadata": {},
     "output_type": "execute_result"
    }
   ],
   "source": [
    "inventory_qs = entity_model.get_items_inventory()\n",
    "pd.DataFrame(inventory_qs.values())"
   ]
  },
  {
   "cell_type": "markdown",
   "metadata": {},
   "source": [
    "### Create Inventory Items"
   ]
  },
  {
   "cell_type": "code",
   "execution_count": 64,
   "metadata": {
    "ExecuteTime": {
     "end_time": "2023-11-13T17:39:06.875354Z",
     "start_time": "2023-11-13T17:39:06.860410Z"
    }
   },
   "outputs": [],
   "source": [
    "inventory_model = entity_model.create_item_inventory(\n",
    "    name='A Home to Flip!',\n",
    "    uom_model=uom_model_unit,\n",
    "    item_type=ItemModel.ITEM_TYPE_LUMP_SUM\n",
    ")"
   ]
  },
  {
   "cell_type": "code",
   "execution_count": 65,
   "metadata": {
    "ExecuteTime": {
     "end_time": "2023-11-13T17:39:07.078870Z",
     "start_time": "2023-11-13T17:39:07.055153Z"
    }
   },
   "outputs": [
    {
     "data": {
      "text/plain": "True"
     },
     "execution_count": 65,
     "metadata": {},
     "output_type": "execute_result"
    }
   ],
   "source": [
    "inventory_model.is_inventory()"
   ]
  },
  {
   "cell_type": "markdown",
   "metadata": {},
   "source": [
    "# Financial Statements"
   ]
  },
  {
   "cell_type": "markdown",
   "metadata": {},
   "source": [
    "## Balance Sheet"
   ]
  },
  {
   "cell_type": "code",
   "execution_count": 66,
   "metadata": {
    "ExecuteTime": {
     "end_time": "2023-11-13T17:39:07.699899Z",
     "start_time": "2023-11-13T17:39:07.660578Z"
    }
   },
   "outputs": [],
   "source": [
    "bs_report = entity_model.get_balance_sheet_statement(\n",
    "    to_date=date(2022, 12, 31),\n",
    "    save_pdf=True,\n",
    "    filepath='./'\n",
    ")\n",
    "# save_pdf=True saves the PDF report in the project's BASE_DIR.\n",
    "# filename and filepath may also be specified...\n",
    "# will raise not implemented error if PDF support is not enabled..."
   ]
  },
  {
   "cell_type": "markdown",
   "metadata": {},
   "source": [
    "### Balance Sheet Statement Raw Data"
   ]
  },
  {
   "cell_type": "code",
   "execution_count": 67,
   "metadata": {
    "ExecuteTime": {
     "end_time": "2023-11-13T17:39:08.108674Z",
     "start_time": "2023-11-13T17:39:08.067990Z"
    }
   },
   "outputs": [
    {
     "data": {
      "text/plain": "{'assets': {'total_balance': Decimal('129650.46000000000'),\n  'is_block': True,\n  'roles': {'asset_ca_cash': {'accounts': [{'account_uuid': UUID('690baf2c-e77f-4f0e-b4fb-46eb02696410'),\n      'unit_uuid': None,\n      'unit_name': None,\n      'activity': None,\n      'period_year': None,\n      'period_month': None,\n      'role_bs': 'assets',\n      'role': 'asset_ca_cash',\n      'code': '1010',\n      'name': 'Cash',\n      'balance_type': 'debit',\n      'tx_type': None,\n      'balance': Decimal('132732.4000000000'),\n      'balance_abs': Decimal('132732.4000000000')}],\n    'total_balance': Decimal('132732.4000000000'),\n    'role_name': 'Current Asset'},\n   'asset_ca_recv': {'accounts': [{'account_uuid': UUID('f6de4cef-abfa-416d-b115-42eab4290a4b'),\n      'unit_uuid': None,\n      'unit_name': None,\n      'activity': None,\n      'period_year': None,\n      'period_month': None,\n      'role_bs': 'assets',\n      'role': 'asset_ca_recv',\n      'code': '1100',\n      'name': 'Accounts Receivable',\n      'balance_type': 'debit',\n      'tx_type': None,\n      'balance': Decimal('1593.8700000000'),\n      'balance_abs': Decimal('1593.8700000000')}],\n    'total_balance': Decimal('1593.8700000000'),\n    'role_name': 'Receivables'},\n   'asset_ca_inv': {'accounts': [{'account_uuid': UUID('12ed5dee-51dc-4d83-8354-5434fc19da18'),\n      'unit_uuid': None,\n      'unit_name': None,\n      'activity': None,\n      'period_year': None,\n      'period_month': None,\n      'role_bs': 'assets',\n      'role': 'asset_ca_inv',\n      'code': '1200',\n      'name': 'Inventory',\n      'balance_type': 'debit',\n      'tx_type': None,\n      'balance': Decimal('-4675.81000000000'),\n      'balance_abs': Decimal('4675.81000000000')}],\n    'total_balance': Decimal('-4675.81000000000'),\n    'role_name': 'Inventory'}}},\n 'liabilities': {'total_balance': Decimal('1330.0800000000'),\n  'is_block': True,\n  'roles': {'lia_cl_acc_payable': {'accounts': [{'account_uuid': UUID('f96f9722-18bb-494a-a88d-04847fb9c6f4'),\n      'unit_uuid': None,\n      'unit_name': None,\n      'activity': None,\n      'period_year': None,\n      'period_month': None,\n      'role_bs': 'liabilities',\n      'role': 'lia_cl_acc_payable',\n      'code': '2010',\n      'name': 'Accounts Payable',\n      'balance_type': 'credit',\n      'tx_type': None,\n      'balance': Decimal('1330.0800000000'),\n      'balance_abs': Decimal('1330.0800000000')}],\n    'total_balance': Decimal('1330.0800000000'),\n    'role_name': 'Accounts Payable'}}},\n 'equity': {'total_balance': Decimal('100000'),\n  'is_block': True,\n  'roles': {'eq_capital': {'accounts': [{'account_uuid': UUID('34c34091-1cc5-46e2-8d70-0093de5cc709'),\n      'unit_uuid': None,\n      'unit_name': None,\n      'activity': None,\n      'period_year': None,\n      'period_month': None,\n      'role_bs': 'equity',\n      'role': 'eq_capital',\n      'code': '3010',\n      'name': 'Capital Account 1',\n      'balance_type': 'credit',\n      'tx_type': None,\n      'balance': Decimal('100000'),\n      'balance_abs': Decimal('100000')}],\n    'total_balance': Decimal('100000'),\n    'role_name': 'Capital'}}},\n 'equity_balance': Decimal('128320.3800000000000'),\n 'retained_earnings_balance': Decimal('28320.3800000000000'),\n 'liabilities_equity_balance': Decimal('129650.4600000000000')}"
     },
     "execution_count": 67,
     "metadata": {},
     "output_type": "execute_result"
    }
   ],
   "source": [
    "bs_report.get_report_data()"
   ]
  },
  {
   "cell_type": "markdown",
   "metadata": {},
   "source": [
    "## Income Statement"
   ]
  },
  {
   "cell_type": "code",
   "execution_count": 68,
   "metadata": {
    "ExecuteTime": {
     "end_time": "2023-11-13T17:39:08.478493Z",
     "start_time": "2023-11-13T17:39:08.456893Z"
    }
   },
   "outputs": [],
   "source": [
    "ic_report = entity_model.get_income_statement(\n",
    "    from_date=date(2022, 1, 1),\n",
    "    to_date=date(2022, 12, 31),\n",
    "    save_pdf=True,\n",
    "    filepath='./'\n",
    ")\n",
    "# save_pdf=True saves the PDF report in the project's BASE_DIR.\n",
    "# filename and filepath may also be specified...\n",
    "# will raise not implemented error if PDF support is not enabled..."
   ]
  },
  {
   "cell_type": "markdown",
   "metadata": {},
   "source": [
    "### Income Statement Raw Data"
   ]
  },
  {
   "cell_type": "code",
   "execution_count": 69,
   "metadata": {
    "scrolled": true,
    "ExecuteTime": {
     "end_time": "2023-11-13T17:39:08.890076Z",
     "start_time": "2023-11-13T17:39:08.866696Z"
    }
   },
   "outputs": [
    {
     "data": {
      "text/plain": "{'operating': {'revenues': [{'account_uuid': UUID('05321820-8593-4123-a93f-b4f278778ca5'),\n    'unit_uuid': None,\n    'unit_name': None,\n    'activity': None,\n    'period_year': None,\n    'period_month': None,\n    'role_bs': 'equity',\n    'role': 'in_operational',\n    'code': '4010',\n    'name': 'Sales Income',\n    'balance_type': 'credit',\n    'tx_type': None,\n    'balance': Decimal('45627.3100000000'),\n    'balance_abs': Decimal('45627.3100000000'),\n    'role_name': 'Operational Income'}],\n  'cogs': [{'account_uuid': UUID('21bf14d1-9c99-4323-9b41-cdfe1a0b4548'),\n    'unit_uuid': None,\n    'unit_name': None,\n    'activity': None,\n    'period_year': None,\n    'period_month': None,\n    'role_bs': 'equity',\n    'role': 'cogs_regular',\n    'code': '5010',\n    'name': 'Cost of Goods Sold',\n    'balance_type': 'debit',\n    'tx_type': None,\n    'balance': Decimal('-11403.8500000000'),\n    'balance_abs': Decimal('11403.8500000000'),\n    'role_name': 'Cost of Goods Sold'}],\n  'expenses': [{'account_uuid': UUID('01218b4a-1cc6-4e81-8153-a34da5ff7f2e'),\n    'unit_uuid': None,\n    'unit_name': None,\n    'activity': None,\n    'period_year': None,\n    'period_month': None,\n    'role_bs': 'equity',\n    'role': 'ex_regular',\n    'code': '6295',\n    'name': 'Electricity',\n    'balance_type': 'debit',\n    'tx_type': None,\n    'balance': Decimal('-63.7600000000000'),\n    'balance_abs': Decimal('63.7600000000000'),\n    'role_name': 'Regular Expense'},\n   {'account_uuid': UUID('57cb12bd-45e7-470b-bf80-140445ad3764'),\n    'unit_uuid': None,\n    'unit_name': None,\n    'activity': None,\n    'period_year': None,\n    'period_month': None,\n    'role_bs': 'equity',\n    'role': 'ex_regular',\n    'code': '6294',\n    'name': 'Garbage',\n    'balance_type': 'debit',\n    'tx_type': None,\n    'balance': Decimal('-636.560000000000'),\n    'balance_abs': Decimal('636.560000000000'),\n    'role_name': 'Regular Expense'},\n   {'account_uuid': UUID('615a3f01-f751-43fb-bda8-0ff473c71b3e'),\n    'unit_uuid': None,\n    'unit_name': None,\n    'activity': None,\n    'period_year': None,\n    'period_month': None,\n    'role_bs': 'equity',\n    'role': 'ex_regular',\n    'code': '6240',\n    'name': 'Rent',\n    'balance_type': 'debit',\n    'tx_type': None,\n    'balance': Decimal('-228.520000000000'),\n    'balance_abs': Decimal('228.520000000000'),\n    'role_name': 'Regular Expense'},\n   {'account_uuid': UUID('79179efc-836c-4f45-8975-34a736353040'),\n    'unit_uuid': None,\n    'unit_name': None,\n    'activity': None,\n    'period_year': None,\n    'period_month': None,\n    'role_bs': 'equity',\n    'role': 'ex_regular',\n    'code': '6220',\n    'name': 'Printing',\n    'balance_type': 'debit',\n    'tx_type': None,\n    'balance': Decimal('-563.900000000000'),\n    'balance_abs': Decimal('563.900000000000'),\n    'role_name': 'Regular Expense'},\n   {'account_uuid': UUID('8016b2d8-3c40-46c5-892c-9618efa984e2'),\n    'unit_uuid': None,\n    'unit_name': None,\n    'activity': None,\n    'period_year': None,\n    'period_month': None,\n    'role_bs': 'equity',\n    'role': 'ex_regular',\n    'code': '6293',\n    'name': 'Gas',\n    'balance_type': 'debit',\n    'tx_type': None,\n    'balance': Decimal('-401.0000000000000'),\n    'balance_abs': Decimal('401.0000000000000'),\n    'role_name': 'Regular Expense'},\n   {'account_uuid': UUID('8ab7033f-db7b-460f-a5fe-6fe5d6c22e4f'),\n    'unit_uuid': None,\n    'unit_name': None,\n    'activity': None,\n    'period_year': None,\n    'period_month': None,\n    'role_bs': 'equity',\n    'role': 'ex_regular',\n    'code': '6300',\n    'name': 'Property Management',\n    'balance_type': 'debit',\n    'tx_type': None,\n    'balance': Decimal('-487.830000000000'),\n    'balance_abs': Decimal('487.830000000000'),\n    'role_name': 'Regular Expense'},\n   {'account_uuid': UUID('ac651a90-4106-47e0-843c-216d6dbc1a94'),\n    'unit_uuid': None,\n    'unit_name': None,\n    'activity': None,\n    'period_year': None,\n    'period_month': None,\n    'role_bs': 'equity',\n    'role': 'ex_regular',\n    'code': '6253',\n    'name': 'HOA',\n    'balance_type': 'debit',\n    'tx_type': None,\n    'balance': Decimal('-175.910000000000'),\n    'balance_abs': Decimal('175.910000000000'),\n    'role_name': 'Regular Expense'},\n   {'account_uuid': UUID('bd5b2130-c2fa-4eb9-a0d0-052b9b4d8379'),\n    'unit_uuid': None,\n    'unit_name': None,\n    'activity': None,\n    'period_year': None,\n    'period_month': None,\n    'role_bs': 'equity',\n    'role': 'ex_regular',\n    'code': '6251',\n    'name': 'Maintenance',\n    'balance_type': 'debit',\n    'tx_type': None,\n    'balance': Decimal('-702.220000000000'),\n    'balance_abs': Decimal('702.220000000000'),\n    'role_name': 'Regular Expense'},\n   {'account_uuid': UUID('e2ad8396-d52f-4072-aa69-09e6f46eeb44'),\n    'unit_uuid': None,\n    'unit_name': None,\n    'activity': None,\n    'period_year': None,\n    'period_month': None,\n    'role_bs': 'equity',\n    'role': 'ex_regular',\n    'code': '6050',\n    'name': 'Bank Charges',\n    'balance_type': 'debit',\n    'tx_type': None,\n    'balance': Decimal('-1353.67000000000'),\n    'balance_abs': Decimal('1353.67000000000'),\n    'role_name': 'Regular Expense'},\n   {'account_uuid': UUID('e3c44191-37fd-4108-a16d-67ddc6814229'),\n    'unit_uuid': None,\n    'unit_name': None,\n    'activity': None,\n    'period_year': None,\n    'period_month': None,\n    'role_bs': 'equity',\n    'role': 'ex_regular',\n    'code': '6400',\n    'name': 'Vacancy',\n    'balance_type': 'debit',\n    'tx_type': None,\n    'balance': Decimal('-134.200000000000'),\n    'balance_abs': Decimal('134.200000000000'),\n    'role_name': 'Regular Expense'},\n   {'account_uuid': UUID('ea54e0ba-9242-4e67-88c9-cd2809ef55b3'),\n    'unit_uuid': None,\n    'unit_name': None,\n    'activity': None,\n    'period_year': None,\n    'period_month': None,\n    'role_bs': 'equity',\n    'role': 'ex_regular',\n    'code': '6060',\n    'name': 'Commission Expense',\n    'balance_type': 'debit',\n    'tx_type': None,\n    'balance': Decimal('-631.5'),\n    'balance_abs': Decimal('631.5'),\n    'role_name': 'Regular Expense'},\n   {'account_uuid': UUID('eacea730-3bdc-4d2a-bc94-7f35bc0a44ee'),\n    'unit_uuid': None,\n    'unit_name': None,\n    'activity': None,\n    'period_year': None,\n    'period_month': None,\n    'role_bs': 'equity',\n    'role': 'ex_regular',\n    'code': '6140',\n    'name': 'Professional Fees',\n    'balance_type': 'debit',\n    'tx_type': None,\n    'balance': Decimal('-524.010000000000'),\n    'balance_abs': Decimal('524.010000000000'),\n    'role_name': 'Regular Expense'}],\n  'gross_profit': Decimal('34223.4600000000'),\n  'net_operating_income': Decimal('28320.3800000000000'),\n  'net_operating_revenue': Decimal('45627.3100000000'),\n  'net_cogs': Decimal('-11403.8500000000'),\n  'net_operating_expenses': Decimal('-5903.0800000000000')},\n 'other': {'revenues': [],\n  'expenses': [],\n  'net_other_revenues': 0,\n  'net_other_expenses': 0,\n  'net_other_income': 0},\n 'net_income': Decimal('28320.3800000000000')}"
     },
     "execution_count": 69,
     "metadata": {},
     "output_type": "execute_result"
    }
   ],
   "source": [
    "ic_report.get_report_data()"
   ]
  },
  {
   "cell_type": "markdown",
   "metadata": {},
   "source": [
    "## Cash Flow Statement"
   ]
  },
  {
   "cell_type": "code",
   "execution_count": 70,
   "metadata": {
    "ExecuteTime": {
     "end_time": "2023-11-13T17:39:09.303449Z",
     "start_time": "2023-11-13T17:39:09.280676Z"
    }
   },
   "outputs": [],
   "source": [
    "cf_report = entity_model.get_cash_flow_statement(\n",
    "    from_date=date(2022, 1, 1),\n",
    "    to_date=date(2022, 12, 31),\n",
    "    save_pdf=True,\n",
    "    filepath='./'\n",
    ")\n",
    "# save_pdf=True saves the PDF report in the project's BASE_DIR.\n",
    "# filename and filepath may also be specified..."
   ]
  },
  {
   "cell_type": "markdown",
   "metadata": {},
   "source": [
    "### Cash Flow Statement Raw Data"
   ]
  },
  {
   "cell_type": "code",
   "execution_count": 71,
   "metadata": {
    "ExecuteTime": {
     "end_time": "2023-11-13T17:39:09.707698Z",
     "start_time": "2023-11-13T17:39:09.682536Z"
    }
   },
   "outputs": [
    {
     "data": {
      "text/plain": "{'operating': {'GROUP_CFS_NET_INCOME': {'description': 'Net Income',\n   'balance': Decimal('28320.3800000000000')},\n  'GROUP_CFS_OP_DEPRECIATION_AMORTIZATION': {'description': 'Depreciation & Amortization of Assets',\n   'balance': 0},\n  'GROUP_CFS_OP_INVESTMENT_GAINS': {'description': 'Gain/Loss Sale of Assets',\n   'balance': 0},\n  'GROUP_CFS_OP_ACCOUNTS_RECEIVABLE': {'description': 'Accounts Receivable',\n   'balance': Decimal('-1593.8700000000')},\n  'GROUP_CFS_OP_INVENTORY': {'description': 'Inventories',\n   'balance': Decimal('4675.81000000000')},\n  'GROUP_CFS_OP_ACCOUNTS_PAYABLE': {'description': 'Accounts Payable',\n   'balance': Decimal('1330.080000000000')},\n  'GROUP_CFS_OP_OTHER_CURRENT_ASSETS_ADJUSTMENT': {'description': 'Other Current Assets',\n   'balance': 0},\n  'GROUP_CFS_OP_OTHER_CURRENT_LIABILITIES_ADJUSTMENT': {'description': 'Other Current Liabilities',\n   'balance': 0}},\n 'net_cash_by_activity': {'OPERATING': Decimal('32732.4000000000000'),\n  'FINANCING': Decimal('88698.9600000000'),\n  'INVESTING': 0},\n 'financing': {'GROUP_CFS_FIN_ISSUING_EQUITY': {'description': 'Common Stock, Preferred Stock and Capital Raised',\n   'balance': Decimal('100000')},\n  'GROUP_CFS_FIN_DIVIDENDS': {'description': 'Dividends Payed Out to Shareholders',\n   'balance': 0},\n  'GROUP_CFS_FIN_ST_DEBT_PAYMENTS': {'description': 'Increase/Reduction of Short-Term Debt Principal',\n   'balance': Decimal('-11301.0400000000')},\n  'GROUP_CFS_FIN_LT_DEBT_PAYMENTS': {'description': 'Increase/Reduction of Long-Term Debt Principal',\n   'balance': 0}},\n 'investing': {'GROUP_CFS_INVESTING_SECURITIES': {'description': 'Purchase, Maturity and Sales of Investments & Securities',\n   'balance': 0},\n  'GROUP_CFS_INVESTING_PPE': {'description': 'Addition and Disposition of Property, Plant & Equipment',\n   'balance': 0}},\n 'net_cash': Decimal('121431.3600000000000')}"
     },
     "execution_count": 71,
     "metadata": {},
     "output_type": "execute_result"
    }
   ],
   "source": [
    "cf_report.get_report_data()"
   ]
  },
  {
   "cell_type": "markdown",
   "metadata": {},
   "source": [
    "## All Financial Statements Data in a single Call"
   ]
  },
  {
   "cell_type": "code",
   "execution_count": 72,
   "metadata": {
    "ExecuteTime": {
     "end_time": "2023-11-13T17:39:10.110057Z",
     "start_time": "2023-11-13T17:39:10.086384Z"
    }
   },
   "outputs": [],
   "source": [
    "reports = entity_model.get_financial_statements(\n",
    "    user_model=user_model,\n",
    "    from_date=date(2022, 1, 1),\n",
    "    to_date=date(2022, 12, 31),\n",
    "    save_pdf=True,\n",
    "    filepath='./'\n",
    ")\n",
    "# save_pdf=True saves the PDF report in the project's BASE_DIR.\n",
    "# filename and filepath may also be specified..."
   ]
  },
  {
   "cell_type": "code",
   "execution_count": 73,
   "metadata": {
    "ExecuteTime": {
     "end_time": "2023-11-13T17:39:10.326231Z",
     "start_time": "2023-11-13T17:39:10.310307Z"
    }
   },
   "outputs": [
    {
     "data": {
      "text/plain": "{'assets': {'total_balance': Decimal('129650.46000000000'),\n  'is_block': True,\n  'roles': {'asset_ca_cash': {'accounts': [{'account_uuid': UUID('690baf2c-e77f-4f0e-b4fb-46eb02696410'),\n      'unit_uuid': None,\n      'unit_name': None,\n      'activity': 'fin_equity',\n      'period_year': None,\n      'period_month': None,\n      'role_bs': 'assets',\n      'role': 'asset_ca_cash',\n      'code': '1010',\n      'name': 'Cash',\n      'balance_type': 'debit',\n      'tx_type': None,\n      'balance': Decimal('100000'),\n      'balance_abs': Decimal('100000')},\n     {'account_uuid': UUID('690baf2c-e77f-4f0e-b4fb-46eb02696410'),\n      'unit_uuid': None,\n      'unit_name': None,\n      'activity': 'fin_std',\n      'period_year': None,\n      'period_month': None,\n      'role_bs': 'assets',\n      'role': 'asset_ca_cash',\n      'code': '1010',\n      'name': 'Cash',\n      'balance_type': 'debit',\n      'tx_type': None,\n      'balance': Decimal('-11301.0400000000'),\n      'balance_abs': Decimal('11301.0400000000')},\n     {'account_uuid': UUID('690baf2c-e77f-4f0e-b4fb-46eb02696410'),\n      'unit_uuid': None,\n      'unit_name': None,\n      'activity': 'op',\n      'period_year': None,\n      'period_month': None,\n      'role_bs': 'assets',\n      'role': 'asset_ca_cash',\n      'code': '1010',\n      'name': 'Cash',\n      'balance_type': 'debit',\n      'tx_type': None,\n      'balance': Decimal('44033.4400000000'),\n      'balance_abs': Decimal('44033.4400000000')}],\n    'total_balance': Decimal('132732.4000000000'),\n    'role_name': 'Current Asset'},\n   'asset_ca_recv': {'accounts': [{'account_uuid': UUID('f6de4cef-abfa-416d-b115-42eab4290a4b'),\n      'unit_uuid': None,\n      'unit_name': None,\n      'activity': None,\n      'period_year': None,\n      'period_month': None,\n      'role_bs': 'assets',\n      'role': 'asset_ca_recv',\n      'code': '1100',\n      'name': 'Accounts Receivable',\n      'balance_type': 'debit',\n      'tx_type': None,\n      'balance': Decimal('45627.3100000000'),\n      'balance_abs': Decimal('45627.3100000000')},\n     {'account_uuid': UUID('f6de4cef-abfa-416d-b115-42eab4290a4b'),\n      'unit_uuid': None,\n      'unit_name': None,\n      'activity': 'op',\n      'period_year': None,\n      'period_month': None,\n      'role_bs': 'assets',\n      'role': 'asset_ca_recv',\n      'code': '1100',\n      'name': 'Accounts Receivable',\n      'balance_type': 'debit',\n      'tx_type': None,\n      'balance': Decimal('-44033.4400000000'),\n      'balance_abs': Decimal('44033.4400000000')}],\n    'total_balance': Decimal('1593.8700000000'),\n    'role_name': 'Receivables'},\n   'asset_ca_inv': {'accounts': [{'account_uuid': UUID('12ed5dee-51dc-4d83-8354-5434fc19da18'),\n      'unit_uuid': None,\n      'unit_name': None,\n      'activity': None,\n      'period_year': None,\n      'period_month': None,\n      'role_bs': 'assets',\n      'role': 'asset_ca_inv',\n      'code': '1200',\n      'name': 'Inventory',\n      'balance_type': 'debit',\n      'tx_type': None,\n      'balance': Decimal('-4675.81000000000'),\n      'balance_abs': Decimal('4675.81000000000')}],\n    'total_balance': Decimal('-4675.81000000000'),\n    'role_name': 'Inventory'}}},\n 'liabilities': {'total_balance': Decimal('1330.080000000000'),\n  'is_block': True,\n  'roles': {'lia_cl_acc_payable': {'accounts': [{'account_uuid': UUID('f96f9722-18bb-494a-a88d-04847fb9c6f4'),\n      'unit_uuid': None,\n      'unit_name': None,\n      'activity': None,\n      'period_year': None,\n      'period_month': None,\n      'role_bs': 'liabilities',\n      'role': 'lia_cl_acc_payable',\n      'code': '2010',\n      'name': 'Accounts Payable',\n      'balance_type': 'credit',\n      'tx_type': None,\n      'balance': Decimal('12631.120000000000'),\n      'balance_abs': Decimal('12631.120000000000')},\n     {'account_uuid': UUID('f96f9722-18bb-494a-a88d-04847fb9c6f4'),\n      'unit_uuid': None,\n      'unit_name': None,\n      'activity': 'fin_std',\n      'period_year': None,\n      'period_month': None,\n      'role_bs': 'liabilities',\n      'role': 'lia_cl_acc_payable',\n      'code': '2010',\n      'name': 'Accounts Payable',\n      'balance_type': 'credit',\n      'tx_type': None,\n      'balance': Decimal('-11301.0400000000'),\n      'balance_abs': Decimal('11301.0400000000')}],\n    'total_balance': Decimal('1330.080000000000'),\n    'role_name': 'Accounts Payable'}}},\n 'equity': {'total_balance': Decimal('100000'),\n  'is_block': True,\n  'roles': {'eq_capital': {'accounts': [{'account_uuid': UUID('34c34091-1cc5-46e2-8d70-0093de5cc709'),\n      'unit_uuid': None,\n      'unit_name': None,\n      'activity': 'fin_equity',\n      'period_year': None,\n      'period_month': None,\n      'role_bs': 'equity',\n      'role': 'eq_capital',\n      'code': '3010',\n      'name': 'Capital Account 1',\n      'balance_type': 'credit',\n      'tx_type': None,\n      'balance': Decimal('100000'),\n      'balance_abs': Decimal('100000')}],\n    'total_balance': Decimal('100000'),\n    'role_name': 'Capital'}}},\n 'equity_balance': Decimal('128320.3800000000000'),\n 'retained_earnings_balance': Decimal('28320.3800000000000'),\n 'liabilities_equity_balance': Decimal('129650.4600000000000')}"
     },
     "execution_count": 73,
     "metadata": {},
     "output_type": "execute_result"
    }
   ],
   "source": [
    "reports.balance_sheet_statement.get_report_data()"
   ]
  },
  {
   "cell_type": "code",
   "execution_count": 74,
   "metadata": {
    "ExecuteTime": {
     "end_time": "2023-11-13T17:39:10.529926Z",
     "start_time": "2023-11-13T17:39:10.516200Z"
    }
   },
   "outputs": [
    {
     "data": {
      "text/plain": "{'operating': {'revenues': [{'account_uuid': UUID('05321820-8593-4123-a93f-b4f278778ca5'),\n    'unit_uuid': None,\n    'unit_name': None,\n    'activity': None,\n    'period_year': None,\n    'period_month': None,\n    'role_bs': 'equity',\n    'role': 'in_operational',\n    'code': '4010',\n    'name': 'Sales Income',\n    'balance_type': 'credit',\n    'tx_type': None,\n    'balance': Decimal('45627.3100000000'),\n    'balance_abs': Decimal('45627.3100000000'),\n    'role_name': 'Operational Income'}],\n  'cogs': [{'account_uuid': UUID('21bf14d1-9c99-4323-9b41-cdfe1a0b4548'),\n    'unit_uuid': None,\n    'unit_name': None,\n    'activity': None,\n    'period_year': None,\n    'period_month': None,\n    'role_bs': 'equity',\n    'role': 'cogs_regular',\n    'code': '5010',\n    'name': 'Cost of Goods Sold',\n    'balance_type': 'debit',\n    'tx_type': None,\n    'balance': Decimal('-11403.8500000000'),\n    'balance_abs': Decimal('11403.8500000000'),\n    'role_name': 'Cost of Goods Sold'}],\n  'expenses': [{'account_uuid': UUID('01218b4a-1cc6-4e81-8153-a34da5ff7f2e'),\n    'unit_uuid': None,\n    'unit_name': None,\n    'activity': None,\n    'period_year': None,\n    'period_month': None,\n    'role_bs': 'equity',\n    'role': 'ex_regular',\n    'code': '6295',\n    'name': 'Electricity',\n    'balance_type': 'debit',\n    'tx_type': None,\n    'balance': Decimal('-63.7600000000000'),\n    'balance_abs': Decimal('63.7600000000000'),\n    'role_name': 'Regular Expense'},\n   {'account_uuid': UUID('57cb12bd-45e7-470b-bf80-140445ad3764'),\n    'unit_uuid': None,\n    'unit_name': None,\n    'activity': None,\n    'period_year': None,\n    'period_month': None,\n    'role_bs': 'equity',\n    'role': 'ex_regular',\n    'code': '6294',\n    'name': 'Garbage',\n    'balance_type': 'debit',\n    'tx_type': None,\n    'balance': Decimal('-636.560000000000'),\n    'balance_abs': Decimal('636.560000000000'),\n    'role_name': 'Regular Expense'},\n   {'account_uuid': UUID('615a3f01-f751-43fb-bda8-0ff473c71b3e'),\n    'unit_uuid': None,\n    'unit_name': None,\n    'activity': None,\n    'period_year': None,\n    'period_month': None,\n    'role_bs': 'equity',\n    'role': 'ex_regular',\n    'code': '6240',\n    'name': 'Rent',\n    'balance_type': 'debit',\n    'tx_type': None,\n    'balance': Decimal('-228.520000000000'),\n    'balance_abs': Decimal('228.520000000000'),\n    'role_name': 'Regular Expense'},\n   {'account_uuid': UUID('79179efc-836c-4f45-8975-34a736353040'),\n    'unit_uuid': None,\n    'unit_name': None,\n    'activity': None,\n    'period_year': None,\n    'period_month': None,\n    'role_bs': 'equity',\n    'role': 'ex_regular',\n    'code': '6220',\n    'name': 'Printing',\n    'balance_type': 'debit',\n    'tx_type': None,\n    'balance': Decimal('-563.900000000000'),\n    'balance_abs': Decimal('563.900000000000'),\n    'role_name': 'Regular Expense'},\n   {'account_uuid': UUID('8016b2d8-3c40-46c5-892c-9618efa984e2'),\n    'unit_uuid': None,\n    'unit_name': None,\n    'activity': None,\n    'period_year': None,\n    'period_month': None,\n    'role_bs': 'equity',\n    'role': 'ex_regular',\n    'code': '6293',\n    'name': 'Gas',\n    'balance_type': 'debit',\n    'tx_type': None,\n    'balance': Decimal('-401.0000000000000'),\n    'balance_abs': Decimal('401.0000000000000'),\n    'role_name': 'Regular Expense'},\n   {'account_uuid': UUID('8ab7033f-db7b-460f-a5fe-6fe5d6c22e4f'),\n    'unit_uuid': None,\n    'unit_name': None,\n    'activity': None,\n    'period_year': None,\n    'period_month': None,\n    'role_bs': 'equity',\n    'role': 'ex_regular',\n    'code': '6300',\n    'name': 'Property Management',\n    'balance_type': 'debit',\n    'tx_type': None,\n    'balance': Decimal('-487.830000000000'),\n    'balance_abs': Decimal('487.830000000000'),\n    'role_name': 'Regular Expense'},\n   {'account_uuid': UUID('ac651a90-4106-47e0-843c-216d6dbc1a94'),\n    'unit_uuid': None,\n    'unit_name': None,\n    'activity': None,\n    'period_year': None,\n    'period_month': None,\n    'role_bs': 'equity',\n    'role': 'ex_regular',\n    'code': '6253',\n    'name': 'HOA',\n    'balance_type': 'debit',\n    'tx_type': None,\n    'balance': Decimal('-175.910000000000'),\n    'balance_abs': Decimal('175.910000000000'),\n    'role_name': 'Regular Expense'},\n   {'account_uuid': UUID('bd5b2130-c2fa-4eb9-a0d0-052b9b4d8379'),\n    'unit_uuid': None,\n    'unit_name': None,\n    'activity': None,\n    'period_year': None,\n    'period_month': None,\n    'role_bs': 'equity',\n    'role': 'ex_regular',\n    'code': '6251',\n    'name': 'Maintenance',\n    'balance_type': 'debit',\n    'tx_type': None,\n    'balance': Decimal('-702.220000000000'),\n    'balance_abs': Decimal('702.220000000000'),\n    'role_name': 'Regular Expense'},\n   {'account_uuid': UUID('e2ad8396-d52f-4072-aa69-09e6f46eeb44'),\n    'unit_uuid': None,\n    'unit_name': None,\n    'activity': None,\n    'period_year': None,\n    'period_month': None,\n    'role_bs': 'equity',\n    'role': 'ex_regular',\n    'code': '6050',\n    'name': 'Bank Charges',\n    'balance_type': 'debit',\n    'tx_type': None,\n    'balance': Decimal('-1353.67000000000'),\n    'balance_abs': Decimal('1353.67000000000'),\n    'role_name': 'Regular Expense'},\n   {'account_uuid': UUID('e3c44191-37fd-4108-a16d-67ddc6814229'),\n    'unit_uuid': None,\n    'unit_name': None,\n    'activity': None,\n    'period_year': None,\n    'period_month': None,\n    'role_bs': 'equity',\n    'role': 'ex_regular',\n    'code': '6400',\n    'name': 'Vacancy',\n    'balance_type': 'debit',\n    'tx_type': None,\n    'balance': Decimal('-134.200000000000'),\n    'balance_abs': Decimal('134.200000000000'),\n    'role_name': 'Regular Expense'},\n   {'account_uuid': UUID('ea54e0ba-9242-4e67-88c9-cd2809ef55b3'),\n    'unit_uuid': None,\n    'unit_name': None,\n    'activity': None,\n    'period_year': None,\n    'period_month': None,\n    'role_bs': 'equity',\n    'role': 'ex_regular',\n    'code': '6060',\n    'name': 'Commission Expense',\n    'balance_type': 'debit',\n    'tx_type': None,\n    'balance': Decimal('-631.5'),\n    'balance_abs': Decimal('631.5'),\n    'role_name': 'Regular Expense'},\n   {'account_uuid': UUID('eacea730-3bdc-4d2a-bc94-7f35bc0a44ee'),\n    'unit_uuid': None,\n    'unit_name': None,\n    'activity': None,\n    'period_year': None,\n    'period_month': None,\n    'role_bs': 'equity',\n    'role': 'ex_regular',\n    'code': '6140',\n    'name': 'Professional Fees',\n    'balance_type': 'debit',\n    'tx_type': None,\n    'balance': Decimal('-524.010000000000'),\n    'balance_abs': Decimal('524.010000000000'),\n    'role_name': 'Regular Expense'}],\n  'gross_profit': Decimal('34223.4600000000'),\n  'net_operating_income': Decimal('28320.3800000000000'),\n  'net_operating_revenue': Decimal('45627.3100000000'),\n  'net_cogs': Decimal('-11403.8500000000'),\n  'net_operating_expenses': Decimal('-5903.0800000000000')},\n 'other': {'revenues': [],\n  'expenses': [],\n  'net_other_revenues': 0,\n  'net_other_expenses': 0,\n  'net_other_income': 0},\n 'net_income': Decimal('28320.3800000000000')}"
     },
     "execution_count": 74,
     "metadata": {},
     "output_type": "execute_result"
    }
   ],
   "source": [
    "reports.income_statement.get_report_data()"
   ]
  },
  {
   "cell_type": "code",
   "execution_count": 75,
   "metadata": {
    "ExecuteTime": {
     "end_time": "2023-11-13T17:39:11.050856Z",
     "start_time": "2023-11-13T17:39:11.037552Z"
    }
   },
   "outputs": [
    {
     "data": {
      "text/plain": "{'operating': {'GROUP_CFS_NET_INCOME': {'description': 'Net Income',\n   'balance': Decimal('28320.3800000000000')},\n  'GROUP_CFS_OP_DEPRECIATION_AMORTIZATION': {'description': 'Depreciation & Amortization of Assets',\n   'balance': 0},\n  'GROUP_CFS_OP_INVESTMENT_GAINS': {'description': 'Gain/Loss Sale of Assets',\n   'balance': 0},\n  'GROUP_CFS_OP_ACCOUNTS_RECEIVABLE': {'description': 'Accounts Receivable',\n   'balance': Decimal('-1593.8700000000')},\n  'GROUP_CFS_OP_INVENTORY': {'description': 'Inventories',\n   'balance': Decimal('4675.81000000000')},\n  'GROUP_CFS_OP_ACCOUNTS_PAYABLE': {'description': 'Accounts Payable',\n   'balance': Decimal('1330.080000000000')},\n  'GROUP_CFS_OP_OTHER_CURRENT_ASSETS_ADJUSTMENT': {'description': 'Other Current Assets',\n   'balance': 0},\n  'GROUP_CFS_OP_OTHER_CURRENT_LIABILITIES_ADJUSTMENT': {'description': 'Other Current Liabilities',\n   'balance': 0}},\n 'net_cash_by_activity': {'OPERATING': Decimal('32732.4000000000000'),\n  'FINANCING': Decimal('88698.9600000000'),\n  'INVESTING': 0},\n 'financing': {'GROUP_CFS_FIN_ISSUING_EQUITY': {'description': 'Common Stock, Preferred Stock and Capital Raised',\n   'balance': Decimal('100000')},\n  'GROUP_CFS_FIN_DIVIDENDS': {'description': 'Dividends Payed Out to Shareholders',\n   'balance': 0},\n  'GROUP_CFS_FIN_ST_DEBT_PAYMENTS': {'description': 'Increase/Reduction of Short-Term Debt Principal',\n   'balance': Decimal('-11301.0400000000')},\n  'GROUP_CFS_FIN_LT_DEBT_PAYMENTS': {'description': 'Increase/Reduction of Long-Term Debt Principal',\n   'balance': 0}},\n 'investing': {'GROUP_CFS_INVESTING_SECURITIES': {'description': 'Purchase, Maturity and Sales of Investments & Securities',\n   'balance': 0},\n  'GROUP_CFS_INVESTING_PPE': {'description': 'Addition and Disposition of Property, Plant & Equipment',\n   'balance': 0}},\n 'net_cash': Decimal('121431.3600000000000')}"
     },
     "execution_count": 75,
     "metadata": {},
     "output_type": "execute_result"
    }
   ],
   "source": [
    "reports.cash_flow_statement.get_report_data()"
   ]
  },
  {
   "cell_type": "code",
   "execution_count": null,
   "metadata": {
    "collapsed": false
   },
   "outputs": [],
   "source": []
  }
 ],
 "metadata": {
  "kernelspec": {
   "display_name": "Python 3 (ipykernel)",
   "language": "python",
   "name": "python3"
  },
  "language_info": {
   "codemirror_mode": {
    "name": "ipython",
    "version": 3
   },
   "file_extension": ".py",
   "mimetype": "text/x-python",
   "name": "python",
   "nbconvert_exporter": "python",
   "pygments_lexer": "ipython3",
   "version": "3.11.6"
  }
 },
 "nbformat": 4,
 "nbformat_minor": 4
}
